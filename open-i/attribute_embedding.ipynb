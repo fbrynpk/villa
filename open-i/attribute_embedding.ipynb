{
 "cells": [
  {
   "cell_type": "code",
   "execution_count": null,
   "metadata": {},
   "outputs": [
    {
     "name": "stderr",
     "output_type": "stream",
     "text": [
      "c:\\Users\\DryLab\\anaconda3\\envs\\ViLLA\\lib\\site-packages\\tqdm\\auto.py:21: TqdmWarning: IProgress not found. Please update jupyter and ipywidgets. See https://ipywidgets.readthedocs.io/en/stable/user_install.html\n",
      "  from .autonotebook import tqdm as notebook_tqdm\n"
     ]
    },
    {
     "name": "stdout",
     "output_type": "stream",
     "text": [
      "model_type not provided, defaulting to radgraph-xl\n"
     ]
    },
    {
     "name": "stderr",
     "output_type": "stream",
     "text": [
      "c:\\Users\\DryLab\\anaconda3\\envs\\ViLLA\\lib\\site-packages\\transformers\\utils\\generic.py:311: UserWarning: torch.utils._pytree._register_pytree_node is deprecated. Please use torch.utils._pytree.register_pytree_node instead.\n",
      "  torch.utils._pytree._register_pytree_node(\n"
     ]
    }
   ],
   "source": [
    "import re\n",
    "from collections import Counter\n",
    "import random\n",
    "\n",
    "import pandas as pd\n",
    "import spacy\n",
    "import torch\n",
    "from radgraph import RadGraph\n",
    "from rich import print\n",
    "from sklearn.model_selection import train_test_split\n",
    "\n",
    "device = \"cuda\" if torch.cuda.is_available() else \"cpu\"\n",
    "\n",
    "# Load Spacy's English tokenizer\n",
    "nlp = spacy.load(\"en_core_web_sm\")\n",
    "\n",
    "# Initialize RadGraph\n",
    "radgraph = RadGraph()\n",
    "\n",
    "DATA_DIR = \"C:/Users/DryLab/Desktop/villa/data/open-i\""
   ]
  },
  {
   "cell_type": "code",
   "execution_count": 2,
   "metadata": {},
   "outputs": [],
   "source": [
    "df = pd.read_feather(\n",
    "    \"C:/Users/DryLab/Desktop/ViLLA/data/open-i/annotations_region_final.feather\"\n",
    ")"
   ]
  },
  {
   "cell_type": "code",
   "execution_count": 3,
   "metadata": {},
   "outputs": [
    {
     "data": {
      "text/html": [
       "<div>\n",
       "<style scoped>\n",
       "    .dataframe tbody tr th:only-of-type {\n",
       "        vertical-align: middle;\n",
       "    }\n",
       "\n",
       "    .dataframe tbody tr th {\n",
       "        vertical-align: top;\n",
       "    }\n",
       "\n",
       "    .dataframe thead th {\n",
       "        text-align: right;\n",
       "    }\n",
       "</style>\n",
       "<table border=\"1\" class=\"dataframe\">\n",
       "  <thead>\n",
       "    <tr style=\"text-align: right;\">\n",
       "      <th></th>\n",
       "      <th>image_id</th>\n",
       "      <th>image_size</th>\n",
       "      <th>image_filepath</th>\n",
       "      <th>region_coord</th>\n",
       "      <th>region_bbox</th>\n",
       "      <th>region_labels</th>\n",
       "      <th>num_regions</th>\n",
       "      <th>text_filepath</th>\n",
       "    </tr>\n",
       "  </thead>\n",
       "  <tbody>\n",
       "    <tr>\n",
       "      <th>0</th>\n",
       "      <td>0</td>\n",
       "      <td>[224, 224]</td>\n",
       "      <td>C:/Users/DryLab/Desktop/ConVIRT/Dataset/open-i...</td>\n",
       "      <td>[[0, 0, 0, 0, 0, 0, 0, 0, 0, 0, 0, 0, 0, 0, 0,...</td>\n",
       "      <td>[[22.0, 19.0, 119.0, 145.0], [136.0, 19.0, 223...</td>\n",
       "      <td>[[1], [2], [3]]</td>\n",
       "      <td>3</td>\n",
       "      <td>C:/Users/DryLab/Desktop/ConVIRT/Dataset/open-i...</td>\n",
       "    </tr>\n",
       "    <tr>\n",
       "      <th>1</th>\n",
       "      <td>1</td>\n",
       "      <td>[224, 224]</td>\n",
       "      <td>C:/Users/DryLab/Desktop/ConVIRT/Dataset/open-i...</td>\n",
       "      <td>[[0, 0, 0, 0, 0, 0, 0, 0, 0, 0, 0, 0, 0, 0, 0,...</td>\n",
       "      <td>[[0.0, 16.0, 99.0, 161.0], [117.0, 17.0, 219.0...</td>\n",
       "      <td>[[1], [2], [3]]</td>\n",
       "      <td>3</td>\n",
       "      <td>C:/Users/DryLab/Desktop/ConVIRT/Dataset/open-i...</td>\n",
       "    </tr>\n",
       "    <tr>\n",
       "      <th>2</th>\n",
       "      <td>2</td>\n",
       "      <td>[224, 224]</td>\n",
       "      <td>C:/Users/DryLab/Desktop/ConVIRT/Dataset/open-i...</td>\n",
       "      <td>[[0, 0, 0, 0, 0, 0, 0, 0, 0, 0, 0, 0, 0, 0, 0,...</td>\n",
       "      <td>[[45.0, 43.0, 109.0, 175.0], [122.0, 42.0, 200...</td>\n",
       "      <td>[[1], [2], [3]]</td>\n",
       "      <td>3</td>\n",
       "      <td>C:/Users/DryLab/Desktop/ConVIRT/Dataset/open-i...</td>\n",
       "    </tr>\n",
       "    <tr>\n",
       "      <th>3</th>\n",
       "      <td>3</td>\n",
       "      <td>[224, 224]</td>\n",
       "      <td>C:/Users/DryLab/Desktop/ConVIRT/Dataset/open-i...</td>\n",
       "      <td>[[0, 0, 0, 0, 0, 0, 0, 0, 0, 0, 0, 0, 0, 0, 0,...</td>\n",
       "      <td>[[35.0, 13.0, 109.0, 192.0], [115.0, 12.0, 194...</td>\n",
       "      <td>[[1], [2], [3]]</td>\n",
       "      <td>3</td>\n",
       "      <td>C:/Users/DryLab/Desktop/ConVIRT/Dataset/open-i...</td>\n",
       "    </tr>\n",
       "    <tr>\n",
       "      <th>4</th>\n",
       "      <td>4</td>\n",
       "      <td>[224, 224]</td>\n",
       "      <td>C:/Users/DryLab/Desktop/ConVIRT/Dataset/open-i...</td>\n",
       "      <td>[[0, 0, 0, 0, 0, 0, 0, 0, 0, 0, 0, 0, 0, 0, 0,...</td>\n",
       "      <td>[[5.0, 34.0, 96.0, 177.0], [108.0, 32.0, 200.0...</td>\n",
       "      <td>[[1], [2], [3]]</td>\n",
       "      <td>3</td>\n",
       "      <td>C:/Users/DryLab/Desktop/ConVIRT/Dataset/open-i...</td>\n",
       "    </tr>\n",
       "    <tr>\n",
       "      <th>...</th>\n",
       "      <td>...</td>\n",
       "      <td>...</td>\n",
       "      <td>...</td>\n",
       "      <td>...</td>\n",
       "      <td>...</td>\n",
       "      <td>...</td>\n",
       "      <td>...</td>\n",
       "      <td>...</td>\n",
       "    </tr>\n",
       "    <tr>\n",
       "      <th>3789</th>\n",
       "      <td>3789</td>\n",
       "      <td>[224, 224]</td>\n",
       "      <td>C:/Users/DryLab/Desktop/ConVIRT/Dataset/open-i...</td>\n",
       "      <td>[[0, 0, 0, 0, 0, 0, 0, 0, 0, 0, 0, 0, 0, 0, 0,...</td>\n",
       "      <td>[[33.0, 11.0, 121.0, 174.0], [128.0, 14.0, 204...</td>\n",
       "      <td>[[1], [2], [3]]</td>\n",
       "      <td>3</td>\n",
       "      <td>C:/Users/DryLab/Desktop/ConVIRT/Dataset/open-i...</td>\n",
       "    </tr>\n",
       "    <tr>\n",
       "      <th>3790</th>\n",
       "      <td>3790</td>\n",
       "      <td>[224, 224]</td>\n",
       "      <td>C:/Users/DryLab/Desktop/ConVIRT/Dataset/open-i...</td>\n",
       "      <td>[[0, 0, 0, 0, 0, 0, 0, 0, 0, 0, 0, 0, 0, 0, 0,...</td>\n",
       "      <td>[[22.0, 8.0, 111.0, 210.0], [119.0, 7.0, 200.0...</td>\n",
       "      <td>[[1], [2], [3]]</td>\n",
       "      <td>3</td>\n",
       "      <td>C:/Users/DryLab/Desktop/ConVIRT/Dataset/open-i...</td>\n",
       "    </tr>\n",
       "    <tr>\n",
       "      <th>3791</th>\n",
       "      <td>3791</td>\n",
       "      <td>[224, 224]</td>\n",
       "      <td>C:/Users/DryLab/Desktop/ConVIRT/Dataset/open-i...</td>\n",
       "      <td>[[0, 0, 0, 0, 0, 0, 0, 0, 0, 0, 0, 0, 0, 0, 0,...</td>\n",
       "      <td>[[22.0, 0.0, 107.0, 156.0], [116.0, 0.0, 196.0...</td>\n",
       "      <td>[[1], [2], [3]]</td>\n",
       "      <td>3</td>\n",
       "      <td>C:/Users/DryLab/Desktop/ConVIRT/Dataset/open-i...</td>\n",
       "    </tr>\n",
       "    <tr>\n",
       "      <th>3792</th>\n",
       "      <td>3792</td>\n",
       "      <td>[224, 224]</td>\n",
       "      <td>C:/Users/DryLab/Desktop/ConVIRT/Dataset/open-i...</td>\n",
       "      <td>[[0, 0, 0, 0, 0, 0, 0, 0, 0, 0, 0, 0, 0, 0, 0,...</td>\n",
       "      <td>[[37.0, 14.0, 116.0, 160.0], [122.0, 15.0, 197...</td>\n",
       "      <td>[[1], [2], [3]]</td>\n",
       "      <td>3</td>\n",
       "      <td>C:/Users/DryLab/Desktop/ConVIRT/Dataset/open-i...</td>\n",
       "    </tr>\n",
       "    <tr>\n",
       "      <th>3793</th>\n",
       "      <td>3793</td>\n",
       "      <td>[224, 224]</td>\n",
       "      <td>C:/Users/DryLab/Desktop/ConVIRT/Dataset/open-i...</td>\n",
       "      <td>[[0, 0, 0, 0, 0, 0, 0, 0, 0, 0, 0, 0, 0, 0, 0,...</td>\n",
       "      <td>[[24.0, 27.0, 110.0, 185.0], [119.0, 28.0, 202...</td>\n",
       "      <td>[[1], [2], [3]]</td>\n",
       "      <td>3</td>\n",
       "      <td>C:/Users/DryLab/Desktop/ConVIRT/Dataset/open-i...</td>\n",
       "    </tr>\n",
       "  </tbody>\n",
       "</table>\n",
       "<p>3794 rows × 8 columns</p>\n",
       "</div>"
      ],
      "text/plain": [
       "      image_id  image_size                                     image_filepath  \\\n",
       "0            0  [224, 224]  C:/Users/DryLab/Desktop/ConVIRT/Dataset/open-i...   \n",
       "1            1  [224, 224]  C:/Users/DryLab/Desktop/ConVIRT/Dataset/open-i...   \n",
       "2            2  [224, 224]  C:/Users/DryLab/Desktop/ConVIRT/Dataset/open-i...   \n",
       "3            3  [224, 224]  C:/Users/DryLab/Desktop/ConVIRT/Dataset/open-i...   \n",
       "4            4  [224, 224]  C:/Users/DryLab/Desktop/ConVIRT/Dataset/open-i...   \n",
       "...        ...         ...                                                ...   \n",
       "3789      3789  [224, 224]  C:/Users/DryLab/Desktop/ConVIRT/Dataset/open-i...   \n",
       "3790      3790  [224, 224]  C:/Users/DryLab/Desktop/ConVIRT/Dataset/open-i...   \n",
       "3791      3791  [224, 224]  C:/Users/DryLab/Desktop/ConVIRT/Dataset/open-i...   \n",
       "3792      3792  [224, 224]  C:/Users/DryLab/Desktop/ConVIRT/Dataset/open-i...   \n",
       "3793      3793  [224, 224]  C:/Users/DryLab/Desktop/ConVIRT/Dataset/open-i...   \n",
       "\n",
       "                                           region_coord  \\\n",
       "0     [[0, 0, 0, 0, 0, 0, 0, 0, 0, 0, 0, 0, 0, 0, 0,...   \n",
       "1     [[0, 0, 0, 0, 0, 0, 0, 0, 0, 0, 0, 0, 0, 0, 0,...   \n",
       "2     [[0, 0, 0, 0, 0, 0, 0, 0, 0, 0, 0, 0, 0, 0, 0,...   \n",
       "3     [[0, 0, 0, 0, 0, 0, 0, 0, 0, 0, 0, 0, 0, 0, 0,...   \n",
       "4     [[0, 0, 0, 0, 0, 0, 0, 0, 0, 0, 0, 0, 0, 0, 0,...   \n",
       "...                                                 ...   \n",
       "3789  [[0, 0, 0, 0, 0, 0, 0, 0, 0, 0, 0, 0, 0, 0, 0,...   \n",
       "3790  [[0, 0, 0, 0, 0, 0, 0, 0, 0, 0, 0, 0, 0, 0, 0,...   \n",
       "3791  [[0, 0, 0, 0, 0, 0, 0, 0, 0, 0, 0, 0, 0, 0, 0,...   \n",
       "3792  [[0, 0, 0, 0, 0, 0, 0, 0, 0, 0, 0, 0, 0, 0, 0,...   \n",
       "3793  [[0, 0, 0, 0, 0, 0, 0, 0, 0, 0, 0, 0, 0, 0, 0,...   \n",
       "\n",
       "                                            region_bbox    region_labels  \\\n",
       "0     [[22.0, 19.0, 119.0, 145.0], [136.0, 19.0, 223...  [[1], [2], [3]]   \n",
       "1     [[0.0, 16.0, 99.0, 161.0], [117.0, 17.0, 219.0...  [[1], [2], [3]]   \n",
       "2     [[45.0, 43.0, 109.0, 175.0], [122.0, 42.0, 200...  [[1], [2], [3]]   \n",
       "3     [[35.0, 13.0, 109.0, 192.0], [115.0, 12.0, 194...  [[1], [2], [3]]   \n",
       "4     [[5.0, 34.0, 96.0, 177.0], [108.0, 32.0, 200.0...  [[1], [2], [3]]   \n",
       "...                                                 ...              ...   \n",
       "3789  [[33.0, 11.0, 121.0, 174.0], [128.0, 14.0, 204...  [[1], [2], [3]]   \n",
       "3790  [[22.0, 8.0, 111.0, 210.0], [119.0, 7.0, 200.0...  [[1], [2], [3]]   \n",
       "3791  [[22.0, 0.0, 107.0, 156.0], [116.0, 0.0, 196.0...  [[1], [2], [3]]   \n",
       "3792  [[37.0, 14.0, 116.0, 160.0], [122.0, 15.0, 197...  [[1], [2], [3]]   \n",
       "3793  [[24.0, 27.0, 110.0, 185.0], [119.0, 28.0, 202...  [[1], [2], [3]]   \n",
       "\n",
       "      num_regions                                      text_filepath  \n",
       "0               3  C:/Users/DryLab/Desktop/ConVIRT/Dataset/open-i...  \n",
       "1               3  C:/Users/DryLab/Desktop/ConVIRT/Dataset/open-i...  \n",
       "2               3  C:/Users/DryLab/Desktop/ConVIRT/Dataset/open-i...  \n",
       "3               3  C:/Users/DryLab/Desktop/ConVIRT/Dataset/open-i...  \n",
       "4               3  C:/Users/DryLab/Desktop/ConVIRT/Dataset/open-i...  \n",
       "...           ...                                                ...  \n",
       "3789            3  C:/Users/DryLab/Desktop/ConVIRT/Dataset/open-i...  \n",
       "3790            3  C:/Users/DryLab/Desktop/ConVIRT/Dataset/open-i...  \n",
       "3791            3  C:/Users/DryLab/Desktop/ConVIRT/Dataset/open-i...  \n",
       "3792            3  C:/Users/DryLab/Desktop/ConVIRT/Dataset/open-i...  \n",
       "3793            3  C:/Users/DryLab/Desktop/ConVIRT/Dataset/open-i...  \n",
       "\n",
       "[3794 rows x 8 columns]"
      ]
     },
     "execution_count": 3,
     "metadata": {},
     "output_type": "execute_result"
    }
   ],
   "source": [
    "df"
   ]
  },
  {
   "cell_type": "code",
   "execution_count": 4,
   "metadata": {},
   "outputs": [],
   "source": [
    "text_path_list = df[\"text_filepath\"].tolist()"
   ]
  },
  {
   "cell_type": "code",
   "execution_count": 5,
   "metadata": {},
   "outputs": [],
   "source": [
    "def filter_sentences_by_absent_tokens(radgraph_output):\n",
    "    remaining_sentences = []\n",
    "\n",
    "    radgraph_output = radgraph(radgraph_output)\n",
    "\n",
    "    # Iterate over RadGraph output\n",
    "    for _, description in radgraph_output.items():\n",
    "        text = description.get(\"text\", \" \")\n",
    "        entities = description.get(\"entities\", {})\n",
    "\n",
    "        # Step 1: Split the text into sentences\n",
    "        doc = nlp(text)\n",
    "        sentences = [sent.text.lower() for sent in doc.sents]\n",
    "\n",
    "        # Step 2: Create a mapping of word indices to sentence indices\n",
    "        word_to_sentence = {}\n",
    "        current_word_idx = 0\n",
    "\n",
    "        for i, sentence in enumerate(sentences):\n",
    "            sentence_words = sentence.split()\n",
    "            for _ in sentence_words:\n",
    "                word_to_sentence[current_word_idx] = i\n",
    "                current_word_idx += 1\n",
    "\n",
    "        # Step 3: Create a flag to keep or discard each sentence\n",
    "        sentence_flags = [True] * len(sentences)\n",
    "\n",
    "        # Step 4: Iterate over entities and check for tokens labeled \"Observation::definitely absent\"\n",
    "        for _, entity_info in entities.items():\n",
    "            label = entity_info.get(\"label\")\n",
    "            start_ix = entity_info.get(\"start_ix\")\n",
    "\n",
    "            # Check if the entity is labeled as \"Observation::definitely absent\"\n",
    "            if label == \"Observation::definitely absent\":\n",
    "                # Step 5: Find which sentence contains the token based on start and end indices\n",
    "                sentence_idx = word_to_sentence.get(start_ix, None)\n",
    "                if sentence_idx is not None:\n",
    "                    sentence_flags[sentence_idx] = False\n",
    "\n",
    "        # Step 6: Collect the remaining sentences\n",
    "        for i, sentence in enumerate(sentences):\n",
    "            if sentence_flags[i]:\n",
    "                if not re.match(r\"^\\d\\s*\\.$\", sentence.strip()):\n",
    "                    remaining_sentences.append(sentence)\n",
    "\n",
    "        # Revert back to the original text\n",
    "        remaining_sentences = \" \".join(remaining_sentences)\n",
    "\n",
    "    return remaining_sentences"
   ]
  },
  {
   "cell_type": "code",
   "execution_count": 6,
   "metadata": {},
   "outputs": [],
   "source": [
    "df[\"text\"] = df[\"text_filepath\"].apply(lambda x: open(x, \"r\").read())"
   ]
  },
  {
   "cell_type": "code",
   "execution_count": 7,
   "metadata": {},
   "outputs": [
    {
     "data": {
      "text/html": [
       "<div>\n",
       "<style scoped>\n",
       "    .dataframe tbody tr th:only-of-type {\n",
       "        vertical-align: middle;\n",
       "    }\n",
       "\n",
       "    .dataframe tbody tr th {\n",
       "        vertical-align: top;\n",
       "    }\n",
       "\n",
       "    .dataframe thead th {\n",
       "        text-align: right;\n",
       "    }\n",
       "</style>\n",
       "<table border=\"1\" class=\"dataframe\">\n",
       "  <thead>\n",
       "    <tr style=\"text-align: right;\">\n",
       "      <th></th>\n",
       "      <th>image_id</th>\n",
       "      <th>image_size</th>\n",
       "      <th>image_filepath</th>\n",
       "      <th>region_coord</th>\n",
       "      <th>region_bbox</th>\n",
       "      <th>region_labels</th>\n",
       "      <th>num_regions</th>\n",
       "      <th>text_filepath</th>\n",
       "      <th>text</th>\n",
       "    </tr>\n",
       "  </thead>\n",
       "  <tbody>\n",
       "    <tr>\n",
       "      <th>0</th>\n",
       "      <td>0</td>\n",
       "      <td>[224, 224]</td>\n",
       "      <td>C:/Users/DryLab/Desktop/ConVIRT/Dataset/open-i...</td>\n",
       "      <td>[[0, 0, 0, 0, 0, 0, 0, 0, 0, 0, 0, 0, 0, 0, 0,...</td>\n",
       "      <td>[[22.0, 19.0, 119.0, 145.0], [136.0, 19.0, 223...</td>\n",
       "      <td>[[1], [2], [3]]</td>\n",
       "      <td>3</td>\n",
       "      <td>C:/Users/DryLab/Desktop/ConVIRT/Dataset/open-i...</td>\n",
       "      <td>There is XXXX increased opacity within the rig...</td>\n",
       "    </tr>\n",
       "    <tr>\n",
       "      <th>1</th>\n",
       "      <td>1</td>\n",
       "      <td>[224, 224]</td>\n",
       "      <td>C:/Users/DryLab/Desktop/ConVIRT/Dataset/open-i...</td>\n",
       "      <td>[[0, 0, 0, 0, 0, 0, 0, 0, 0, 0, 0, 0, 0, 0, 0,...</td>\n",
       "      <td>[[0.0, 16.0, 99.0, 161.0], [117.0, 17.0, 219.0...</td>\n",
       "      <td>[[1], [2], [3]]</td>\n",
       "      <td>3</td>\n",
       "      <td>C:/Users/DryLab/Desktop/ConVIRT/Dataset/open-i...</td>\n",
       "      <td>There is XXXX increased opacity within the rig...</td>\n",
       "    </tr>\n",
       "    <tr>\n",
       "      <th>2</th>\n",
       "      <td>2</td>\n",
       "      <td>[224, 224]</td>\n",
       "      <td>C:/Users/DryLab/Desktop/ConVIRT/Dataset/open-i...</td>\n",
       "      <td>[[0, 0, 0, 0, 0, 0, 0, 0, 0, 0, 0, 0, 0, 0, 0,...</td>\n",
       "      <td>[[45.0, 43.0, 109.0, 175.0], [122.0, 42.0, 200...</td>\n",
       "      <td>[[1], [2], [3]]</td>\n",
       "      <td>3</td>\n",
       "      <td>C:/Users/DryLab/Desktop/ConVIRT/Dataset/open-i...</td>\n",
       "      <td>Interstitial markings are diffusely prominent ...</td>\n",
       "    </tr>\n",
       "    <tr>\n",
       "      <th>3</th>\n",
       "      <td>3</td>\n",
       "      <td>[224, 224]</td>\n",
       "      <td>C:/Users/DryLab/Desktop/ConVIRT/Dataset/open-i...</td>\n",
       "      <td>[[0, 0, 0, 0, 0, 0, 0, 0, 0, 0, 0, 0, 0, 0, 0,...</td>\n",
       "      <td>[[35.0, 13.0, 109.0, 192.0], [115.0, 12.0, 194...</td>\n",
       "      <td>[[1], [2], [3]]</td>\n",
       "      <td>3</td>\n",
       "      <td>C:/Users/DryLab/Desktop/ConVIRT/Dataset/open-i...</td>\n",
       "      <td>Status post left mastectomy. Heart size normal...</td>\n",
       "    </tr>\n",
       "    <tr>\n",
       "      <th>4</th>\n",
       "      <td>4</td>\n",
       "      <td>[224, 224]</td>\n",
       "      <td>C:/Users/DryLab/Desktop/ConVIRT/Dataset/open-i...</td>\n",
       "      <td>[[0, 0, 0, 0, 0, 0, 0, 0, 0, 0, 0, 0, 0, 0, 0,...</td>\n",
       "      <td>[[5.0, 34.0, 96.0, 177.0], [108.0, 32.0, 200.0...</td>\n",
       "      <td>[[1], [2], [3]]</td>\n",
       "      <td>3</td>\n",
       "      <td>C:/Users/DryLab/Desktop/ConVIRT/Dataset/open-i...</td>\n",
       "      <td>Heart size and pulmonary vascularity appear wi...</td>\n",
       "    </tr>\n",
       "    <tr>\n",
       "      <th>...</th>\n",
       "      <td>...</td>\n",
       "      <td>...</td>\n",
       "      <td>...</td>\n",
       "      <td>...</td>\n",
       "      <td>...</td>\n",
       "      <td>...</td>\n",
       "      <td>...</td>\n",
       "      <td>...</td>\n",
       "      <td>...</td>\n",
       "    </tr>\n",
       "    <tr>\n",
       "      <th>3789</th>\n",
       "      <td>3789</td>\n",
       "      <td>[224, 224]</td>\n",
       "      <td>C:/Users/DryLab/Desktop/ConVIRT/Dataset/open-i...</td>\n",
       "      <td>[[0, 0, 0, 0, 0, 0, 0, 0, 0, 0, 0, 0, 0, 0, 0,...</td>\n",
       "      <td>[[33.0, 11.0, 121.0, 174.0], [128.0, 14.0, 204...</td>\n",
       "      <td>[[1], [2], [3]]</td>\n",
       "      <td>3</td>\n",
       "      <td>C:/Users/DryLab/Desktop/ConVIRT/Dataset/open-i...</td>\n",
       "      <td>Cardiomediastinal silhouette demonstrates norm...</td>\n",
       "    </tr>\n",
       "    <tr>\n",
       "      <th>3790</th>\n",
       "      <td>3790</td>\n",
       "      <td>[224, 224]</td>\n",
       "      <td>C:/Users/DryLab/Desktop/ConVIRT/Dataset/open-i...</td>\n",
       "      <td>[[0, 0, 0, 0, 0, 0, 0, 0, 0, 0, 0, 0, 0, 0, 0,...</td>\n",
       "      <td>[[22.0, 8.0, 111.0, 210.0], [119.0, 7.0, 200.0...</td>\n",
       "      <td>[[1], [2], [3]]</td>\n",
       "      <td>3</td>\n",
       "      <td>C:/Users/DryLab/Desktop/ConVIRT/Dataset/open-i...</td>\n",
       "      <td>Lungs are clear bilaterally. There is no focal...</td>\n",
       "    </tr>\n",
       "    <tr>\n",
       "      <th>3791</th>\n",
       "      <td>3791</td>\n",
       "      <td>[224, 224]</td>\n",
       "      <td>C:/Users/DryLab/Desktop/ConVIRT/Dataset/open-i...</td>\n",
       "      <td>[[0, 0, 0, 0, 0, 0, 0, 0, 0, 0, 0, 0, 0, 0, 0,...</td>\n",
       "      <td>[[22.0, 0.0, 107.0, 156.0], [116.0, 0.0, 196.0...</td>\n",
       "      <td>[[1], [2], [3]]</td>\n",
       "      <td>3</td>\n",
       "      <td>C:/Users/DryLab/Desktop/ConVIRT/Dataset/open-i...</td>\n",
       "      <td>Lungs are clear bilaterally. There is no focal...</td>\n",
       "    </tr>\n",
       "    <tr>\n",
       "      <th>3792</th>\n",
       "      <td>3792</td>\n",
       "      <td>[224, 224]</td>\n",
       "      <td>C:/Users/DryLab/Desktop/ConVIRT/Dataset/open-i...</td>\n",
       "      <td>[[0, 0, 0, 0, 0, 0, 0, 0, 0, 0, 0, 0, 0, 0, 0,...</td>\n",
       "      <td>[[37.0, 14.0, 116.0, 160.0], [122.0, 15.0, 197...</td>\n",
       "      <td>[[1], [2], [3]]</td>\n",
       "      <td>3</td>\n",
       "      <td>C:/Users/DryLab/Desktop/ConVIRT/Dataset/open-i...</td>\n",
       "      <td>Normal heart and mediastinum. Clear lungs. Tra...</td>\n",
       "    </tr>\n",
       "    <tr>\n",
       "      <th>3793</th>\n",
       "      <td>3793</td>\n",
       "      <td>[224, 224]</td>\n",
       "      <td>C:/Users/DryLab/Desktop/ConVIRT/Dataset/open-i...</td>\n",
       "      <td>[[0, 0, 0, 0, 0, 0, 0, 0, 0, 0, 0, 0, 0, 0, 0,...</td>\n",
       "      <td>[[24.0, 27.0, 110.0, 185.0], [119.0, 28.0, 202...</td>\n",
       "      <td>[[1], [2], [3]]</td>\n",
       "      <td>3</td>\n",
       "      <td>C:/Users/DryLab/Desktop/ConVIRT/Dataset/open-i...</td>\n",
       "      <td>The XXXX examination consists of frontal and l...</td>\n",
       "    </tr>\n",
       "  </tbody>\n",
       "</table>\n",
       "<p>3794 rows × 9 columns</p>\n",
       "</div>"
      ],
      "text/plain": [
       "      image_id  image_size                                     image_filepath  \\\n",
       "0            0  [224, 224]  C:/Users/DryLab/Desktop/ConVIRT/Dataset/open-i...   \n",
       "1            1  [224, 224]  C:/Users/DryLab/Desktop/ConVIRT/Dataset/open-i...   \n",
       "2            2  [224, 224]  C:/Users/DryLab/Desktop/ConVIRT/Dataset/open-i...   \n",
       "3            3  [224, 224]  C:/Users/DryLab/Desktop/ConVIRT/Dataset/open-i...   \n",
       "4            4  [224, 224]  C:/Users/DryLab/Desktop/ConVIRT/Dataset/open-i...   \n",
       "...        ...         ...                                                ...   \n",
       "3789      3789  [224, 224]  C:/Users/DryLab/Desktop/ConVIRT/Dataset/open-i...   \n",
       "3790      3790  [224, 224]  C:/Users/DryLab/Desktop/ConVIRT/Dataset/open-i...   \n",
       "3791      3791  [224, 224]  C:/Users/DryLab/Desktop/ConVIRT/Dataset/open-i...   \n",
       "3792      3792  [224, 224]  C:/Users/DryLab/Desktop/ConVIRT/Dataset/open-i...   \n",
       "3793      3793  [224, 224]  C:/Users/DryLab/Desktop/ConVIRT/Dataset/open-i...   \n",
       "\n",
       "                                           region_coord  \\\n",
       "0     [[0, 0, 0, 0, 0, 0, 0, 0, 0, 0, 0, 0, 0, 0, 0,...   \n",
       "1     [[0, 0, 0, 0, 0, 0, 0, 0, 0, 0, 0, 0, 0, 0, 0,...   \n",
       "2     [[0, 0, 0, 0, 0, 0, 0, 0, 0, 0, 0, 0, 0, 0, 0,...   \n",
       "3     [[0, 0, 0, 0, 0, 0, 0, 0, 0, 0, 0, 0, 0, 0, 0,...   \n",
       "4     [[0, 0, 0, 0, 0, 0, 0, 0, 0, 0, 0, 0, 0, 0, 0,...   \n",
       "...                                                 ...   \n",
       "3789  [[0, 0, 0, 0, 0, 0, 0, 0, 0, 0, 0, 0, 0, 0, 0,...   \n",
       "3790  [[0, 0, 0, 0, 0, 0, 0, 0, 0, 0, 0, 0, 0, 0, 0,...   \n",
       "3791  [[0, 0, 0, 0, 0, 0, 0, 0, 0, 0, 0, 0, 0, 0, 0,...   \n",
       "3792  [[0, 0, 0, 0, 0, 0, 0, 0, 0, 0, 0, 0, 0, 0, 0,...   \n",
       "3793  [[0, 0, 0, 0, 0, 0, 0, 0, 0, 0, 0, 0, 0, 0, 0,...   \n",
       "\n",
       "                                            region_bbox    region_labels  \\\n",
       "0     [[22.0, 19.0, 119.0, 145.0], [136.0, 19.0, 223...  [[1], [2], [3]]   \n",
       "1     [[0.0, 16.0, 99.0, 161.0], [117.0, 17.0, 219.0...  [[1], [2], [3]]   \n",
       "2     [[45.0, 43.0, 109.0, 175.0], [122.0, 42.0, 200...  [[1], [2], [3]]   \n",
       "3     [[35.0, 13.0, 109.0, 192.0], [115.0, 12.0, 194...  [[1], [2], [3]]   \n",
       "4     [[5.0, 34.0, 96.0, 177.0], [108.0, 32.0, 200.0...  [[1], [2], [3]]   \n",
       "...                                                 ...              ...   \n",
       "3789  [[33.0, 11.0, 121.0, 174.0], [128.0, 14.0, 204...  [[1], [2], [3]]   \n",
       "3790  [[22.0, 8.0, 111.0, 210.0], [119.0, 7.0, 200.0...  [[1], [2], [3]]   \n",
       "3791  [[22.0, 0.0, 107.0, 156.0], [116.0, 0.0, 196.0...  [[1], [2], [3]]   \n",
       "3792  [[37.0, 14.0, 116.0, 160.0], [122.0, 15.0, 197...  [[1], [2], [3]]   \n",
       "3793  [[24.0, 27.0, 110.0, 185.0], [119.0, 28.0, 202...  [[1], [2], [3]]   \n",
       "\n",
       "      num_regions                                      text_filepath  \\\n",
       "0               3  C:/Users/DryLab/Desktop/ConVIRT/Dataset/open-i...   \n",
       "1               3  C:/Users/DryLab/Desktop/ConVIRT/Dataset/open-i...   \n",
       "2               3  C:/Users/DryLab/Desktop/ConVIRT/Dataset/open-i...   \n",
       "3               3  C:/Users/DryLab/Desktop/ConVIRT/Dataset/open-i...   \n",
       "4               3  C:/Users/DryLab/Desktop/ConVIRT/Dataset/open-i...   \n",
       "...           ...                                                ...   \n",
       "3789            3  C:/Users/DryLab/Desktop/ConVIRT/Dataset/open-i...   \n",
       "3790            3  C:/Users/DryLab/Desktop/ConVIRT/Dataset/open-i...   \n",
       "3791            3  C:/Users/DryLab/Desktop/ConVIRT/Dataset/open-i...   \n",
       "3792            3  C:/Users/DryLab/Desktop/ConVIRT/Dataset/open-i...   \n",
       "3793            3  C:/Users/DryLab/Desktop/ConVIRT/Dataset/open-i...   \n",
       "\n",
       "                                                   text  \n",
       "0     There is XXXX increased opacity within the rig...  \n",
       "1     There is XXXX increased opacity within the rig...  \n",
       "2     Interstitial markings are diffusely prominent ...  \n",
       "3     Status post left mastectomy. Heart size normal...  \n",
       "4     Heart size and pulmonary vascularity appear wi...  \n",
       "...                                                 ...  \n",
       "3789  Cardiomediastinal silhouette demonstrates norm...  \n",
       "3790  Lungs are clear bilaterally. There is no focal...  \n",
       "3791  Lungs are clear bilaterally. There is no focal...  \n",
       "3792  Normal heart and mediastinum. Clear lungs. Tra...  \n",
       "3793  The XXXX examination consists of frontal and l...  \n",
       "\n",
       "[3794 rows x 9 columns]"
      ]
     },
     "execution_count": 7,
     "metadata": {},
     "output_type": "execute_result"
    }
   ],
   "source": [
    "df"
   ]
  },
  {
   "cell_type": "code",
   "execution_count": 8,
   "metadata": {},
   "outputs": [
    {
     "data": {
      "text/plain": [
       "'C:/Users/DryLab/Desktop/ConVIRT/Dataset/open-i/data/ecgen-radiology-txt\\\\CXR1001_IM-0004-1001.txt'"
      ]
     },
     "execution_count": 8,
     "metadata": {},
     "output_type": "execute_result"
    }
   ],
   "source": [
    "df.text_filepath.iloc[2]"
   ]
  },
  {
   "cell_type": "code",
   "execution_count": null,
   "metadata": {},
   "outputs": [
    {
     "data": {
      "text/html": [
       "<pre style=\"white-space:pre;overflow-x:auto;line-height:normal;font-family:Menlo,'DejaVu Sans Mono',consolas,'Courier New',monospace\">Original Text: The heart size is within normal limits. Cardiomediastinal contour is normal. There is a right upper \n",
       "lobe nodule measuring <span style=\"color: #008080; text-decoration-color: #008080; font-weight: bold\">8</span> mm in diameter. Trachea is midline. The lungs otherwise clear. XXXX and soft tissues are \n",
       "unremarkable. <span style=\"color: #008080; text-decoration-color: #008080; font-weight: bold\">1</span>. Right upper lobe pulmonary nodule, XXXX granuloma.\n",
       "</pre>\n"
      ],
      "text/plain": [
       "Original Text: The heart size is within normal limits. Cardiomediastinal contour is normal. There is a right upper \n",
       "lobe nodule measuring \u001b[1;36m8\u001b[0m mm in diameter. Trachea is midline. The lungs otherwise clear. XXXX and soft tissues are \n",
       "unremarkable. \u001b[1;36m1\u001b[0m. Right upper lobe pulmonary nodule, XXXX granuloma.\n"
      ]
     },
     "metadata": {},
     "output_type": "display_data"
    },
    {
     "data": {
      "text/html": [
       "<pre style=\"white-space:pre;overflow-x:auto;line-height:normal;font-family:Menlo,'DejaVu Sans Mono',consolas,'Courier New',monospace\">Preprocessed Text: the heart size is within normal limits . cardiomediastinal contour is normal . there is a right \n",
       "upper lobe nodule measuring <span style=\"color: #008080; text-decoration-color: #008080; font-weight: bold\">8</span> mm in diameter . trachea is midline . the lungs otherwise clear . xxxx and soft \n",
       "tissues are unremarkable . right upper lobe pulmonary nodule , xxxx granuloma .\n",
       "</pre>\n"
      ],
      "text/plain": [
       "Preprocessed Text: the heart size is within normal limits . cardiomediastinal contour is normal . there is a right \n",
       "upper lobe nodule measuring \u001b[1;36m8\u001b[0m mm in diameter . trachea is midline . the lungs otherwise clear . xxxx and soft \n",
       "tissues are unremarkable . right upper lobe pulmonary nodule , xxxx granuloma .\n"
      ]
     },
     "metadata": {},
     "output_type": "display_data"
    }
   ],
   "source": [
    "index = random.randint(0, len(df) - 1)\n",
    "\n",
    "findings = df[\"text\"].iloc[index]\n",
    "# findings = \"'the heart and lungs have [MASK] [MASK] in the interval . both lungs are clear and expanded . heart and mediastinum normal . no change right anterior soft tissue surgical clips . configuration of breast shadows on the pa view suggests prior right lumpectomy .'\"\n",
    "annotations = radgraph(findings)\n",
    "filtered_text = filter_sentences_by_absent_tokens(findings)\n",
    "\n",
    "print(f\"Original Text: {findings}\")\n",
    "print(f\"Preprocessed Text: {filtered_text}\")"
   ]
  },
  {
   "cell_type": "code",
   "execution_count": 10,
   "metadata": {},
   "outputs": [],
   "source": [
    "# Break down the text into sentences and filter out the sentences that contain tokens labeled as \"Observation::definitely absent\"\n",
    "df[\"text\"] = df[\"text\"].apply(filter_sentences_by_absent_tokens)"
   ]
  },
  {
   "cell_type": "code",
   "execution_count": 11,
   "metadata": {},
   "outputs": [
    {
     "data": {
      "text/html": [
       "<pre style=\"white-space:pre;overflow-x:auto;line-height:normal;font-family:Menlo,'DejaVu Sans Mono',consolas,'Courier New',monospace\">Index <span style=\"color: #008080; text-decoration-color: #008080; font-weight: bold\">3640</span>: the lungs appear clear . the heart and pulmonary xxxx appear normal . the pleural spaces are clear . \n",
       "these xxxx ' t contours appear normal . there is a xxxx fracture of the midthoracic vertebral body . the age of \n",
       "this fracture is unknown . there are healed fractures of several left anterior ribs . there is a healed left \n",
       "clavicle fracture . a single nonsclerotic mid thoracic vertebral xxxx fracture is present . without a comparison \n",
       "study , the age of this fracture is unknown . metastatic disease is possible , however given the nonsclerotic \n",
       "appearance , is not xxxx . healed left clavicle and left anterior rib fractures .\n",
       "</pre>\n"
      ],
      "text/plain": [
       "Index \u001b[1;36m3640\u001b[0m: the lungs appear clear . the heart and pulmonary xxxx appear normal . the pleural spaces are clear . \n",
       "these xxxx ' t contours appear normal . there is a xxxx fracture of the midthoracic vertebral body . the age of \n",
       "this fracture is unknown . there are healed fractures of several left anterior ribs . there is a healed left \n",
       "clavicle fracture . a single nonsclerotic mid thoracic vertebral xxxx fracture is present . without a comparison \n",
       "study , the age of this fracture is unknown . metastatic disease is possible , however given the nonsclerotic \n",
       "appearance , is not xxxx . healed left clavicle and left anterior rib fractures .\n"
      ]
     },
     "metadata": {},
     "output_type": "display_data"
    }
   ],
   "source": [
    "index = random.randint(0, len(df) - 1)\n",
    "\n",
    "print(f\"Index {index}: {df.text.iloc[index]}\")"
   ]
  },
  {
   "cell_type": "code",
   "execution_count": 12,
   "metadata": {},
   "outputs": [
    {
     "data": {
      "text/html": [
       "<div>\n",
       "<style scoped>\n",
       "    .dataframe tbody tr th:only-of-type {\n",
       "        vertical-align: middle;\n",
       "    }\n",
       "\n",
       "    .dataframe tbody tr th {\n",
       "        vertical-align: top;\n",
       "    }\n",
       "\n",
       "    .dataframe thead th {\n",
       "        text-align: right;\n",
       "    }\n",
       "</style>\n",
       "<table border=\"1\" class=\"dataframe\">\n",
       "  <thead>\n",
       "    <tr style=\"text-align: right;\">\n",
       "      <th></th>\n",
       "      <th>image_id</th>\n",
       "      <th>image_size</th>\n",
       "      <th>image_filepath</th>\n",
       "      <th>region_coord</th>\n",
       "      <th>region_bbox</th>\n",
       "      <th>region_labels</th>\n",
       "      <th>num_regions</th>\n",
       "      <th>text_filepath</th>\n",
       "      <th>text</th>\n",
       "    </tr>\n",
       "  </thead>\n",
       "  <tbody>\n",
       "    <tr>\n",
       "      <th>0</th>\n",
       "      <td>0</td>\n",
       "      <td>[224, 224]</td>\n",
       "      <td>C:/Users/DryLab/Desktop/ConVIRT/Dataset/open-i...</td>\n",
       "      <td>[[0, 0, 0, 0, 0, 0, 0, 0, 0, 0, 0, 0, 0, 0, 0,...</td>\n",
       "      <td>[[22.0, 19.0, 119.0, 145.0], [136.0, 19.0, 223...</td>\n",
       "      <td>[[1], [2], [3]]</td>\n",
       "      <td>3</td>\n",
       "      <td>C:/Users/DryLab/Desktop/ConVIRT/Dataset/open-i...</td>\n",
       "      <td>there is xxxx increased opacity within the rig...</td>\n",
       "    </tr>\n",
       "    <tr>\n",
       "      <th>1</th>\n",
       "      <td>1</td>\n",
       "      <td>[224, 224]</td>\n",
       "      <td>C:/Users/DryLab/Desktop/ConVIRT/Dataset/open-i...</td>\n",
       "      <td>[[0, 0, 0, 0, 0, 0, 0, 0, 0, 0, 0, 0, 0, 0, 0,...</td>\n",
       "      <td>[[0.0, 16.0, 99.0, 161.0], [117.0, 17.0, 219.0...</td>\n",
       "      <td>[[1], [2], [3]]</td>\n",
       "      <td>3</td>\n",
       "      <td>C:/Users/DryLab/Desktop/ConVIRT/Dataset/open-i...</td>\n",
       "      <td>there is xxxx increased opacity within the rig...</td>\n",
       "    </tr>\n",
       "    <tr>\n",
       "      <th>2</th>\n",
       "      <td>2</td>\n",
       "      <td>[224, 224]</td>\n",
       "      <td>C:/Users/DryLab/Desktop/ConVIRT/Dataset/open-i...</td>\n",
       "      <td>[[0, 0, 0, 0, 0, 0, 0, 0, 0, 0, 0, 0, 0, 0, 0,...</td>\n",
       "      <td>[[45.0, 43.0, 109.0, 175.0], [122.0, 42.0, 200...</td>\n",
       "      <td>[[1], [2], [3]]</td>\n",
       "      <td>3</td>\n",
       "      <td>C:/Users/DryLab/Desktop/ConVIRT/Dataset/open-i...</td>\n",
       "      <td>interstitial markings are diffusely prominent ...</td>\n",
       "    </tr>\n",
       "    <tr>\n",
       "      <th>3</th>\n",
       "      <td>3</td>\n",
       "      <td>[224, 224]</td>\n",
       "      <td>C:/Users/DryLab/Desktop/ConVIRT/Dataset/open-i...</td>\n",
       "      <td>[[0, 0, 0, 0, 0, 0, 0, 0, 0, 0, 0, 0, 0, 0, 0,...</td>\n",
       "      <td>[[35.0, 13.0, 109.0, 192.0], [115.0, 12.0, 194...</td>\n",
       "      <td>[[1], [2], [3]]</td>\n",
       "      <td>3</td>\n",
       "      <td>C:/Users/DryLab/Desktop/ConVIRT/Dataset/open-i...</td>\n",
       "      <td>status post left mastectomy . heart size norma...</td>\n",
       "    </tr>\n",
       "    <tr>\n",
       "      <th>4</th>\n",
       "      <td>4</td>\n",
       "      <td>[224, 224]</td>\n",
       "      <td>C:/Users/DryLab/Desktop/ConVIRT/Dataset/open-i...</td>\n",
       "      <td>[[0, 0, 0, 0, 0, 0, 0, 0, 0, 0, 0, 0, 0, 0, 0,...</td>\n",
       "      <td>[[5.0, 34.0, 96.0, 177.0], [108.0, 32.0, 200.0...</td>\n",
       "      <td>[[1], [2], [3]]</td>\n",
       "      <td>3</td>\n",
       "      <td>C:/Users/DryLab/Desktop/ConVIRT/Dataset/open-i...</td>\n",
       "      <td>heart size and pulmonary vascularity appear wi...</td>\n",
       "    </tr>\n",
       "    <tr>\n",
       "      <th>...</th>\n",
       "      <td>...</td>\n",
       "      <td>...</td>\n",
       "      <td>...</td>\n",
       "      <td>...</td>\n",
       "      <td>...</td>\n",
       "      <td>...</td>\n",
       "      <td>...</td>\n",
       "      <td>...</td>\n",
       "      <td>...</td>\n",
       "    </tr>\n",
       "    <tr>\n",
       "      <th>3789</th>\n",
       "      <td>3789</td>\n",
       "      <td>[224, 224]</td>\n",
       "      <td>C:/Users/DryLab/Desktop/ConVIRT/Dataset/open-i...</td>\n",
       "      <td>[[0, 0, 0, 0, 0, 0, 0, 0, 0, 0, 0, 0, 0, 0, 0,...</td>\n",
       "      <td>[[33.0, 11.0, 121.0, 174.0], [128.0, 14.0, 204...</td>\n",
       "      <td>[[1], [2], [3]]</td>\n",
       "      <td>3</td>\n",
       "      <td>C:/Users/DryLab/Desktop/ConVIRT/Dataset/open-i...</td>\n",
       "      <td>cardiomediastinal silhouette demonstrates norm...</td>\n",
       "    </tr>\n",
       "    <tr>\n",
       "      <th>3790</th>\n",
       "      <td>3790</td>\n",
       "      <td>[224, 224]</td>\n",
       "      <td>C:/Users/DryLab/Desktop/ConVIRT/Dataset/open-i...</td>\n",
       "      <td>[[0, 0, 0, 0, 0, 0, 0, 0, 0, 0, 0, 0, 0, 0, 0,...</td>\n",
       "      <td>[[22.0, 8.0, 111.0, 210.0], [119.0, 7.0, 200.0...</td>\n",
       "      <td>[[1], [2], [3]]</td>\n",
       "      <td>3</td>\n",
       "      <td>C:/Users/DryLab/Desktop/ConVIRT/Dataset/open-i...</td>\n",
       "      <td>lungs are clear bilaterally . cardiomediastina...</td>\n",
       "    </tr>\n",
       "    <tr>\n",
       "      <th>3791</th>\n",
       "      <td>3791</td>\n",
       "      <td>[224, 224]</td>\n",
       "      <td>C:/Users/DryLab/Desktop/ConVIRT/Dataset/open-i...</td>\n",
       "      <td>[[0, 0, 0, 0, 0, 0, 0, 0, 0, 0, 0, 0, 0, 0, 0,...</td>\n",
       "      <td>[[22.0, 0.0, 107.0, 156.0], [116.0, 0.0, 196.0...</td>\n",
       "      <td>[[1], [2], [3]]</td>\n",
       "      <td>3</td>\n",
       "      <td>C:/Users/DryLab/Desktop/ConVIRT/Dataset/open-i...</td>\n",
       "      <td>lungs are clear bilaterally . cardiomediastina...</td>\n",
       "    </tr>\n",
       "    <tr>\n",
       "      <th>3792</th>\n",
       "      <td>3792</td>\n",
       "      <td>[224, 224]</td>\n",
       "      <td>C:/Users/DryLab/Desktop/ConVIRT/Dataset/open-i...</td>\n",
       "      <td>[[0, 0, 0, 0, 0, 0, 0, 0, 0, 0, 0, 0, 0, 0, 0,...</td>\n",
       "      <td>[[37.0, 14.0, 116.0, 160.0], [122.0, 15.0, 197...</td>\n",
       "      <td>[[1], [2], [3]]</td>\n",
       "      <td>3</td>\n",
       "      <td>C:/Users/DryLab/Desktop/ConVIRT/Dataset/open-i...</td>\n",
       "      <td>normal heart and mediastinum . clear lungs . t...</td>\n",
       "    </tr>\n",
       "    <tr>\n",
       "      <th>3793</th>\n",
       "      <td>3793</td>\n",
       "      <td>[224, 224]</td>\n",
       "      <td>C:/Users/DryLab/Desktop/ConVIRT/Dataset/open-i...</td>\n",
       "      <td>[[0, 0, 0, 0, 0, 0, 0, 0, 0, 0, 0, 0, 0, 0, 0,...</td>\n",
       "      <td>[[24.0, 27.0, 110.0, 185.0], [119.0, 28.0, 202...</td>\n",
       "      <td>[[1], [2], [3]]</td>\n",
       "      <td>3</td>\n",
       "      <td>C:/Users/DryLab/Desktop/ConVIRT/Dataset/open-i...</td>\n",
       "      <td>the xxxx examination consists of frontal and l...</td>\n",
       "    </tr>\n",
       "  </tbody>\n",
       "</table>\n",
       "<p>3794 rows × 9 columns</p>\n",
       "</div>"
      ],
      "text/plain": [
       "      image_id  image_size                                     image_filepath  \\\n",
       "0            0  [224, 224]  C:/Users/DryLab/Desktop/ConVIRT/Dataset/open-i...   \n",
       "1            1  [224, 224]  C:/Users/DryLab/Desktop/ConVIRT/Dataset/open-i...   \n",
       "2            2  [224, 224]  C:/Users/DryLab/Desktop/ConVIRT/Dataset/open-i...   \n",
       "3            3  [224, 224]  C:/Users/DryLab/Desktop/ConVIRT/Dataset/open-i...   \n",
       "4            4  [224, 224]  C:/Users/DryLab/Desktop/ConVIRT/Dataset/open-i...   \n",
       "...        ...         ...                                                ...   \n",
       "3789      3789  [224, 224]  C:/Users/DryLab/Desktop/ConVIRT/Dataset/open-i...   \n",
       "3790      3790  [224, 224]  C:/Users/DryLab/Desktop/ConVIRT/Dataset/open-i...   \n",
       "3791      3791  [224, 224]  C:/Users/DryLab/Desktop/ConVIRT/Dataset/open-i...   \n",
       "3792      3792  [224, 224]  C:/Users/DryLab/Desktop/ConVIRT/Dataset/open-i...   \n",
       "3793      3793  [224, 224]  C:/Users/DryLab/Desktop/ConVIRT/Dataset/open-i...   \n",
       "\n",
       "                                           region_coord  \\\n",
       "0     [[0, 0, 0, 0, 0, 0, 0, 0, 0, 0, 0, 0, 0, 0, 0,...   \n",
       "1     [[0, 0, 0, 0, 0, 0, 0, 0, 0, 0, 0, 0, 0, 0, 0,...   \n",
       "2     [[0, 0, 0, 0, 0, 0, 0, 0, 0, 0, 0, 0, 0, 0, 0,...   \n",
       "3     [[0, 0, 0, 0, 0, 0, 0, 0, 0, 0, 0, 0, 0, 0, 0,...   \n",
       "4     [[0, 0, 0, 0, 0, 0, 0, 0, 0, 0, 0, 0, 0, 0, 0,...   \n",
       "...                                                 ...   \n",
       "3789  [[0, 0, 0, 0, 0, 0, 0, 0, 0, 0, 0, 0, 0, 0, 0,...   \n",
       "3790  [[0, 0, 0, 0, 0, 0, 0, 0, 0, 0, 0, 0, 0, 0, 0,...   \n",
       "3791  [[0, 0, 0, 0, 0, 0, 0, 0, 0, 0, 0, 0, 0, 0, 0,...   \n",
       "3792  [[0, 0, 0, 0, 0, 0, 0, 0, 0, 0, 0, 0, 0, 0, 0,...   \n",
       "3793  [[0, 0, 0, 0, 0, 0, 0, 0, 0, 0, 0, 0, 0, 0, 0,...   \n",
       "\n",
       "                                            region_bbox    region_labels  \\\n",
       "0     [[22.0, 19.0, 119.0, 145.0], [136.0, 19.0, 223...  [[1], [2], [3]]   \n",
       "1     [[0.0, 16.0, 99.0, 161.0], [117.0, 17.0, 219.0...  [[1], [2], [3]]   \n",
       "2     [[45.0, 43.0, 109.0, 175.0], [122.0, 42.0, 200...  [[1], [2], [3]]   \n",
       "3     [[35.0, 13.0, 109.0, 192.0], [115.0, 12.0, 194...  [[1], [2], [3]]   \n",
       "4     [[5.0, 34.0, 96.0, 177.0], [108.0, 32.0, 200.0...  [[1], [2], [3]]   \n",
       "...                                                 ...              ...   \n",
       "3789  [[33.0, 11.0, 121.0, 174.0], [128.0, 14.0, 204...  [[1], [2], [3]]   \n",
       "3790  [[22.0, 8.0, 111.0, 210.0], [119.0, 7.0, 200.0...  [[1], [2], [3]]   \n",
       "3791  [[22.0, 0.0, 107.0, 156.0], [116.0, 0.0, 196.0...  [[1], [2], [3]]   \n",
       "3792  [[37.0, 14.0, 116.0, 160.0], [122.0, 15.0, 197...  [[1], [2], [3]]   \n",
       "3793  [[24.0, 27.0, 110.0, 185.0], [119.0, 28.0, 202...  [[1], [2], [3]]   \n",
       "\n",
       "      num_regions                                      text_filepath  \\\n",
       "0               3  C:/Users/DryLab/Desktop/ConVIRT/Dataset/open-i...   \n",
       "1               3  C:/Users/DryLab/Desktop/ConVIRT/Dataset/open-i...   \n",
       "2               3  C:/Users/DryLab/Desktop/ConVIRT/Dataset/open-i...   \n",
       "3               3  C:/Users/DryLab/Desktop/ConVIRT/Dataset/open-i...   \n",
       "4               3  C:/Users/DryLab/Desktop/ConVIRT/Dataset/open-i...   \n",
       "...           ...                                                ...   \n",
       "3789            3  C:/Users/DryLab/Desktop/ConVIRT/Dataset/open-i...   \n",
       "3790            3  C:/Users/DryLab/Desktop/ConVIRT/Dataset/open-i...   \n",
       "3791            3  C:/Users/DryLab/Desktop/ConVIRT/Dataset/open-i...   \n",
       "3792            3  C:/Users/DryLab/Desktop/ConVIRT/Dataset/open-i...   \n",
       "3793            3  C:/Users/DryLab/Desktop/ConVIRT/Dataset/open-i...   \n",
       "\n",
       "                                                   text  \n",
       "0     there is xxxx increased opacity within the rig...  \n",
       "1     there is xxxx increased opacity within the rig...  \n",
       "2     interstitial markings are diffusely prominent ...  \n",
       "3     status post left mastectomy . heart size norma...  \n",
       "4     heart size and pulmonary vascularity appear wi...  \n",
       "...                                                 ...  \n",
       "3789  cardiomediastinal silhouette demonstrates norm...  \n",
       "3790  lungs are clear bilaterally . cardiomediastina...  \n",
       "3791  lungs are clear bilaterally . cardiomediastina...  \n",
       "3792  normal heart and mediastinum . clear lungs . t...  \n",
       "3793  the xxxx examination consists of frontal and l...  \n",
       "\n",
       "[3794 rows x 9 columns]"
      ]
     },
     "execution_count": 12,
     "metadata": {},
     "output_type": "execute_result"
    }
   ],
   "source": [
    "df"
   ]
  },
  {
   "cell_type": "code",
   "execution_count": 13,
   "metadata": {},
   "outputs": [],
   "source": [
    "def clean_text(text):\n",
    "    # Replace multiple consecutive periods (\"..\") with a single period (\".\")\n",
    "    text = re.sub(r'\\.\\.', '.', text)\n",
    "    # Replace standalone \"X\" or \"x\" with \"[MASK]\"\n",
    "    text = re.sub(r\"\\b[xX]+\\b\", \"[MASK]\", text)\n",
    "    return text"
   ]
  },
  {
   "cell_type": "code",
   "execution_count": 14,
   "metadata": {},
   "outputs": [],
   "source": [
    "df[\"text\"] = df[\"text\"].apply(clean_text)"
   ]
  },
  {
   "cell_type": "code",
   "execution_count": 17,
   "metadata": {},
   "outputs": [
    {
     "data": {
      "text/html": [
       "<pre style=\"white-space:pre;overflow-x:auto;line-height:normal;font-family:Menlo,'DejaVu Sans Mono',consolas,'Courier New',monospace\">Original: normal heart size , mediastinal and aortic contours . normal pulmonary vascularity . elevated left \n",
       "hemidiaphragm with scarring at the left costophrenic <span style=\"font-weight: bold\">[</span>MASK<span style=\"font-weight: bold\">]</span> . there is a bullet fragment overlying the left t7 \n",
       "vertebra . retained <span style=\"font-weight: bold\">[</span>MASK<span style=\"font-weight: bold\">]</span> bullet fragments noted within the left upper and lower lobes . mild degenerative changes\n",
       "of the thoracic spine . posttraumatic changes compatible with prior gunshot wound .\n",
       "</pre>\n"
      ],
      "text/plain": [
       "Original: normal heart size , mediastinal and aortic contours . normal pulmonary vascularity . elevated left \n",
       "hemidiaphragm with scarring at the left costophrenic \u001b[1m[\u001b[0mMASK\u001b[1m]\u001b[0m . there is a bullet fragment overlying the left t7 \n",
       "vertebra . retained \u001b[1m[\u001b[0mMASK\u001b[1m]\u001b[0m bullet fragments noted within the left upper and lower lobes . mild degenerative changes\n",
       "of the thoracic spine . posttraumatic changes compatible with prior gunshot wound .\n"
      ]
     },
     "metadata": {},
     "output_type": "display_data"
    },
    {
     "data": {
      "text/html": [
       "<pre style=\"white-space:pre;overflow-x:auto;line-height:normal;font-family:Menlo,'DejaVu Sans Mono',consolas,'Courier New',monospace\">Masked: normal heart size , mediastinal and aortic contours . normal pulmonary vascularity . elevated left \n",
       "hemidiaphragm with scarring at the left costophrenic <span style=\"font-weight: bold\">[</span>MASK<span style=\"font-weight: bold\">]</span> . there is a bullet fragment overlying the left t7 \n",
       "vertebra . retained <span style=\"font-weight: bold\">[</span>MASK<span style=\"font-weight: bold\">]</span> bullet fragments noted within the left upper and lower lobes . mild degenerative changes\n",
       "of the thoracic spine . posttraumatic changes compatible with prior gunshot wound .\n",
       "</pre>\n"
      ],
      "text/plain": [
       "Masked: normal heart size , mediastinal and aortic contours . normal pulmonary vascularity . elevated left \n",
       "hemidiaphragm with scarring at the left costophrenic \u001b[1m[\u001b[0mMASK\u001b[1m]\u001b[0m . there is a bullet fragment overlying the left t7 \n",
       "vertebra . retained \u001b[1m[\u001b[0mMASK\u001b[1m]\u001b[0m bullet fragments noted within the left upper and lower lobes . mild degenerative changes\n",
       "of the thoracic spine . posttraumatic changes compatible with prior gunshot wound .\n"
      ]
     },
     "metadata": {},
     "output_type": "display_data"
    }
   ],
   "source": [
    "index = random.randint(0, len(df) - 1)\n",
    "real_text = df.iloc[index][\"text\"]\n",
    "findings = clean_text(df.iloc[index][\"text\"])\n",
    "print(f\"Original: {real_text}\")\n",
    "print(f\"Masked: {findings}\")"
   ]
  },
  {
   "cell_type": "code",
   "execution_count": 22,
   "metadata": {},
   "outputs": [
    {
     "data": {
      "text/html": [
       "<pre style=\"white-space:pre;overflow-x:auto;line-height:normal;font-family:Menlo,'DejaVu Sans Mono',consolas,'Courier New',monospace\">within the posterior lateral 8th rib there is a deformity along the cortex with associated oblique lucency . in \n",
       "addition within the posterior lateral 9th rib there appears to be a obliquely oriented lucency with cortical \n",
       "disruption . findings are concerning for possible left rib fractures . otherwise the cardiomediastinal silhouette \n",
       "is within normal limits . the lungs are clear bilaterally . multiple small punctate radiopaque foreign bodies are \n",
       "seen within the subcutaneous tissues and are present on previous ct scan from <span style=\"font-weight: bold\">[</span>MASK<span style=\"font-weight: bold\">]</span> . possible lower posterior \n",
       "lateral left rib fractures as described above . if further concern for rib fractures dedicated rib films would \n",
       "better evaluate .\n",
       "</pre>\n"
      ],
      "text/plain": [
       "within the posterior lateral 8th rib there is a deformity along the cortex with associated oblique lucency . in \n",
       "addition within the posterior lateral 9th rib there appears to be a obliquely oriented lucency with cortical \n",
       "disruption . findings are concerning for possible left rib fractures . otherwise the cardiomediastinal silhouette \n",
       "is within normal limits . the lungs are clear bilaterally . multiple small punctate radiopaque foreign bodies are \n",
       "seen within the subcutaneous tissues and are present on previous ct scan from \u001b[1m[\u001b[0mMASK\u001b[1m]\u001b[0m . possible lower posterior \n",
       "lateral left rib fractures as described above . if further concern for rib fractures dedicated rib films would \n",
       "better evaluate .\n"
      ]
     },
     "metadata": {},
     "output_type": "display_data"
    },
    {
     "data": {
      "text/html": [
       "<pre style=\"white-space:pre;overflow-x:auto;line-height:normal;font-family:Menlo,'DejaVu Sans Mono',consolas,'Courier New',monospace\"><span style=\"font-weight: bold\">[</span>\n",
       "    <span style=\"color: #008000; text-decoration-color: #008000\">'obliquely'</span>,\n",
       "    <span style=\"color: #008000; text-decoration-color: #008000\">'findings'</span>,\n",
       "    <span style=\"color: #008000; text-decoration-color: #008000\">'oblique lucency'</span>,\n",
       "    <span style=\"color: #008000; text-decoration-color: #008000\">'normal'</span>,\n",
       "    <span style=\"color: #008000; text-decoration-color: #008000\">'multiple small punctate radiopaque foreign bodies'</span>,\n",
       "    <span style=\"color: #008000; text-decoration-color: #008000\">'deformity'</span>,\n",
       "    <span style=\"color: #008000; text-decoration-color: #008000\">'clear'</span>,\n",
       "    <span style=\"color: #008000; text-decoration-color: #008000\">'disruption'</span>,\n",
       "    <span style=\"color: #008000; text-decoration-color: #008000\">'oriented lucency'</span>\n",
       "<span style=\"font-weight: bold\">]</span>\n",
       "</pre>\n"
      ],
      "text/plain": [
       "\u001b[1m[\u001b[0m\n",
       "    \u001b[32m'obliquely'\u001b[0m,\n",
       "    \u001b[32m'findings'\u001b[0m,\n",
       "    \u001b[32m'oblique lucency'\u001b[0m,\n",
       "    \u001b[32m'normal'\u001b[0m,\n",
       "    \u001b[32m'multiple small punctate radiopaque foreign bodies'\u001b[0m,\n",
       "    \u001b[32m'deformity'\u001b[0m,\n",
       "    \u001b[32m'clear'\u001b[0m,\n",
       "    \u001b[32m'disruption'\u001b[0m,\n",
       "    \u001b[32m'oriented lucency'\u001b[0m\n",
       "\u001b[1m]\u001b[0m\n"
      ]
     },
     "metadata": {},
     "output_type": "display_data"
    }
   ],
   "source": [
    "def extract_entities(textual_descriptions):\n",
    "    extracted_entities = []\n",
    "\n",
    "    # RadGraph output processing\n",
    "    textual_descriptions = radgraph(textual_descriptions) \n",
    "    \n",
    "    for _, description in textual_descriptions.items():\n",
    "        entities = description.get(\"entities\", {})\n",
    "\n",
    "        # Step 1: Identify all real entities (Observation::definitely present with no direct modify relations)\n",
    "        all_entities = {\n",
    "            entity_id: entity_data\n",
    "            for entity_id, entity_data in entities.items()\n",
    "            if entity_data.get(\"label\") == \"Observation::definitely present\" or entity_data.get(\"label\") == \"Anatomy::definitely absent\"\n",
    "        }\n",
    "        \n",
    "        real_entities = {\n",
    "            entity_id: entity_data\n",
    "            for entity_id, entity_data in entities.items()\n",
    "            if entity_data.get(\"label\") == \"Observation::definitely present\" and not any(\"modify\" in relation for relation in entity_data.get(\"relations\", []))\n",
    "        }\n",
    "\n",
    "        # Step 2: Create a map of modifiers to the entities they modify\n",
    "        modifier_map = {}\n",
    "        for entity_id, entity_data in entities.items():\n",
    "            relations = entity_data.get(\"relations\", [])\n",
    "            for relation in relations:\n",
    "                if relation[0] == \"modify\" and relation[1] in entities:\n",
    "                    modifier_map.setdefault(relation[1], []).append(entity_id)\n",
    "\n",
    "        # Step 3: Recursive function to gather all modifiers for each real entity\n",
    "        def get_all_modifiers(entity_id):\n",
    "            visited = set()  # To track visited entities\n",
    "            stack = [entity_id]  # Initialize stack with the starting entity\n",
    "            modifiers = []  # List to store unique modifiers\n",
    "            seen = set()  # To track unique (token, index) pairs\n",
    "\n",
    "            while stack:\n",
    "                current_entity_id = stack.pop()\n",
    "\n",
    "                if current_entity_id in visited:\n",
    "                    continue  # Skip already visited entities\n",
    "                \n",
    "                visited.add(current_entity_id)  # Mark current entity as visited\n",
    "\n",
    "                # Add current entity's modifiers to the list\n",
    "                direct_modifiers = modifier_map.get(current_entity_id, [])\n",
    "                for modifier_id in direct_modifiers:\n",
    "                    modifier_data = entities[modifier_id]\n",
    "                    token_index_pair = (modifier_data.get(\"tokens\"), modifier_data.get(\"start_ix\"))\n",
    "\n",
    "                    # Ensure unique modifiers\n",
    "                    if token_index_pair not in seen:\n",
    "                        modifiers.append(token_index_pair)\n",
    "                        seen.add(token_index_pair)  # Mark as seen\n",
    "\n",
    "                    stack.append(modifier_id)  # Add the modifier to the stack for further exploration\n",
    "\n",
    "            return modifiers\n",
    "\n",
    "\n",
    "        # Step 4: Combine real entities with all their modifiers\n",
    "        for entity_id, entity_data in all_entities.items():\n",
    "            observation_text = entity_data.get(\"tokens\")\n",
    "            # print(observation_text)\n",
    "            observation_start_ix = entity_data.get(\"start_ix\")\n",
    "            # Gather all modifiers recursively\n",
    "            modifiers_for_this_entity = get_all_modifiers(entity_id)\n",
    "            # print(modifiers_for_this_entity)\n",
    "\n",
    "            # Create a list of tokens, including both entity and modifier tokens\n",
    "            all_tokens = [(observation_text, observation_start_ix)] + modifiers_for_this_entity\n",
    "\n",
    "            # Sort all tokens by their start_ix to ensure correct order\n",
    "            sorted_tokens = sorted(all_tokens, key=lambda x: x[1])\n",
    "\n",
    "            # Extract the sorted tokens (ignoring the start_ix for final output)\n",
    "            sorted_entity_text = \" \".join([token[0] for token in sorted_tokens]).strip()\n",
    "            # print(observation_text)\n",
    "\n",
    "            # Ensure only real entities with their full modifier chains are added to the output\n",
    "            if observation_text in real_entities.get(entity_id)['tokens'] if entity_id in real_entities else False:\n",
    "                extracted_entities.append(sorted_entity_text)\n",
    "\n",
    "    # Return unique extracted entities (no duplicates)\n",
    "    return list(set(extracted_entities))\n",
    "\n",
    "# index = random.randint(0, len(df) - 1)\n",
    "findings = df.iloc[index][\"text\"]\n",
    "# findings = \"the lungs are clear bilaterally . large bilateral hilar calcified lymph [ MASK ] / granulomas . cardio mediastinal silhouette is unremarkable .\"\n",
    "# findings = \"the heart size and pulmonary vascularity appear within normal limits . the left hemidiaphragm remains elevated . right base densities are again noted which appear improved . there continues to be some left base opacities which may represent atelectasis . surgical clips and suture lines are noted in the mediastinum . an air - fluid level is seen in the upper right abdomen immediately below the right hemidiaphragm . extensive pleural densities are present on the right which may represent localized fluid or pleural thickening . continued elevation of the left hemidiaphragm . extensive post - op changes . right pleural densities which may represent thickening or localized fluid . air - fluid level below the right hemidiaphragm medially . although this could represent air - fluid within a [ MASK ] of bowel , a subpulmonic process is a consideration . if clinically indicated , [ MASK ] scan would better define this\"\n",
    "# findings = \"______________________________________________________________________________ final report examination : chest ( portable ap ) indication : ___ year old man s / p tracheostomy // eval for ptx and trach placement technique : chest ( portable ap ) comparison : ___ right central venous line tip is at the level of mid svc . right picc line is turning upwards at the junction of the right subclavian vein and right internal jugular vein and should be repositioned . right pigtail catheter is in place . bilateral pleural effusions are demonstrated .\"\n",
    "# findings = \"the lungs are clear . the cardiomediastinal silhouette is within normal limits . normal chest film .\"\n",
    "textual_descriptions = findings  # Your RadGraph output dictionary\n",
    "entities = extract_entities(textual_descriptions)\n",
    "print(findings)\n",
    "print(entities)"
   ]
  },
  {
   "cell_type": "code",
   "execution_count": 43,
   "metadata": {},
   "outputs": [
    {
     "data": {
      "text/html": [
       "<pre style=\"white-space:pre;overflow-x:auto;line-height:normal;font-family:Menlo,'DejaVu Sans Mono',consolas,'Courier New',monospace\"><span style=\"font-weight: bold\">[</span><span style=\"color: #008000; text-decoration-color: #008000\">'deformity'</span>, <span style=\"color: #008000; text-decoration-color: #008000\">'lucency'</span>, <span style=\"color: #008000; text-decoration-color: #008000\">'obliquely'</span>, <span style=\"color: #008000; text-decoration-color: #008000\">'lucency'</span>, <span style=\"color: #008000; text-decoration-color: #008000\">'disruption'</span>, <span style=\"color: #008000; text-decoration-color: #008000\">'findings'</span>, <span style=\"color: #008000; text-decoration-color: #008000\">'normal'</span>, <span style=\"color: #008000; text-decoration-color: #008000\">'clear'</span>, <span style=\"color: #008000; text-decoration-color: #008000\">'bodies'</span><span style=\"font-weight: bold\">]</span>\n",
       "</pre>\n"
      ],
      "text/plain": [
       "\u001b[1m[\u001b[0m\u001b[32m'deformity'\u001b[0m, \u001b[32m'lucency'\u001b[0m, \u001b[32m'obliquely'\u001b[0m, \u001b[32m'lucency'\u001b[0m, \u001b[32m'disruption'\u001b[0m, \u001b[32m'findings'\u001b[0m, \u001b[32m'normal'\u001b[0m, \u001b[32m'clear'\u001b[0m, \u001b[32m'bodies'\u001b[0m\u001b[1m]\u001b[0m\n"
      ]
     },
     "metadata": {},
     "output_type": "display_data"
    }
   ],
   "source": [
    "def extract_entities(textual_descriptions):\n",
    "    extracted_entities = []\n",
    "\n",
    "    textual_descriptions = radgraph(textual_descriptions)\n",
    "\n",
    "    for _, description in textual_descriptions.items():\n",
    "        # Extract entities using RadGraph\n",
    "        entities = description.get(\"entities\", {})\n",
    "\n",
    "        # Filter entities that are 'Definitely Present'\n",
    "        real_entities = {\n",
    "            entity_id: entity_data\n",
    "            for entity_id, entity_data in entities.items()\n",
    "            if entity_data.get(\"label\") == \"Observation::definitely present\" and not any(\"modify\" in relation for relation in entity_data.get(\"relations\", []))\n",
    "        }\n",
    "        # print(real_entities)\n",
    "        \n",
    "        # Append real entities to the extracted entities list\n",
    "        for entity_id, entity_data in real_entities.items():\n",
    "            extracted_entities.append(entity_data.get(\"tokens\"))\n",
    "            # print(entity_data.get(\"tokens\"))\n",
    "\n",
    "    return extracted_entities\n",
    "\n",
    "\n",
    "textual_descriptions = findings\n",
    "entities = extract_entities(textual_descriptions)\n",
    "print(entities)"
   ]
  },
  {
   "cell_type": "code",
   "execution_count": 186,
   "metadata": {},
   "outputs": [],
   "source": [
    "# def filter_nouns(entities):\n",
    "#     noun_entities = []\n",
    "\n",
    "#     for entity in entities:\n",
    "#         # Tokenize the entity using Spacy\n",
    "#         doc = nlp(entity)\n",
    "\n",
    "#         # Extract noun phrases rather than individual nouns\n",
    "#         noun_phrases = [chunk.text for chunk in doc.noun_chunks]\n",
    "\n",
    "#         # Append the noun phrases to the list\n",
    "#         noun_entities.extend(noun_phrases)\n",
    "\n",
    "#     return noun_entities\n",
    "\n",
    "\n",
    "# noun_entities = filter_nouns(entities)\n",
    "# print(noun_entities)"
   ]
  },
  {
   "cell_type": "code",
   "execution_count": 44,
   "metadata": {},
   "outputs": [
    {
     "data": {
      "text/html": [
       "<pre style=\"white-space:pre;overflow-x:auto;line-height:normal;font-family:Menlo,'DejaVu Sans Mono',consolas,'Courier New',monospace\"><span style=\"font-weight: bold\">[</span><span style=\"color: #008000; text-decoration-color: #008000\">'deformity'</span>, <span style=\"color: #008000; text-decoration-color: #008000\">'lucency'</span>, <span style=\"color: #008000; text-decoration-color: #008000\">'lucency'</span>, <span style=\"color: #008000; text-decoration-color: #008000\">'disruption'</span>, <span style=\"color: #008000; text-decoration-color: #008000\">'findings'</span>, <span style=\"color: #008000; text-decoration-color: #008000\">'bodies'</span><span style=\"font-weight: bold\">]</span>\n",
       "</pre>\n"
      ],
      "text/plain": [
       "\u001b[1m[\u001b[0m\u001b[32m'deformity'\u001b[0m, \u001b[32m'lucency'\u001b[0m, \u001b[32m'lucency'\u001b[0m, \u001b[32m'disruption'\u001b[0m, \u001b[32m'findings'\u001b[0m, \u001b[32m'bodies'\u001b[0m\u001b[1m]\u001b[0m\n"
      ]
     },
     "metadata": {},
     "output_type": "display_data"
    }
   ],
   "source": [
    "# Function to filter nouns\n",
    "def filter_nouns(attribute_list):\n",
    "    nouns_only = []\n",
    "    for attribute in attribute_list:\n",
    "        # Process the attribute with spaCy\n",
    "        doc = nlp(attribute)\n",
    "        # Check each token's part of speech\n",
    "        if any(token.pos_ in {\"NOUN\", \"PROPN\"} for token in doc):  # NOUN for common nouns, PROPN for proper nouns\n",
    "            nouns_only.append(attribute)\n",
    "    return nouns_only\n",
    "\n",
    "# Get only nouns\n",
    "noun_attributes = filter_nouns(entities)\n",
    "\n",
    "print(noun_attributes)\n"
   ]
  },
  {
   "cell_type": "code",
   "execution_count": 45,
   "metadata": {},
   "outputs": [
    {
     "name": "stderr",
     "output_type": "stream",
     "text": [
      "c:\\Users\\DryLab\\anaconda3\\envs\\ViLLA\\lib\\site-packages\\radgraph\\dygie\\data\\dataset_readers\\dygie.py:192: UserWarning: Document 0 has a sentence with a single token or no tokens. This may break the modeling code.\n",
      "  warnings.warn(msg)\n"
     ]
    }
   ],
   "source": [
    "df[\"attributes\"] = df[\"text\"].apply(extract_entities)"
   ]
  },
  {
   "cell_type": "code",
   "execution_count": 46,
   "metadata": {},
   "outputs": [
    {
     "data": {
      "text/html": [
       "<div>\n",
       "<style scoped>\n",
       "    .dataframe tbody tr th:only-of-type {\n",
       "        vertical-align: middle;\n",
       "    }\n",
       "\n",
       "    .dataframe tbody tr th {\n",
       "        vertical-align: top;\n",
       "    }\n",
       "\n",
       "    .dataframe thead th {\n",
       "        text-align: right;\n",
       "    }\n",
       "</style>\n",
       "<table border=\"1\" class=\"dataframe\">\n",
       "  <thead>\n",
       "    <tr style=\"text-align: right;\">\n",
       "      <th></th>\n",
       "      <th>image_id</th>\n",
       "      <th>image_size</th>\n",
       "      <th>image_filepath</th>\n",
       "      <th>region_coord</th>\n",
       "      <th>region_bbox</th>\n",
       "      <th>region_labels</th>\n",
       "      <th>num_regions</th>\n",
       "      <th>text_filepath</th>\n",
       "      <th>text</th>\n",
       "      <th>attributes</th>\n",
       "    </tr>\n",
       "  </thead>\n",
       "  <tbody>\n",
       "    <tr>\n",
       "      <th>0</th>\n",
       "      <td>0</td>\n",
       "      <td>[224, 224]</td>\n",
       "      <td>C:/Users/DryLab/Desktop/ConVIRT/Dataset/open-i...</td>\n",
       "      <td>[[0, 0, 0, 0, 0, 0, 0, 0, 0, 0, 0, 0, 0, 0, 0,...</td>\n",
       "      <td>[[22.0, 19.0, 119.0, 145.0], [136.0, 19.0, 223...</td>\n",
       "      <td>[[1], [2], [3]]</td>\n",
       "      <td>3</td>\n",
       "      <td>C:/Users/DryLab/Desktop/ConVIRT/Dataset/open-i...</td>\n",
       "      <td>there is [MASK] increased opacity within the r...</td>\n",
       "      <td>[opacity, normal, opacity, opacity, atelectasi...</td>\n",
       "    </tr>\n",
       "    <tr>\n",
       "      <th>1</th>\n",
       "      <td>1</td>\n",
       "      <td>[224, 224]</td>\n",
       "      <td>C:/Users/DryLab/Desktop/ConVIRT/Dataset/open-i...</td>\n",
       "      <td>[[0, 0, 0, 0, 0, 0, 0, 0, 0, 0, 0, 0, 0, 0, 0,...</td>\n",
       "      <td>[[0.0, 16.0, 99.0, 161.0], [117.0, 17.0, 219.0...</td>\n",
       "      <td>[[1], [2], [3]]</td>\n",
       "      <td>3</td>\n",
       "      <td>C:/Users/DryLab/Desktop/ConVIRT/Dataset/open-i...</td>\n",
       "      <td>there is [MASK] increased opacity within the r...</td>\n",
       "      <td>[opacity, normal, opacity, opacity, atelectasi...</td>\n",
       "    </tr>\n",
       "    <tr>\n",
       "      <th>2</th>\n",
       "      <td>2</td>\n",
       "      <td>[224, 224]</td>\n",
       "      <td>C:/Users/DryLab/Desktop/ConVIRT/Dataset/open-i...</td>\n",
       "      <td>[[0, 0, 0, 0, 0, 0, 0, 0, 0, 0, 0, 0, 0, 0, 0,...</td>\n",
       "      <td>[[45.0, 43.0, 109.0, 175.0], [122.0, 42.0, 200...</td>\n",
       "      <td>[[1], [2], [3]]</td>\n",
       "      <td>3</td>\n",
       "      <td>C:/Users/DryLab/Desktop/ConVIRT/Dataset/open-i...</td>\n",
       "      <td>interstitial markings are diffusely prominent ...</td>\n",
       "      <td>[markings, normal, normal, fibrosis]</td>\n",
       "    </tr>\n",
       "    <tr>\n",
       "      <th>3</th>\n",
       "      <td>3</td>\n",
       "      <td>[224, 224]</td>\n",
       "      <td>C:/Users/DryLab/Desktop/ConVIRT/Dataset/open-i...</td>\n",
       "      <td>[[0, 0, 0, 0, 0, 0, 0, 0, 0, 0, 0, 0, 0, 0, 0,...</td>\n",
       "      <td>[[35.0, 13.0, 109.0, 192.0], [115.0, 12.0, 194...</td>\n",
       "      <td>[[1], [2], [3]]</td>\n",
       "      <td>3</td>\n",
       "      <td>C:/Users/DryLab/Desktop/ConVIRT/Dataset/open-i...</td>\n",
       "      <td>status post left mastectomy . heart size norma...</td>\n",
       "      <td>[mastectomy, normal, clear]</td>\n",
       "    </tr>\n",
       "    <tr>\n",
       "      <th>4</th>\n",
       "      <td>4</td>\n",
       "      <td>[224, 224]</td>\n",
       "      <td>C:/Users/DryLab/Desktop/ConVIRT/Dataset/open-i...</td>\n",
       "      <td>[[0, 0, 0, 0, 0, 0, 0, 0, 0, 0, 0, 0, 0, 0, 0,...</td>\n",
       "      <td>[[5.0, 34.0, 96.0, 177.0], [108.0, 32.0, 200.0...</td>\n",
       "      <td>[[1], [2], [3]]</td>\n",
       "      <td>3</td>\n",
       "      <td>C:/Users/DryLab/Desktop/ConVIRT/Dataset/open-i...</td>\n",
       "      <td>heart size and pulmonary vascularity appear wi...</td>\n",
       "      <td>[normal, density, this, hiatal hernia, calcifi...</td>\n",
       "    </tr>\n",
       "    <tr>\n",
       "      <th>...</th>\n",
       "      <td>...</td>\n",
       "      <td>...</td>\n",
       "      <td>...</td>\n",
       "      <td>...</td>\n",
       "      <td>...</td>\n",
       "      <td>...</td>\n",
       "      <td>...</td>\n",
       "      <td>...</td>\n",
       "      <td>...</td>\n",
       "      <td>...</td>\n",
       "    </tr>\n",
       "    <tr>\n",
       "      <th>3789</th>\n",
       "      <td>3789</td>\n",
       "      <td>[224, 224]</td>\n",
       "      <td>C:/Users/DryLab/Desktop/ConVIRT/Dataset/open-i...</td>\n",
       "      <td>[[0, 0, 0, 0, 0, 0, 0, 0, 0, 0, 0, 0, 0, 0, 0,...</td>\n",
       "      <td>[[33.0, 11.0, 121.0, 174.0], [128.0, 14.0, 204...</td>\n",
       "      <td>[[1], [2], [3]]</td>\n",
       "      <td>3</td>\n",
       "      <td>C:/Users/DryLab/Desktop/ConVIRT/Dataset/open-i...</td>\n",
       "      <td>cardiomediastinal silhouette demonstrates norm...</td>\n",
       "      <td>[normal, tortuosity, atherosclerosis, disease]</td>\n",
       "    </tr>\n",
       "    <tr>\n",
       "      <th>3790</th>\n",
       "      <td>3790</td>\n",
       "      <td>[224, 224]</td>\n",
       "      <td>C:/Users/DryLab/Desktop/ConVIRT/Dataset/open-i...</td>\n",
       "      <td>[[0, 0, 0, 0, 0, 0, 0, 0, 0, 0, 0, 0, 0, 0, 0,...</td>\n",
       "      <td>[[22.0, 8.0, 111.0, 210.0], [119.0, 7.0, 200.0...</td>\n",
       "      <td>[[1], [2], [3]]</td>\n",
       "      <td>3</td>\n",
       "      <td>C:/Users/DryLab/Desktop/ConVIRT/Dataset/open-i...</td>\n",
       "      <td>lungs are clear bilaterally . cardiomediastina...</td>\n",
       "      <td>[clear, normal, unremarkable]</td>\n",
       "    </tr>\n",
       "    <tr>\n",
       "      <th>3791</th>\n",
       "      <td>3791</td>\n",
       "      <td>[224, 224]</td>\n",
       "      <td>C:/Users/DryLab/Desktop/ConVIRT/Dataset/open-i...</td>\n",
       "      <td>[[0, 0, 0, 0, 0, 0, 0, 0, 0, 0, 0, 0, 0, 0, 0,...</td>\n",
       "      <td>[[22.0, 0.0, 107.0, 156.0], [116.0, 0.0, 196.0...</td>\n",
       "      <td>[[1], [2], [3]]</td>\n",
       "      <td>3</td>\n",
       "      <td>C:/Users/DryLab/Desktop/ConVIRT/Dataset/open-i...</td>\n",
       "      <td>lungs are clear bilaterally . cardiomediastina...</td>\n",
       "      <td>[clear, normal, unremarkable]</td>\n",
       "    </tr>\n",
       "    <tr>\n",
       "      <th>3792</th>\n",
       "      <td>3792</td>\n",
       "      <td>[224, 224]</td>\n",
       "      <td>C:/Users/DryLab/Desktop/ConVIRT/Dataset/open-i...</td>\n",
       "      <td>[[0, 0, 0, 0, 0, 0, 0, 0, 0, 0, 0, 0, 0, 0, 0,...</td>\n",
       "      <td>[[37.0, 14.0, 116.0, 160.0], [122.0, 15.0, 197...</td>\n",
       "      <td>[[1], [2], [3]]</td>\n",
       "      <td>3</td>\n",
       "      <td>C:/Users/DryLab/Desktop/ConVIRT/Dataset/open-i...</td>\n",
       "      <td>normal heart and mediastinum . clear lungs . t...</td>\n",
       "      <td>[normal, clear, midline, radiopaque, foreign b...</td>\n",
       "    </tr>\n",
       "    <tr>\n",
       "      <th>3793</th>\n",
       "      <td>3793</td>\n",
       "      <td>[224, 224]</td>\n",
       "      <td>C:/Users/DryLab/Desktop/ConVIRT/Dataset/open-i...</td>\n",
       "      <td>[[0, 0, 0, 0, 0, 0, 0, 0, 0, 0, 0, 0, 0, 0, 0,...</td>\n",
       "      <td>[[24.0, 27.0, 110.0, 185.0], [119.0, 28.0, 202...</td>\n",
       "      <td>[[1], [2], [3]]</td>\n",
       "      <td>3</td>\n",
       "      <td>C:/Users/DryLab/Desktop/ConVIRT/Dataset/open-i...</td>\n",
       "      <td>the [MASK] examination consists of frontal and...</td>\n",
       "      <td>[density, convexity, granuloma, density]</td>\n",
       "    </tr>\n",
       "  </tbody>\n",
       "</table>\n",
       "<p>3794 rows × 10 columns</p>\n",
       "</div>"
      ],
      "text/plain": [
       "      image_id  image_size                                     image_filepath  \\\n",
       "0            0  [224, 224]  C:/Users/DryLab/Desktop/ConVIRT/Dataset/open-i...   \n",
       "1            1  [224, 224]  C:/Users/DryLab/Desktop/ConVIRT/Dataset/open-i...   \n",
       "2            2  [224, 224]  C:/Users/DryLab/Desktop/ConVIRT/Dataset/open-i...   \n",
       "3            3  [224, 224]  C:/Users/DryLab/Desktop/ConVIRT/Dataset/open-i...   \n",
       "4            4  [224, 224]  C:/Users/DryLab/Desktop/ConVIRT/Dataset/open-i...   \n",
       "...        ...         ...                                                ...   \n",
       "3789      3789  [224, 224]  C:/Users/DryLab/Desktop/ConVIRT/Dataset/open-i...   \n",
       "3790      3790  [224, 224]  C:/Users/DryLab/Desktop/ConVIRT/Dataset/open-i...   \n",
       "3791      3791  [224, 224]  C:/Users/DryLab/Desktop/ConVIRT/Dataset/open-i...   \n",
       "3792      3792  [224, 224]  C:/Users/DryLab/Desktop/ConVIRT/Dataset/open-i...   \n",
       "3793      3793  [224, 224]  C:/Users/DryLab/Desktop/ConVIRT/Dataset/open-i...   \n",
       "\n",
       "                                           region_coord  \\\n",
       "0     [[0, 0, 0, 0, 0, 0, 0, 0, 0, 0, 0, 0, 0, 0, 0,...   \n",
       "1     [[0, 0, 0, 0, 0, 0, 0, 0, 0, 0, 0, 0, 0, 0, 0,...   \n",
       "2     [[0, 0, 0, 0, 0, 0, 0, 0, 0, 0, 0, 0, 0, 0, 0,...   \n",
       "3     [[0, 0, 0, 0, 0, 0, 0, 0, 0, 0, 0, 0, 0, 0, 0,...   \n",
       "4     [[0, 0, 0, 0, 0, 0, 0, 0, 0, 0, 0, 0, 0, 0, 0,...   \n",
       "...                                                 ...   \n",
       "3789  [[0, 0, 0, 0, 0, 0, 0, 0, 0, 0, 0, 0, 0, 0, 0,...   \n",
       "3790  [[0, 0, 0, 0, 0, 0, 0, 0, 0, 0, 0, 0, 0, 0, 0,...   \n",
       "3791  [[0, 0, 0, 0, 0, 0, 0, 0, 0, 0, 0, 0, 0, 0, 0,...   \n",
       "3792  [[0, 0, 0, 0, 0, 0, 0, 0, 0, 0, 0, 0, 0, 0, 0,...   \n",
       "3793  [[0, 0, 0, 0, 0, 0, 0, 0, 0, 0, 0, 0, 0, 0, 0,...   \n",
       "\n",
       "                                            region_bbox    region_labels  \\\n",
       "0     [[22.0, 19.0, 119.0, 145.0], [136.0, 19.0, 223...  [[1], [2], [3]]   \n",
       "1     [[0.0, 16.0, 99.0, 161.0], [117.0, 17.0, 219.0...  [[1], [2], [3]]   \n",
       "2     [[45.0, 43.0, 109.0, 175.0], [122.0, 42.0, 200...  [[1], [2], [3]]   \n",
       "3     [[35.0, 13.0, 109.0, 192.0], [115.0, 12.0, 194...  [[1], [2], [3]]   \n",
       "4     [[5.0, 34.0, 96.0, 177.0], [108.0, 32.0, 200.0...  [[1], [2], [3]]   \n",
       "...                                                 ...              ...   \n",
       "3789  [[33.0, 11.0, 121.0, 174.0], [128.0, 14.0, 204...  [[1], [2], [3]]   \n",
       "3790  [[22.0, 8.0, 111.0, 210.0], [119.0, 7.0, 200.0...  [[1], [2], [3]]   \n",
       "3791  [[22.0, 0.0, 107.0, 156.0], [116.0, 0.0, 196.0...  [[1], [2], [3]]   \n",
       "3792  [[37.0, 14.0, 116.0, 160.0], [122.0, 15.0, 197...  [[1], [2], [3]]   \n",
       "3793  [[24.0, 27.0, 110.0, 185.0], [119.0, 28.0, 202...  [[1], [2], [3]]   \n",
       "\n",
       "      num_regions                                      text_filepath  \\\n",
       "0               3  C:/Users/DryLab/Desktop/ConVIRT/Dataset/open-i...   \n",
       "1               3  C:/Users/DryLab/Desktop/ConVIRT/Dataset/open-i...   \n",
       "2               3  C:/Users/DryLab/Desktop/ConVIRT/Dataset/open-i...   \n",
       "3               3  C:/Users/DryLab/Desktop/ConVIRT/Dataset/open-i...   \n",
       "4               3  C:/Users/DryLab/Desktop/ConVIRT/Dataset/open-i...   \n",
       "...           ...                                                ...   \n",
       "3789            3  C:/Users/DryLab/Desktop/ConVIRT/Dataset/open-i...   \n",
       "3790            3  C:/Users/DryLab/Desktop/ConVIRT/Dataset/open-i...   \n",
       "3791            3  C:/Users/DryLab/Desktop/ConVIRT/Dataset/open-i...   \n",
       "3792            3  C:/Users/DryLab/Desktop/ConVIRT/Dataset/open-i...   \n",
       "3793            3  C:/Users/DryLab/Desktop/ConVIRT/Dataset/open-i...   \n",
       "\n",
       "                                                   text  \\\n",
       "0     there is [MASK] increased opacity within the r...   \n",
       "1     there is [MASK] increased opacity within the r...   \n",
       "2     interstitial markings are diffusely prominent ...   \n",
       "3     status post left mastectomy . heart size norma...   \n",
       "4     heart size and pulmonary vascularity appear wi...   \n",
       "...                                                 ...   \n",
       "3789  cardiomediastinal silhouette demonstrates norm...   \n",
       "3790  lungs are clear bilaterally . cardiomediastina...   \n",
       "3791  lungs are clear bilaterally . cardiomediastina...   \n",
       "3792  normal heart and mediastinum . clear lungs . t...   \n",
       "3793  the [MASK] examination consists of frontal and...   \n",
       "\n",
       "                                             attributes  \n",
       "0     [opacity, normal, opacity, opacity, atelectasi...  \n",
       "1     [opacity, normal, opacity, opacity, atelectasi...  \n",
       "2                  [markings, normal, normal, fibrosis]  \n",
       "3                           [mastectomy, normal, clear]  \n",
       "4     [normal, density, this, hiatal hernia, calcifi...  \n",
       "...                                                 ...  \n",
       "3789     [normal, tortuosity, atherosclerosis, disease]  \n",
       "3790                      [clear, normal, unremarkable]  \n",
       "3791                      [clear, normal, unremarkable]  \n",
       "3792  [normal, clear, midline, radiopaque, foreign b...  \n",
       "3793           [density, convexity, granuloma, density]  \n",
       "\n",
       "[3794 rows x 10 columns]"
      ]
     },
     "execution_count": 46,
     "metadata": {},
     "output_type": "execute_result"
    }
   ],
   "source": [
    "df"
   ]
  },
  {
   "cell_type": "code",
   "execution_count": 47,
   "metadata": {},
   "outputs": [],
   "source": [
    "df[\"attributes\"] = df[\"attributes\"].apply(filter_nouns)"
   ]
  },
  {
   "cell_type": "code",
   "execution_count": 48,
   "metadata": {},
   "outputs": [
    {
     "data": {
      "text/html": [
       "<div>\n",
       "<style scoped>\n",
       "    .dataframe tbody tr th:only-of-type {\n",
       "        vertical-align: middle;\n",
       "    }\n",
       "\n",
       "    .dataframe tbody tr th {\n",
       "        vertical-align: top;\n",
       "    }\n",
       "\n",
       "    .dataframe thead th {\n",
       "        text-align: right;\n",
       "    }\n",
       "</style>\n",
       "<table border=\"1\" class=\"dataframe\">\n",
       "  <thead>\n",
       "    <tr style=\"text-align: right;\">\n",
       "      <th></th>\n",
       "      <th>image_id</th>\n",
       "      <th>image_size</th>\n",
       "      <th>image_filepath</th>\n",
       "      <th>region_coord</th>\n",
       "      <th>region_bbox</th>\n",
       "      <th>region_labels</th>\n",
       "      <th>num_regions</th>\n",
       "      <th>text_filepath</th>\n",
       "      <th>text</th>\n",
       "      <th>attributes</th>\n",
       "    </tr>\n",
       "  </thead>\n",
       "  <tbody>\n",
       "    <tr>\n",
       "      <th>0</th>\n",
       "      <td>0</td>\n",
       "      <td>[224, 224]</td>\n",
       "      <td>C:/Users/DryLab/Desktop/ConVIRT/Dataset/open-i...</td>\n",
       "      <td>[[0, 0, 0, 0, 0, 0, 0, 0, 0, 0, 0, 0, 0, 0, 0,...</td>\n",
       "      <td>[[22.0, 19.0, 119.0, 145.0], [136.0, 19.0, 223...</td>\n",
       "      <td>[[1], [2], [3]]</td>\n",
       "      <td>3</td>\n",
       "      <td>C:/Users/DryLab/Desktop/ConVIRT/Dataset/open-i...</td>\n",
       "      <td>there is [MASK] increased opacity within the r...</td>\n",
       "      <td>[opacity, opacity, opacity, atelectasis, opacity]</td>\n",
       "    </tr>\n",
       "    <tr>\n",
       "      <th>1</th>\n",
       "      <td>1</td>\n",
       "      <td>[224, 224]</td>\n",
       "      <td>C:/Users/DryLab/Desktop/ConVIRT/Dataset/open-i...</td>\n",
       "      <td>[[0, 0, 0, 0, 0, 0, 0, 0, 0, 0, 0, 0, 0, 0, 0,...</td>\n",
       "      <td>[[0.0, 16.0, 99.0, 161.0], [117.0, 17.0, 219.0...</td>\n",
       "      <td>[[1], [2], [3]]</td>\n",
       "      <td>3</td>\n",
       "      <td>C:/Users/DryLab/Desktop/ConVIRT/Dataset/open-i...</td>\n",
       "      <td>there is [MASK] increased opacity within the r...</td>\n",
       "      <td>[opacity, opacity, opacity, atelectasis, opacity]</td>\n",
       "    </tr>\n",
       "    <tr>\n",
       "      <th>2</th>\n",
       "      <td>2</td>\n",
       "      <td>[224, 224]</td>\n",
       "      <td>C:/Users/DryLab/Desktop/ConVIRT/Dataset/open-i...</td>\n",
       "      <td>[[0, 0, 0, 0, 0, 0, 0, 0, 0, 0, 0, 0, 0, 0, 0,...</td>\n",
       "      <td>[[45.0, 43.0, 109.0, 175.0], [122.0, 42.0, 200...</td>\n",
       "      <td>[[1], [2], [3]]</td>\n",
       "      <td>3</td>\n",
       "      <td>C:/Users/DryLab/Desktop/ConVIRT/Dataset/open-i...</td>\n",
       "      <td>interstitial markings are diffusely prominent ...</td>\n",
       "      <td>[markings, fibrosis]</td>\n",
       "    </tr>\n",
       "    <tr>\n",
       "      <th>3</th>\n",
       "      <td>3</td>\n",
       "      <td>[224, 224]</td>\n",
       "      <td>C:/Users/DryLab/Desktop/ConVIRT/Dataset/open-i...</td>\n",
       "      <td>[[0, 0, 0, 0, 0, 0, 0, 0, 0, 0, 0, 0, 0, 0, 0,...</td>\n",
       "      <td>[[35.0, 13.0, 109.0, 192.0], [115.0, 12.0, 194...</td>\n",
       "      <td>[[1], [2], [3]]</td>\n",
       "      <td>3</td>\n",
       "      <td>C:/Users/DryLab/Desktop/ConVIRT/Dataset/open-i...</td>\n",
       "      <td>status post left mastectomy . heart size norma...</td>\n",
       "      <td>[mastectomy]</td>\n",
       "    </tr>\n",
       "    <tr>\n",
       "      <th>4</th>\n",
       "      <td>4</td>\n",
       "      <td>[224, 224]</td>\n",
       "      <td>C:/Users/DryLab/Desktop/ConVIRT/Dataset/open-i...</td>\n",
       "      <td>[[0, 0, 0, 0, 0, 0, 0, 0, 0, 0, 0, 0, 0, 0, 0,...</td>\n",
       "      <td>[[5.0, 34.0, 96.0, 177.0], [108.0, 32.0, 200.0...</td>\n",
       "      <td>[[1], [2], [3]]</td>\n",
       "      <td>3</td>\n",
       "      <td>C:/Users/DryLab/Desktop/ConVIRT/Dataset/open-i...</td>\n",
       "      <td>heart size and pulmonary vascularity appear wi...</td>\n",
       "      <td>[density, hiatal hernia, calcification, granul...</td>\n",
       "    </tr>\n",
       "    <tr>\n",
       "      <th>...</th>\n",
       "      <td>...</td>\n",
       "      <td>...</td>\n",
       "      <td>...</td>\n",
       "      <td>...</td>\n",
       "      <td>...</td>\n",
       "      <td>...</td>\n",
       "      <td>...</td>\n",
       "      <td>...</td>\n",
       "      <td>...</td>\n",
       "      <td>...</td>\n",
       "    </tr>\n",
       "    <tr>\n",
       "      <th>3789</th>\n",
       "      <td>3789</td>\n",
       "      <td>[224, 224]</td>\n",
       "      <td>C:/Users/DryLab/Desktop/ConVIRT/Dataset/open-i...</td>\n",
       "      <td>[[0, 0, 0, 0, 0, 0, 0, 0, 0, 0, 0, 0, 0, 0, 0,...</td>\n",
       "      <td>[[33.0, 11.0, 121.0, 174.0], [128.0, 14.0, 204...</td>\n",
       "      <td>[[1], [2], [3]]</td>\n",
       "      <td>3</td>\n",
       "      <td>C:/Users/DryLab/Desktop/ConVIRT/Dataset/open-i...</td>\n",
       "      <td>cardiomediastinal silhouette demonstrates norm...</td>\n",
       "      <td>[tortuosity, atherosclerosis, disease]</td>\n",
       "    </tr>\n",
       "    <tr>\n",
       "      <th>3790</th>\n",
       "      <td>3790</td>\n",
       "      <td>[224, 224]</td>\n",
       "      <td>C:/Users/DryLab/Desktop/ConVIRT/Dataset/open-i...</td>\n",
       "      <td>[[0, 0, 0, 0, 0, 0, 0, 0, 0, 0, 0, 0, 0, 0, 0,...</td>\n",
       "      <td>[[22.0, 8.0, 111.0, 210.0], [119.0, 7.0, 200.0...</td>\n",
       "      <td>[[1], [2], [3]]</td>\n",
       "      <td>3</td>\n",
       "      <td>C:/Users/DryLab/Desktop/ConVIRT/Dataset/open-i...</td>\n",
       "      <td>lungs are clear bilaterally . cardiomediastina...</td>\n",
       "      <td>[]</td>\n",
       "    </tr>\n",
       "    <tr>\n",
       "      <th>3791</th>\n",
       "      <td>3791</td>\n",
       "      <td>[224, 224]</td>\n",
       "      <td>C:/Users/DryLab/Desktop/ConVIRT/Dataset/open-i...</td>\n",
       "      <td>[[0, 0, 0, 0, 0, 0, 0, 0, 0, 0, 0, 0, 0, 0, 0,...</td>\n",
       "      <td>[[22.0, 0.0, 107.0, 156.0], [116.0, 0.0, 196.0...</td>\n",
       "      <td>[[1], [2], [3]]</td>\n",
       "      <td>3</td>\n",
       "      <td>C:/Users/DryLab/Desktop/ConVIRT/Dataset/open-i...</td>\n",
       "      <td>lungs are clear bilaterally . cardiomediastina...</td>\n",
       "      <td>[]</td>\n",
       "    </tr>\n",
       "    <tr>\n",
       "      <th>3792</th>\n",
       "      <td>3792</td>\n",
       "      <td>[224, 224]</td>\n",
       "      <td>C:/Users/DryLab/Desktop/ConVIRT/Dataset/open-i...</td>\n",
       "      <td>[[0, 0, 0, 0, 0, 0, 0, 0, 0, 0, 0, 0, 0, 0, 0,...</td>\n",
       "      <td>[[37.0, 14.0, 116.0, 160.0], [122.0, 15.0, 197...</td>\n",
       "      <td>[[1], [2], [3]]</td>\n",
       "      <td>3</td>\n",
       "      <td>C:/Users/DryLab/Desktop/ConVIRT/Dataset/open-i...</td>\n",
       "      <td>normal heart and mediastinum . clear lungs . t...</td>\n",
       "      <td>[midline, radiopaque, foreign body]</td>\n",
       "    </tr>\n",
       "    <tr>\n",
       "      <th>3793</th>\n",
       "      <td>3793</td>\n",
       "      <td>[224, 224]</td>\n",
       "      <td>C:/Users/DryLab/Desktop/ConVIRT/Dataset/open-i...</td>\n",
       "      <td>[[0, 0, 0, 0, 0, 0, 0, 0, 0, 0, 0, 0, 0, 0, 0,...</td>\n",
       "      <td>[[24.0, 27.0, 110.0, 185.0], [119.0, 28.0, 202...</td>\n",
       "      <td>[[1], [2], [3]]</td>\n",
       "      <td>3</td>\n",
       "      <td>C:/Users/DryLab/Desktop/ConVIRT/Dataset/open-i...</td>\n",
       "      <td>the [MASK] examination consists of frontal and...</td>\n",
       "      <td>[density, convexity, granuloma, density]</td>\n",
       "    </tr>\n",
       "  </tbody>\n",
       "</table>\n",
       "<p>3794 rows × 10 columns</p>\n",
       "</div>"
      ],
      "text/plain": [
       "      image_id  image_size                                     image_filepath  \\\n",
       "0            0  [224, 224]  C:/Users/DryLab/Desktop/ConVIRT/Dataset/open-i...   \n",
       "1            1  [224, 224]  C:/Users/DryLab/Desktop/ConVIRT/Dataset/open-i...   \n",
       "2            2  [224, 224]  C:/Users/DryLab/Desktop/ConVIRT/Dataset/open-i...   \n",
       "3            3  [224, 224]  C:/Users/DryLab/Desktop/ConVIRT/Dataset/open-i...   \n",
       "4            4  [224, 224]  C:/Users/DryLab/Desktop/ConVIRT/Dataset/open-i...   \n",
       "...        ...         ...                                                ...   \n",
       "3789      3789  [224, 224]  C:/Users/DryLab/Desktop/ConVIRT/Dataset/open-i...   \n",
       "3790      3790  [224, 224]  C:/Users/DryLab/Desktop/ConVIRT/Dataset/open-i...   \n",
       "3791      3791  [224, 224]  C:/Users/DryLab/Desktop/ConVIRT/Dataset/open-i...   \n",
       "3792      3792  [224, 224]  C:/Users/DryLab/Desktop/ConVIRT/Dataset/open-i...   \n",
       "3793      3793  [224, 224]  C:/Users/DryLab/Desktop/ConVIRT/Dataset/open-i...   \n",
       "\n",
       "                                           region_coord  \\\n",
       "0     [[0, 0, 0, 0, 0, 0, 0, 0, 0, 0, 0, 0, 0, 0, 0,...   \n",
       "1     [[0, 0, 0, 0, 0, 0, 0, 0, 0, 0, 0, 0, 0, 0, 0,...   \n",
       "2     [[0, 0, 0, 0, 0, 0, 0, 0, 0, 0, 0, 0, 0, 0, 0,...   \n",
       "3     [[0, 0, 0, 0, 0, 0, 0, 0, 0, 0, 0, 0, 0, 0, 0,...   \n",
       "4     [[0, 0, 0, 0, 0, 0, 0, 0, 0, 0, 0, 0, 0, 0, 0,...   \n",
       "...                                                 ...   \n",
       "3789  [[0, 0, 0, 0, 0, 0, 0, 0, 0, 0, 0, 0, 0, 0, 0,...   \n",
       "3790  [[0, 0, 0, 0, 0, 0, 0, 0, 0, 0, 0, 0, 0, 0, 0,...   \n",
       "3791  [[0, 0, 0, 0, 0, 0, 0, 0, 0, 0, 0, 0, 0, 0, 0,...   \n",
       "3792  [[0, 0, 0, 0, 0, 0, 0, 0, 0, 0, 0, 0, 0, 0, 0,...   \n",
       "3793  [[0, 0, 0, 0, 0, 0, 0, 0, 0, 0, 0, 0, 0, 0, 0,...   \n",
       "\n",
       "                                            region_bbox    region_labels  \\\n",
       "0     [[22.0, 19.0, 119.0, 145.0], [136.0, 19.0, 223...  [[1], [2], [3]]   \n",
       "1     [[0.0, 16.0, 99.0, 161.0], [117.0, 17.0, 219.0...  [[1], [2], [3]]   \n",
       "2     [[45.0, 43.0, 109.0, 175.0], [122.0, 42.0, 200...  [[1], [2], [3]]   \n",
       "3     [[35.0, 13.0, 109.0, 192.0], [115.0, 12.0, 194...  [[1], [2], [3]]   \n",
       "4     [[5.0, 34.0, 96.0, 177.0], [108.0, 32.0, 200.0...  [[1], [2], [3]]   \n",
       "...                                                 ...              ...   \n",
       "3789  [[33.0, 11.0, 121.0, 174.0], [128.0, 14.0, 204...  [[1], [2], [3]]   \n",
       "3790  [[22.0, 8.0, 111.0, 210.0], [119.0, 7.0, 200.0...  [[1], [2], [3]]   \n",
       "3791  [[22.0, 0.0, 107.0, 156.0], [116.0, 0.0, 196.0...  [[1], [2], [3]]   \n",
       "3792  [[37.0, 14.0, 116.0, 160.0], [122.0, 15.0, 197...  [[1], [2], [3]]   \n",
       "3793  [[24.0, 27.0, 110.0, 185.0], [119.0, 28.0, 202...  [[1], [2], [3]]   \n",
       "\n",
       "      num_regions                                      text_filepath  \\\n",
       "0               3  C:/Users/DryLab/Desktop/ConVIRT/Dataset/open-i...   \n",
       "1               3  C:/Users/DryLab/Desktop/ConVIRT/Dataset/open-i...   \n",
       "2               3  C:/Users/DryLab/Desktop/ConVIRT/Dataset/open-i...   \n",
       "3               3  C:/Users/DryLab/Desktop/ConVIRT/Dataset/open-i...   \n",
       "4               3  C:/Users/DryLab/Desktop/ConVIRT/Dataset/open-i...   \n",
       "...           ...                                                ...   \n",
       "3789            3  C:/Users/DryLab/Desktop/ConVIRT/Dataset/open-i...   \n",
       "3790            3  C:/Users/DryLab/Desktop/ConVIRT/Dataset/open-i...   \n",
       "3791            3  C:/Users/DryLab/Desktop/ConVIRT/Dataset/open-i...   \n",
       "3792            3  C:/Users/DryLab/Desktop/ConVIRT/Dataset/open-i...   \n",
       "3793            3  C:/Users/DryLab/Desktop/ConVIRT/Dataset/open-i...   \n",
       "\n",
       "                                                   text  \\\n",
       "0     there is [MASK] increased opacity within the r...   \n",
       "1     there is [MASK] increased opacity within the r...   \n",
       "2     interstitial markings are diffusely prominent ...   \n",
       "3     status post left mastectomy . heart size norma...   \n",
       "4     heart size and pulmonary vascularity appear wi...   \n",
       "...                                                 ...   \n",
       "3789  cardiomediastinal silhouette demonstrates norm...   \n",
       "3790  lungs are clear bilaterally . cardiomediastina...   \n",
       "3791  lungs are clear bilaterally . cardiomediastina...   \n",
       "3792  normal heart and mediastinum . clear lungs . t...   \n",
       "3793  the [MASK] examination consists of frontal and...   \n",
       "\n",
       "                                             attributes  \n",
       "0     [opacity, opacity, opacity, atelectasis, opacity]  \n",
       "1     [opacity, opacity, opacity, atelectasis, opacity]  \n",
       "2                                  [markings, fibrosis]  \n",
       "3                                          [mastectomy]  \n",
       "4     [density, hiatal hernia, calcification, granul...  \n",
       "...                                                 ...  \n",
       "3789             [tortuosity, atherosclerosis, disease]  \n",
       "3790                                                 []  \n",
       "3791                                                 []  \n",
       "3792                [midline, radiopaque, foreign body]  \n",
       "3793           [density, convexity, granuloma, density]  \n",
       "\n",
       "[3794 rows x 10 columns]"
      ]
     },
     "execution_count": 48,
     "metadata": {},
     "output_type": "execute_result"
    }
   ],
   "source": [
    "df"
   ]
  },
  {
   "cell_type": "code",
   "execution_count": 49,
   "metadata": {},
   "outputs": [],
   "source": [
    "# # Remove row if no attributes are present\n",
    "mask = df[\"attributes\"].apply(lambda x: len(x) > 0)\n",
    "\n",
    "df[\"attributes\"] = df[\"attributes\"].where(mask)\n",
    "\n",
    "df = df.dropna(subset=[\"attributes\"])"
   ]
  },
  {
   "cell_type": "code",
   "execution_count": 50,
   "metadata": {},
   "outputs": [
    {
     "data": {
      "text/html": [
       "<div>\n",
       "<style scoped>\n",
       "    .dataframe tbody tr th:only-of-type {\n",
       "        vertical-align: middle;\n",
       "    }\n",
       "\n",
       "    .dataframe tbody tr th {\n",
       "        vertical-align: top;\n",
       "    }\n",
       "\n",
       "    .dataframe thead th {\n",
       "        text-align: right;\n",
       "    }\n",
       "</style>\n",
       "<table border=\"1\" class=\"dataframe\">\n",
       "  <thead>\n",
       "    <tr style=\"text-align: right;\">\n",
       "      <th></th>\n",
       "      <th>image_id</th>\n",
       "      <th>image_size</th>\n",
       "      <th>image_filepath</th>\n",
       "      <th>region_coord</th>\n",
       "      <th>region_bbox</th>\n",
       "      <th>region_labels</th>\n",
       "      <th>num_regions</th>\n",
       "      <th>text_filepath</th>\n",
       "      <th>text</th>\n",
       "      <th>attributes</th>\n",
       "    </tr>\n",
       "  </thead>\n",
       "  <tbody>\n",
       "    <tr>\n",
       "      <th>0</th>\n",
       "      <td>0</td>\n",
       "      <td>[224, 224]</td>\n",
       "      <td>C:/Users/DryLab/Desktop/ConVIRT/Dataset/open-i...</td>\n",
       "      <td>[[0, 0, 0, 0, 0, 0, 0, 0, 0, 0, 0, 0, 0, 0, 0,...</td>\n",
       "      <td>[[22.0, 19.0, 119.0, 145.0], [136.0, 19.0, 223...</td>\n",
       "      <td>[[1], [2], [3]]</td>\n",
       "      <td>3</td>\n",
       "      <td>C:/Users/DryLab/Desktop/ConVIRT/Dataset/open-i...</td>\n",
       "      <td>there is [MASK] increased opacity within the r...</td>\n",
       "      <td>[opacity, opacity, opacity, atelectasis, opacity]</td>\n",
       "    </tr>\n",
       "    <tr>\n",
       "      <th>1</th>\n",
       "      <td>1</td>\n",
       "      <td>[224, 224]</td>\n",
       "      <td>C:/Users/DryLab/Desktop/ConVIRT/Dataset/open-i...</td>\n",
       "      <td>[[0, 0, 0, 0, 0, 0, 0, 0, 0, 0, 0, 0, 0, 0, 0,...</td>\n",
       "      <td>[[0.0, 16.0, 99.0, 161.0], [117.0, 17.0, 219.0...</td>\n",
       "      <td>[[1], [2], [3]]</td>\n",
       "      <td>3</td>\n",
       "      <td>C:/Users/DryLab/Desktop/ConVIRT/Dataset/open-i...</td>\n",
       "      <td>there is [MASK] increased opacity within the r...</td>\n",
       "      <td>[opacity, opacity, opacity, atelectasis, opacity]</td>\n",
       "    </tr>\n",
       "    <tr>\n",
       "      <th>2</th>\n",
       "      <td>2</td>\n",
       "      <td>[224, 224]</td>\n",
       "      <td>C:/Users/DryLab/Desktop/ConVIRT/Dataset/open-i...</td>\n",
       "      <td>[[0, 0, 0, 0, 0, 0, 0, 0, 0, 0, 0, 0, 0, 0, 0,...</td>\n",
       "      <td>[[45.0, 43.0, 109.0, 175.0], [122.0, 42.0, 200...</td>\n",
       "      <td>[[1], [2], [3]]</td>\n",
       "      <td>3</td>\n",
       "      <td>C:/Users/DryLab/Desktop/ConVIRT/Dataset/open-i...</td>\n",
       "      <td>interstitial markings are diffusely prominent ...</td>\n",
       "      <td>[markings, fibrosis]</td>\n",
       "    </tr>\n",
       "    <tr>\n",
       "      <th>3</th>\n",
       "      <td>3</td>\n",
       "      <td>[224, 224]</td>\n",
       "      <td>C:/Users/DryLab/Desktop/ConVIRT/Dataset/open-i...</td>\n",
       "      <td>[[0, 0, 0, 0, 0, 0, 0, 0, 0, 0, 0, 0, 0, 0, 0,...</td>\n",
       "      <td>[[35.0, 13.0, 109.0, 192.0], [115.0, 12.0, 194...</td>\n",
       "      <td>[[1], [2], [3]]</td>\n",
       "      <td>3</td>\n",
       "      <td>C:/Users/DryLab/Desktop/ConVIRT/Dataset/open-i...</td>\n",
       "      <td>status post left mastectomy . heart size norma...</td>\n",
       "      <td>[mastectomy]</td>\n",
       "    </tr>\n",
       "    <tr>\n",
       "      <th>4</th>\n",
       "      <td>4</td>\n",
       "      <td>[224, 224]</td>\n",
       "      <td>C:/Users/DryLab/Desktop/ConVIRT/Dataset/open-i...</td>\n",
       "      <td>[[0, 0, 0, 0, 0, 0, 0, 0, 0, 0, 0, 0, 0, 0, 0,...</td>\n",
       "      <td>[[5.0, 34.0, 96.0, 177.0], [108.0, 32.0, 200.0...</td>\n",
       "      <td>[[1], [2], [3]]</td>\n",
       "      <td>3</td>\n",
       "      <td>C:/Users/DryLab/Desktop/ConVIRT/Dataset/open-i...</td>\n",
       "      <td>heart size and pulmonary vascularity appear wi...</td>\n",
       "      <td>[density, hiatal hernia, calcification, granul...</td>\n",
       "    </tr>\n",
       "    <tr>\n",
       "      <th>...</th>\n",
       "      <td>...</td>\n",
       "      <td>...</td>\n",
       "      <td>...</td>\n",
       "      <td>...</td>\n",
       "      <td>...</td>\n",
       "      <td>...</td>\n",
       "      <td>...</td>\n",
       "      <td>...</td>\n",
       "      <td>...</td>\n",
       "      <td>...</td>\n",
       "    </tr>\n",
       "    <tr>\n",
       "      <th>3786</th>\n",
       "      <td>3786</td>\n",
       "      <td>[224, 224]</td>\n",
       "      <td>C:/Users/DryLab/Desktop/ConVIRT/Dataset/open-i...</td>\n",
       "      <td>[[0, 0, 0, 0, 0, 0, 0, 0, 0, 0, 0, 0, 0, 0, 0,...</td>\n",
       "      <td>[[12.0, 29.0, 117.0, 191.0], [130.0, 28.0, 216...</td>\n",
       "      <td>[[1], [2], [3]]</td>\n",
       "      <td>3</td>\n",
       "      <td>C:/Users/DryLab/Desktop/ConVIRT/Dataset/open-i...</td>\n",
       "      <td>sternotomy sutures and bypass grafts have been...</td>\n",
       "      <td>[bypass grafts]</td>\n",
       "    </tr>\n",
       "    <tr>\n",
       "      <th>3788</th>\n",
       "      <td>3788</td>\n",
       "      <td>[224, 224]</td>\n",
       "      <td>C:/Users/DryLab/Desktop/ConVIRT/Dataset/open-i...</td>\n",
       "      <td>[[0, 0, 0, 0, 0, 0, 0, 0, 0, 0, 0, 0, 0, 0, 0,...</td>\n",
       "      <td>[[35.0, 21.0, 113.0, 167.0], [121.0, 22.0, 198...</td>\n",
       "      <td>[[1], [2], [3]]</td>\n",
       "      <td>3</td>\n",
       "      <td>C:/Users/DryLab/Desktop/ConVIRT/Dataset/open-i...</td>\n",
       "      <td>calcified mediastinal [MASK] . heart size with...</td>\n",
       "      <td>[normal limits, degenerative changes]</td>\n",
       "    </tr>\n",
       "    <tr>\n",
       "      <th>3789</th>\n",
       "      <td>3789</td>\n",
       "      <td>[224, 224]</td>\n",
       "      <td>C:/Users/DryLab/Desktop/ConVIRT/Dataset/open-i...</td>\n",
       "      <td>[[0, 0, 0, 0, 0, 0, 0, 0, 0, 0, 0, 0, 0, 0, 0,...</td>\n",
       "      <td>[[33.0, 11.0, 121.0, 174.0], [128.0, 14.0, 204...</td>\n",
       "      <td>[[1], [2], [3]]</td>\n",
       "      <td>3</td>\n",
       "      <td>C:/Users/DryLab/Desktop/ConVIRT/Dataset/open-i...</td>\n",
       "      <td>cardiomediastinal silhouette demonstrates norm...</td>\n",
       "      <td>[tortuosity, atherosclerosis, disease]</td>\n",
       "    </tr>\n",
       "    <tr>\n",
       "      <th>3792</th>\n",
       "      <td>3792</td>\n",
       "      <td>[224, 224]</td>\n",
       "      <td>C:/Users/DryLab/Desktop/ConVIRT/Dataset/open-i...</td>\n",
       "      <td>[[0, 0, 0, 0, 0, 0, 0, 0, 0, 0, 0, 0, 0, 0, 0,...</td>\n",
       "      <td>[[37.0, 14.0, 116.0, 160.0], [122.0, 15.0, 197...</td>\n",
       "      <td>[[1], [2], [3]]</td>\n",
       "      <td>3</td>\n",
       "      <td>C:/Users/DryLab/Desktop/ConVIRT/Dataset/open-i...</td>\n",
       "      <td>normal heart and mediastinum . clear lungs . t...</td>\n",
       "      <td>[midline, radiopaque, foreign body]</td>\n",
       "    </tr>\n",
       "    <tr>\n",
       "      <th>3793</th>\n",
       "      <td>3793</td>\n",
       "      <td>[224, 224]</td>\n",
       "      <td>C:/Users/DryLab/Desktop/ConVIRT/Dataset/open-i...</td>\n",
       "      <td>[[0, 0, 0, 0, 0, 0, 0, 0, 0, 0, 0, 0, 0, 0, 0,...</td>\n",
       "      <td>[[24.0, 27.0, 110.0, 185.0], [119.0, 28.0, 202...</td>\n",
       "      <td>[[1], [2], [3]]</td>\n",
       "      <td>3</td>\n",
       "      <td>C:/Users/DryLab/Desktop/ConVIRT/Dataset/open-i...</td>\n",
       "      <td>the [MASK] examination consists of frontal and...</td>\n",
       "      <td>[density, convexity, granuloma, density]</td>\n",
       "    </tr>\n",
       "  </tbody>\n",
       "</table>\n",
       "<p>2280 rows × 10 columns</p>\n",
       "</div>"
      ],
      "text/plain": [
       "      image_id  image_size                                     image_filepath  \\\n",
       "0            0  [224, 224]  C:/Users/DryLab/Desktop/ConVIRT/Dataset/open-i...   \n",
       "1            1  [224, 224]  C:/Users/DryLab/Desktop/ConVIRT/Dataset/open-i...   \n",
       "2            2  [224, 224]  C:/Users/DryLab/Desktop/ConVIRT/Dataset/open-i...   \n",
       "3            3  [224, 224]  C:/Users/DryLab/Desktop/ConVIRT/Dataset/open-i...   \n",
       "4            4  [224, 224]  C:/Users/DryLab/Desktop/ConVIRT/Dataset/open-i...   \n",
       "...        ...         ...                                                ...   \n",
       "3786      3786  [224, 224]  C:/Users/DryLab/Desktop/ConVIRT/Dataset/open-i...   \n",
       "3788      3788  [224, 224]  C:/Users/DryLab/Desktop/ConVIRT/Dataset/open-i...   \n",
       "3789      3789  [224, 224]  C:/Users/DryLab/Desktop/ConVIRT/Dataset/open-i...   \n",
       "3792      3792  [224, 224]  C:/Users/DryLab/Desktop/ConVIRT/Dataset/open-i...   \n",
       "3793      3793  [224, 224]  C:/Users/DryLab/Desktop/ConVIRT/Dataset/open-i...   \n",
       "\n",
       "                                           region_coord  \\\n",
       "0     [[0, 0, 0, 0, 0, 0, 0, 0, 0, 0, 0, 0, 0, 0, 0,...   \n",
       "1     [[0, 0, 0, 0, 0, 0, 0, 0, 0, 0, 0, 0, 0, 0, 0,...   \n",
       "2     [[0, 0, 0, 0, 0, 0, 0, 0, 0, 0, 0, 0, 0, 0, 0,...   \n",
       "3     [[0, 0, 0, 0, 0, 0, 0, 0, 0, 0, 0, 0, 0, 0, 0,...   \n",
       "4     [[0, 0, 0, 0, 0, 0, 0, 0, 0, 0, 0, 0, 0, 0, 0,...   \n",
       "...                                                 ...   \n",
       "3786  [[0, 0, 0, 0, 0, 0, 0, 0, 0, 0, 0, 0, 0, 0, 0,...   \n",
       "3788  [[0, 0, 0, 0, 0, 0, 0, 0, 0, 0, 0, 0, 0, 0, 0,...   \n",
       "3789  [[0, 0, 0, 0, 0, 0, 0, 0, 0, 0, 0, 0, 0, 0, 0,...   \n",
       "3792  [[0, 0, 0, 0, 0, 0, 0, 0, 0, 0, 0, 0, 0, 0, 0,...   \n",
       "3793  [[0, 0, 0, 0, 0, 0, 0, 0, 0, 0, 0, 0, 0, 0, 0,...   \n",
       "\n",
       "                                            region_bbox    region_labels  \\\n",
       "0     [[22.0, 19.0, 119.0, 145.0], [136.0, 19.0, 223...  [[1], [2], [3]]   \n",
       "1     [[0.0, 16.0, 99.0, 161.0], [117.0, 17.0, 219.0...  [[1], [2], [3]]   \n",
       "2     [[45.0, 43.0, 109.0, 175.0], [122.0, 42.0, 200...  [[1], [2], [3]]   \n",
       "3     [[35.0, 13.0, 109.0, 192.0], [115.0, 12.0, 194...  [[1], [2], [3]]   \n",
       "4     [[5.0, 34.0, 96.0, 177.0], [108.0, 32.0, 200.0...  [[1], [2], [3]]   \n",
       "...                                                 ...              ...   \n",
       "3786  [[12.0, 29.0, 117.0, 191.0], [130.0, 28.0, 216...  [[1], [2], [3]]   \n",
       "3788  [[35.0, 21.0, 113.0, 167.0], [121.0, 22.0, 198...  [[1], [2], [3]]   \n",
       "3789  [[33.0, 11.0, 121.0, 174.0], [128.0, 14.0, 204...  [[1], [2], [3]]   \n",
       "3792  [[37.0, 14.0, 116.0, 160.0], [122.0, 15.0, 197...  [[1], [2], [3]]   \n",
       "3793  [[24.0, 27.0, 110.0, 185.0], [119.0, 28.0, 202...  [[1], [2], [3]]   \n",
       "\n",
       "      num_regions                                      text_filepath  \\\n",
       "0               3  C:/Users/DryLab/Desktop/ConVIRT/Dataset/open-i...   \n",
       "1               3  C:/Users/DryLab/Desktop/ConVIRT/Dataset/open-i...   \n",
       "2               3  C:/Users/DryLab/Desktop/ConVIRT/Dataset/open-i...   \n",
       "3               3  C:/Users/DryLab/Desktop/ConVIRT/Dataset/open-i...   \n",
       "4               3  C:/Users/DryLab/Desktop/ConVIRT/Dataset/open-i...   \n",
       "...           ...                                                ...   \n",
       "3786            3  C:/Users/DryLab/Desktop/ConVIRT/Dataset/open-i...   \n",
       "3788            3  C:/Users/DryLab/Desktop/ConVIRT/Dataset/open-i...   \n",
       "3789            3  C:/Users/DryLab/Desktop/ConVIRT/Dataset/open-i...   \n",
       "3792            3  C:/Users/DryLab/Desktop/ConVIRT/Dataset/open-i...   \n",
       "3793            3  C:/Users/DryLab/Desktop/ConVIRT/Dataset/open-i...   \n",
       "\n",
       "                                                   text  \\\n",
       "0     there is [MASK] increased opacity within the r...   \n",
       "1     there is [MASK] increased opacity within the r...   \n",
       "2     interstitial markings are diffusely prominent ...   \n",
       "3     status post left mastectomy . heart size norma...   \n",
       "4     heart size and pulmonary vascularity appear wi...   \n",
       "...                                                 ...   \n",
       "3786  sternotomy sutures and bypass grafts have been...   \n",
       "3788  calcified mediastinal [MASK] . heart size with...   \n",
       "3789  cardiomediastinal silhouette demonstrates norm...   \n",
       "3792  normal heart and mediastinum . clear lungs . t...   \n",
       "3793  the [MASK] examination consists of frontal and...   \n",
       "\n",
       "                                             attributes  \n",
       "0     [opacity, opacity, opacity, atelectasis, opacity]  \n",
       "1     [opacity, opacity, opacity, atelectasis, opacity]  \n",
       "2                                  [markings, fibrosis]  \n",
       "3                                          [mastectomy]  \n",
       "4     [density, hiatal hernia, calcification, granul...  \n",
       "...                                                 ...  \n",
       "3786                                    [bypass grafts]  \n",
       "3788              [normal limits, degenerative changes]  \n",
       "3789             [tortuosity, atherosclerosis, disease]  \n",
       "3792                [midline, radiopaque, foreign body]  \n",
       "3793           [density, convexity, granuloma, density]  \n",
       "\n",
       "[2280 rows x 10 columns]"
      ]
     },
     "execution_count": 50,
     "metadata": {},
     "output_type": "execute_result"
    }
   ],
   "source": [
    "df"
   ]
  },
  {
   "cell_type": "code",
   "execution_count": null,
   "metadata": {},
   "outputs": [],
   "source": [
    "# def update_attribute_list(attribute_list):\n",
    "#     return ['within normal limits' if 'limits' in term.lower() else term for term in attribute_list]\n",
    "\n",
    "# # Apply the function to the 'attributes' column\n",
    "# df['attributes'] = df['attributes'].apply(update_attribute_list)"
   ]
  },
  {
   "cell_type": "code",
   "execution_count": 51,
   "metadata": {},
   "outputs": [
    {
     "data": {
      "text/html": [
       "<pre style=\"white-space:pre;overflow-x:auto;line-height:normal;font-family:Menlo,'DejaVu Sans Mono',consolas,'Courier New',monospace\">Train size: <span style=\"color: #008080; text-decoration-color: #008080; font-weight: bold\">1596</span>, Validation size: <span style=\"color: #008080; text-decoration-color: #008080; font-weight: bold\">684</span>\n",
       "</pre>\n"
      ],
      "text/plain": [
       "Train size: \u001b[1;36m1596\u001b[0m, Validation size: \u001b[1;36m684\u001b[0m\n"
      ]
     },
     "metadata": {},
     "output_type": "display_data"
    }
   ],
   "source": [
    "# Split the data into training and test sets (70% training and 30% test)\n",
    "train_df, val_df = train_test_split(df, test_size=0.3, random_state=42, shuffle=True)\n",
    "\n",
    "# Split the remaining data into validation and test sets (10% validation and 20% test)\n",
    "# val_df, test_df = train_test_split(\n",
    "#     split_df, test_size=2 / 3, random_state=42, shuffle=True\n",
    "# )\n",
    "\n",
    "print(f\"Train size: {len(train_df)}, Validation size: {len(val_df)}\")"
   ]
  },
  {
   "cell_type": "code",
   "execution_count": 52,
   "metadata": {},
   "outputs": [],
   "source": [
    "train_df[\"split\"] = \"train\"\n",
    "val_df[\"split\"] = \"val\""
   ]
  },
  {
   "cell_type": "code",
   "execution_count": 53,
   "metadata": {},
   "outputs": [],
   "source": [
    "attributes_token = [item for sublist in train_df[\"attributes\"] for item in sublist]"
   ]
  },
  {
   "cell_type": "code",
   "execution_count": 54,
   "metadata": {},
   "outputs": [
    {
     "data": {
      "text/plain": [
       "'cardiac and mediastinal contours are within normal limits . prior granulomatous disease . the lungs are otherwise clear . thoracic spondylosis . bilateral breast prostheses with [MASK] calcification .'"
      ]
     },
     "execution_count": 54,
     "metadata": {},
     "output_type": "execute_result"
    }
   ],
   "source": [
    "# Check attributes named \"normal limits\"\n",
    "df[df[\"attributes\"].apply(lambda x: \"within normal limits\" in x)].iloc[0]['text']"
   ]
  },
  {
   "cell_type": "code",
   "execution_count": 55,
   "metadata": {},
   "outputs": [],
   "source": [
    "count_attributes = Counter(attributes_token)"
   ]
  },
  {
   "cell_type": "code",
   "execution_count": 56,
   "metadata": {},
   "outputs": [],
   "source": [
    "most_common_attributes = count_attributes.most_common(50)"
   ]
  },
  {
   "cell_type": "code",
   "execution_count": 57,
   "metadata": {},
   "outputs": [
    {
     "data": {
      "text/plain": [
       "[('cardiomegaly', 215),\n",
       " ('atelectasis', 205),\n",
       " ('opacities', 203),\n",
       " ('disease', 178),\n",
       " ('opacity', 167),\n",
       " ('limits', 137),\n",
       " ('normal limits', 136),\n",
       " ('granuloma', 106),\n",
       " ('degenerative changes', 97),\n",
       " ('effusions', 69),\n",
       " ('effusion', 67),\n",
       " ('emphysema', 65),\n",
       " ('changes', 60),\n",
       " ('markings', 58),\n",
       " ('granulomas', 58),\n",
       " ('calcifications', 54),\n",
       " ('midline', 50),\n",
       " ('density', 50),\n",
       " ('tortuosity', 48),\n",
       " ('sternotomy', 44),\n",
       " ('hiatal hernia', 43),\n",
       " ('lymph', 43),\n",
       " ('prominence', 43),\n",
       " ('deformity', 37),\n",
       " ('calcification', 37),\n",
       " ('osteophytes', 34),\n",
       " ('elevation', 34),\n",
       " ('edema', 33),\n",
       " ('surgical clips', 32),\n",
       " ('congestion', 31),\n",
       " ('nodules', 30),\n",
       " ('pneumonia', 28),\n",
       " ('enlargement', 26),\n",
       " ('clips', 23),\n",
       " ('hyperexpansion', 21),\n",
       " ('scoliosis', 21),\n",
       " ('copd', 21),\n",
       " ('dextroscoliosis', 20),\n",
       " ('calcified granuloma', 20),\n",
       " ('eventration', 19),\n",
       " ('pneumothorax', 18),\n",
       " ('tip', 18),\n",
       " ('consolidation', 17),\n",
       " ('aeration', 17),\n",
       " ('lucency', 17),\n",
       " ('ectasia', 16),\n",
       " ('deformities', 15),\n",
       " ('mild degenerative changes', 14),\n",
       " ('loss', 14),\n",
       " ('emphysematous changes', 14)]"
      ]
     },
     "execution_count": 57,
     "metadata": {},
     "output_type": "execute_result"
    }
   ],
   "source": [
    "most_common_attributes"
   ]
  },
  {
   "cell_type": "code",
   "execution_count": 58,
   "metadata": {},
   "outputs": [
    {
     "data": {
      "text/plain": [
       "['within normal limits', 'disease', 'prostheses']"
      ]
     },
     "execution_count": 58,
     "metadata": {},
     "output_type": "execute_result"
    }
   ],
   "source": [
    "df[df['attributes'].apply(lambda x: 'within normal limits' in x)].iloc[0]['attributes']"
   ]
  },
  {
   "cell_type": "code",
   "execution_count": 209,
   "metadata": {},
   "outputs": [
    {
     "data": {
      "text/plain": [
       "{'0': {'text': 'there is [ MASK ] increased opacity within the right upper lobe with possible mass and associated area of atelectasis or focal consolidation . the cardiac silhouette is within normal limits . [ MASK ] opacity in the left midlung overlying the posterior left 5th rib may represent focal airspace disease . increased opacity in the right upper lobe with [ MASK ] associated atelectasis may represent focal consolidation or mass lesion with atelectasis . recommend chest ct for further evaluation . [ MASK ] opacity overlying the left 5th rib may represent focal airspace disease .',\n",
       "  'entities': {'1': {'tokens': 'increased',\n",
       "    'label': 'Observation::definitely present',\n",
       "    'start_ix': 5,\n",
       "    'end_ix': 5,\n",
       "    'relations': [['modify', '2']]},\n",
       "   '2': {'tokens': 'opacity',\n",
       "    'label': 'Observation::definitely present',\n",
       "    'start_ix': 6,\n",
       "    'end_ix': 6,\n",
       "    'relations': [['located_at', '5'],\n",
       "     ['suggestive_of', '6'],\n",
       "     ['suggestive_of', '7'],\n",
       "     ['suggestive_of', '8']]},\n",
       "   '3': {'tokens': 'right',\n",
       "    'label': 'Anatomy::definitely present',\n",
       "    'start_ix': 9,\n",
       "    'end_ix': 9,\n",
       "    'relations': [['modify', '5']]},\n",
       "   '4': {'tokens': 'upper',\n",
       "    'label': 'Anatomy::definitely present',\n",
       "    'start_ix': 10,\n",
       "    'end_ix': 10,\n",
       "    'relations': [['modify', '5']]},\n",
       "   '5': {'tokens': 'lobe',\n",
       "    'label': 'Anatomy::definitely present',\n",
       "    'start_ix': 11,\n",
       "    'end_ix': 11,\n",
       "    'relations': []},\n",
       "   '6': {'tokens': 'mass',\n",
       "    'label': 'Observation::uncertain',\n",
       "    'start_ix': 14,\n",
       "    'end_ix': 14,\n",
       "    'relations': [['located_at', '5']]},\n",
       "   '7': {'tokens': 'atelectasis',\n",
       "    'label': 'Observation::uncertain',\n",
       "    'start_ix': 19,\n",
       "    'end_ix': 19,\n",
       "    'relations': []},\n",
       "   '8': {'tokens': 'focal consolidation',\n",
       "    'label': 'Observation::uncertain',\n",
       "    'start_ix': 21,\n",
       "    'end_ix': 22,\n",
       "    'relations': [['located_at', '5']]},\n",
       "   '9': {'tokens': 'cardiac',\n",
       "    'label': 'Anatomy::definitely present',\n",
       "    'start_ix': 25,\n",
       "    'end_ix': 25,\n",
       "    'relations': []},\n",
       "   '10': {'tokens': 'silhouette',\n",
       "    'label': 'Anatomy::definitely present',\n",
       "    'start_ix': 26,\n",
       "    'end_ix': 26,\n",
       "    'relations': [['modify', '9']]},\n",
       "   '11': {'tokens': 'normal',\n",
       "    'label': 'Observation::definitely present',\n",
       "    'start_ix': 29,\n",
       "    'end_ix': 29,\n",
       "    'relations': [['located_at', '9'], ['located_at', '10']]},\n",
       "   '12': {'tokens': 'limits',\n",
       "    'label': 'Observation::definitely present',\n",
       "    'start_ix': 30,\n",
       "    'end_ix': 30,\n",
       "    'relations': [['modify', '11']]},\n",
       "   '13': {'tokens': 'opacity',\n",
       "    'label': 'Observation::definitely present',\n",
       "    'start_ix': 35,\n",
       "    'end_ix': 35,\n",
       "    'relations': [['located_at', '15'],\n",
       "     ['located_at', '19'],\n",
       "     ['suggestive_of', '22']]},\n",
       "   '14': {'tokens': 'left',\n",
       "    'label': 'Anatomy::definitely present',\n",
       "    'start_ix': 38,\n",
       "    'end_ix': 38,\n",
       "    'relations': [['modify', '15']]},\n",
       "   '15': {'tokens': 'midlung',\n",
       "    'label': 'Anatomy::definitely present',\n",
       "    'start_ix': 39,\n",
       "    'end_ix': 39,\n",
       "    'relations': []},\n",
       "   '16': {'tokens': 'posterior',\n",
       "    'label': 'Anatomy::definitely present',\n",
       "    'start_ix': 42,\n",
       "    'end_ix': 42,\n",
       "    'relations': [['modify', '19']]},\n",
       "   '17': {'tokens': 'left',\n",
       "    'label': 'Anatomy::definitely present',\n",
       "    'start_ix': 43,\n",
       "    'end_ix': 43,\n",
       "    'relations': [['modify', '19']]},\n",
       "   '18': {'tokens': '5th',\n",
       "    'label': 'Anatomy::definitely present',\n",
       "    'start_ix': 44,\n",
       "    'end_ix': 44,\n",
       "    'relations': [['modify', '19']]},\n",
       "   '19': {'tokens': 'rib',\n",
       "    'label': 'Anatomy::definitely present',\n",
       "    'start_ix': 45,\n",
       "    'end_ix': 45,\n",
       "    'relations': []},\n",
       "   '20': {'tokens': 'focal',\n",
       "    'label': 'Observation::uncertain',\n",
       "    'start_ix': 48,\n",
       "    'end_ix': 48,\n",
       "    'relations': [['modify', '22']]},\n",
       "   '21': {'tokens': 'airspace',\n",
       "    'label': 'Anatomy::definitely present',\n",
       "    'start_ix': 49,\n",
       "    'end_ix': 49,\n",
       "    'relations': []},\n",
       "   '22': {'tokens': 'disease',\n",
       "    'label': 'Observation::uncertain',\n",
       "    'start_ix': 50,\n",
       "    'end_ix': 50,\n",
       "    'relations': [['located_at', '21']]},\n",
       "   '23': {'tokens': 'increased',\n",
       "    'label': 'Observation::definitely present',\n",
       "    'start_ix': 52,\n",
       "    'end_ix': 52,\n",
       "    'relations': [['modify', '24']]},\n",
       "   '24': {'tokens': 'opacity',\n",
       "    'label': 'Observation::definitely present',\n",
       "    'start_ix': 53,\n",
       "    'end_ix': 53,\n",
       "    'relations': [['located_at', '25'],\n",
       "     ['suggestive_of', '27'],\n",
       "     ['suggestive_of', '28']]},\n",
       "   '25': {'tokens': 'right upper lobe',\n",
       "    'label': 'Anatomy::definitely present',\n",
       "    'start_ix': 56,\n",
       "    'end_ix': 58,\n",
       "    'relations': []},\n",
       "   '26': {'tokens': 'atelectasis',\n",
       "    'label': 'Observation::definitely present',\n",
       "    'start_ix': 64,\n",
       "    'end_ix': 64,\n",
       "    'relations': [['suggestive_of', '27'], ['suggestive_of', '28']]},\n",
       "   '27': {'tokens': 'focal consolidation',\n",
       "    'label': 'Observation::uncertain',\n",
       "    'start_ix': 67,\n",
       "    'end_ix': 68,\n",
       "    'relations': []},\n",
       "   '28': {'tokens': 'mass lesion',\n",
       "    'label': 'Observation::uncertain',\n",
       "    'start_ix': 70,\n",
       "    'end_ix': 71,\n",
       "    'relations': []},\n",
       "   '29': {'tokens': 'atelectasis',\n",
       "    'label': 'Observation::uncertain',\n",
       "    'start_ix': 73,\n",
       "    'end_ix': 73,\n",
       "    'relations': [['modify', '28']]},\n",
       "   '30': {'tokens': 'opacity',\n",
       "    'label': 'Observation::definitely present',\n",
       "    'start_ix': 85,\n",
       "    'end_ix': 85,\n",
       "    'relations': [['located_at', '33'], ['suggestive_of', '36']]},\n",
       "   '31': {'tokens': 'left',\n",
       "    'label': 'Anatomy::definitely present',\n",
       "    'start_ix': 88,\n",
       "    'end_ix': 88,\n",
       "    'relations': [['modify', '33']]},\n",
       "   '32': {'tokens': '5th',\n",
       "    'label': 'Anatomy::definitely present',\n",
       "    'start_ix': 89,\n",
       "    'end_ix': 89,\n",
       "    'relations': [['modify', '33']]},\n",
       "   '33': {'tokens': 'rib',\n",
       "    'label': 'Anatomy::definitely present',\n",
       "    'start_ix': 90,\n",
       "    'end_ix': 90,\n",
       "    'relations': []},\n",
       "   '34': {'tokens': 'focal',\n",
       "    'label': 'Observation::uncertain',\n",
       "    'start_ix': 93,\n",
       "    'end_ix': 93,\n",
       "    'relations': [['modify', '36']]},\n",
       "   '35': {'tokens': 'airspace',\n",
       "    'label': 'Anatomy::definitely present',\n",
       "    'start_ix': 94,\n",
       "    'end_ix': 94,\n",
       "    'relations': []},\n",
       "   '36': {'tokens': 'disease',\n",
       "    'label': 'Observation::uncertain',\n",
       "    'start_ix': 95,\n",
       "    'end_ix': 95,\n",
       "    'relations': [['located_at', '35']]}},\n",
       "  'data_source': None,\n",
       "  'data_split': 'inference'}}"
      ]
     },
     "execution_count": 209,
     "metadata": {},
     "output_type": "execute_result"
    }
   ],
   "source": [
    "rad = radgraph(df[df['attributes'].apply(lambda x: 'within normal limits' in x)].iloc[0]['text'])\n",
    "rad"
   ]
  },
  {
   "cell_type": "code",
   "execution_count": 59,
   "metadata": {},
   "outputs": [],
   "source": [
    "attributes = []\n",
    "\n",
    "for i in range(len(most_common_attributes)):\n",
    "    attributes.append(most_common_attributes[i][0])"
   ]
  },
  {
   "cell_type": "code",
   "execution_count": 60,
   "metadata": {},
   "outputs": [
    {
     "data": {
      "text/plain": [
       "['cardiomegaly',\n",
       " 'atelectasis',\n",
       " 'opacities',\n",
       " 'disease',\n",
       " 'opacity',\n",
       " 'limits',\n",
       " 'normal limits',\n",
       " 'granuloma',\n",
       " 'degenerative changes',\n",
       " 'effusions',\n",
       " 'effusion',\n",
       " 'emphysema',\n",
       " 'changes',\n",
       " 'markings',\n",
       " 'granulomas',\n",
       " 'calcifications',\n",
       " 'midline',\n",
       " 'density',\n",
       " 'tortuosity',\n",
       " 'sternotomy',\n",
       " 'hiatal hernia',\n",
       " 'lymph',\n",
       " 'prominence',\n",
       " 'deformity',\n",
       " 'calcification',\n",
       " 'osteophytes',\n",
       " 'elevation',\n",
       " 'edema',\n",
       " 'surgical clips',\n",
       " 'congestion',\n",
       " 'nodules',\n",
       " 'pneumonia',\n",
       " 'enlargement',\n",
       " 'clips',\n",
       " 'hyperexpansion',\n",
       " 'scoliosis',\n",
       " 'copd',\n",
       " 'dextroscoliosis',\n",
       " 'calcified granuloma',\n",
       " 'eventration',\n",
       " 'pneumothorax',\n",
       " 'tip',\n",
       " 'consolidation',\n",
       " 'aeration',\n",
       " 'lucency',\n",
       " 'ectasia',\n",
       " 'deformities',\n",
       " 'mild degenerative changes',\n",
       " 'loss',\n",
       " 'emphysematous changes']"
      ]
     },
     "execution_count": 60,
     "metadata": {},
     "output_type": "execute_result"
    }
   ],
   "source": [
    "attributes"
   ]
  },
  {
   "cell_type": "code",
   "execution_count": 61,
   "metadata": {},
   "outputs": [],
   "source": [
    "def split_into_sentences(text):\n",
    "    # Tokenize the text into sentences\n",
    "    doc = nlp(text)\n",
    "\n",
    "    # Extract sentences\n",
    "    sentences = [sent.text for sent in doc.sents]\n",
    "\n",
    "    return sentences"
   ]
  },
  {
   "cell_type": "code",
   "execution_count": 62,
   "metadata": {},
   "outputs": [],
   "source": [
    "train_df[\"sentences\"] = train_df[\"text\"].apply(split_into_sentences)"
   ]
  },
  {
   "cell_type": "code",
   "execution_count": 63,
   "metadata": {},
   "outputs": [],
   "source": [
    "val_df[\"sentences\"] = val_df[\"text\"].apply(split_into_sentences)"
   ]
  },
  {
   "cell_type": "code",
   "execution_count": 64,
   "metadata": {},
   "outputs": [
    {
     "data": {
      "text/plain": [
       "['hyperinflated lungs with flattened diaphragm and increased retrosternal airspace .',\n",
       " 'heart size within normal limits .',\n",
       " 'right hilar calcification suggests a previous granulomatous process .',\n",
       " 'hyperinflated lungs , air trapping versus inspiratory [MASK] .']"
      ]
     },
     "execution_count": 64,
     "metadata": {},
     "output_type": "execute_result"
    }
   ],
   "source": [
    "train_df.iloc[203]['sentences']"
   ]
  },
  {
   "cell_type": "code",
   "execution_count": 65,
   "metadata": {},
   "outputs": [
    {
     "data": {
      "text/html": [
       "<pre style=\"white-space:pre;overflow-x:auto;line-height:normal;font-family:Menlo,'DejaVu Sans Mono',consolas,'Courier New',monospace\">Attribute: cardiomegaly with <span style=\"color: #008080; text-decoration-color: #008080; font-weight: bold\">49</span> sentences\n",
       "</pre>\n"
      ],
      "text/plain": [
       "Attribute: cardiomegaly with \u001b[1;36m49\u001b[0m sentences\n"
      ]
     },
     "metadata": {},
     "output_type": "display_data"
    },
    {
     "data": {
      "text/html": [
       "<pre style=\"white-space:pre;overflow-x:auto;line-height:normal;font-family:Menlo,'DejaVu Sans Mono',consolas,'Courier New',monospace\"><span style=\"color: #008080; text-decoration-color: #008080; font-weight: bold\">49</span>\n",
       "</pre>\n"
      ],
      "text/plain": [
       "\u001b[1;36m49\u001b[0m\n"
      ]
     },
     "metadata": {},
     "output_type": "display_data"
    },
    {
     "data": {
      "text/html": [
       "<pre style=\"white-space:pre;overflow-x:auto;line-height:normal;font-family:Menlo,'DejaVu Sans Mono',consolas,'Courier New',monospace\">Attribute: atelectasis with <span style=\"color: #008080; text-decoration-color: #008080; font-weight: bold\">50</span> sentences\n",
       "</pre>\n"
      ],
      "text/plain": [
       "Attribute: atelectasis with \u001b[1;36m50\u001b[0m sentences\n"
      ]
     },
     "metadata": {},
     "output_type": "display_data"
    },
    {
     "data": {
      "text/html": [
       "<pre style=\"white-space:pre;overflow-x:auto;line-height:normal;font-family:Menlo,'DejaVu Sans Mono',consolas,'Courier New',monospace\"><span style=\"color: #008080; text-decoration-color: #008080; font-weight: bold\">50</span>\n",
       "</pre>\n"
      ],
      "text/plain": [
       "\u001b[1;36m50\u001b[0m\n"
      ]
     },
     "metadata": {},
     "output_type": "display_data"
    },
    {
     "data": {
      "text/html": [
       "<pre style=\"white-space:pre;overflow-x:auto;line-height:normal;font-family:Menlo,'DejaVu Sans Mono',consolas,'Courier New',monospace\">Attribute: opacities with <span style=\"color: #008080; text-decoration-color: #008080; font-weight: bold\">50</span> sentences\n",
       "</pre>\n"
      ],
      "text/plain": [
       "Attribute: opacities with \u001b[1;36m50\u001b[0m sentences\n"
      ]
     },
     "metadata": {},
     "output_type": "display_data"
    },
    {
     "data": {
      "text/html": [
       "<pre style=\"white-space:pre;overflow-x:auto;line-height:normal;font-family:Menlo,'DejaVu Sans Mono',consolas,'Courier New',monospace\"><span style=\"color: #008080; text-decoration-color: #008080; font-weight: bold\">50</span>\n",
       "</pre>\n"
      ],
      "text/plain": [
       "\u001b[1;36m50\u001b[0m\n"
      ]
     },
     "metadata": {},
     "output_type": "display_data"
    },
    {
     "data": {
      "text/html": [
       "<pre style=\"white-space:pre;overflow-x:auto;line-height:normal;font-family:Menlo,'DejaVu Sans Mono',consolas,'Courier New',monospace\">Attribute: disease with <span style=\"color: #008080; text-decoration-color: #008080; font-weight: bold\">50</span> sentences\n",
       "</pre>\n"
      ],
      "text/plain": [
       "Attribute: disease with \u001b[1;36m50\u001b[0m sentences\n"
      ]
     },
     "metadata": {},
     "output_type": "display_data"
    },
    {
     "data": {
      "text/html": [
       "<pre style=\"white-space:pre;overflow-x:auto;line-height:normal;font-family:Menlo,'DejaVu Sans Mono',consolas,'Courier New',monospace\"><span style=\"color: #008080; text-decoration-color: #008080; font-weight: bold\">50</span>\n",
       "</pre>\n"
      ],
      "text/plain": [
       "\u001b[1;36m50\u001b[0m\n"
      ]
     },
     "metadata": {},
     "output_type": "display_data"
    },
    {
     "data": {
      "text/html": [
       "<pre style=\"white-space:pre;overflow-x:auto;line-height:normal;font-family:Menlo,'DejaVu Sans Mono',consolas,'Courier New',monospace\">Attribute: opacity with <span style=\"color: #008080; text-decoration-color: #008080; font-weight: bold\">50</span> sentences\n",
       "</pre>\n"
      ],
      "text/plain": [
       "Attribute: opacity with \u001b[1;36m50\u001b[0m sentences\n"
      ]
     },
     "metadata": {},
     "output_type": "display_data"
    },
    {
     "data": {
      "text/html": [
       "<pre style=\"white-space:pre;overflow-x:auto;line-height:normal;font-family:Menlo,'DejaVu Sans Mono',consolas,'Courier New',monospace\"><span style=\"color: #008080; text-decoration-color: #008080; font-weight: bold\">50</span>\n",
       "</pre>\n"
      ],
      "text/plain": [
       "\u001b[1;36m50\u001b[0m\n"
      ]
     },
     "metadata": {},
     "output_type": "display_data"
    },
    {
     "data": {
      "text/html": [
       "<pre style=\"white-space:pre;overflow-x:auto;line-height:normal;font-family:Menlo,'DejaVu Sans Mono',consolas,'Courier New',monospace\">Attribute: limits with <span style=\"color: #008080; text-decoration-color: #008080; font-weight: bold\">50</span> sentences\n",
       "</pre>\n"
      ],
      "text/plain": [
       "Attribute: limits with \u001b[1;36m50\u001b[0m sentences\n"
      ]
     },
     "metadata": {},
     "output_type": "display_data"
    },
    {
     "data": {
      "text/html": [
       "<pre style=\"white-space:pre;overflow-x:auto;line-height:normal;font-family:Menlo,'DejaVu Sans Mono',consolas,'Courier New',monospace\"><span style=\"color: #008080; text-decoration-color: #008080; font-weight: bold\">50</span>\n",
       "</pre>\n"
      ],
      "text/plain": [
       "\u001b[1;36m50\u001b[0m\n"
      ]
     },
     "metadata": {},
     "output_type": "display_data"
    },
    {
     "data": {
      "text/html": [
       "<pre style=\"white-space:pre;overflow-x:auto;line-height:normal;font-family:Menlo,'DejaVu Sans Mono',consolas,'Courier New',monospace\">Attribute: normal limits with <span style=\"color: #008080; text-decoration-color: #008080; font-weight: bold\">50</span> sentences\n",
       "</pre>\n"
      ],
      "text/plain": [
       "Attribute: normal limits with \u001b[1;36m50\u001b[0m sentences\n"
      ]
     },
     "metadata": {},
     "output_type": "display_data"
    },
    {
     "data": {
      "text/html": [
       "<pre style=\"white-space:pre;overflow-x:auto;line-height:normal;font-family:Menlo,'DejaVu Sans Mono',consolas,'Courier New',monospace\"><span style=\"color: #008080; text-decoration-color: #008080; font-weight: bold\">50</span>\n",
       "</pre>\n"
      ],
      "text/plain": [
       "\u001b[1;36m50\u001b[0m\n"
      ]
     },
     "metadata": {},
     "output_type": "display_data"
    },
    {
     "data": {
      "text/html": [
       "<pre style=\"white-space:pre;overflow-x:auto;line-height:normal;font-family:Menlo,'DejaVu Sans Mono',consolas,'Courier New',monospace\">Attribute: granuloma with <span style=\"color: #008080; text-decoration-color: #008080; font-weight: bold\">50</span> sentences\n",
       "</pre>\n"
      ],
      "text/plain": [
       "Attribute: granuloma with \u001b[1;36m50\u001b[0m sentences\n"
      ]
     },
     "metadata": {},
     "output_type": "display_data"
    },
    {
     "data": {
      "text/html": [
       "<pre style=\"white-space:pre;overflow-x:auto;line-height:normal;font-family:Menlo,'DejaVu Sans Mono',consolas,'Courier New',monospace\"><span style=\"color: #008080; text-decoration-color: #008080; font-weight: bold\">50</span>\n",
       "</pre>\n"
      ],
      "text/plain": [
       "\u001b[1;36m50\u001b[0m\n"
      ]
     },
     "metadata": {},
     "output_type": "display_data"
    },
    {
     "data": {
      "text/html": [
       "<pre style=\"white-space:pre;overflow-x:auto;line-height:normal;font-family:Menlo,'DejaVu Sans Mono',consolas,'Courier New',monospace\">Attribute: degenerative changes with <span style=\"color: #008080; text-decoration-color: #008080; font-weight: bold\">50</span> sentences\n",
       "</pre>\n"
      ],
      "text/plain": [
       "Attribute: degenerative changes with \u001b[1;36m50\u001b[0m sentences\n"
      ]
     },
     "metadata": {},
     "output_type": "display_data"
    },
    {
     "data": {
      "text/html": [
       "<pre style=\"white-space:pre;overflow-x:auto;line-height:normal;font-family:Menlo,'DejaVu Sans Mono',consolas,'Courier New',monospace\"><span style=\"color: #008080; text-decoration-color: #008080; font-weight: bold\">50</span>\n",
       "</pre>\n"
      ],
      "text/plain": [
       "\u001b[1;36m50\u001b[0m\n"
      ]
     },
     "metadata": {},
     "output_type": "display_data"
    },
    {
     "data": {
      "text/html": [
       "<pre style=\"white-space:pre;overflow-x:auto;line-height:normal;font-family:Menlo,'DejaVu Sans Mono',consolas,'Courier New',monospace\">Attribute: effusions with <span style=\"color: #008080; text-decoration-color: #008080; font-weight: bold\">6</span> sentences\n",
       "</pre>\n"
      ],
      "text/plain": [
       "Attribute: effusions with \u001b[1;36m6\u001b[0m sentences\n"
      ]
     },
     "metadata": {},
     "output_type": "display_data"
    },
    {
     "data": {
      "text/html": [
       "<pre style=\"white-space:pre;overflow-x:auto;line-height:normal;font-family:Menlo,'DejaVu Sans Mono',consolas,'Courier New',monospace\"><span style=\"color: #008080; text-decoration-color: #008080; font-weight: bold\">6</span>\n",
       "</pre>\n"
      ],
      "text/plain": [
       "\u001b[1;36m6\u001b[0m\n"
      ]
     },
     "metadata": {},
     "output_type": "display_data"
    },
    {
     "data": {
      "text/html": [
       "<pre style=\"white-space:pre;overflow-x:auto;line-height:normal;font-family:Menlo,'DejaVu Sans Mono',consolas,'Courier New',monospace\">Attribute: effusion with <span style=\"color: #008080; text-decoration-color: #008080; font-weight: bold\">50</span> sentences\n",
       "</pre>\n"
      ],
      "text/plain": [
       "Attribute: effusion with \u001b[1;36m50\u001b[0m sentences\n"
      ]
     },
     "metadata": {},
     "output_type": "display_data"
    },
    {
     "data": {
      "text/html": [
       "<pre style=\"white-space:pre;overflow-x:auto;line-height:normal;font-family:Menlo,'DejaVu Sans Mono',consolas,'Courier New',monospace\"><span style=\"color: #008080; text-decoration-color: #008080; font-weight: bold\">50</span>\n",
       "</pre>\n"
      ],
      "text/plain": [
       "\u001b[1;36m50\u001b[0m\n"
      ]
     },
     "metadata": {},
     "output_type": "display_data"
    },
    {
     "data": {
      "text/html": [
       "<pre style=\"white-space:pre;overflow-x:auto;line-height:normal;font-family:Menlo,'DejaVu Sans Mono',consolas,'Courier New',monospace\">Attribute: emphysema with <span style=\"color: #008080; text-decoration-color: #008080; font-weight: bold\">35</span> sentences\n",
       "</pre>\n"
      ],
      "text/plain": [
       "Attribute: emphysema with \u001b[1;36m35\u001b[0m sentences\n"
      ]
     },
     "metadata": {},
     "output_type": "display_data"
    },
    {
     "data": {
      "text/html": [
       "<pre style=\"white-space:pre;overflow-x:auto;line-height:normal;font-family:Menlo,'DejaVu Sans Mono',consolas,'Courier New',monospace\"><span style=\"color: #008080; text-decoration-color: #008080; font-weight: bold\">35</span>\n",
       "</pre>\n"
      ],
      "text/plain": [
       "\u001b[1;36m35\u001b[0m\n"
      ]
     },
     "metadata": {},
     "output_type": "display_data"
    },
    {
     "data": {
      "text/html": [
       "<pre style=\"white-space:pre;overflow-x:auto;line-height:normal;font-family:Menlo,'DejaVu Sans Mono',consolas,'Courier New',monospace\">Attribute: changes with <span style=\"color: #008080; text-decoration-color: #008080; font-weight: bold\">50</span> sentences\n",
       "</pre>\n"
      ],
      "text/plain": [
       "Attribute: changes with \u001b[1;36m50\u001b[0m sentences\n"
      ]
     },
     "metadata": {},
     "output_type": "display_data"
    },
    {
     "data": {
      "text/html": [
       "<pre style=\"white-space:pre;overflow-x:auto;line-height:normal;font-family:Menlo,'DejaVu Sans Mono',consolas,'Courier New',monospace\"><span style=\"color: #008080; text-decoration-color: #008080; font-weight: bold\">50</span>\n",
       "</pre>\n"
      ],
      "text/plain": [
       "\u001b[1;36m50\u001b[0m\n"
      ]
     },
     "metadata": {},
     "output_type": "display_data"
    },
    {
     "data": {
      "text/html": [
       "<pre style=\"white-space:pre;overflow-x:auto;line-height:normal;font-family:Menlo,'DejaVu Sans Mono',consolas,'Courier New',monospace\">Attribute: markings with <span style=\"color: #008080; text-decoration-color: #008080; font-weight: bold\">22</span> sentences\n",
       "</pre>\n"
      ],
      "text/plain": [
       "Attribute: markings with \u001b[1;36m22\u001b[0m sentences\n"
      ]
     },
     "metadata": {},
     "output_type": "display_data"
    },
    {
     "data": {
      "text/html": [
       "<pre style=\"white-space:pre;overflow-x:auto;line-height:normal;font-family:Menlo,'DejaVu Sans Mono',consolas,'Courier New',monospace\"><span style=\"color: #008080; text-decoration-color: #008080; font-weight: bold\">22</span>\n",
       "</pre>\n"
      ],
      "text/plain": [
       "\u001b[1;36m22\u001b[0m\n"
      ]
     },
     "metadata": {},
     "output_type": "display_data"
    },
    {
     "data": {
      "text/html": [
       "<pre style=\"white-space:pre;overflow-x:auto;line-height:normal;font-family:Menlo,'DejaVu Sans Mono',consolas,'Courier New',monospace\">Attribute: granulomas with <span style=\"color: #008080; text-decoration-color: #008080; font-weight: bold\">24</span> sentences\n",
       "</pre>\n"
      ],
      "text/plain": [
       "Attribute: granulomas with \u001b[1;36m24\u001b[0m sentences\n"
      ]
     },
     "metadata": {},
     "output_type": "display_data"
    },
    {
     "data": {
      "text/html": [
       "<pre style=\"white-space:pre;overflow-x:auto;line-height:normal;font-family:Menlo,'DejaVu Sans Mono',consolas,'Courier New',monospace\"><span style=\"color: #008080; text-decoration-color: #008080; font-weight: bold\">24</span>\n",
       "</pre>\n"
      ],
      "text/plain": [
       "\u001b[1;36m24\u001b[0m\n"
      ]
     },
     "metadata": {},
     "output_type": "display_data"
    },
    {
     "data": {
      "text/html": [
       "<pre style=\"white-space:pre;overflow-x:auto;line-height:normal;font-family:Menlo,'DejaVu Sans Mono',consolas,'Courier New',monospace\">Attribute: calcifications with <span style=\"color: #008080; text-decoration-color: #008080; font-weight: bold\">25</span> sentences\n",
       "</pre>\n"
      ],
      "text/plain": [
       "Attribute: calcifications with \u001b[1;36m25\u001b[0m sentences\n"
      ]
     },
     "metadata": {},
     "output_type": "display_data"
    },
    {
     "data": {
      "text/html": [
       "<pre style=\"white-space:pre;overflow-x:auto;line-height:normal;font-family:Menlo,'DejaVu Sans Mono',consolas,'Courier New',monospace\"><span style=\"color: #008080; text-decoration-color: #008080; font-weight: bold\">25</span>\n",
       "</pre>\n"
      ],
      "text/plain": [
       "\u001b[1;36m25\u001b[0m\n"
      ]
     },
     "metadata": {},
     "output_type": "display_data"
    },
    {
     "data": {
      "text/html": [
       "<pre style=\"white-space:pre;overflow-x:auto;line-height:normal;font-family:Menlo,'DejaVu Sans Mono',consolas,'Courier New',monospace\">Attribute: midline with <span style=\"color: #008080; text-decoration-color: #008080; font-weight: bold\">7</span> sentences\n",
       "</pre>\n"
      ],
      "text/plain": [
       "Attribute: midline with \u001b[1;36m7\u001b[0m sentences\n"
      ]
     },
     "metadata": {},
     "output_type": "display_data"
    },
    {
     "data": {
      "text/html": [
       "<pre style=\"white-space:pre;overflow-x:auto;line-height:normal;font-family:Menlo,'DejaVu Sans Mono',consolas,'Courier New',monospace\"><span style=\"color: #008080; text-decoration-color: #008080; font-weight: bold\">7</span>\n",
       "</pre>\n"
      ],
      "text/plain": [
       "\u001b[1;36m7\u001b[0m\n"
      ]
     },
     "metadata": {},
     "output_type": "display_data"
    },
    {
     "data": {
      "text/html": [
       "<pre style=\"white-space:pre;overflow-x:auto;line-height:normal;font-family:Menlo,'DejaVu Sans Mono',consolas,'Courier New',monospace\">Attribute: density with <span style=\"color: #008080; text-decoration-color: #008080; font-weight: bold\">26</span> sentences\n",
       "</pre>\n"
      ],
      "text/plain": [
       "Attribute: density with \u001b[1;36m26\u001b[0m sentences\n"
      ]
     },
     "metadata": {},
     "output_type": "display_data"
    },
    {
     "data": {
      "text/html": [
       "<pre style=\"white-space:pre;overflow-x:auto;line-height:normal;font-family:Menlo,'DejaVu Sans Mono',consolas,'Courier New',monospace\"><span style=\"color: #008080; text-decoration-color: #008080; font-weight: bold\">26</span>\n",
       "</pre>\n"
      ],
      "text/plain": [
       "\u001b[1;36m26\u001b[0m\n"
      ]
     },
     "metadata": {},
     "output_type": "display_data"
    },
    {
     "data": {
      "text/html": [
       "<pre style=\"white-space:pre;overflow-x:auto;line-height:normal;font-family:Menlo,'DejaVu Sans Mono',consolas,'Courier New',monospace\">Attribute: tortuosity with <span style=\"color: #008080; text-decoration-color: #008080; font-weight: bold\">21</span> sentences\n",
       "</pre>\n"
      ],
      "text/plain": [
       "Attribute: tortuosity with \u001b[1;36m21\u001b[0m sentences\n"
      ]
     },
     "metadata": {},
     "output_type": "display_data"
    },
    {
     "data": {
      "text/html": [
       "<pre style=\"white-space:pre;overflow-x:auto;line-height:normal;font-family:Menlo,'DejaVu Sans Mono',consolas,'Courier New',monospace\"><span style=\"color: #008080; text-decoration-color: #008080; font-weight: bold\">21</span>\n",
       "</pre>\n"
      ],
      "text/plain": [
       "\u001b[1;36m21\u001b[0m\n"
      ]
     },
     "metadata": {},
     "output_type": "display_data"
    },
    {
     "data": {
      "text/html": [
       "<pre style=\"white-space:pre;overflow-x:auto;line-height:normal;font-family:Menlo,'DejaVu Sans Mono',consolas,'Courier New',monospace\">Attribute: sternotomy with <span style=\"color: #008080; text-decoration-color: #008080; font-weight: bold\">27</span> sentences\n",
       "</pre>\n"
      ],
      "text/plain": [
       "Attribute: sternotomy with \u001b[1;36m27\u001b[0m sentences\n"
      ]
     },
     "metadata": {},
     "output_type": "display_data"
    },
    {
     "data": {
      "text/html": [
       "<pre style=\"white-space:pre;overflow-x:auto;line-height:normal;font-family:Menlo,'DejaVu Sans Mono',consolas,'Courier New',monospace\"><span style=\"color: #008080; text-decoration-color: #008080; font-weight: bold\">27</span>\n",
       "</pre>\n"
      ],
      "text/plain": [
       "\u001b[1;36m27\u001b[0m\n"
      ]
     },
     "metadata": {},
     "output_type": "display_data"
    },
    {
     "data": {
      "text/html": [
       "<pre style=\"white-space:pre;overflow-x:auto;line-height:normal;font-family:Menlo,'DejaVu Sans Mono',consolas,'Courier New',monospace\">Attribute: hiatal hernia with <span style=\"color: #008080; text-decoration-color: #008080; font-weight: bold\">17</span> sentences\n",
       "</pre>\n"
      ],
      "text/plain": [
       "Attribute: hiatal hernia with \u001b[1;36m17\u001b[0m sentences\n"
      ]
     },
     "metadata": {},
     "output_type": "display_data"
    },
    {
     "data": {
      "text/html": [
       "<pre style=\"white-space:pre;overflow-x:auto;line-height:normal;font-family:Menlo,'DejaVu Sans Mono',consolas,'Courier New',monospace\"><span style=\"color: #008080; text-decoration-color: #008080; font-weight: bold\">17</span>\n",
       "</pre>\n"
      ],
      "text/plain": [
       "\u001b[1;36m17\u001b[0m\n"
      ]
     },
     "metadata": {},
     "output_type": "display_data"
    },
    {
     "data": {
      "text/html": [
       "<pre style=\"white-space:pre;overflow-x:auto;line-height:normal;font-family:Menlo,'DejaVu Sans Mono',consolas,'Courier New',monospace\">Attribute: lymph with <span style=\"color: #008080; text-decoration-color: #008080; font-weight: bold\">40</span> sentences\n",
       "</pre>\n"
      ],
      "text/plain": [
       "Attribute: lymph with \u001b[1;36m40\u001b[0m sentences\n"
      ]
     },
     "metadata": {},
     "output_type": "display_data"
    },
    {
     "data": {
      "text/html": [
       "<pre style=\"white-space:pre;overflow-x:auto;line-height:normal;font-family:Menlo,'DejaVu Sans Mono',consolas,'Courier New',monospace\"><span style=\"color: #008080; text-decoration-color: #008080; font-weight: bold\">40</span>\n",
       "</pre>\n"
      ],
      "text/plain": [
       "\u001b[1;36m40\u001b[0m\n"
      ]
     },
     "metadata": {},
     "output_type": "display_data"
    },
    {
     "data": {
      "text/html": [
       "<pre style=\"white-space:pre;overflow-x:auto;line-height:normal;font-family:Menlo,'DejaVu Sans Mono',consolas,'Courier New',monospace\">Attribute: prominence with <span style=\"color: #008080; text-decoration-color: #008080; font-weight: bold\">20</span> sentences\n",
       "</pre>\n"
      ],
      "text/plain": [
       "Attribute: prominence with \u001b[1;36m20\u001b[0m sentences\n"
      ]
     },
     "metadata": {},
     "output_type": "display_data"
    },
    {
     "data": {
      "text/html": [
       "<pre style=\"white-space:pre;overflow-x:auto;line-height:normal;font-family:Menlo,'DejaVu Sans Mono',consolas,'Courier New',monospace\"><span style=\"color: #008080; text-decoration-color: #008080; font-weight: bold\">20</span>\n",
       "</pre>\n"
      ],
      "text/plain": [
       "\u001b[1;36m20\u001b[0m\n"
      ]
     },
     "metadata": {},
     "output_type": "display_data"
    },
    {
     "data": {
      "text/html": [
       "<pre style=\"white-space:pre;overflow-x:auto;line-height:normal;font-family:Menlo,'DejaVu Sans Mono',consolas,'Courier New',monospace\">Attribute: deformity with <span style=\"color: #008080; text-decoration-color: #008080; font-weight: bold\">19</span> sentences\n",
       "</pre>\n"
      ],
      "text/plain": [
       "Attribute: deformity with \u001b[1;36m19\u001b[0m sentences\n"
      ]
     },
     "metadata": {},
     "output_type": "display_data"
    },
    {
     "data": {
      "text/html": [
       "<pre style=\"white-space:pre;overflow-x:auto;line-height:normal;font-family:Menlo,'DejaVu Sans Mono',consolas,'Courier New',monospace\"><span style=\"color: #008080; text-decoration-color: #008080; font-weight: bold\">19</span>\n",
       "</pre>\n"
      ],
      "text/plain": [
       "\u001b[1;36m19\u001b[0m\n"
      ]
     },
     "metadata": {},
     "output_type": "display_data"
    },
    {
     "data": {
      "text/html": [
       "<pre style=\"white-space:pre;overflow-x:auto;line-height:normal;font-family:Menlo,'DejaVu Sans Mono',consolas,'Courier New',monospace\">Attribute: calcification with <span style=\"color: #008080; text-decoration-color: #008080; font-weight: bold\">38</span> sentences\n",
       "</pre>\n"
      ],
      "text/plain": [
       "Attribute: calcification with \u001b[1;36m38\u001b[0m sentences\n"
      ]
     },
     "metadata": {},
     "output_type": "display_data"
    },
    {
     "data": {
      "text/html": [
       "<pre style=\"white-space:pre;overflow-x:auto;line-height:normal;font-family:Menlo,'DejaVu Sans Mono',consolas,'Courier New',monospace\"><span style=\"color: #008080; text-decoration-color: #008080; font-weight: bold\">38</span>\n",
       "</pre>\n"
      ],
      "text/plain": [
       "\u001b[1;36m38\u001b[0m\n"
      ]
     },
     "metadata": {},
     "output_type": "display_data"
    },
    {
     "data": {
      "text/html": [
       "<pre style=\"white-space:pre;overflow-x:auto;line-height:normal;font-family:Menlo,'DejaVu Sans Mono',consolas,'Courier New',monospace\">Attribute: osteophytes with <span style=\"color: #008080; text-decoration-color: #008080; font-weight: bold\">8</span> sentences\n",
       "</pre>\n"
      ],
      "text/plain": [
       "Attribute: osteophytes with \u001b[1;36m8\u001b[0m sentences\n"
      ]
     },
     "metadata": {},
     "output_type": "display_data"
    },
    {
     "data": {
      "text/html": [
       "<pre style=\"white-space:pre;overflow-x:auto;line-height:normal;font-family:Menlo,'DejaVu Sans Mono',consolas,'Courier New',monospace\"><span style=\"color: #008080; text-decoration-color: #008080; font-weight: bold\">8</span>\n",
       "</pre>\n"
      ],
      "text/plain": [
       "\u001b[1;36m8\u001b[0m\n"
      ]
     },
     "metadata": {},
     "output_type": "display_data"
    },
    {
     "data": {
      "text/html": [
       "<pre style=\"white-space:pre;overflow-x:auto;line-height:normal;font-family:Menlo,'DejaVu Sans Mono',consolas,'Courier New',monospace\">Attribute: elevation with <span style=\"color: #008080; text-decoration-color: #008080; font-weight: bold\">14</span> sentences\n",
       "</pre>\n"
      ],
      "text/plain": [
       "Attribute: elevation with \u001b[1;36m14\u001b[0m sentences\n"
      ]
     },
     "metadata": {},
     "output_type": "display_data"
    },
    {
     "data": {
      "text/html": [
       "<pre style=\"white-space:pre;overflow-x:auto;line-height:normal;font-family:Menlo,'DejaVu Sans Mono',consolas,'Courier New',monospace\"><span style=\"color: #008080; text-decoration-color: #008080; font-weight: bold\">14</span>\n",
       "</pre>\n"
      ],
      "text/plain": [
       "\u001b[1;36m14\u001b[0m\n"
      ]
     },
     "metadata": {},
     "output_type": "display_data"
    },
    {
     "data": {
      "text/html": [
       "<pre style=\"white-space:pre;overflow-x:auto;line-height:normal;font-family:Menlo,'DejaVu Sans Mono',consolas,'Courier New',monospace\">Attribute: edema with <span style=\"color: #008080; text-decoration-color: #008080; font-weight: bold\">22</span> sentences\n",
       "</pre>\n"
      ],
      "text/plain": [
       "Attribute: edema with \u001b[1;36m22\u001b[0m sentences\n"
      ]
     },
     "metadata": {},
     "output_type": "display_data"
    },
    {
     "data": {
      "text/html": [
       "<pre style=\"white-space:pre;overflow-x:auto;line-height:normal;font-family:Menlo,'DejaVu Sans Mono',consolas,'Courier New',monospace\"><span style=\"color: #008080; text-decoration-color: #008080; font-weight: bold\">22</span>\n",
       "</pre>\n"
      ],
      "text/plain": [
       "\u001b[1;36m22\u001b[0m\n"
      ]
     },
     "metadata": {},
     "output_type": "display_data"
    },
    {
     "data": {
      "text/html": [
       "<pre style=\"white-space:pre;overflow-x:auto;line-height:normal;font-family:Menlo,'DejaVu Sans Mono',consolas,'Courier New',monospace\">Attribute: surgical clips with <span style=\"color: #008080; text-decoration-color: #008080; font-weight: bold\">44</span> sentences\n",
       "</pre>\n"
      ],
      "text/plain": [
       "Attribute: surgical clips with \u001b[1;36m44\u001b[0m sentences\n"
      ]
     },
     "metadata": {},
     "output_type": "display_data"
    },
    {
     "data": {
      "text/html": [
       "<pre style=\"white-space:pre;overflow-x:auto;line-height:normal;font-family:Menlo,'DejaVu Sans Mono',consolas,'Courier New',monospace\"><span style=\"color: #008080; text-decoration-color: #008080; font-weight: bold\">44</span>\n",
       "</pre>\n"
      ],
      "text/plain": [
       "\u001b[1;36m44\u001b[0m\n"
      ]
     },
     "metadata": {},
     "output_type": "display_data"
    },
    {
     "data": {
      "text/html": [
       "<pre style=\"white-space:pre;overflow-x:auto;line-height:normal;font-family:Menlo,'DejaVu Sans Mono',consolas,'Courier New',monospace\">Attribute: congestion with <span style=\"color: #008080; text-decoration-color: #008080; font-weight: bold\">8</span> sentences\n",
       "</pre>\n"
      ],
      "text/plain": [
       "Attribute: congestion with \u001b[1;36m8\u001b[0m sentences\n"
      ]
     },
     "metadata": {},
     "output_type": "display_data"
    },
    {
     "data": {
      "text/html": [
       "<pre style=\"white-space:pre;overflow-x:auto;line-height:normal;font-family:Menlo,'DejaVu Sans Mono',consolas,'Courier New',monospace\"><span style=\"color: #008080; text-decoration-color: #008080; font-weight: bold\">8</span>\n",
       "</pre>\n"
      ],
      "text/plain": [
       "\u001b[1;36m8\u001b[0m\n"
      ]
     },
     "metadata": {},
     "output_type": "display_data"
    },
    {
     "data": {
      "text/html": [
       "<pre style=\"white-space:pre;overflow-x:auto;line-height:normal;font-family:Menlo,'DejaVu Sans Mono',consolas,'Courier New',monospace\">Attribute: nodules with <span style=\"color: #008080; text-decoration-color: #008080; font-weight: bold\">19</span> sentences\n",
       "</pre>\n"
      ],
      "text/plain": [
       "Attribute: nodules with \u001b[1;36m19\u001b[0m sentences\n"
      ]
     },
     "metadata": {},
     "output_type": "display_data"
    },
    {
     "data": {
      "text/html": [
       "<pre style=\"white-space:pre;overflow-x:auto;line-height:normal;font-family:Menlo,'DejaVu Sans Mono',consolas,'Courier New',monospace\"><span style=\"color: #008080; text-decoration-color: #008080; font-weight: bold\">19</span>\n",
       "</pre>\n"
      ],
      "text/plain": [
       "\u001b[1;36m19\u001b[0m\n"
      ]
     },
     "metadata": {},
     "output_type": "display_data"
    },
    {
     "data": {
      "text/html": [
       "<pre style=\"white-space:pre;overflow-x:auto;line-height:normal;font-family:Menlo,'DejaVu Sans Mono',consolas,'Courier New',monospace\">Attribute: pneumonia with <span style=\"color: #008080; text-decoration-color: #008080; font-weight: bold\">24</span> sentences\n",
       "</pre>\n"
      ],
      "text/plain": [
       "Attribute: pneumonia with \u001b[1;36m24\u001b[0m sentences\n"
      ]
     },
     "metadata": {},
     "output_type": "display_data"
    },
    {
     "data": {
      "text/html": [
       "<pre style=\"white-space:pre;overflow-x:auto;line-height:normal;font-family:Menlo,'DejaVu Sans Mono',consolas,'Courier New',monospace\"><span style=\"color: #008080; text-decoration-color: #008080; font-weight: bold\">24</span>\n",
       "</pre>\n"
      ],
      "text/plain": [
       "\u001b[1;36m24\u001b[0m\n"
      ]
     },
     "metadata": {},
     "output_type": "display_data"
    },
    {
     "data": {
      "text/html": [
       "<pre style=\"white-space:pre;overflow-x:auto;line-height:normal;font-family:Menlo,'DejaVu Sans Mono',consolas,'Courier New',monospace\">Attribute: enlargement with <span style=\"color: #008080; text-decoration-color: #008080; font-weight: bold\">10</span> sentences\n",
       "</pre>\n"
      ],
      "text/plain": [
       "Attribute: enlargement with \u001b[1;36m10\u001b[0m sentences\n"
      ]
     },
     "metadata": {},
     "output_type": "display_data"
    },
    {
     "data": {
      "text/html": [
       "<pre style=\"white-space:pre;overflow-x:auto;line-height:normal;font-family:Menlo,'DejaVu Sans Mono',consolas,'Courier New',monospace\"><span style=\"color: #008080; text-decoration-color: #008080; font-weight: bold\">10</span>\n",
       "</pre>\n"
      ],
      "text/plain": [
       "\u001b[1;36m10\u001b[0m\n"
      ]
     },
     "metadata": {},
     "output_type": "display_data"
    },
    {
     "data": {
      "text/html": [
       "<pre style=\"white-space:pre;overflow-x:auto;line-height:normal;font-family:Menlo,'DejaVu Sans Mono',consolas,'Courier New',monospace\">Attribute: clips with <span style=\"color: #008080; text-decoration-color: #008080; font-weight: bold\">29</span> sentences\n",
       "</pre>\n"
      ],
      "text/plain": [
       "Attribute: clips with \u001b[1;36m29\u001b[0m sentences\n"
      ]
     },
     "metadata": {},
     "output_type": "display_data"
    },
    {
     "data": {
      "text/html": [
       "<pre style=\"white-space:pre;overflow-x:auto;line-height:normal;font-family:Menlo,'DejaVu Sans Mono',consolas,'Courier New',monospace\"><span style=\"color: #008080; text-decoration-color: #008080; font-weight: bold\">29</span>\n",
       "</pre>\n"
      ],
      "text/plain": [
       "\u001b[1;36m29\u001b[0m\n"
      ]
     },
     "metadata": {},
     "output_type": "display_data"
    },
    {
     "data": {
      "text/html": [
       "<pre style=\"white-space:pre;overflow-x:auto;line-height:normal;font-family:Menlo,'DejaVu Sans Mono',consolas,'Courier New',monospace\">Attribute: hyperexpansion with <span style=\"color: #008080; text-decoration-color: #008080; font-weight: bold\">5</span> sentences\n",
       "</pre>\n"
      ],
      "text/plain": [
       "Attribute: hyperexpansion with \u001b[1;36m5\u001b[0m sentences\n"
      ]
     },
     "metadata": {},
     "output_type": "display_data"
    },
    {
     "data": {
      "text/html": [
       "<pre style=\"white-space:pre;overflow-x:auto;line-height:normal;font-family:Menlo,'DejaVu Sans Mono',consolas,'Courier New',monospace\"><span style=\"color: #008080; text-decoration-color: #008080; font-weight: bold\">5</span>\n",
       "</pre>\n"
      ],
      "text/plain": [
       "\u001b[1;36m5\u001b[0m\n"
      ]
     },
     "metadata": {},
     "output_type": "display_data"
    },
    {
     "data": {
      "text/html": [
       "<pre style=\"white-space:pre;overflow-x:auto;line-height:normal;font-family:Menlo,'DejaVu Sans Mono',consolas,'Courier New',monospace\">Attribute: scoliosis with <span style=\"color: #008080; text-decoration-color: #008080; font-weight: bold\">20</span> sentences\n",
       "</pre>\n"
      ],
      "text/plain": [
       "Attribute: scoliosis with \u001b[1;36m20\u001b[0m sentences\n"
      ]
     },
     "metadata": {},
     "output_type": "display_data"
    },
    {
     "data": {
      "text/html": [
       "<pre style=\"white-space:pre;overflow-x:auto;line-height:normal;font-family:Menlo,'DejaVu Sans Mono',consolas,'Courier New',monospace\"><span style=\"color: #008080; text-decoration-color: #008080; font-weight: bold\">20</span>\n",
       "</pre>\n"
      ],
      "text/plain": [
       "\u001b[1;36m20\u001b[0m\n"
      ]
     },
     "metadata": {},
     "output_type": "display_data"
    },
    {
     "data": {
      "text/html": [
       "<pre style=\"white-space:pre;overflow-x:auto;line-height:normal;font-family:Menlo,'DejaVu Sans Mono',consolas,'Courier New',monospace\">Attribute: copd with <span style=\"color: #008080; text-decoration-color: #008080; font-weight: bold\">9</span> sentences\n",
       "</pre>\n"
      ],
      "text/plain": [
       "Attribute: copd with \u001b[1;36m9\u001b[0m sentences\n"
      ]
     },
     "metadata": {},
     "output_type": "display_data"
    },
    {
     "data": {
      "text/html": [
       "<pre style=\"white-space:pre;overflow-x:auto;line-height:normal;font-family:Menlo,'DejaVu Sans Mono',consolas,'Courier New',monospace\"><span style=\"color: #008080; text-decoration-color: #008080; font-weight: bold\">9</span>\n",
       "</pre>\n"
      ],
      "text/plain": [
       "\u001b[1;36m9\u001b[0m\n"
      ]
     },
     "metadata": {},
     "output_type": "display_data"
    },
    {
     "data": {
      "text/html": [
       "<pre style=\"white-space:pre;overflow-x:auto;line-height:normal;font-family:Menlo,'DejaVu Sans Mono',consolas,'Courier New',monospace\">Attribute: dextroscoliosis with <span style=\"color: #008080; text-decoration-color: #008080; font-weight: bold\">6</span> sentences\n",
       "</pre>\n"
      ],
      "text/plain": [
       "Attribute: dextroscoliosis with \u001b[1;36m6\u001b[0m sentences\n"
      ]
     },
     "metadata": {},
     "output_type": "display_data"
    },
    {
     "data": {
      "text/html": [
       "<pre style=\"white-space:pre;overflow-x:auto;line-height:normal;font-family:Menlo,'DejaVu Sans Mono',consolas,'Courier New',monospace\"><span style=\"color: #008080; text-decoration-color: #008080; font-weight: bold\">6</span>\n",
       "</pre>\n"
      ],
      "text/plain": [
       "\u001b[1;36m6\u001b[0m\n"
      ]
     },
     "metadata": {},
     "output_type": "display_data"
    },
    {
     "data": {
      "text/html": [
       "<pre style=\"white-space:pre;overflow-x:auto;line-height:normal;font-family:Menlo,'DejaVu Sans Mono',consolas,'Courier New',monospace\">Attribute: calcified granuloma with <span style=\"color: #008080; text-decoration-color: #008080; font-weight: bold\">50</span> sentences\n",
       "</pre>\n"
      ],
      "text/plain": [
       "Attribute: calcified granuloma with \u001b[1;36m50\u001b[0m sentences\n"
      ]
     },
     "metadata": {},
     "output_type": "display_data"
    },
    {
     "data": {
      "text/html": [
       "<pre style=\"white-space:pre;overflow-x:auto;line-height:normal;font-family:Menlo,'DejaVu Sans Mono',consolas,'Courier New',monospace\"><span style=\"color: #008080; text-decoration-color: #008080; font-weight: bold\">50</span>\n",
       "</pre>\n"
      ],
      "text/plain": [
       "\u001b[1;36m50\u001b[0m\n"
      ]
     },
     "metadata": {},
     "output_type": "display_data"
    },
    {
     "data": {
      "text/html": [
       "<pre style=\"white-space:pre;overflow-x:auto;line-height:normal;font-family:Menlo,'DejaVu Sans Mono',consolas,'Courier New',monospace\">Attribute: eventration with <span style=\"color: #008080; text-decoration-color: #008080; font-weight: bold\">10</span> sentences\n",
       "</pre>\n"
      ],
      "text/plain": [
       "Attribute: eventration with \u001b[1;36m10\u001b[0m sentences\n"
      ]
     },
     "metadata": {},
     "output_type": "display_data"
    },
    {
     "data": {
      "text/html": [
       "<pre style=\"white-space:pre;overflow-x:auto;line-height:normal;font-family:Menlo,'DejaVu Sans Mono',consolas,'Courier New',monospace\"><span style=\"color: #008080; text-decoration-color: #008080; font-weight: bold\">10</span>\n",
       "</pre>\n"
      ],
      "text/plain": [
       "\u001b[1;36m10\u001b[0m\n"
      ]
     },
     "metadata": {},
     "output_type": "display_data"
    },
    {
     "data": {
      "text/html": [
       "<pre style=\"white-space:pre;overflow-x:auto;line-height:normal;font-family:Menlo,'DejaVu Sans Mono',consolas,'Courier New',monospace\">Attribute: pneumothorax with <span style=\"color: #008080; text-decoration-color: #008080; font-weight: bold\">12</span> sentences\n",
       "</pre>\n"
      ],
      "text/plain": [
       "Attribute: pneumothorax with \u001b[1;36m12\u001b[0m sentences\n"
      ]
     },
     "metadata": {},
     "output_type": "display_data"
    },
    {
     "data": {
      "text/html": [
       "<pre style=\"white-space:pre;overflow-x:auto;line-height:normal;font-family:Menlo,'DejaVu Sans Mono',consolas,'Courier New',monospace\"><span style=\"color: #008080; text-decoration-color: #008080; font-weight: bold\">12</span>\n",
       "</pre>\n"
      ],
      "text/plain": [
       "\u001b[1;36m12\u001b[0m\n"
      ]
     },
     "metadata": {},
     "output_type": "display_data"
    },
    {
     "data": {
      "text/html": [
       "<pre style=\"white-space:pre;overflow-x:auto;line-height:normal;font-family:Menlo,'DejaVu Sans Mono',consolas,'Courier New',monospace\">Attribute: tip with <span style=\"color: #008080; text-decoration-color: #008080; font-weight: bold\">50</span> sentences\n",
       "</pre>\n"
      ],
      "text/plain": [
       "Attribute: tip with \u001b[1;36m50\u001b[0m sentences\n"
      ]
     },
     "metadata": {},
     "output_type": "display_data"
    },
    {
     "data": {
      "text/html": [
       "<pre style=\"white-space:pre;overflow-x:auto;line-height:normal;font-family:Menlo,'DejaVu Sans Mono',consolas,'Courier New',monospace\"><span style=\"color: #008080; text-decoration-color: #008080; font-weight: bold\">50</span>\n",
       "</pre>\n"
      ],
      "text/plain": [
       "\u001b[1;36m50\u001b[0m\n"
      ]
     },
     "metadata": {},
     "output_type": "display_data"
    },
    {
     "data": {
      "text/html": [
       "<pre style=\"white-space:pre;overflow-x:auto;line-height:normal;font-family:Menlo,'DejaVu Sans Mono',consolas,'Courier New',monospace\">Attribute: consolidation with <span style=\"color: #008080; text-decoration-color: #008080; font-weight: bold\">15</span> sentences\n",
       "</pre>\n"
      ],
      "text/plain": [
       "Attribute: consolidation with \u001b[1;36m15\u001b[0m sentences\n"
      ]
     },
     "metadata": {},
     "output_type": "display_data"
    },
    {
     "data": {
      "text/html": [
       "<pre style=\"white-space:pre;overflow-x:auto;line-height:normal;font-family:Menlo,'DejaVu Sans Mono',consolas,'Courier New',monospace\"><span style=\"color: #008080; text-decoration-color: #008080; font-weight: bold\">15</span>\n",
       "</pre>\n"
      ],
      "text/plain": [
       "\u001b[1;36m15\u001b[0m\n"
      ]
     },
     "metadata": {},
     "output_type": "display_data"
    },
    {
     "data": {
      "text/html": [
       "<pre style=\"white-space:pre;overflow-x:auto;line-height:normal;font-family:Menlo,'DejaVu Sans Mono',consolas,'Courier New',monospace\">Attribute: aeration with <span style=\"color: #008080; text-decoration-color: #008080; font-weight: bold\">4</span> sentences\n",
       "</pre>\n"
      ],
      "text/plain": [
       "Attribute: aeration with \u001b[1;36m4\u001b[0m sentences\n"
      ]
     },
     "metadata": {},
     "output_type": "display_data"
    },
    {
     "data": {
      "text/html": [
       "<pre style=\"white-space:pre;overflow-x:auto;line-height:normal;font-family:Menlo,'DejaVu Sans Mono',consolas,'Courier New',monospace\"><span style=\"color: #008080; text-decoration-color: #008080; font-weight: bold\">4</span>\n",
       "</pre>\n"
      ],
      "text/plain": [
       "\u001b[1;36m4\u001b[0m\n"
      ]
     },
     "metadata": {},
     "output_type": "display_data"
    },
    {
     "data": {
      "text/html": [
       "<pre style=\"white-space:pre;overflow-x:auto;line-height:normal;font-family:Menlo,'DejaVu Sans Mono',consolas,'Courier New',monospace\">Attribute: lucency with <span style=\"color: #008080; text-decoration-color: #008080; font-weight: bold\">10</span> sentences\n",
       "</pre>\n"
      ],
      "text/plain": [
       "Attribute: lucency with \u001b[1;36m10\u001b[0m sentences\n"
      ]
     },
     "metadata": {},
     "output_type": "display_data"
    },
    {
     "data": {
      "text/html": [
       "<pre style=\"white-space:pre;overflow-x:auto;line-height:normal;font-family:Menlo,'DejaVu Sans Mono',consolas,'Courier New',monospace\"><span style=\"color: #008080; text-decoration-color: #008080; font-weight: bold\">10</span>\n",
       "</pre>\n"
      ],
      "text/plain": [
       "\u001b[1;36m10\u001b[0m\n"
      ]
     },
     "metadata": {},
     "output_type": "display_data"
    },
    {
     "data": {
      "text/html": [
       "<pre style=\"white-space:pre;overflow-x:auto;line-height:normal;font-family:Menlo,'DejaVu Sans Mono',consolas,'Courier New',monospace\">Attribute: ectasia with <span style=\"color: #008080; text-decoration-color: #008080; font-weight: bold\">7</span> sentences\n",
       "</pre>\n"
      ],
      "text/plain": [
       "Attribute: ectasia with \u001b[1;36m7\u001b[0m sentences\n"
      ]
     },
     "metadata": {},
     "output_type": "display_data"
    },
    {
     "data": {
      "text/html": [
       "<pre style=\"white-space:pre;overflow-x:auto;line-height:normal;font-family:Menlo,'DejaVu Sans Mono',consolas,'Courier New',monospace\"><span style=\"color: #008080; text-decoration-color: #008080; font-weight: bold\">7</span>\n",
       "</pre>\n"
      ],
      "text/plain": [
       "\u001b[1;36m7\u001b[0m\n"
      ]
     },
     "metadata": {},
     "output_type": "display_data"
    },
    {
     "data": {
      "text/html": [
       "<pre style=\"white-space:pre;overflow-x:auto;line-height:normal;font-family:Menlo,'DejaVu Sans Mono',consolas,'Courier New',monospace\">Attribute: deformities with <span style=\"color: #008080; text-decoration-color: #008080; font-weight: bold\">7</span> sentences\n",
       "</pre>\n"
      ],
      "text/plain": [
       "Attribute: deformities with \u001b[1;36m7\u001b[0m sentences\n"
      ]
     },
     "metadata": {},
     "output_type": "display_data"
    },
    {
     "data": {
      "text/html": [
       "<pre style=\"white-space:pre;overflow-x:auto;line-height:normal;font-family:Menlo,'DejaVu Sans Mono',consolas,'Courier New',monospace\"><span style=\"color: #008080; text-decoration-color: #008080; font-weight: bold\">7</span>\n",
       "</pre>\n"
      ],
      "text/plain": [
       "\u001b[1;36m7\u001b[0m\n"
      ]
     },
     "metadata": {},
     "output_type": "display_data"
    },
    {
     "data": {
      "text/html": [
       "<pre style=\"white-space:pre;overflow-x:auto;line-height:normal;font-family:Menlo,'DejaVu Sans Mono',consolas,'Courier New',monospace\">Attribute: mild degenerative changes with <span style=\"color: #008080; text-decoration-color: #008080; font-weight: bold\">50</span> sentences\n",
       "</pre>\n"
      ],
      "text/plain": [
       "Attribute: mild degenerative changes with \u001b[1;36m50\u001b[0m sentences\n"
      ]
     },
     "metadata": {},
     "output_type": "display_data"
    },
    {
     "data": {
      "text/html": [
       "<pre style=\"white-space:pre;overflow-x:auto;line-height:normal;font-family:Menlo,'DejaVu Sans Mono',consolas,'Courier New',monospace\"><span style=\"color: #008080; text-decoration-color: #008080; font-weight: bold\">50</span>\n",
       "</pre>\n"
      ],
      "text/plain": [
       "\u001b[1;36m50\u001b[0m\n"
      ]
     },
     "metadata": {},
     "output_type": "display_data"
    },
    {
     "data": {
      "text/html": [
       "<pre style=\"white-space:pre;overflow-x:auto;line-height:normal;font-family:Menlo,'DejaVu Sans Mono',consolas,'Courier New',monospace\">Attribute: loss with <span style=\"color: #008080; text-decoration-color: #008080; font-weight: bold\">6</span> sentences\n",
       "</pre>\n"
      ],
      "text/plain": [
       "Attribute: loss with \u001b[1;36m6\u001b[0m sentences\n"
      ]
     },
     "metadata": {},
     "output_type": "display_data"
    },
    {
     "data": {
      "text/html": [
       "<pre style=\"white-space:pre;overflow-x:auto;line-height:normal;font-family:Menlo,'DejaVu Sans Mono',consolas,'Courier New',monospace\"><span style=\"color: #008080; text-decoration-color: #008080; font-weight: bold\">6</span>\n",
       "</pre>\n"
      ],
      "text/plain": [
       "\u001b[1;36m6\u001b[0m\n"
      ]
     },
     "metadata": {},
     "output_type": "display_data"
    },
    {
     "data": {
      "text/html": [
       "<pre style=\"white-space:pre;overflow-x:auto;line-height:normal;font-family:Menlo,'DejaVu Sans Mono',consolas,'Courier New',monospace\">Attribute: emphysematous changes with <span style=\"color: #008080; text-decoration-color: #008080; font-weight: bold\">50</span> sentences\n",
       "</pre>\n"
      ],
      "text/plain": [
       "Attribute: emphysematous changes with \u001b[1;36m50\u001b[0m sentences\n"
      ]
     },
     "metadata": {},
     "output_type": "display_data"
    },
    {
     "data": {
      "text/html": [
       "<pre style=\"white-space:pre;overflow-x:auto;line-height:normal;font-family:Menlo,'DejaVu Sans Mono',consolas,'Courier New',monospace\"><span style=\"color: #008080; text-decoration-color: #008080; font-weight: bold\">50</span>\n",
       "</pre>\n"
      ],
      "text/plain": [
       "\u001b[1;36m50\u001b[0m\n"
      ]
     },
     "metadata": {},
     "output_type": "display_data"
    }
   ],
   "source": [
    "for attribute in attributes:\n",
    "    # Split the attribute into individual words\n",
    "    attribute_words = attribute.split()\n",
    "    \n",
    "    # Identify sentences that contain any word from the attribute\n",
    "    sentences_with_attributes = []\n",
    "\n",
    "    for sentence_list in val_df[\"sentences\"]:\n",
    "        if sentence_list:\n",
    "            for sentence in sentence_list:\n",
    "                # Check if any word from attribute_words is in the sentence\n",
    "                if any(word in sentence for word in attribute_words):\n",
    "                    sentences_with_attributes.append(sentence)\n",
    "\n",
    "    # Count the frequency of each sentence containing the attribute\n",
    "    sentence_counter = Counter(sentences_with_attributes)\n",
    "\n",
    "    # Get the 50 most frequent sentences\n",
    "    most_common_sentences = [\n",
    "        sentence for sentence, _ in sentence_counter.most_common(50)\n",
    "    ]\n",
    "\n",
    "    # Print the attribute and the number of matched sentences for debugging\n",
    "    print(f\"Attribute: {attribute} with {len(most_common_sentences)} sentences\")\n",
    "    print(len(most_common_sentences))\n"
   ]
  },
  {
   "cell_type": "code",
   "execution_count": null,
   "metadata": {},
   "outputs": [],
   "source": [
    "# from medclip import MedCLIPProcessor, MedCLIPTextModel\n",
    "\n",
    "# device = \"cuda\" if torch.cuda.is_available() else \"cpu\"\n",
    "# print(f\"Using device: {device}\")\n",
    "\n",
    "# attribute_embeddings = []\n",
    "\n",
    "# processor = MedCLIPProcessor()\n",
    "# model = MedCLIPTextModel()\n",
    "# model.cuda()\n",
    "\n",
    "# for attribute in attributes:\n",
    "#     # Identify sentences that contain the attribute from the \"sentences\" column\n",
    "#     sentences_with_attributes = []\n",
    "\n",
    "#     for sentence_list in train_df[\"sentences\"]:\n",
    "#         if sentence_list:\n",
    "#             for sentence in sentence_list:\n",
    "#                 if attribute in sentence:\n",
    "#                     sentences_with_attributes.append(sentence)\n",
    "\n",
    "#     # Count the frequency of each sentence containing the attribute\n",
    "#     sentence_counter = Counter(sentences_with_attributes)\n",
    "\n",
    "#     # Get the 200 most frequent sentences\n",
    "#     most_common_sentences = [\n",
    "#         sentence for sentence, _ in sentence_counter.most_common(200)\n",
    "#     ]\n",
    "\n",
    "#     with torch.inference_mode():\n",
    "#         if most_common_sentences:\n",
    "#             # Compute sentence embeddings\n",
    "#             most_common_sentences = processor(\n",
    "#                 text=most_common_sentences, return_tensors=\"pt\", padding=True\n",
    "#             ).to(\"cuda\")\n",
    "#             sentence_embeddings = model.forward(\n",
    "#                 most_common_sentences[\"input_ids\"],\n",
    "#                 most_common_sentences[\"attention_mask\"],\n",
    "#             )\n",
    "\n",
    "#             # Average the embeddings\n",
    "#             average_embedding = sentence_embeddings.mean(axis=0)\n",
    "#             average_embedding = average_embedding.cpu().detach().numpy()\n",
    "#             attribute_embeddings.append(average_embedding)\n",
    "#         else:\n",
    "#             print(f\"No sentences found for attribute: {attribute}\")\n",
    "\n",
    "# attribute_embeddings = np.stack(attribute_embeddings)\n",
    "# attribute_embeddings = torch.tensor(attribute_embeddings).to(device)\n",
    "# print(attribute_embeddings.shape)\n",
    "# attribute_embeddings = dict(zip(attributes, attribute_embeddings))\n",
    "\n",
    "# # Output the averaged embeddings\n",
    "# for attribute, embedding in attribute_embeddings.items():\n",
    "#     print(f\"Shape: {embedding.shape}\")\n",
    "#     print(f\"Attribute: {attribute}\")\n",
    "#     print(f\"Embedding: {embedding[:10]}, dtype: {embedding.dtype}\")"
   ]
  },
  {
   "cell_type": "code",
   "execution_count": null,
   "metadata": {},
   "outputs": [],
   "source": [
    "# # Save embeddings\n",
    "# torch.save(attribute_embeddings, f\"{DATA_DIR}/attr_embs.pth\")"
   ]
  },
  {
   "cell_type": "code",
   "execution_count": 66,
   "metadata": {},
   "outputs": [],
   "source": [
    "frames = [train_df, val_df]"
   ]
  },
  {
   "cell_type": "code",
   "execution_count": 67,
   "metadata": {},
   "outputs": [],
   "source": [
    "df = pd.concat(frames)"
   ]
  },
  {
   "cell_type": "code",
   "execution_count": 68,
   "metadata": {},
   "outputs": [
    {
     "data": {
      "text/html": [
       "<div>\n",
       "<style scoped>\n",
       "    .dataframe tbody tr th:only-of-type {\n",
       "        vertical-align: middle;\n",
       "    }\n",
       "\n",
       "    .dataframe tbody tr th {\n",
       "        vertical-align: top;\n",
       "    }\n",
       "\n",
       "    .dataframe thead th {\n",
       "        text-align: right;\n",
       "    }\n",
       "</style>\n",
       "<table border=\"1\" class=\"dataframe\">\n",
       "  <thead>\n",
       "    <tr style=\"text-align: right;\">\n",
       "      <th></th>\n",
       "      <th>image_id</th>\n",
       "      <th>image_size</th>\n",
       "      <th>image_filepath</th>\n",
       "      <th>region_coord</th>\n",
       "      <th>region_bbox</th>\n",
       "      <th>region_labels</th>\n",
       "      <th>num_regions</th>\n",
       "      <th>text_filepath</th>\n",
       "      <th>text</th>\n",
       "      <th>attributes</th>\n",
       "      <th>split</th>\n",
       "      <th>sentences</th>\n",
       "    </tr>\n",
       "  </thead>\n",
       "  <tbody>\n",
       "    <tr>\n",
       "      <th>2531</th>\n",
       "      <td>2531</td>\n",
       "      <td>[224, 224]</td>\n",
       "      <td>C:/Users/DryLab/Desktop/ConVIRT/Dataset/open-i...</td>\n",
       "      <td>[[0, 0, 0, 0, 0, 0, 0, 0, 0, 0, 0, 0, 0, 0, 0,...</td>\n",
       "      <td>[[27.0, 14.0, 102.0, 160.0], [111.0, 14.0, 193...</td>\n",
       "      <td>[[1], [2], [3]]</td>\n",
       "      <td>3</td>\n",
       "      <td>C:/Users/DryLab/Desktop/ConVIRT/Dataset/open-i...</td>\n",
       "      <td>the heart size is normal . the mediastinal con...</td>\n",
       "      <td>[multiple calcified granulomas]</td>\n",
       "      <td>train</td>\n",
       "      <td>[the heart size is normal ., the mediastinal c...</td>\n",
       "    </tr>\n",
       "    <tr>\n",
       "      <th>1750</th>\n",
       "      <td>1750</td>\n",
       "      <td>[224, 224]</td>\n",
       "      <td>C:/Users/DryLab/Desktop/ConVIRT/Dataset/open-i...</td>\n",
       "      <td>[[0, 0, 0, 0, 0, 0, 0, 0, 0, 0, 0, 0, 0, 0, 0,...</td>\n",
       "      <td>[[33.0, 12.0, 107.0, 205.0], [115.0, 14.0, 183...</td>\n",
       "      <td>[[1], [2], [3]]</td>\n",
       "      <td>3</td>\n",
       "      <td>C:/Users/DryLab/Desktop/ConVIRT/Dataset/open-i...</td>\n",
       "      <td>heart size within normal limits .</td>\n",
       "      <td>[limits]</td>\n",
       "      <td>train</td>\n",
       "      <td>[heart size within normal limits .]</td>\n",
       "    </tr>\n",
       "    <tr>\n",
       "      <th>3386</th>\n",
       "      <td>3386</td>\n",
       "      <td>[224, 224]</td>\n",
       "      <td>C:/Users/DryLab/Desktop/ConVIRT/Dataset/open-i...</td>\n",
       "      <td>[[0, 0, 0, 0, 0, 0, 0, 0, 0, 0, 0, 0, 0, 0, 0,...</td>\n",
       "      <td>[[18.0, 27.0, 104.0, 166.0], [115.0, 24.0, 197...</td>\n",
       "      <td>[[1], [2], [3]]</td>\n",
       "      <td>3</td>\n",
       "      <td>C:/Users/DryLab/Desktop/ConVIRT/Dataset/open-i...</td>\n",
       "      <td>the heart , pulmonary [MASK] and mediastinum a...</td>\n",
       "      <td>[mild degenerative changes]</td>\n",
       "      <td>train</td>\n",
       "      <td>[the heart , pulmonary [MASK] and mediastinum ...</td>\n",
       "    </tr>\n",
       "    <tr>\n",
       "      <th>187</th>\n",
       "      <td>187</td>\n",
       "      <td>[224, 224]</td>\n",
       "      <td>C:/Users/DryLab/Desktop/ConVIRT/Dataset/open-i...</td>\n",
       "      <td>[[0, 0, 0, 0, 0, 0, 0, 0, 0, 0, 0, 0, 0, 0, 0,...</td>\n",
       "      <td>[[14.0, 21.0, 103.0, 171.0], [115.0, 22.0, 197...</td>\n",
       "      <td>[[1], [2], [3]]</td>\n",
       "      <td>3</td>\n",
       "      <td>C:/Users/DryLab/Desktop/ConVIRT/Dataset/open-i...</td>\n",
       "      <td>pa and moderate loss of the chest demonstrate ...</td>\n",
       "      <td>[loss, ectasia, emphysematous changes, emphyse...</td>\n",
       "      <td>train</td>\n",
       "      <td>[pa and moderate loss of the chest demonstrate...</td>\n",
       "    </tr>\n",
       "    <tr>\n",
       "      <th>1231</th>\n",
       "      <td>1231</td>\n",
       "      <td>[224, 224]</td>\n",
       "      <td>C:/Users/DryLab/Desktop/ConVIRT/Dataset/open-i...</td>\n",
       "      <td>[[0, 0, 0, 0, 0, 0, 0, 0, 0, 0, 0, 0, 0, 0, 0,...</td>\n",
       "      <td>[[27.0, 32.0, 121.0, 187.0], [130.0, 30.0, 215...</td>\n",
       "      <td>[[1], [2], [3]]</td>\n",
       "      <td>3</td>\n",
       "      <td>C:/Users/DryLab/Desktop/ConVIRT/Dataset/open-i...</td>\n",
       "      <td>moderate cardiomegaly . bibasilar and perihila...</td>\n",
       "      <td>[cardiomegaly, opacities, cardiomegaly, edema]</td>\n",
       "      <td>train</td>\n",
       "      <td>[moderate cardiomegaly ., bibasilar and perihi...</td>\n",
       "    </tr>\n",
       "    <tr>\n",
       "      <th>...</th>\n",
       "      <td>...</td>\n",
       "      <td>...</td>\n",
       "      <td>...</td>\n",
       "      <td>...</td>\n",
       "      <td>...</td>\n",
       "      <td>...</td>\n",
       "      <td>...</td>\n",
       "      <td>...</td>\n",
       "      <td>...</td>\n",
       "      <td>...</td>\n",
       "      <td>...</td>\n",
       "      <td>...</td>\n",
       "    </tr>\n",
       "    <tr>\n",
       "      <th>541</th>\n",
       "      <td>541</td>\n",
       "      <td>[224, 224]</td>\n",
       "      <td>C:/Users/DryLab/Desktop/ConVIRT/Dataset/open-i...</td>\n",
       "      <td>[[0, 0, 0, 0, 0, 0, 0, 0, 0, 0, 0, 0, 0, 0, 0,...</td>\n",
       "      <td>[[37.0, 24.0, 118.0, 148.0], [128.0, 24.0, 201...</td>\n",
       "      <td>[[1], [2], [3]]</td>\n",
       "      <td>3</td>\n",
       "      <td>C:/Users/DryLab/Desktop/ConVIRT/Dataset/open-i...</td>\n",
       "      <td>the cardiomediastinal silhouette is within nor...</td>\n",
       "      <td>[limits]</td>\n",
       "      <td>val</td>\n",
       "      <td>[the cardiomediastinal silhouette is within no...</td>\n",
       "    </tr>\n",
       "    <tr>\n",
       "      <th>2899</th>\n",
       "      <td>2899</td>\n",
       "      <td>[224, 224]</td>\n",
       "      <td>C:/Users/DryLab/Desktop/ConVIRT/Dataset/open-i...</td>\n",
       "      <td>[[0, 0, 0, 0, 0, 0, 0, 0, 0, 0, 0, 0, 0, 0, 0,...</td>\n",
       "      <td>[[21.0, 26.0, 111.0, 169.0], [122.0, 30.0, 200...</td>\n",
       "      <td>[[1], [2], [3]]</td>\n",
       "      <td>3</td>\n",
       "      <td>C:/Users/DryLab/Desktop/ConVIRT/Dataset/open-i...</td>\n",
       "      <td>the cardiomediastinal silhouette is within nor...</td>\n",
       "      <td>[normal limits]</td>\n",
       "      <td>val</td>\n",
       "      <td>[the cardiomediastinal silhouette is within no...</td>\n",
       "    </tr>\n",
       "    <tr>\n",
       "      <th>790</th>\n",
       "      <td>790</td>\n",
       "      <td>[224, 224]</td>\n",
       "      <td>C:/Users/DryLab/Desktop/ConVIRT/Dataset/open-i...</td>\n",
       "      <td>[[0, 0, 0, 0, 0, 0, 0, 0, 0, 0, 0, 0, 0, 0, 0,...</td>\n",
       "      <td>[[35.0, 47.0, 115.0, 185.0], [128.0, 40.0, 213...</td>\n",
       "      <td>[[1], [2], [3]]</td>\n",
       "      <td>3</td>\n",
       "      <td>C:/Users/DryLab/Desktop/ConVIRT/Dataset/open-i...</td>\n",
       "      <td>the heart is normal in size . the mediastinal ...</td>\n",
       "      <td>[mild prominence, prominence, lucent, prominence]</td>\n",
       "      <td>val</td>\n",
       "      <td>[the heart is normal in size ., the mediastina...</td>\n",
       "    </tr>\n",
       "    <tr>\n",
       "      <th>1021</th>\n",
       "      <td>1021</td>\n",
       "      <td>[224, 224]</td>\n",
       "      <td>C:/Users/DryLab/Desktop/ConVIRT/Dataset/open-i...</td>\n",
       "      <td>[[0, 0, 0, 0, 0, 0, 0, 0, 0, 0, 0, 0, 0, 0, 0,...</td>\n",
       "      <td>[[33.0, 28.0, 114.0, 198.0], [121.0, 23.0, 206...</td>\n",
       "      <td>[[1], [2], [3]]</td>\n",
       "      <td>3</td>\n",
       "      <td>C:/Users/DryLab/Desktop/ConVIRT/Dataset/open-i...</td>\n",
       "      <td>heart size is normal . lungs are clear . minim...</td>\n",
       "      <td>[atelectasis]</td>\n",
       "      <td>val</td>\n",
       "      <td>[heart size is normal ., lungs are clear ., mi...</td>\n",
       "    </tr>\n",
       "    <tr>\n",
       "      <th>277</th>\n",
       "      <td>277</td>\n",
       "      <td>[224, 224]</td>\n",
       "      <td>C:/Users/DryLab/Desktop/ConVIRT/Dataset/open-i...</td>\n",
       "      <td>[[0, 0, 0, 0, 0, 0, 0, 0, 0, 0, 0, 0, 0, 0, 0,...</td>\n",
       "      <td>[[51.0, 3.0, 114.0, 143.0], [121.0, 0.0, 192.0...</td>\n",
       "      <td>[[1], [2], [3]]</td>\n",
       "      <td>3</td>\n",
       "      <td>C:/Users/DryLab/Desktop/ConVIRT/Dataset/open-i...</td>\n",
       "      <td>mild cardiomegaly . normal pulmonary vasculari...</td>\n",
       "      <td>[cardiomegaly, tortuosity, cardiomegaly]</td>\n",
       "      <td>val</td>\n",
       "      <td>[mild cardiomegaly ., normal pulmonary vascula...</td>\n",
       "    </tr>\n",
       "  </tbody>\n",
       "</table>\n",
       "<p>2280 rows × 12 columns</p>\n",
       "</div>"
      ],
      "text/plain": [
       "      image_id  image_size                                     image_filepath  \\\n",
       "2531      2531  [224, 224]  C:/Users/DryLab/Desktop/ConVIRT/Dataset/open-i...   \n",
       "1750      1750  [224, 224]  C:/Users/DryLab/Desktop/ConVIRT/Dataset/open-i...   \n",
       "3386      3386  [224, 224]  C:/Users/DryLab/Desktop/ConVIRT/Dataset/open-i...   \n",
       "187        187  [224, 224]  C:/Users/DryLab/Desktop/ConVIRT/Dataset/open-i...   \n",
       "1231      1231  [224, 224]  C:/Users/DryLab/Desktop/ConVIRT/Dataset/open-i...   \n",
       "...        ...         ...                                                ...   \n",
       "541        541  [224, 224]  C:/Users/DryLab/Desktop/ConVIRT/Dataset/open-i...   \n",
       "2899      2899  [224, 224]  C:/Users/DryLab/Desktop/ConVIRT/Dataset/open-i...   \n",
       "790        790  [224, 224]  C:/Users/DryLab/Desktop/ConVIRT/Dataset/open-i...   \n",
       "1021      1021  [224, 224]  C:/Users/DryLab/Desktop/ConVIRT/Dataset/open-i...   \n",
       "277        277  [224, 224]  C:/Users/DryLab/Desktop/ConVIRT/Dataset/open-i...   \n",
       "\n",
       "                                           region_coord  \\\n",
       "2531  [[0, 0, 0, 0, 0, 0, 0, 0, 0, 0, 0, 0, 0, 0, 0,...   \n",
       "1750  [[0, 0, 0, 0, 0, 0, 0, 0, 0, 0, 0, 0, 0, 0, 0,...   \n",
       "3386  [[0, 0, 0, 0, 0, 0, 0, 0, 0, 0, 0, 0, 0, 0, 0,...   \n",
       "187   [[0, 0, 0, 0, 0, 0, 0, 0, 0, 0, 0, 0, 0, 0, 0,...   \n",
       "1231  [[0, 0, 0, 0, 0, 0, 0, 0, 0, 0, 0, 0, 0, 0, 0,...   \n",
       "...                                                 ...   \n",
       "541   [[0, 0, 0, 0, 0, 0, 0, 0, 0, 0, 0, 0, 0, 0, 0,...   \n",
       "2899  [[0, 0, 0, 0, 0, 0, 0, 0, 0, 0, 0, 0, 0, 0, 0,...   \n",
       "790   [[0, 0, 0, 0, 0, 0, 0, 0, 0, 0, 0, 0, 0, 0, 0,...   \n",
       "1021  [[0, 0, 0, 0, 0, 0, 0, 0, 0, 0, 0, 0, 0, 0, 0,...   \n",
       "277   [[0, 0, 0, 0, 0, 0, 0, 0, 0, 0, 0, 0, 0, 0, 0,...   \n",
       "\n",
       "                                            region_bbox    region_labels  \\\n",
       "2531  [[27.0, 14.0, 102.0, 160.0], [111.0, 14.0, 193...  [[1], [2], [3]]   \n",
       "1750  [[33.0, 12.0, 107.0, 205.0], [115.0, 14.0, 183...  [[1], [2], [3]]   \n",
       "3386  [[18.0, 27.0, 104.0, 166.0], [115.0, 24.0, 197...  [[1], [2], [3]]   \n",
       "187   [[14.0, 21.0, 103.0, 171.0], [115.0, 22.0, 197...  [[1], [2], [3]]   \n",
       "1231  [[27.0, 32.0, 121.0, 187.0], [130.0, 30.0, 215...  [[1], [2], [3]]   \n",
       "...                                                 ...              ...   \n",
       "541   [[37.0, 24.0, 118.0, 148.0], [128.0, 24.0, 201...  [[1], [2], [3]]   \n",
       "2899  [[21.0, 26.0, 111.0, 169.0], [122.0, 30.0, 200...  [[1], [2], [3]]   \n",
       "790   [[35.0, 47.0, 115.0, 185.0], [128.0, 40.0, 213...  [[1], [2], [3]]   \n",
       "1021  [[33.0, 28.0, 114.0, 198.0], [121.0, 23.0, 206...  [[1], [2], [3]]   \n",
       "277   [[51.0, 3.0, 114.0, 143.0], [121.0, 0.0, 192.0...  [[1], [2], [3]]   \n",
       "\n",
       "      num_regions                                      text_filepath  \\\n",
       "2531            3  C:/Users/DryLab/Desktop/ConVIRT/Dataset/open-i...   \n",
       "1750            3  C:/Users/DryLab/Desktop/ConVIRT/Dataset/open-i...   \n",
       "3386            3  C:/Users/DryLab/Desktop/ConVIRT/Dataset/open-i...   \n",
       "187             3  C:/Users/DryLab/Desktop/ConVIRT/Dataset/open-i...   \n",
       "1231            3  C:/Users/DryLab/Desktop/ConVIRT/Dataset/open-i...   \n",
       "...           ...                                                ...   \n",
       "541             3  C:/Users/DryLab/Desktop/ConVIRT/Dataset/open-i...   \n",
       "2899            3  C:/Users/DryLab/Desktop/ConVIRT/Dataset/open-i...   \n",
       "790             3  C:/Users/DryLab/Desktop/ConVIRT/Dataset/open-i...   \n",
       "1021            3  C:/Users/DryLab/Desktop/ConVIRT/Dataset/open-i...   \n",
       "277             3  C:/Users/DryLab/Desktop/ConVIRT/Dataset/open-i...   \n",
       "\n",
       "                                                   text  \\\n",
       "2531  the heart size is normal . the mediastinal con...   \n",
       "1750                  heart size within normal limits .   \n",
       "3386  the heart , pulmonary [MASK] and mediastinum a...   \n",
       "187   pa and moderate loss of the chest demonstrate ...   \n",
       "1231  moderate cardiomegaly . bibasilar and perihila...   \n",
       "...                                                 ...   \n",
       "541   the cardiomediastinal silhouette is within nor...   \n",
       "2899  the cardiomediastinal silhouette is within nor...   \n",
       "790   the heart is normal in size . the mediastinal ...   \n",
       "1021  heart size is normal . lungs are clear . minim...   \n",
       "277   mild cardiomegaly . normal pulmonary vasculari...   \n",
       "\n",
       "                                             attributes  split  \\\n",
       "2531                    [multiple calcified granulomas]  train   \n",
       "1750                                           [limits]  train   \n",
       "3386                        [mild degenerative changes]  train   \n",
       "187   [loss, ectasia, emphysematous changes, emphyse...  train   \n",
       "1231     [cardiomegaly, opacities, cardiomegaly, edema]  train   \n",
       "...                                                 ...    ...   \n",
       "541                                            [limits]    val   \n",
       "2899                                    [normal limits]    val   \n",
       "790   [mild prominence, prominence, lucent, prominence]    val   \n",
       "1021                                      [atelectasis]    val   \n",
       "277            [cardiomegaly, tortuosity, cardiomegaly]    val   \n",
       "\n",
       "                                              sentences  \n",
       "2531  [the heart size is normal ., the mediastinal c...  \n",
       "1750                [heart size within normal limits .]  \n",
       "3386  [the heart , pulmonary [MASK] and mediastinum ...  \n",
       "187   [pa and moderate loss of the chest demonstrate...  \n",
       "1231  [moderate cardiomegaly ., bibasilar and perihi...  \n",
       "...                                                 ...  \n",
       "541   [the cardiomediastinal silhouette is within no...  \n",
       "2899  [the cardiomediastinal silhouette is within no...  \n",
       "790   [the heart is normal in size ., the mediastina...  \n",
       "1021  [heart size is normal ., lungs are clear ., mi...  \n",
       "277   [mild cardiomegaly ., normal pulmonary vascula...  \n",
       "\n",
       "[2280 rows x 12 columns]"
      ]
     },
     "execution_count": 68,
     "metadata": {},
     "output_type": "execute_result"
    }
   ],
   "source": [
    "df"
   ]
  },
  {
   "cell_type": "markdown",
   "metadata": {},
   "source": [
    "### Filter out attibutes that are not in the list of attributes\n"
   ]
  },
  {
   "cell_type": "code",
   "execution_count": 69,
   "metadata": {},
   "outputs": [
    {
     "data": {
      "text/plain": [
       "['cardiomegaly',\n",
       " 'atelectasis',\n",
       " 'opacities',\n",
       " 'disease',\n",
       " 'opacity',\n",
       " 'limits',\n",
       " 'normal limits',\n",
       " 'granuloma',\n",
       " 'degenerative changes',\n",
       " 'effusions',\n",
       " 'effusion',\n",
       " 'emphysema',\n",
       " 'changes',\n",
       " 'markings',\n",
       " 'granulomas',\n",
       " 'calcifications',\n",
       " 'midline',\n",
       " 'density',\n",
       " 'tortuosity',\n",
       " 'sternotomy',\n",
       " 'hiatal hernia',\n",
       " 'lymph',\n",
       " 'prominence',\n",
       " 'deformity',\n",
       " 'calcification',\n",
       " 'osteophytes',\n",
       " 'elevation',\n",
       " 'edema',\n",
       " 'surgical clips',\n",
       " 'congestion',\n",
       " 'nodules',\n",
       " 'pneumonia',\n",
       " 'enlargement',\n",
       " 'clips',\n",
       " 'hyperexpansion',\n",
       " 'scoliosis',\n",
       " 'copd',\n",
       " 'dextroscoliosis',\n",
       " 'calcified granuloma',\n",
       " 'eventration',\n",
       " 'pneumothorax',\n",
       " 'tip',\n",
       " 'consolidation',\n",
       " 'aeration',\n",
       " 'lucency',\n",
       " 'ectasia',\n",
       " 'deformities',\n",
       " 'mild degenerative changes',\n",
       " 'loss',\n",
       " 'emphysematous changes']"
      ]
     },
     "execution_count": 69,
     "metadata": {},
     "output_type": "execute_result"
    }
   ],
   "source": [
    "attributes"
   ]
  },
  {
   "cell_type": "code",
   "execution_count": 70,
   "metadata": {},
   "outputs": [],
   "source": [
    "df[\"attributes\"] = df[\"attributes\"].apply(\n",
    "    lambda x: [attr for attr in x if attr in attributes]\n",
    ")"
   ]
  },
  {
   "cell_type": "code",
   "execution_count": 71,
   "metadata": {},
   "outputs": [],
   "source": [
    "# # Remove row if no attributes are less than 3\n",
    "mask = df[\"attributes\"].apply(lambda x: len(x) > 0)\n",
    "\n",
    "df[\"attributes\"] = df[\"attributes\"].where(mask)\n",
    "\n",
    "df = df.dropna(subset=[\"attributes\"])"
   ]
  },
  {
   "cell_type": "code",
   "execution_count": 72,
   "metadata": {},
   "outputs": [
    {
     "data": {
      "text/html": [
       "<div>\n",
       "<style scoped>\n",
       "    .dataframe tbody tr th:only-of-type {\n",
       "        vertical-align: middle;\n",
       "    }\n",
       "\n",
       "    .dataframe tbody tr th {\n",
       "        vertical-align: top;\n",
       "    }\n",
       "\n",
       "    .dataframe thead th {\n",
       "        text-align: right;\n",
       "    }\n",
       "</style>\n",
       "<table border=\"1\" class=\"dataframe\">\n",
       "  <thead>\n",
       "    <tr style=\"text-align: right;\">\n",
       "      <th></th>\n",
       "      <th>image_id</th>\n",
       "      <th>image_size</th>\n",
       "      <th>image_filepath</th>\n",
       "      <th>region_coord</th>\n",
       "      <th>region_bbox</th>\n",
       "      <th>region_labels</th>\n",
       "      <th>num_regions</th>\n",
       "      <th>text_filepath</th>\n",
       "      <th>text</th>\n",
       "      <th>attributes</th>\n",
       "      <th>split</th>\n",
       "      <th>sentences</th>\n",
       "    </tr>\n",
       "  </thead>\n",
       "  <tbody>\n",
       "    <tr>\n",
       "      <th>1750</th>\n",
       "      <td>1750</td>\n",
       "      <td>[224, 224]</td>\n",
       "      <td>C:/Users/DryLab/Desktop/ConVIRT/Dataset/open-i...</td>\n",
       "      <td>[[0, 0, 0, 0, 0, 0, 0, 0, 0, 0, 0, 0, 0, 0, 0,...</td>\n",
       "      <td>[[33.0, 12.0, 107.0, 205.0], [115.0, 14.0, 183...</td>\n",
       "      <td>[[1], [2], [3]]</td>\n",
       "      <td>3</td>\n",
       "      <td>C:/Users/DryLab/Desktop/ConVIRT/Dataset/open-i...</td>\n",
       "      <td>heart size within normal limits .</td>\n",
       "      <td>[limits]</td>\n",
       "      <td>train</td>\n",
       "      <td>[heart size within normal limits .]</td>\n",
       "    </tr>\n",
       "    <tr>\n",
       "      <th>3386</th>\n",
       "      <td>3386</td>\n",
       "      <td>[224, 224]</td>\n",
       "      <td>C:/Users/DryLab/Desktop/ConVIRT/Dataset/open-i...</td>\n",
       "      <td>[[0, 0, 0, 0, 0, 0, 0, 0, 0, 0, 0, 0, 0, 0, 0,...</td>\n",
       "      <td>[[18.0, 27.0, 104.0, 166.0], [115.0, 24.0, 197...</td>\n",
       "      <td>[[1], [2], [3]]</td>\n",
       "      <td>3</td>\n",
       "      <td>C:/Users/DryLab/Desktop/ConVIRT/Dataset/open-i...</td>\n",
       "      <td>the heart , pulmonary [MASK] and mediastinum a...</td>\n",
       "      <td>[mild degenerative changes]</td>\n",
       "      <td>train</td>\n",
       "      <td>[the heart , pulmonary [MASK] and mediastinum ...</td>\n",
       "    </tr>\n",
       "    <tr>\n",
       "      <th>187</th>\n",
       "      <td>187</td>\n",
       "      <td>[224, 224]</td>\n",
       "      <td>C:/Users/DryLab/Desktop/ConVIRT/Dataset/open-i...</td>\n",
       "      <td>[[0, 0, 0, 0, 0, 0, 0, 0, 0, 0, 0, 0, 0, 0, 0,...</td>\n",
       "      <td>[[14.0, 21.0, 103.0, 171.0], [115.0, 22.0, 197...</td>\n",
       "      <td>[[1], [2], [3]]</td>\n",
       "      <td>3</td>\n",
       "      <td>C:/Users/DryLab/Desktop/ConVIRT/Dataset/open-i...</td>\n",
       "      <td>pa and moderate loss of the chest demonstrate ...</td>\n",
       "      <td>[loss, ectasia, emphysematous changes, emphyse...</td>\n",
       "      <td>train</td>\n",
       "      <td>[pa and moderate loss of the chest demonstrate...</td>\n",
       "    </tr>\n",
       "    <tr>\n",
       "      <th>1231</th>\n",
       "      <td>1231</td>\n",
       "      <td>[224, 224]</td>\n",
       "      <td>C:/Users/DryLab/Desktop/ConVIRT/Dataset/open-i...</td>\n",
       "      <td>[[0, 0, 0, 0, 0, 0, 0, 0, 0, 0, 0, 0, 0, 0, 0,...</td>\n",
       "      <td>[[27.0, 32.0, 121.0, 187.0], [130.0, 30.0, 215...</td>\n",
       "      <td>[[1], [2], [3]]</td>\n",
       "      <td>3</td>\n",
       "      <td>C:/Users/DryLab/Desktop/ConVIRT/Dataset/open-i...</td>\n",
       "      <td>moderate cardiomegaly . bibasilar and perihila...</td>\n",
       "      <td>[cardiomegaly, opacities, cardiomegaly, edema]</td>\n",
       "      <td>train</td>\n",
       "      <td>[moderate cardiomegaly ., bibasilar and perihi...</td>\n",
       "    </tr>\n",
       "    <tr>\n",
       "      <th>683</th>\n",
       "      <td>683</td>\n",
       "      <td>[224, 224]</td>\n",
       "      <td>C:/Users/DryLab/Desktop/ConVIRT/Dataset/open-i...</td>\n",
       "      <td>[[0, 0, 0, 0, 0, 0, 0, 0, 0, 0, 0, 0, 0, 0, 0,...</td>\n",
       "      <td>[[10.0, 25.0, 94.0, 164.0], [103.0, 20.0, 197....</td>\n",
       "      <td>[[1], [2], [3]]</td>\n",
       "      <td>3</td>\n",
       "      <td>C:/Users/DryLab/Desktop/ConVIRT/Dataset/open-i...</td>\n",
       "      <td>heart size or great lungs are clear . calcifie...</td>\n",
       "      <td>[granuloma]</td>\n",
       "      <td>train</td>\n",
       "      <td>[heart size or great lungs are clear ., calcif...</td>\n",
       "    </tr>\n",
       "    <tr>\n",
       "      <th>...</th>\n",
       "      <td>...</td>\n",
       "      <td>...</td>\n",
       "      <td>...</td>\n",
       "      <td>...</td>\n",
       "      <td>...</td>\n",
       "      <td>...</td>\n",
       "      <td>...</td>\n",
       "      <td>...</td>\n",
       "      <td>...</td>\n",
       "      <td>...</td>\n",
       "      <td>...</td>\n",
       "      <td>...</td>\n",
       "    </tr>\n",
       "    <tr>\n",
       "      <th>541</th>\n",
       "      <td>541</td>\n",
       "      <td>[224, 224]</td>\n",
       "      <td>C:/Users/DryLab/Desktop/ConVIRT/Dataset/open-i...</td>\n",
       "      <td>[[0, 0, 0, 0, 0, 0, 0, 0, 0, 0, 0, 0, 0, 0, 0,...</td>\n",
       "      <td>[[37.0, 24.0, 118.0, 148.0], [128.0, 24.0, 201...</td>\n",
       "      <td>[[1], [2], [3]]</td>\n",
       "      <td>3</td>\n",
       "      <td>C:/Users/DryLab/Desktop/ConVIRT/Dataset/open-i...</td>\n",
       "      <td>the cardiomediastinal silhouette is within nor...</td>\n",
       "      <td>[limits]</td>\n",
       "      <td>val</td>\n",
       "      <td>[the cardiomediastinal silhouette is within no...</td>\n",
       "    </tr>\n",
       "    <tr>\n",
       "      <th>2899</th>\n",
       "      <td>2899</td>\n",
       "      <td>[224, 224]</td>\n",
       "      <td>C:/Users/DryLab/Desktop/ConVIRT/Dataset/open-i...</td>\n",
       "      <td>[[0, 0, 0, 0, 0, 0, 0, 0, 0, 0, 0, 0, 0, 0, 0,...</td>\n",
       "      <td>[[21.0, 26.0, 111.0, 169.0], [122.0, 30.0, 200...</td>\n",
       "      <td>[[1], [2], [3]]</td>\n",
       "      <td>3</td>\n",
       "      <td>C:/Users/DryLab/Desktop/ConVIRT/Dataset/open-i...</td>\n",
       "      <td>the cardiomediastinal silhouette is within nor...</td>\n",
       "      <td>[normal limits]</td>\n",
       "      <td>val</td>\n",
       "      <td>[the cardiomediastinal silhouette is within no...</td>\n",
       "    </tr>\n",
       "    <tr>\n",
       "      <th>790</th>\n",
       "      <td>790</td>\n",
       "      <td>[224, 224]</td>\n",
       "      <td>C:/Users/DryLab/Desktop/ConVIRT/Dataset/open-i...</td>\n",
       "      <td>[[0, 0, 0, 0, 0, 0, 0, 0, 0, 0, 0, 0, 0, 0, 0,...</td>\n",
       "      <td>[[35.0, 47.0, 115.0, 185.0], [128.0, 40.0, 213...</td>\n",
       "      <td>[[1], [2], [3]]</td>\n",
       "      <td>3</td>\n",
       "      <td>C:/Users/DryLab/Desktop/ConVIRT/Dataset/open-i...</td>\n",
       "      <td>the heart is normal in size . the mediastinal ...</td>\n",
       "      <td>[prominence, prominence]</td>\n",
       "      <td>val</td>\n",
       "      <td>[the heart is normal in size ., the mediastina...</td>\n",
       "    </tr>\n",
       "    <tr>\n",
       "      <th>1021</th>\n",
       "      <td>1021</td>\n",
       "      <td>[224, 224]</td>\n",
       "      <td>C:/Users/DryLab/Desktop/ConVIRT/Dataset/open-i...</td>\n",
       "      <td>[[0, 0, 0, 0, 0, 0, 0, 0, 0, 0, 0, 0, 0, 0, 0,...</td>\n",
       "      <td>[[33.0, 28.0, 114.0, 198.0], [121.0, 23.0, 206...</td>\n",
       "      <td>[[1], [2], [3]]</td>\n",
       "      <td>3</td>\n",
       "      <td>C:/Users/DryLab/Desktop/ConVIRT/Dataset/open-i...</td>\n",
       "      <td>heart size is normal . lungs are clear . minim...</td>\n",
       "      <td>[atelectasis]</td>\n",
       "      <td>val</td>\n",
       "      <td>[heart size is normal ., lungs are clear ., mi...</td>\n",
       "    </tr>\n",
       "    <tr>\n",
       "      <th>277</th>\n",
       "      <td>277</td>\n",
       "      <td>[224, 224]</td>\n",
       "      <td>C:/Users/DryLab/Desktop/ConVIRT/Dataset/open-i...</td>\n",
       "      <td>[[0, 0, 0, 0, 0, 0, 0, 0, 0, 0, 0, 0, 0, 0, 0,...</td>\n",
       "      <td>[[51.0, 3.0, 114.0, 143.0], [121.0, 0.0, 192.0...</td>\n",
       "      <td>[[1], [2], [3]]</td>\n",
       "      <td>3</td>\n",
       "      <td>C:/Users/DryLab/Desktop/ConVIRT/Dataset/open-i...</td>\n",
       "      <td>mild cardiomegaly . normal pulmonary vasculari...</td>\n",
       "      <td>[cardiomegaly, tortuosity, cardiomegaly]</td>\n",
       "      <td>val</td>\n",
       "      <td>[mild cardiomegaly ., normal pulmonary vascula...</td>\n",
       "    </tr>\n",
       "  </tbody>\n",
       "</table>\n",
       "<p>1966 rows × 12 columns</p>\n",
       "</div>"
      ],
      "text/plain": [
       "      image_id  image_size                                     image_filepath  \\\n",
       "1750      1750  [224, 224]  C:/Users/DryLab/Desktop/ConVIRT/Dataset/open-i...   \n",
       "3386      3386  [224, 224]  C:/Users/DryLab/Desktop/ConVIRT/Dataset/open-i...   \n",
       "187        187  [224, 224]  C:/Users/DryLab/Desktop/ConVIRT/Dataset/open-i...   \n",
       "1231      1231  [224, 224]  C:/Users/DryLab/Desktop/ConVIRT/Dataset/open-i...   \n",
       "683        683  [224, 224]  C:/Users/DryLab/Desktop/ConVIRT/Dataset/open-i...   \n",
       "...        ...         ...                                                ...   \n",
       "541        541  [224, 224]  C:/Users/DryLab/Desktop/ConVIRT/Dataset/open-i...   \n",
       "2899      2899  [224, 224]  C:/Users/DryLab/Desktop/ConVIRT/Dataset/open-i...   \n",
       "790        790  [224, 224]  C:/Users/DryLab/Desktop/ConVIRT/Dataset/open-i...   \n",
       "1021      1021  [224, 224]  C:/Users/DryLab/Desktop/ConVIRT/Dataset/open-i...   \n",
       "277        277  [224, 224]  C:/Users/DryLab/Desktop/ConVIRT/Dataset/open-i...   \n",
       "\n",
       "                                           region_coord  \\\n",
       "1750  [[0, 0, 0, 0, 0, 0, 0, 0, 0, 0, 0, 0, 0, 0, 0,...   \n",
       "3386  [[0, 0, 0, 0, 0, 0, 0, 0, 0, 0, 0, 0, 0, 0, 0,...   \n",
       "187   [[0, 0, 0, 0, 0, 0, 0, 0, 0, 0, 0, 0, 0, 0, 0,...   \n",
       "1231  [[0, 0, 0, 0, 0, 0, 0, 0, 0, 0, 0, 0, 0, 0, 0,...   \n",
       "683   [[0, 0, 0, 0, 0, 0, 0, 0, 0, 0, 0, 0, 0, 0, 0,...   \n",
       "...                                                 ...   \n",
       "541   [[0, 0, 0, 0, 0, 0, 0, 0, 0, 0, 0, 0, 0, 0, 0,...   \n",
       "2899  [[0, 0, 0, 0, 0, 0, 0, 0, 0, 0, 0, 0, 0, 0, 0,...   \n",
       "790   [[0, 0, 0, 0, 0, 0, 0, 0, 0, 0, 0, 0, 0, 0, 0,...   \n",
       "1021  [[0, 0, 0, 0, 0, 0, 0, 0, 0, 0, 0, 0, 0, 0, 0,...   \n",
       "277   [[0, 0, 0, 0, 0, 0, 0, 0, 0, 0, 0, 0, 0, 0, 0,...   \n",
       "\n",
       "                                            region_bbox    region_labels  \\\n",
       "1750  [[33.0, 12.0, 107.0, 205.0], [115.0, 14.0, 183...  [[1], [2], [3]]   \n",
       "3386  [[18.0, 27.0, 104.0, 166.0], [115.0, 24.0, 197...  [[1], [2], [3]]   \n",
       "187   [[14.0, 21.0, 103.0, 171.0], [115.0, 22.0, 197...  [[1], [2], [3]]   \n",
       "1231  [[27.0, 32.0, 121.0, 187.0], [130.0, 30.0, 215...  [[1], [2], [3]]   \n",
       "683   [[10.0, 25.0, 94.0, 164.0], [103.0, 20.0, 197....  [[1], [2], [3]]   \n",
       "...                                                 ...              ...   \n",
       "541   [[37.0, 24.0, 118.0, 148.0], [128.0, 24.0, 201...  [[1], [2], [3]]   \n",
       "2899  [[21.0, 26.0, 111.0, 169.0], [122.0, 30.0, 200...  [[1], [2], [3]]   \n",
       "790   [[35.0, 47.0, 115.0, 185.0], [128.0, 40.0, 213...  [[1], [2], [3]]   \n",
       "1021  [[33.0, 28.0, 114.0, 198.0], [121.0, 23.0, 206...  [[1], [2], [3]]   \n",
       "277   [[51.0, 3.0, 114.0, 143.0], [121.0, 0.0, 192.0...  [[1], [2], [3]]   \n",
       "\n",
       "      num_regions                                      text_filepath  \\\n",
       "1750            3  C:/Users/DryLab/Desktop/ConVIRT/Dataset/open-i...   \n",
       "3386            3  C:/Users/DryLab/Desktop/ConVIRT/Dataset/open-i...   \n",
       "187             3  C:/Users/DryLab/Desktop/ConVIRT/Dataset/open-i...   \n",
       "1231            3  C:/Users/DryLab/Desktop/ConVIRT/Dataset/open-i...   \n",
       "683             3  C:/Users/DryLab/Desktop/ConVIRT/Dataset/open-i...   \n",
       "...           ...                                                ...   \n",
       "541             3  C:/Users/DryLab/Desktop/ConVIRT/Dataset/open-i...   \n",
       "2899            3  C:/Users/DryLab/Desktop/ConVIRT/Dataset/open-i...   \n",
       "790             3  C:/Users/DryLab/Desktop/ConVIRT/Dataset/open-i...   \n",
       "1021            3  C:/Users/DryLab/Desktop/ConVIRT/Dataset/open-i...   \n",
       "277             3  C:/Users/DryLab/Desktop/ConVIRT/Dataset/open-i...   \n",
       "\n",
       "                                                   text  \\\n",
       "1750                  heart size within normal limits .   \n",
       "3386  the heart , pulmonary [MASK] and mediastinum a...   \n",
       "187   pa and moderate loss of the chest demonstrate ...   \n",
       "1231  moderate cardiomegaly . bibasilar and perihila...   \n",
       "683   heart size or great lungs are clear . calcifie...   \n",
       "...                                                 ...   \n",
       "541   the cardiomediastinal silhouette is within nor...   \n",
       "2899  the cardiomediastinal silhouette is within nor...   \n",
       "790   the heart is normal in size . the mediastinal ...   \n",
       "1021  heart size is normal . lungs are clear . minim...   \n",
       "277   mild cardiomegaly . normal pulmonary vasculari...   \n",
       "\n",
       "                                             attributes  split  \\\n",
       "1750                                           [limits]  train   \n",
       "3386                        [mild degenerative changes]  train   \n",
       "187   [loss, ectasia, emphysematous changes, emphyse...  train   \n",
       "1231     [cardiomegaly, opacities, cardiomegaly, edema]  train   \n",
       "683                                         [granuloma]  train   \n",
       "...                                                 ...    ...   \n",
       "541                                            [limits]    val   \n",
       "2899                                    [normal limits]    val   \n",
       "790                            [prominence, prominence]    val   \n",
       "1021                                      [atelectasis]    val   \n",
       "277            [cardiomegaly, tortuosity, cardiomegaly]    val   \n",
       "\n",
       "                                              sentences  \n",
       "1750                [heart size within normal limits .]  \n",
       "3386  [the heart , pulmonary [MASK] and mediastinum ...  \n",
       "187   [pa and moderate loss of the chest demonstrate...  \n",
       "1231  [moderate cardiomegaly ., bibasilar and perihi...  \n",
       "683   [heart size or great lungs are clear ., calcif...  \n",
       "...                                                 ...  \n",
       "541   [the cardiomediastinal silhouette is within no...  \n",
       "2899  [the cardiomediastinal silhouette is within no...  \n",
       "790   [the heart is normal in size ., the mediastina...  \n",
       "1021  [heart size is normal ., lungs are clear ., mi...  \n",
       "277   [mild cardiomegaly ., normal pulmonary vascula...  \n",
       "\n",
       "[1966 rows x 12 columns]"
      ]
     },
     "execution_count": 72,
     "metadata": {},
     "output_type": "execute_result"
    }
   ],
   "source": [
    "df"
   ]
  },
  {
   "cell_type": "code",
   "execution_count": 73,
   "metadata": {},
   "outputs": [],
   "source": [
    "df = df[\n",
    "    [\n",
    "        \"image_id\",\n",
    "        \"image_size\",\n",
    "        \"image_filepath\",\n",
    "        \"region_coord\",\n",
    "        \"region_bbox\",\n",
    "        \"region_labels\",\n",
    "        \"num_regions\",\n",
    "        \"text_filepath\",\n",
    "        \"text\",\n",
    "        \"sentences\",\n",
    "        \"attributes\",\n",
    "        \"split\",\n",
    "    ]\n",
    "]"
   ]
  },
  {
   "cell_type": "code",
   "execution_count": 74,
   "metadata": {},
   "outputs": [
    {
     "data": {
      "text/html": [
       "<div>\n",
       "<style scoped>\n",
       "    .dataframe tbody tr th:only-of-type {\n",
       "        vertical-align: middle;\n",
       "    }\n",
       "\n",
       "    .dataframe tbody tr th {\n",
       "        vertical-align: top;\n",
       "    }\n",
       "\n",
       "    .dataframe thead th {\n",
       "        text-align: right;\n",
       "    }\n",
       "</style>\n",
       "<table border=\"1\" class=\"dataframe\">\n",
       "  <thead>\n",
       "    <tr style=\"text-align: right;\">\n",
       "      <th></th>\n",
       "      <th>image_id</th>\n",
       "      <th>image_size</th>\n",
       "      <th>image_filepath</th>\n",
       "      <th>region_coord</th>\n",
       "      <th>region_bbox</th>\n",
       "      <th>region_labels</th>\n",
       "      <th>num_regions</th>\n",
       "      <th>text_filepath</th>\n",
       "      <th>text</th>\n",
       "      <th>sentences</th>\n",
       "      <th>attributes</th>\n",
       "      <th>split</th>\n",
       "    </tr>\n",
       "  </thead>\n",
       "  <tbody>\n",
       "    <tr>\n",
       "      <th>1750</th>\n",
       "      <td>1750</td>\n",
       "      <td>[224, 224]</td>\n",
       "      <td>C:/Users/DryLab/Desktop/ConVIRT/Dataset/open-i...</td>\n",
       "      <td>[[0, 0, 0, 0, 0, 0, 0, 0, 0, 0, 0, 0, 0, 0, 0,...</td>\n",
       "      <td>[[33.0, 12.0, 107.0, 205.0], [115.0, 14.0, 183...</td>\n",
       "      <td>[[1], [2], [3]]</td>\n",
       "      <td>3</td>\n",
       "      <td>C:/Users/DryLab/Desktop/ConVIRT/Dataset/open-i...</td>\n",
       "      <td>heart size within normal limits .</td>\n",
       "      <td>[heart size within normal limits .]</td>\n",
       "      <td>[limits]</td>\n",
       "      <td>train</td>\n",
       "    </tr>\n",
       "    <tr>\n",
       "      <th>3386</th>\n",
       "      <td>3386</td>\n",
       "      <td>[224, 224]</td>\n",
       "      <td>C:/Users/DryLab/Desktop/ConVIRT/Dataset/open-i...</td>\n",
       "      <td>[[0, 0, 0, 0, 0, 0, 0, 0, 0, 0, 0, 0, 0, 0, 0,...</td>\n",
       "      <td>[[18.0, 27.0, 104.0, 166.0], [115.0, 24.0, 197...</td>\n",
       "      <td>[[1], [2], [3]]</td>\n",
       "      <td>3</td>\n",
       "      <td>C:/Users/DryLab/Desktop/ConVIRT/Dataset/open-i...</td>\n",
       "      <td>the heart , pulmonary [MASK] and mediastinum a...</td>\n",
       "      <td>[the heart , pulmonary [MASK] and mediastinum ...</td>\n",
       "      <td>[mild degenerative changes]</td>\n",
       "      <td>train</td>\n",
       "    </tr>\n",
       "    <tr>\n",
       "      <th>187</th>\n",
       "      <td>187</td>\n",
       "      <td>[224, 224]</td>\n",
       "      <td>C:/Users/DryLab/Desktop/ConVIRT/Dataset/open-i...</td>\n",
       "      <td>[[0, 0, 0, 0, 0, 0, 0, 0, 0, 0, 0, 0, 0, 0, 0,...</td>\n",
       "      <td>[[14.0, 21.0, 103.0, 171.0], [115.0, 22.0, 197...</td>\n",
       "      <td>[[1], [2], [3]]</td>\n",
       "      <td>3</td>\n",
       "      <td>C:/Users/DryLab/Desktop/ConVIRT/Dataset/open-i...</td>\n",
       "      <td>pa and moderate loss of the chest demonstrate ...</td>\n",
       "      <td>[pa and moderate loss of the chest demonstrate...</td>\n",
       "      <td>[loss, ectasia, emphysematous changes, emphyse...</td>\n",
       "      <td>train</td>\n",
       "    </tr>\n",
       "    <tr>\n",
       "      <th>1231</th>\n",
       "      <td>1231</td>\n",
       "      <td>[224, 224]</td>\n",
       "      <td>C:/Users/DryLab/Desktop/ConVIRT/Dataset/open-i...</td>\n",
       "      <td>[[0, 0, 0, 0, 0, 0, 0, 0, 0, 0, 0, 0, 0, 0, 0,...</td>\n",
       "      <td>[[27.0, 32.0, 121.0, 187.0], [130.0, 30.0, 215...</td>\n",
       "      <td>[[1], [2], [3]]</td>\n",
       "      <td>3</td>\n",
       "      <td>C:/Users/DryLab/Desktop/ConVIRT/Dataset/open-i...</td>\n",
       "      <td>moderate cardiomegaly . bibasilar and perihila...</td>\n",
       "      <td>[moderate cardiomegaly ., bibasilar and perihi...</td>\n",
       "      <td>[cardiomegaly, opacities, cardiomegaly, edema]</td>\n",
       "      <td>train</td>\n",
       "    </tr>\n",
       "    <tr>\n",
       "      <th>683</th>\n",
       "      <td>683</td>\n",
       "      <td>[224, 224]</td>\n",
       "      <td>C:/Users/DryLab/Desktop/ConVIRT/Dataset/open-i...</td>\n",
       "      <td>[[0, 0, 0, 0, 0, 0, 0, 0, 0, 0, 0, 0, 0, 0, 0,...</td>\n",
       "      <td>[[10.0, 25.0, 94.0, 164.0], [103.0, 20.0, 197....</td>\n",
       "      <td>[[1], [2], [3]]</td>\n",
       "      <td>3</td>\n",
       "      <td>C:/Users/DryLab/Desktop/ConVIRT/Dataset/open-i...</td>\n",
       "      <td>heart size or great lungs are clear . calcifie...</td>\n",
       "      <td>[heart size or great lungs are clear ., calcif...</td>\n",
       "      <td>[granuloma]</td>\n",
       "      <td>train</td>\n",
       "    </tr>\n",
       "    <tr>\n",
       "      <th>...</th>\n",
       "      <td>...</td>\n",
       "      <td>...</td>\n",
       "      <td>...</td>\n",
       "      <td>...</td>\n",
       "      <td>...</td>\n",
       "      <td>...</td>\n",
       "      <td>...</td>\n",
       "      <td>...</td>\n",
       "      <td>...</td>\n",
       "      <td>...</td>\n",
       "      <td>...</td>\n",
       "      <td>...</td>\n",
       "    </tr>\n",
       "    <tr>\n",
       "      <th>541</th>\n",
       "      <td>541</td>\n",
       "      <td>[224, 224]</td>\n",
       "      <td>C:/Users/DryLab/Desktop/ConVIRT/Dataset/open-i...</td>\n",
       "      <td>[[0, 0, 0, 0, 0, 0, 0, 0, 0, 0, 0, 0, 0, 0, 0,...</td>\n",
       "      <td>[[37.0, 24.0, 118.0, 148.0], [128.0, 24.0, 201...</td>\n",
       "      <td>[[1], [2], [3]]</td>\n",
       "      <td>3</td>\n",
       "      <td>C:/Users/DryLab/Desktop/ConVIRT/Dataset/open-i...</td>\n",
       "      <td>the cardiomediastinal silhouette is within nor...</td>\n",
       "      <td>[the cardiomediastinal silhouette is within no...</td>\n",
       "      <td>[limits]</td>\n",
       "      <td>val</td>\n",
       "    </tr>\n",
       "    <tr>\n",
       "      <th>2899</th>\n",
       "      <td>2899</td>\n",
       "      <td>[224, 224]</td>\n",
       "      <td>C:/Users/DryLab/Desktop/ConVIRT/Dataset/open-i...</td>\n",
       "      <td>[[0, 0, 0, 0, 0, 0, 0, 0, 0, 0, 0, 0, 0, 0, 0,...</td>\n",
       "      <td>[[21.0, 26.0, 111.0, 169.0], [122.0, 30.0, 200...</td>\n",
       "      <td>[[1], [2], [3]]</td>\n",
       "      <td>3</td>\n",
       "      <td>C:/Users/DryLab/Desktop/ConVIRT/Dataset/open-i...</td>\n",
       "      <td>the cardiomediastinal silhouette is within nor...</td>\n",
       "      <td>[the cardiomediastinal silhouette is within no...</td>\n",
       "      <td>[normal limits]</td>\n",
       "      <td>val</td>\n",
       "    </tr>\n",
       "    <tr>\n",
       "      <th>790</th>\n",
       "      <td>790</td>\n",
       "      <td>[224, 224]</td>\n",
       "      <td>C:/Users/DryLab/Desktop/ConVIRT/Dataset/open-i...</td>\n",
       "      <td>[[0, 0, 0, 0, 0, 0, 0, 0, 0, 0, 0, 0, 0, 0, 0,...</td>\n",
       "      <td>[[35.0, 47.0, 115.0, 185.0], [128.0, 40.0, 213...</td>\n",
       "      <td>[[1], [2], [3]]</td>\n",
       "      <td>3</td>\n",
       "      <td>C:/Users/DryLab/Desktop/ConVIRT/Dataset/open-i...</td>\n",
       "      <td>the heart is normal in size . the mediastinal ...</td>\n",
       "      <td>[the heart is normal in size ., the mediastina...</td>\n",
       "      <td>[prominence, prominence]</td>\n",
       "      <td>val</td>\n",
       "    </tr>\n",
       "    <tr>\n",
       "      <th>1021</th>\n",
       "      <td>1021</td>\n",
       "      <td>[224, 224]</td>\n",
       "      <td>C:/Users/DryLab/Desktop/ConVIRT/Dataset/open-i...</td>\n",
       "      <td>[[0, 0, 0, 0, 0, 0, 0, 0, 0, 0, 0, 0, 0, 0, 0,...</td>\n",
       "      <td>[[33.0, 28.0, 114.0, 198.0], [121.0, 23.0, 206...</td>\n",
       "      <td>[[1], [2], [3]]</td>\n",
       "      <td>3</td>\n",
       "      <td>C:/Users/DryLab/Desktop/ConVIRT/Dataset/open-i...</td>\n",
       "      <td>heart size is normal . lungs are clear . minim...</td>\n",
       "      <td>[heart size is normal ., lungs are clear ., mi...</td>\n",
       "      <td>[atelectasis]</td>\n",
       "      <td>val</td>\n",
       "    </tr>\n",
       "    <tr>\n",
       "      <th>277</th>\n",
       "      <td>277</td>\n",
       "      <td>[224, 224]</td>\n",
       "      <td>C:/Users/DryLab/Desktop/ConVIRT/Dataset/open-i...</td>\n",
       "      <td>[[0, 0, 0, 0, 0, 0, 0, 0, 0, 0, 0, 0, 0, 0, 0,...</td>\n",
       "      <td>[[51.0, 3.0, 114.0, 143.0], [121.0, 0.0, 192.0...</td>\n",
       "      <td>[[1], [2], [3]]</td>\n",
       "      <td>3</td>\n",
       "      <td>C:/Users/DryLab/Desktop/ConVIRT/Dataset/open-i...</td>\n",
       "      <td>mild cardiomegaly . normal pulmonary vasculari...</td>\n",
       "      <td>[mild cardiomegaly ., normal pulmonary vascula...</td>\n",
       "      <td>[cardiomegaly, tortuosity, cardiomegaly]</td>\n",
       "      <td>val</td>\n",
       "    </tr>\n",
       "  </tbody>\n",
       "</table>\n",
       "<p>1966 rows × 12 columns</p>\n",
       "</div>"
      ],
      "text/plain": [
       "      image_id  image_size                                     image_filepath  \\\n",
       "1750      1750  [224, 224]  C:/Users/DryLab/Desktop/ConVIRT/Dataset/open-i...   \n",
       "3386      3386  [224, 224]  C:/Users/DryLab/Desktop/ConVIRT/Dataset/open-i...   \n",
       "187        187  [224, 224]  C:/Users/DryLab/Desktop/ConVIRT/Dataset/open-i...   \n",
       "1231      1231  [224, 224]  C:/Users/DryLab/Desktop/ConVIRT/Dataset/open-i...   \n",
       "683        683  [224, 224]  C:/Users/DryLab/Desktop/ConVIRT/Dataset/open-i...   \n",
       "...        ...         ...                                                ...   \n",
       "541        541  [224, 224]  C:/Users/DryLab/Desktop/ConVIRT/Dataset/open-i...   \n",
       "2899      2899  [224, 224]  C:/Users/DryLab/Desktop/ConVIRT/Dataset/open-i...   \n",
       "790        790  [224, 224]  C:/Users/DryLab/Desktop/ConVIRT/Dataset/open-i...   \n",
       "1021      1021  [224, 224]  C:/Users/DryLab/Desktop/ConVIRT/Dataset/open-i...   \n",
       "277        277  [224, 224]  C:/Users/DryLab/Desktop/ConVIRT/Dataset/open-i...   \n",
       "\n",
       "                                           region_coord  \\\n",
       "1750  [[0, 0, 0, 0, 0, 0, 0, 0, 0, 0, 0, 0, 0, 0, 0,...   \n",
       "3386  [[0, 0, 0, 0, 0, 0, 0, 0, 0, 0, 0, 0, 0, 0, 0,...   \n",
       "187   [[0, 0, 0, 0, 0, 0, 0, 0, 0, 0, 0, 0, 0, 0, 0,...   \n",
       "1231  [[0, 0, 0, 0, 0, 0, 0, 0, 0, 0, 0, 0, 0, 0, 0,...   \n",
       "683   [[0, 0, 0, 0, 0, 0, 0, 0, 0, 0, 0, 0, 0, 0, 0,...   \n",
       "...                                                 ...   \n",
       "541   [[0, 0, 0, 0, 0, 0, 0, 0, 0, 0, 0, 0, 0, 0, 0,...   \n",
       "2899  [[0, 0, 0, 0, 0, 0, 0, 0, 0, 0, 0, 0, 0, 0, 0,...   \n",
       "790   [[0, 0, 0, 0, 0, 0, 0, 0, 0, 0, 0, 0, 0, 0, 0,...   \n",
       "1021  [[0, 0, 0, 0, 0, 0, 0, 0, 0, 0, 0, 0, 0, 0, 0,...   \n",
       "277   [[0, 0, 0, 0, 0, 0, 0, 0, 0, 0, 0, 0, 0, 0, 0,...   \n",
       "\n",
       "                                            region_bbox    region_labels  \\\n",
       "1750  [[33.0, 12.0, 107.0, 205.0], [115.0, 14.0, 183...  [[1], [2], [3]]   \n",
       "3386  [[18.0, 27.0, 104.0, 166.0], [115.0, 24.0, 197...  [[1], [2], [3]]   \n",
       "187   [[14.0, 21.0, 103.0, 171.0], [115.0, 22.0, 197...  [[1], [2], [3]]   \n",
       "1231  [[27.0, 32.0, 121.0, 187.0], [130.0, 30.0, 215...  [[1], [2], [3]]   \n",
       "683   [[10.0, 25.0, 94.0, 164.0], [103.0, 20.0, 197....  [[1], [2], [3]]   \n",
       "...                                                 ...              ...   \n",
       "541   [[37.0, 24.0, 118.0, 148.0], [128.0, 24.0, 201...  [[1], [2], [3]]   \n",
       "2899  [[21.0, 26.0, 111.0, 169.0], [122.0, 30.0, 200...  [[1], [2], [3]]   \n",
       "790   [[35.0, 47.0, 115.0, 185.0], [128.0, 40.0, 213...  [[1], [2], [3]]   \n",
       "1021  [[33.0, 28.0, 114.0, 198.0], [121.0, 23.0, 206...  [[1], [2], [3]]   \n",
       "277   [[51.0, 3.0, 114.0, 143.0], [121.0, 0.0, 192.0...  [[1], [2], [3]]   \n",
       "\n",
       "      num_regions                                      text_filepath  \\\n",
       "1750            3  C:/Users/DryLab/Desktop/ConVIRT/Dataset/open-i...   \n",
       "3386            3  C:/Users/DryLab/Desktop/ConVIRT/Dataset/open-i...   \n",
       "187             3  C:/Users/DryLab/Desktop/ConVIRT/Dataset/open-i...   \n",
       "1231            3  C:/Users/DryLab/Desktop/ConVIRT/Dataset/open-i...   \n",
       "683             3  C:/Users/DryLab/Desktop/ConVIRT/Dataset/open-i...   \n",
       "...           ...                                                ...   \n",
       "541             3  C:/Users/DryLab/Desktop/ConVIRT/Dataset/open-i...   \n",
       "2899            3  C:/Users/DryLab/Desktop/ConVIRT/Dataset/open-i...   \n",
       "790             3  C:/Users/DryLab/Desktop/ConVIRT/Dataset/open-i...   \n",
       "1021            3  C:/Users/DryLab/Desktop/ConVIRT/Dataset/open-i...   \n",
       "277             3  C:/Users/DryLab/Desktop/ConVIRT/Dataset/open-i...   \n",
       "\n",
       "                                                   text  \\\n",
       "1750                  heart size within normal limits .   \n",
       "3386  the heart , pulmonary [MASK] and mediastinum a...   \n",
       "187   pa and moderate loss of the chest demonstrate ...   \n",
       "1231  moderate cardiomegaly . bibasilar and perihila...   \n",
       "683   heart size or great lungs are clear . calcifie...   \n",
       "...                                                 ...   \n",
       "541   the cardiomediastinal silhouette is within nor...   \n",
       "2899  the cardiomediastinal silhouette is within nor...   \n",
       "790   the heart is normal in size . the mediastinal ...   \n",
       "1021  heart size is normal . lungs are clear . minim...   \n",
       "277   mild cardiomegaly . normal pulmonary vasculari...   \n",
       "\n",
       "                                              sentences  \\\n",
       "1750                [heart size within normal limits .]   \n",
       "3386  [the heart , pulmonary [MASK] and mediastinum ...   \n",
       "187   [pa and moderate loss of the chest demonstrate...   \n",
       "1231  [moderate cardiomegaly ., bibasilar and perihi...   \n",
       "683   [heart size or great lungs are clear ., calcif...   \n",
       "...                                                 ...   \n",
       "541   [the cardiomediastinal silhouette is within no...   \n",
       "2899  [the cardiomediastinal silhouette is within no...   \n",
       "790   [the heart is normal in size ., the mediastina...   \n",
       "1021  [heart size is normal ., lungs are clear ., mi...   \n",
       "277   [mild cardiomegaly ., normal pulmonary vascula...   \n",
       "\n",
       "                                             attributes  split  \n",
       "1750                                           [limits]  train  \n",
       "3386                        [mild degenerative changes]  train  \n",
       "187   [loss, ectasia, emphysematous changes, emphyse...  train  \n",
       "1231     [cardiomegaly, opacities, cardiomegaly, edema]  train  \n",
       "683                                         [granuloma]  train  \n",
       "...                                                 ...    ...  \n",
       "541                                            [limits]    val  \n",
       "2899                                    [normal limits]    val  \n",
       "790                            [prominence, prominence]    val  \n",
       "1021                                      [atelectasis]    val  \n",
       "277            [cardiomegaly, tortuosity, cardiomegaly]    val  \n",
       "\n",
       "[1966 rows x 12 columns]"
      ]
     },
     "execution_count": 74,
     "metadata": {},
     "output_type": "execute_result"
    }
   ],
   "source": [
    "df"
   ]
  },
  {
   "cell_type": "code",
   "execution_count": 75,
   "metadata": {},
   "outputs": [],
   "source": [
    "id_mapping = {\n",
    "    id_value: idx for idx, id_value in enumerate(sorted(df[\"image_id\"]), start=0)\n",
    "}\n",
    "# Map the original image_id to the new ordered index\n",
    "df[\"image_id\"] = df[\"image_id\"].map(id_mapping)\n",
    "df[\"image_id\"] = range(len(df))\n",
    "df.reset_index(inplace=True)\n",
    "df.drop(columns=[\"index\"], inplace=True)"
   ]
  },
  {
   "cell_type": "code",
   "execution_count": 76,
   "metadata": {},
   "outputs": [
    {
     "data": {
      "text/html": [
       "<div>\n",
       "<style scoped>\n",
       "    .dataframe tbody tr th:only-of-type {\n",
       "        vertical-align: middle;\n",
       "    }\n",
       "\n",
       "    .dataframe tbody tr th {\n",
       "        vertical-align: top;\n",
       "    }\n",
       "\n",
       "    .dataframe thead th {\n",
       "        text-align: right;\n",
       "    }\n",
       "</style>\n",
       "<table border=\"1\" class=\"dataframe\">\n",
       "  <thead>\n",
       "    <tr style=\"text-align: right;\">\n",
       "      <th></th>\n",
       "      <th>image_id</th>\n",
       "      <th>image_size</th>\n",
       "      <th>image_filepath</th>\n",
       "      <th>region_coord</th>\n",
       "      <th>region_bbox</th>\n",
       "      <th>region_labels</th>\n",
       "      <th>num_regions</th>\n",
       "      <th>text_filepath</th>\n",
       "      <th>text</th>\n",
       "      <th>sentences</th>\n",
       "      <th>attributes</th>\n",
       "      <th>split</th>\n",
       "    </tr>\n",
       "  </thead>\n",
       "  <tbody>\n",
       "    <tr>\n",
       "      <th>0</th>\n",
       "      <td>0</td>\n",
       "      <td>[224, 224]</td>\n",
       "      <td>C:/Users/DryLab/Desktop/ConVIRT/Dataset/open-i...</td>\n",
       "      <td>[[0, 0, 0, 0, 0, 0, 0, 0, 0, 0, 0, 0, 0, 0, 0,...</td>\n",
       "      <td>[[33.0, 12.0, 107.0, 205.0], [115.0, 14.0, 183...</td>\n",
       "      <td>[[1], [2], [3]]</td>\n",
       "      <td>3</td>\n",
       "      <td>C:/Users/DryLab/Desktop/ConVIRT/Dataset/open-i...</td>\n",
       "      <td>heart size within normal limits .</td>\n",
       "      <td>[heart size within normal limits .]</td>\n",
       "      <td>[limits]</td>\n",
       "      <td>train</td>\n",
       "    </tr>\n",
       "    <tr>\n",
       "      <th>1</th>\n",
       "      <td>1</td>\n",
       "      <td>[224, 224]</td>\n",
       "      <td>C:/Users/DryLab/Desktop/ConVIRT/Dataset/open-i...</td>\n",
       "      <td>[[0, 0, 0, 0, 0, 0, 0, 0, 0, 0, 0, 0, 0, 0, 0,...</td>\n",
       "      <td>[[18.0, 27.0, 104.0, 166.0], [115.0, 24.0, 197...</td>\n",
       "      <td>[[1], [2], [3]]</td>\n",
       "      <td>3</td>\n",
       "      <td>C:/Users/DryLab/Desktop/ConVIRT/Dataset/open-i...</td>\n",
       "      <td>the heart , pulmonary [MASK] and mediastinum a...</td>\n",
       "      <td>[the heart , pulmonary [MASK] and mediastinum ...</td>\n",
       "      <td>[mild degenerative changes]</td>\n",
       "      <td>train</td>\n",
       "    </tr>\n",
       "    <tr>\n",
       "      <th>2</th>\n",
       "      <td>2</td>\n",
       "      <td>[224, 224]</td>\n",
       "      <td>C:/Users/DryLab/Desktop/ConVIRT/Dataset/open-i...</td>\n",
       "      <td>[[0, 0, 0, 0, 0, 0, 0, 0, 0, 0, 0, 0, 0, 0, 0,...</td>\n",
       "      <td>[[14.0, 21.0, 103.0, 171.0], [115.0, 22.0, 197...</td>\n",
       "      <td>[[1], [2], [3]]</td>\n",
       "      <td>3</td>\n",
       "      <td>C:/Users/DryLab/Desktop/ConVIRT/Dataset/open-i...</td>\n",
       "      <td>pa and moderate loss of the chest demonstrate ...</td>\n",
       "      <td>[pa and moderate loss of the chest demonstrate...</td>\n",
       "      <td>[loss, ectasia, emphysematous changes, emphyse...</td>\n",
       "      <td>train</td>\n",
       "    </tr>\n",
       "    <tr>\n",
       "      <th>3</th>\n",
       "      <td>3</td>\n",
       "      <td>[224, 224]</td>\n",
       "      <td>C:/Users/DryLab/Desktop/ConVIRT/Dataset/open-i...</td>\n",
       "      <td>[[0, 0, 0, 0, 0, 0, 0, 0, 0, 0, 0, 0, 0, 0, 0,...</td>\n",
       "      <td>[[27.0, 32.0, 121.0, 187.0], [130.0, 30.0, 215...</td>\n",
       "      <td>[[1], [2], [3]]</td>\n",
       "      <td>3</td>\n",
       "      <td>C:/Users/DryLab/Desktop/ConVIRT/Dataset/open-i...</td>\n",
       "      <td>moderate cardiomegaly . bibasilar and perihila...</td>\n",
       "      <td>[moderate cardiomegaly ., bibasilar and perihi...</td>\n",
       "      <td>[cardiomegaly, opacities, cardiomegaly, edema]</td>\n",
       "      <td>train</td>\n",
       "    </tr>\n",
       "    <tr>\n",
       "      <th>4</th>\n",
       "      <td>4</td>\n",
       "      <td>[224, 224]</td>\n",
       "      <td>C:/Users/DryLab/Desktop/ConVIRT/Dataset/open-i...</td>\n",
       "      <td>[[0, 0, 0, 0, 0, 0, 0, 0, 0, 0, 0, 0, 0, 0, 0,...</td>\n",
       "      <td>[[10.0, 25.0, 94.0, 164.0], [103.0, 20.0, 197....</td>\n",
       "      <td>[[1], [2], [3]]</td>\n",
       "      <td>3</td>\n",
       "      <td>C:/Users/DryLab/Desktop/ConVIRT/Dataset/open-i...</td>\n",
       "      <td>heart size or great lungs are clear . calcifie...</td>\n",
       "      <td>[heart size or great lungs are clear ., calcif...</td>\n",
       "      <td>[granuloma]</td>\n",
       "      <td>train</td>\n",
       "    </tr>\n",
       "    <tr>\n",
       "      <th>...</th>\n",
       "      <td>...</td>\n",
       "      <td>...</td>\n",
       "      <td>...</td>\n",
       "      <td>...</td>\n",
       "      <td>...</td>\n",
       "      <td>...</td>\n",
       "      <td>...</td>\n",
       "      <td>...</td>\n",
       "      <td>...</td>\n",
       "      <td>...</td>\n",
       "      <td>...</td>\n",
       "      <td>...</td>\n",
       "    </tr>\n",
       "    <tr>\n",
       "      <th>1961</th>\n",
       "      <td>1961</td>\n",
       "      <td>[224, 224]</td>\n",
       "      <td>C:/Users/DryLab/Desktop/ConVIRT/Dataset/open-i...</td>\n",
       "      <td>[[0, 0, 0, 0, 0, 0, 0, 0, 0, 0, 0, 0, 0, 0, 0,...</td>\n",
       "      <td>[[37.0, 24.0, 118.0, 148.0], [128.0, 24.0, 201...</td>\n",
       "      <td>[[1], [2], [3]]</td>\n",
       "      <td>3</td>\n",
       "      <td>C:/Users/DryLab/Desktop/ConVIRT/Dataset/open-i...</td>\n",
       "      <td>the cardiomediastinal silhouette is within nor...</td>\n",
       "      <td>[the cardiomediastinal silhouette is within no...</td>\n",
       "      <td>[limits]</td>\n",
       "      <td>val</td>\n",
       "    </tr>\n",
       "    <tr>\n",
       "      <th>1962</th>\n",
       "      <td>1962</td>\n",
       "      <td>[224, 224]</td>\n",
       "      <td>C:/Users/DryLab/Desktop/ConVIRT/Dataset/open-i...</td>\n",
       "      <td>[[0, 0, 0, 0, 0, 0, 0, 0, 0, 0, 0, 0, 0, 0, 0,...</td>\n",
       "      <td>[[21.0, 26.0, 111.0, 169.0], [122.0, 30.0, 200...</td>\n",
       "      <td>[[1], [2], [3]]</td>\n",
       "      <td>3</td>\n",
       "      <td>C:/Users/DryLab/Desktop/ConVIRT/Dataset/open-i...</td>\n",
       "      <td>the cardiomediastinal silhouette is within nor...</td>\n",
       "      <td>[the cardiomediastinal silhouette is within no...</td>\n",
       "      <td>[normal limits]</td>\n",
       "      <td>val</td>\n",
       "    </tr>\n",
       "    <tr>\n",
       "      <th>1963</th>\n",
       "      <td>1963</td>\n",
       "      <td>[224, 224]</td>\n",
       "      <td>C:/Users/DryLab/Desktop/ConVIRT/Dataset/open-i...</td>\n",
       "      <td>[[0, 0, 0, 0, 0, 0, 0, 0, 0, 0, 0, 0, 0, 0, 0,...</td>\n",
       "      <td>[[35.0, 47.0, 115.0, 185.0], [128.0, 40.0, 213...</td>\n",
       "      <td>[[1], [2], [3]]</td>\n",
       "      <td>3</td>\n",
       "      <td>C:/Users/DryLab/Desktop/ConVIRT/Dataset/open-i...</td>\n",
       "      <td>the heart is normal in size . the mediastinal ...</td>\n",
       "      <td>[the heart is normal in size ., the mediastina...</td>\n",
       "      <td>[prominence, prominence]</td>\n",
       "      <td>val</td>\n",
       "    </tr>\n",
       "    <tr>\n",
       "      <th>1964</th>\n",
       "      <td>1964</td>\n",
       "      <td>[224, 224]</td>\n",
       "      <td>C:/Users/DryLab/Desktop/ConVIRT/Dataset/open-i...</td>\n",
       "      <td>[[0, 0, 0, 0, 0, 0, 0, 0, 0, 0, 0, 0, 0, 0, 0,...</td>\n",
       "      <td>[[33.0, 28.0, 114.0, 198.0], [121.0, 23.0, 206...</td>\n",
       "      <td>[[1], [2], [3]]</td>\n",
       "      <td>3</td>\n",
       "      <td>C:/Users/DryLab/Desktop/ConVIRT/Dataset/open-i...</td>\n",
       "      <td>heart size is normal . lungs are clear . minim...</td>\n",
       "      <td>[heart size is normal ., lungs are clear ., mi...</td>\n",
       "      <td>[atelectasis]</td>\n",
       "      <td>val</td>\n",
       "    </tr>\n",
       "    <tr>\n",
       "      <th>1965</th>\n",
       "      <td>1965</td>\n",
       "      <td>[224, 224]</td>\n",
       "      <td>C:/Users/DryLab/Desktop/ConVIRT/Dataset/open-i...</td>\n",
       "      <td>[[0, 0, 0, 0, 0, 0, 0, 0, 0, 0, 0, 0, 0, 0, 0,...</td>\n",
       "      <td>[[51.0, 3.0, 114.0, 143.0], [121.0, 0.0, 192.0...</td>\n",
       "      <td>[[1], [2], [3]]</td>\n",
       "      <td>3</td>\n",
       "      <td>C:/Users/DryLab/Desktop/ConVIRT/Dataset/open-i...</td>\n",
       "      <td>mild cardiomegaly . normal pulmonary vasculari...</td>\n",
       "      <td>[mild cardiomegaly ., normal pulmonary vascula...</td>\n",
       "      <td>[cardiomegaly, tortuosity, cardiomegaly]</td>\n",
       "      <td>val</td>\n",
       "    </tr>\n",
       "  </tbody>\n",
       "</table>\n",
       "<p>1966 rows × 12 columns</p>\n",
       "</div>"
      ],
      "text/plain": [
       "      image_id  image_size                                     image_filepath  \\\n",
       "0            0  [224, 224]  C:/Users/DryLab/Desktop/ConVIRT/Dataset/open-i...   \n",
       "1            1  [224, 224]  C:/Users/DryLab/Desktop/ConVIRT/Dataset/open-i...   \n",
       "2            2  [224, 224]  C:/Users/DryLab/Desktop/ConVIRT/Dataset/open-i...   \n",
       "3            3  [224, 224]  C:/Users/DryLab/Desktop/ConVIRT/Dataset/open-i...   \n",
       "4            4  [224, 224]  C:/Users/DryLab/Desktop/ConVIRT/Dataset/open-i...   \n",
       "...        ...         ...                                                ...   \n",
       "1961      1961  [224, 224]  C:/Users/DryLab/Desktop/ConVIRT/Dataset/open-i...   \n",
       "1962      1962  [224, 224]  C:/Users/DryLab/Desktop/ConVIRT/Dataset/open-i...   \n",
       "1963      1963  [224, 224]  C:/Users/DryLab/Desktop/ConVIRT/Dataset/open-i...   \n",
       "1964      1964  [224, 224]  C:/Users/DryLab/Desktop/ConVIRT/Dataset/open-i...   \n",
       "1965      1965  [224, 224]  C:/Users/DryLab/Desktop/ConVIRT/Dataset/open-i...   \n",
       "\n",
       "                                           region_coord  \\\n",
       "0     [[0, 0, 0, 0, 0, 0, 0, 0, 0, 0, 0, 0, 0, 0, 0,...   \n",
       "1     [[0, 0, 0, 0, 0, 0, 0, 0, 0, 0, 0, 0, 0, 0, 0,...   \n",
       "2     [[0, 0, 0, 0, 0, 0, 0, 0, 0, 0, 0, 0, 0, 0, 0,...   \n",
       "3     [[0, 0, 0, 0, 0, 0, 0, 0, 0, 0, 0, 0, 0, 0, 0,...   \n",
       "4     [[0, 0, 0, 0, 0, 0, 0, 0, 0, 0, 0, 0, 0, 0, 0,...   \n",
       "...                                                 ...   \n",
       "1961  [[0, 0, 0, 0, 0, 0, 0, 0, 0, 0, 0, 0, 0, 0, 0,...   \n",
       "1962  [[0, 0, 0, 0, 0, 0, 0, 0, 0, 0, 0, 0, 0, 0, 0,...   \n",
       "1963  [[0, 0, 0, 0, 0, 0, 0, 0, 0, 0, 0, 0, 0, 0, 0,...   \n",
       "1964  [[0, 0, 0, 0, 0, 0, 0, 0, 0, 0, 0, 0, 0, 0, 0,...   \n",
       "1965  [[0, 0, 0, 0, 0, 0, 0, 0, 0, 0, 0, 0, 0, 0, 0,...   \n",
       "\n",
       "                                            region_bbox    region_labels  \\\n",
       "0     [[33.0, 12.0, 107.0, 205.0], [115.0, 14.0, 183...  [[1], [2], [3]]   \n",
       "1     [[18.0, 27.0, 104.0, 166.0], [115.0, 24.0, 197...  [[1], [2], [3]]   \n",
       "2     [[14.0, 21.0, 103.0, 171.0], [115.0, 22.0, 197...  [[1], [2], [3]]   \n",
       "3     [[27.0, 32.0, 121.0, 187.0], [130.0, 30.0, 215...  [[1], [2], [3]]   \n",
       "4     [[10.0, 25.0, 94.0, 164.0], [103.0, 20.0, 197....  [[1], [2], [3]]   \n",
       "...                                                 ...              ...   \n",
       "1961  [[37.0, 24.0, 118.0, 148.0], [128.0, 24.0, 201...  [[1], [2], [3]]   \n",
       "1962  [[21.0, 26.0, 111.0, 169.0], [122.0, 30.0, 200...  [[1], [2], [3]]   \n",
       "1963  [[35.0, 47.0, 115.0, 185.0], [128.0, 40.0, 213...  [[1], [2], [3]]   \n",
       "1964  [[33.0, 28.0, 114.0, 198.0], [121.0, 23.0, 206...  [[1], [2], [3]]   \n",
       "1965  [[51.0, 3.0, 114.0, 143.0], [121.0, 0.0, 192.0...  [[1], [2], [3]]   \n",
       "\n",
       "      num_regions                                      text_filepath  \\\n",
       "0               3  C:/Users/DryLab/Desktop/ConVIRT/Dataset/open-i...   \n",
       "1               3  C:/Users/DryLab/Desktop/ConVIRT/Dataset/open-i...   \n",
       "2               3  C:/Users/DryLab/Desktop/ConVIRT/Dataset/open-i...   \n",
       "3               3  C:/Users/DryLab/Desktop/ConVIRT/Dataset/open-i...   \n",
       "4               3  C:/Users/DryLab/Desktop/ConVIRT/Dataset/open-i...   \n",
       "...           ...                                                ...   \n",
       "1961            3  C:/Users/DryLab/Desktop/ConVIRT/Dataset/open-i...   \n",
       "1962            3  C:/Users/DryLab/Desktop/ConVIRT/Dataset/open-i...   \n",
       "1963            3  C:/Users/DryLab/Desktop/ConVIRT/Dataset/open-i...   \n",
       "1964            3  C:/Users/DryLab/Desktop/ConVIRT/Dataset/open-i...   \n",
       "1965            3  C:/Users/DryLab/Desktop/ConVIRT/Dataset/open-i...   \n",
       "\n",
       "                                                   text  \\\n",
       "0                     heart size within normal limits .   \n",
       "1     the heart , pulmonary [MASK] and mediastinum a...   \n",
       "2     pa and moderate loss of the chest demonstrate ...   \n",
       "3     moderate cardiomegaly . bibasilar and perihila...   \n",
       "4     heart size or great lungs are clear . calcifie...   \n",
       "...                                                 ...   \n",
       "1961  the cardiomediastinal silhouette is within nor...   \n",
       "1962  the cardiomediastinal silhouette is within nor...   \n",
       "1963  the heart is normal in size . the mediastinal ...   \n",
       "1964  heart size is normal . lungs are clear . minim...   \n",
       "1965  mild cardiomegaly . normal pulmonary vasculari...   \n",
       "\n",
       "                                              sentences  \\\n",
       "0                   [heart size within normal limits .]   \n",
       "1     [the heart , pulmonary [MASK] and mediastinum ...   \n",
       "2     [pa and moderate loss of the chest demonstrate...   \n",
       "3     [moderate cardiomegaly ., bibasilar and perihi...   \n",
       "4     [heart size or great lungs are clear ., calcif...   \n",
       "...                                                 ...   \n",
       "1961  [the cardiomediastinal silhouette is within no...   \n",
       "1962  [the cardiomediastinal silhouette is within no...   \n",
       "1963  [the heart is normal in size ., the mediastina...   \n",
       "1964  [heart size is normal ., lungs are clear ., mi...   \n",
       "1965  [mild cardiomegaly ., normal pulmonary vascula...   \n",
       "\n",
       "                                             attributes  split  \n",
       "0                                              [limits]  train  \n",
       "1                           [mild degenerative changes]  train  \n",
       "2     [loss, ectasia, emphysematous changes, emphyse...  train  \n",
       "3        [cardiomegaly, opacities, cardiomegaly, edema]  train  \n",
       "4                                           [granuloma]  train  \n",
       "...                                                 ...    ...  \n",
       "1961                                           [limits]    val  \n",
       "1962                                    [normal limits]    val  \n",
       "1963                           [prominence, prominence]    val  \n",
       "1964                                      [atelectasis]    val  \n",
       "1965           [cardiomegaly, tortuosity, cardiomegaly]    val  \n",
       "\n",
       "[1966 rows x 12 columns]"
      ]
     },
     "execution_count": 76,
     "metadata": {},
     "output_type": "execute_result"
    }
   ],
   "source": [
    "df"
   ]
  },
  {
   "cell_type": "code",
   "execution_count": 77,
   "metadata": {},
   "outputs": [],
   "source": [
    "df.to_feather(f\"{DATA_DIR}/annotations.feather\")"
   ]
  },
  {
   "cell_type": "code",
   "execution_count": null,
   "metadata": {},
   "outputs": [],
   "source": []
  }
 ],
 "metadata": {
  "kernelspec": {
   "display_name": "ViLLA",
   "language": "python",
   "name": "python3"
  },
  "language_info": {
   "codemirror_mode": {
    "name": "ipython",
    "version": 3
   },
   "file_extension": ".py",
   "mimetype": "text/x-python",
   "name": "python",
   "nbconvert_exporter": "python",
   "pygments_lexer": "ipython3",
   "version": "3.9.19"
  }
 },
 "nbformat": 4,
 "nbformat_minor": 2
}
