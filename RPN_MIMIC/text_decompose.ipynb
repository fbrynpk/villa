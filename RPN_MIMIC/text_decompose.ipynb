{
 "cells": [
  {
   "cell_type": "code",
   "execution_count": 1,
   "metadata": {},
   "outputs": [
    {
     "name": "stderr",
     "output_type": "stream",
     "text": [
      "c:\\Users\\DryLab\\anaconda3\\envs\\ViLLA\\lib\\site-packages\\tqdm\\auto.py:21: TqdmWarning: IProgress not found. Please update jupyter and ipywidgets. See https://ipywidgets.readthedocs.io/en/stable/user_install.html\n",
      "  from .autonotebook import tqdm as notebook_tqdm\n",
      "c:\\Users\\DryLab\\anaconda3\\envs\\ViLLA\\lib\\site-packages\\transformers\\utils\\generic.py:311: FutureWarning: `torch.utils._pytree._register_pytree_node` is deprecated. Please use `torch.utils._pytree.register_pytree_node` instead.\n",
      "  torch.utils._pytree._register_pytree_node(\n"
     ]
    },
    {
     "name": "stdout",
     "output_type": "stream",
     "text": [
      "model_type not provided, defaulting to radgraph-xl\n"
     ]
    },
    {
     "name": "stderr",
     "output_type": "stream",
     "text": [
      "c:\\Users\\DryLab\\anaconda3\\envs\\ViLLA\\lib\\site-packages\\transformers\\utils\\generic.py:311: FutureWarning: `torch.utils._pytree._register_pytree_node` is deprecated. Please use `torch.utils._pytree.register_pytree_node` instead.\n",
      "  torch.utils._pytree._register_pytree_node(\n",
      "c:\\Users\\DryLab\\anaconda3\\envs\\ViLLA\\lib\\site-packages\\transformers\\modeling_utils.py:484: FutureWarning: You are using `torch.load` with `weights_only=False` (the current default value), which uses the default pickle module implicitly. It is possible to construct malicious pickle data which will execute arbitrary code during unpickling (See https://github.com/pytorch/pytorch/blob/main/SECURITY.md#untrusted-models for more details). In a future release, the default value for `weights_only` will be flipped to `True`. This limits the functions that could be executed during unpickling. Arbitrary objects will no longer be allowed to be loaded via this mode unless they are explicitly allowlisted by the user via `torch.serialization.add_safe_globals`. We recommend you start setting `weights_only=True` for any use case where you don't have full control of the loaded file. Please open an issue on GitHub for any issues related to this experimental feature.\n",
      "  return torch.load(checkpoint_file, map_location=map_location)\n"
     ]
    }
   ],
   "source": [
    "import os\n",
    "from collections import Counter\n",
    "\n",
    "import numpy as np\n",
    "import pandas as pd\n",
    "import spacy\n",
    "import torch\n",
    "from radgraph import RadGraph\n",
    "from rich import print\n",
    "from sentence_transformers import SentenceTransformer\n",
    "\n",
    "device = \"cuda\" if torch.cuda.is_available() else \"cpu\"\n",
    "\n",
    "# Load Spacy's English tokenizer\n",
    "nlp = spacy.load(\"en_core_web_sm\")\n",
    "\n",
    "# Initialize RadGraph\n",
    "radgraph = RadGraph()"
   ]
  },
  {
   "cell_type": "code",
   "execution_count": 2,
   "metadata": {},
   "outputs": [],
   "source": [
    "text_data_path = (\n",
    "    \"C:/Users/DryLab/Desktop/ViLLA/RPN_MIMIC/mimic-cxr-reports-preprocessed\"\n",
    ")"
   ]
  },
  {
   "cell_type": "code",
   "execution_count": 3,
   "metadata": {},
   "outputs": [
    {
     "name": "stderr",
     "output_type": "stream",
     "text": [
      "[nltk_data] Downloading package punkt to\n",
      "[nltk_data]     C:\\Users\\DryLab\\AppData\\Roaming\\nltk_data...\n",
      "[nltk_data]   Package punkt is already up-to-date!\n",
      "[nltk_data] Downloading package punkt_tab to\n",
      "[nltk_data]     C:\\Users\\DryLab\\AppData\\Roaming\\nltk_data...\n",
      "[nltk_data]   Package punkt_tab is already up-to-date!\n"
     ]
    }
   ],
   "source": [
    "import nltk\n",
    "\n",
    "nltk.download(\"punkt\")\n",
    "nltk.download(\"punkt_tab\")\n",
    "\n",
    "\n",
    "def filter_sentences_by_absent_tokens(radgraph_output):\n",
    "    remaining_sentences = []\n",
    "\n",
    "    radgraph_output = radgraph(radgraph_output)\n",
    "\n",
    "    # Iterate over RadGraph output\n",
    "    for _, description in radgraph_output.items():\n",
    "        text = description.get(\"text\", \"\")\n",
    "        entities = description.get(\"entities\", {})\n",
    "\n",
    "        # Step 1: Split the text into sentences\n",
    "        sentences = nltk.tokenize.sent_tokenize(text)\n",
    "\n",
    "        # Step 2: Create a mapping of word indices to sentence indices\n",
    "        word_to_sentence = {}\n",
    "        current_word_idx = 0\n",
    "\n",
    "        for i, sentence in enumerate(sentences):\n",
    "            sentence_words = nltk.tokenize.word_tokenize(sentence)\n",
    "            for _ in sentence_words:\n",
    "                word_to_sentence[current_word_idx] = i\n",
    "                current_word_idx += 1\n",
    "\n",
    "        # Step 3: Create a flag to keep or discard each sentence\n",
    "        sentence_flags = [True] * len(sentences)\n",
    "\n",
    "        # Step 4: Iterate over entities and check for tokens labeled \"Observation::definitely absent\"\n",
    "        for _, entity_info in entities.items():\n",
    "            label = entity_info.get(\"label\")\n",
    "            start_ix = entity_info.get(\"start_ix\")\n",
    "\n",
    "            # Check if the entity is labeled as \"Observation::definitely absent\"\n",
    "            if label == \"Observation::definitely absent\":\n",
    "                # Step 5: Find which sentence contains the token based on start and end indices\n",
    "                sentence_idx = word_to_sentence.get(start_ix, None)\n",
    "                if sentence_idx is not None:\n",
    "                    sentence_flags[sentence_idx] = False\n",
    "\n",
    "        # Step 6: Collect the remaining sentences\n",
    "        for i, sentence in enumerate(sentences):\n",
    "            if sentence_flags[i]:\n",
    "                remaining_sentences.append(sentence)\n",
    "\n",
    "    return remaining_sentences"
   ]
  },
  {
   "cell_type": "code",
   "execution_count": 4,
   "metadata": {},
   "outputs": [],
   "source": [
    "def process_directory(main_dir):\n",
    "    data = []\n",
    "\n",
    "    for subdir, _, files in os.walk(main_dir):\n",
    "        for file in files:\n",
    "            if file.endswith(\".txt\"):\n",
    "                file_path = os.path.join(subdir, file)\n",
    "                with open(file_path, \"r\", encoding=\"utf-8\") as f:\n",
    "                    text = f.read()\n",
    "                    data.append(\n",
    "                        {\n",
    "                            \"parent_folder\": os.path.basename(os.path.dirname(subdir)),\n",
    "                            \"subfolder\": os.path.splitext(file)[0],\n",
    "                            \"text_path\": os.path.relpath(file_path, start=main_dir),\n",
    "                            \"text_content\": text,\n",
    "                        }\n",
    "                    )\n",
    "\n",
    "    df = pd.DataFrame(data)\n",
    "    return df"
   ]
  },
  {
   "cell_type": "code",
   "execution_count": 5,
   "metadata": {},
   "outputs": [],
   "source": [
    "df = process_directory(text_data_path)"
   ]
  },
  {
   "cell_type": "code",
   "execution_count": 6,
   "metadata": {},
   "outputs": [
    {
     "data": {
      "text/html": [
       "<div>\n",
       "<style scoped>\n",
       "    .dataframe tbody tr th:only-of-type {\n",
       "        vertical-align: middle;\n",
       "    }\n",
       "\n",
       "    .dataframe tbody tr th {\n",
       "        vertical-align: top;\n",
       "    }\n",
       "\n",
       "    .dataframe thead th {\n",
       "        text-align: right;\n",
       "    }\n",
       "</style>\n",
       "<table border=\"1\" class=\"dataframe\">\n",
       "  <thead>\n",
       "    <tr style=\"text-align: right;\">\n",
       "      <th></th>\n",
       "      <th>parent_folder</th>\n",
       "      <th>subfolder</th>\n",
       "      <th>text_path</th>\n",
       "      <th>text_content</th>\n",
       "    </tr>\n",
       "  </thead>\n",
       "  <tbody>\n",
       "    <tr>\n",
       "      <th>0</th>\n",
       "      <td>p10</td>\n",
       "      <td>s50414267</td>\n",
       "      <td>files\\p10\\p10000032\\s50414267.txt</td>\n",
       "      <td>There is no focal consolidation, pleural effus...</td>\n",
       "    </tr>\n",
       "    <tr>\n",
       "      <th>1</th>\n",
       "      <td>p10</td>\n",
       "      <td>s53189527</td>\n",
       "      <td>files\\p10\\p10000032\\s53189527.txt</td>\n",
       "      <td>The cardiac, mediastinal and hilar contours ar...</td>\n",
       "    </tr>\n",
       "    <tr>\n",
       "      <th>2</th>\n",
       "      <td>p10</td>\n",
       "      <td>s53911762</td>\n",
       "      <td>files\\p10\\p10000032\\s53911762.txt</td>\n",
       "      <td>Single frontal view of the chest provided.  Th...</td>\n",
       "    </tr>\n",
       "    <tr>\n",
       "      <th>3</th>\n",
       "      <td>p10</td>\n",
       "      <td>s56699142</td>\n",
       "      <td>files\\p10\\p10000032\\s56699142.txt</td>\n",
       "      <td>The lungs are clear of focal consolidation, pl...</td>\n",
       "    </tr>\n",
       "    <tr>\n",
       "      <th>4</th>\n",
       "      <td>p10</td>\n",
       "      <td>s57375967</td>\n",
       "      <td>files\\p10\\p10000764\\s57375967.txt</td>\n",
       "      <td>PA and lateral views of the chest provided.   ...</td>\n",
       "    </tr>\n",
       "    <tr>\n",
       "      <th>...</th>\n",
       "      <td>...</td>\n",
       "      <td>...</td>\n",
       "      <td>...</td>\n",
       "      <td>...</td>\n",
       "    </tr>\n",
       "    <tr>\n",
       "      <th>11698</th>\n",
       "      <td>p10</td>\n",
       "      <td>s56459556</td>\n",
       "      <td>files\\p10\\p10999395\\s56459556.txt</td>\n",
       "      <td>The tip of the endotracheal tube projects over...</td>\n",
       "    </tr>\n",
       "    <tr>\n",
       "      <th>11699</th>\n",
       "      <td>p10</td>\n",
       "      <td>s57060480</td>\n",
       "      <td>files\\p10\\p10999395\\s57060480.txt</td>\n",
       "      <td>There is right PICC line, an right IJ central ...</td>\n",
       "    </tr>\n",
       "    <tr>\n",
       "      <th>11700</th>\n",
       "      <td>p10</td>\n",
       "      <td>s52257272</td>\n",
       "      <td>files\\p10\\p10999512\\s52257272.txt</td>\n",
       "      <td>The lungs are well expanded and clear.  There ...</td>\n",
       "    </tr>\n",
       "    <tr>\n",
       "      <th>11701</th>\n",
       "      <td>p10</td>\n",
       "      <td>s52341872</td>\n",
       "      <td>files\\p10\\p10999737\\s52341872.txt</td>\n",
       "      <td>PA and lateral views of the chest provided.  L...</td>\n",
       "    </tr>\n",
       "    <tr>\n",
       "      <th>11702</th>\n",
       "      <td>p10</td>\n",
       "      <td>s56958909</td>\n",
       "      <td>files\\p10\\p10999737\\s56958909.txt</td>\n",
       "      <td>PA and lateral views of the chest provided.  T...</td>\n",
       "    </tr>\n",
       "  </tbody>\n",
       "</table>\n",
       "<p>11703 rows × 4 columns</p>\n",
       "</div>"
      ],
      "text/plain": [
       "      parent_folder  subfolder                          text_path  \\\n",
       "0               p10  s50414267  files\\p10\\p10000032\\s50414267.txt   \n",
       "1               p10  s53189527  files\\p10\\p10000032\\s53189527.txt   \n",
       "2               p10  s53911762  files\\p10\\p10000032\\s53911762.txt   \n",
       "3               p10  s56699142  files\\p10\\p10000032\\s56699142.txt   \n",
       "4               p10  s57375967  files\\p10\\p10000764\\s57375967.txt   \n",
       "...             ...        ...                                ...   \n",
       "11698           p10  s56459556  files\\p10\\p10999395\\s56459556.txt   \n",
       "11699           p10  s57060480  files\\p10\\p10999395\\s57060480.txt   \n",
       "11700           p10  s52257272  files\\p10\\p10999512\\s52257272.txt   \n",
       "11701           p10  s52341872  files\\p10\\p10999737\\s52341872.txt   \n",
       "11702           p10  s56958909  files\\p10\\p10999737\\s56958909.txt   \n",
       "\n",
       "                                            text_content  \n",
       "0      There is no focal consolidation, pleural effus...  \n",
       "1      The cardiac, mediastinal and hilar contours ar...  \n",
       "2      Single frontal view of the chest provided.  Th...  \n",
       "3      The lungs are clear of focal consolidation, pl...  \n",
       "4      PA and lateral views of the chest provided.   ...  \n",
       "...                                                  ...  \n",
       "11698  The tip of the endotracheal tube projects over...  \n",
       "11699  There is right PICC line, an right IJ central ...  \n",
       "11700  The lungs are well expanded and clear.  There ...  \n",
       "11701  PA and lateral views of the chest provided.  L...  \n",
       "11702  PA and lateral views of the chest provided.  T...  \n",
       "\n",
       "[11703 rows x 4 columns]"
      ]
     },
     "execution_count": 6,
     "metadata": {},
     "output_type": "execute_result"
    }
   ],
   "source": [
    "df"
   ]
  },
  {
   "cell_type": "code",
   "execution_count": 7,
   "metadata": {},
   "outputs": [],
   "source": [
    "df[\"new_text_content\"] = df[\"text_content\"].apply(filter_sentences_by_absent_tokens)"
   ]
  },
  {
   "cell_type": "code",
   "execution_count": 8,
   "metadata": {},
   "outputs": [
    {
     "data": {
      "text/html": [
       "<div>\n",
       "<style scoped>\n",
       "    .dataframe tbody tr th:only-of-type {\n",
       "        vertical-align: middle;\n",
       "    }\n",
       "\n",
       "    .dataframe tbody tr th {\n",
       "        vertical-align: top;\n",
       "    }\n",
       "\n",
       "    .dataframe thead th {\n",
       "        text-align: right;\n",
       "    }\n",
       "</style>\n",
       "<table border=\"1\" class=\"dataframe\">\n",
       "  <thead>\n",
       "    <tr style=\"text-align: right;\">\n",
       "      <th></th>\n",
       "      <th>parent_folder</th>\n",
       "      <th>subfolder</th>\n",
       "      <th>text_path</th>\n",
       "      <th>text_content</th>\n",
       "      <th>new_text_content</th>\n",
       "    </tr>\n",
       "  </thead>\n",
       "  <tbody>\n",
       "    <tr>\n",
       "      <th>0</th>\n",
       "      <td>p10</td>\n",
       "      <td>s50414267</td>\n",
       "      <td>files\\p10\\p10000032\\s50414267.txt</td>\n",
       "      <td>There is no focal consolidation, pleural effus...</td>\n",
       "      <td>[Bilateral nodular opacities that most likely ...</td>\n",
       "    </tr>\n",
       "    <tr>\n",
       "      <th>1</th>\n",
       "      <td>p10</td>\n",
       "      <td>s53189527</td>\n",
       "      <td>files\\p10\\p10000032\\s53189527.txt</td>\n",
       "      <td>The cardiac, mediastinal and hilar contours ar...</td>\n",
       "      <td>[The cardiac , mediastinal and hilar contours ...</td>\n",
       "    </tr>\n",
       "    <tr>\n",
       "      <th>2</th>\n",
       "      <td>p10</td>\n",
       "      <td>s53911762</td>\n",
       "      <td>files\\p10\\p10000032\\s53911762.txt</td>\n",
       "      <td>Single frontal view of the chest provided.  Th...</td>\n",
       "      <td>[Single frontal view of the chest provided ., ...</td>\n",
       "    </tr>\n",
       "    <tr>\n",
       "      <th>3</th>\n",
       "      <td>p10</td>\n",
       "      <td>s56699142</td>\n",
       "      <td>files\\p10\\p10000032\\s56699142.txt</td>\n",
       "      <td>The lungs are clear of focal consolidation, pl...</td>\n",
       "      <td>[The heart size is normal ., The mediastinal c...</td>\n",
       "    </tr>\n",
       "    <tr>\n",
       "      <th>4</th>\n",
       "      <td>p10</td>\n",
       "      <td>s57375967</td>\n",
       "      <td>files\\p10\\p10000764\\s57375967.txt</td>\n",
       "      <td>PA and lateral views of the chest provided.   ...</td>\n",
       "      <td>[PA and lateral views of the chest provided .,...</td>\n",
       "    </tr>\n",
       "    <tr>\n",
       "      <th>...</th>\n",
       "      <td>...</td>\n",
       "      <td>...</td>\n",
       "      <td>...</td>\n",
       "      <td>...</td>\n",
       "      <td>...</td>\n",
       "    </tr>\n",
       "    <tr>\n",
       "      <th>11698</th>\n",
       "      <td>p10</td>\n",
       "      <td>s56459556</td>\n",
       "      <td>files\\p10\\p10999395\\s56459556.txt</td>\n",
       "      <td>The tip of the endotracheal tube projects over...</td>\n",
       "      <td>[The tip of the endotracheal tube projects ove...</td>\n",
       "    </tr>\n",
       "    <tr>\n",
       "      <th>11699</th>\n",
       "      <td>p10</td>\n",
       "      <td>s57060480</td>\n",
       "      <td>files\\p10\\p10999395\\s57060480.txt</td>\n",
       "      <td>There is right PICC line, an right IJ central ...</td>\n",
       "      <td>[There is right PICC line , an right IJ centra...</td>\n",
       "    </tr>\n",
       "    <tr>\n",
       "      <th>11700</th>\n",
       "      <td>p10</td>\n",
       "      <td>s52257272</td>\n",
       "      <td>files\\p10\\p10999512\\s52257272.txt</td>\n",
       "      <td>The lungs are well expanded and clear.  There ...</td>\n",
       "      <td>[The lungs are well expanded and clear ., The ...</td>\n",
       "    </tr>\n",
       "    <tr>\n",
       "      <th>11701</th>\n",
       "      <td>p10</td>\n",
       "      <td>s52341872</td>\n",
       "      <td>files\\p10\\p10999737\\s52341872.txt</td>\n",
       "      <td>PA and lateral views of the chest provided.  L...</td>\n",
       "      <td>[PA and lateral views of the chest provided .,...</td>\n",
       "    </tr>\n",
       "    <tr>\n",
       "      <th>11702</th>\n",
       "      <td>p10</td>\n",
       "      <td>s56958909</td>\n",
       "      <td>files\\p10\\p10999737\\s56958909.txt</td>\n",
       "      <td>PA and lateral views of the chest provided.  T...</td>\n",
       "      <td>[PA and lateral views of the chest provided .,...</td>\n",
       "    </tr>\n",
       "  </tbody>\n",
       "</table>\n",
       "<p>11703 rows × 5 columns</p>\n",
       "</div>"
      ],
      "text/plain": [
       "      parent_folder  subfolder                          text_path  \\\n",
       "0               p10  s50414267  files\\p10\\p10000032\\s50414267.txt   \n",
       "1               p10  s53189527  files\\p10\\p10000032\\s53189527.txt   \n",
       "2               p10  s53911762  files\\p10\\p10000032\\s53911762.txt   \n",
       "3               p10  s56699142  files\\p10\\p10000032\\s56699142.txt   \n",
       "4               p10  s57375967  files\\p10\\p10000764\\s57375967.txt   \n",
       "...             ...        ...                                ...   \n",
       "11698           p10  s56459556  files\\p10\\p10999395\\s56459556.txt   \n",
       "11699           p10  s57060480  files\\p10\\p10999395\\s57060480.txt   \n",
       "11700           p10  s52257272  files\\p10\\p10999512\\s52257272.txt   \n",
       "11701           p10  s52341872  files\\p10\\p10999737\\s52341872.txt   \n",
       "11702           p10  s56958909  files\\p10\\p10999737\\s56958909.txt   \n",
       "\n",
       "                                            text_content  \\\n",
       "0      There is no focal consolidation, pleural effus...   \n",
       "1      The cardiac, mediastinal and hilar contours ar...   \n",
       "2      Single frontal view of the chest provided.  Th...   \n",
       "3      The lungs are clear of focal consolidation, pl...   \n",
       "4      PA and lateral views of the chest provided.   ...   \n",
       "...                                                  ...   \n",
       "11698  The tip of the endotracheal tube projects over...   \n",
       "11699  There is right PICC line, an right IJ central ...   \n",
       "11700  The lungs are well expanded and clear.  There ...   \n",
       "11701  PA and lateral views of the chest provided.  L...   \n",
       "11702  PA and lateral views of the chest provided.  T...   \n",
       "\n",
       "                                        new_text_content  \n",
       "0      [Bilateral nodular opacities that most likely ...  \n",
       "1      [The cardiac , mediastinal and hilar contours ...  \n",
       "2      [Single frontal view of the chest provided ., ...  \n",
       "3      [The heart size is normal ., The mediastinal c...  \n",
       "4      [PA and lateral views of the chest provided .,...  \n",
       "...                                                  ...  \n",
       "11698  [The tip of the endotracheal tube projects ove...  \n",
       "11699  [There is right PICC line , an right IJ centra...  \n",
       "11700  [The lungs are well expanded and clear ., The ...  \n",
       "11701  [PA and lateral views of the chest provided .,...  \n",
       "11702  [PA and lateral views of the chest provided .,...  \n",
       "\n",
       "[11703 rows x 5 columns]"
      ]
     },
     "execution_count": 8,
     "metadata": {},
     "output_type": "execute_result"
    }
   ],
   "source": [
    "df"
   ]
  },
  {
   "cell_type": "code",
   "execution_count": 9,
   "metadata": {},
   "outputs": [
    {
     "name": "stderr",
     "output_type": "stream",
     "text": [
      "[nltk_data] Downloading package punkt to\n",
      "[nltk_data]     C:\\Users\\DryLab\\AppData\\Roaming\\nltk_data...\n",
      "[nltk_data]   Package punkt is already up-to-date!\n"
     ]
    }
   ],
   "source": [
    "import nltk\n",
    "\n",
    "# Ensure you have the NLTK sentence tokenizer models\n",
    "nltk.download(\"punkt\")\n",
    "\n",
    "\n",
    "def preprocess_sentences(data):\n",
    "    preprocessed_sentences = []\n",
    "\n",
    "    for sentence in data:\n",
    "        # Convert to lowercase\n",
    "        sentence = sentence.lower()\n",
    "\n",
    "        # Tokenize into sentences (in this case, each string is already a sentence, so this is a safeguard)\n",
    "        sentences = nltk.tokenize.sent_tokenize(sentence)\n",
    "\n",
    "        # Append the processed sentences to the list\n",
    "        preprocessed_sentences.extend(sentences)\n",
    "\n",
    "    text = \" \".join(preprocessed_sentences)\n",
    "\n",
    "    return text\n"
   ]
  },
  {
   "cell_type": "code",
   "execution_count": 10,
   "metadata": {},
   "outputs": [],
   "source": [
    "df[\"new_text_content\"] = df[\"new_text_content\"].apply(preprocess_sentences)"
   ]
  },
  {
   "cell_type": "code",
   "execution_count": 11,
   "metadata": {},
   "outputs": [
    {
     "data": {
      "text/html": [
       "<div>\n",
       "<style scoped>\n",
       "    .dataframe tbody tr th:only-of-type {\n",
       "        vertical-align: middle;\n",
       "    }\n",
       "\n",
       "    .dataframe tbody tr th {\n",
       "        vertical-align: top;\n",
       "    }\n",
       "\n",
       "    .dataframe thead th {\n",
       "        text-align: right;\n",
       "    }\n",
       "</style>\n",
       "<table border=\"1\" class=\"dataframe\">\n",
       "  <thead>\n",
       "    <tr style=\"text-align: right;\">\n",
       "      <th></th>\n",
       "      <th>parent_folder</th>\n",
       "      <th>subfolder</th>\n",
       "      <th>text_path</th>\n",
       "      <th>text_content</th>\n",
       "      <th>new_text_content</th>\n",
       "    </tr>\n",
       "  </thead>\n",
       "  <tbody>\n",
       "    <tr>\n",
       "      <th>0</th>\n",
       "      <td>p10</td>\n",
       "      <td>s50414267</td>\n",
       "      <td>files\\p10\\p10000032\\s50414267.txt</td>\n",
       "      <td>There is no focal consolidation, pleural effus...</td>\n",
       "      <td>bilateral nodular opacities that most likely r...</td>\n",
       "    </tr>\n",
       "    <tr>\n",
       "      <th>1</th>\n",
       "      <td>p10</td>\n",
       "      <td>s53189527</td>\n",
       "      <td>files\\p10\\p10000032\\s53189527.txt</td>\n",
       "      <td>The cardiac, mediastinal and hilar contours ar...</td>\n",
       "      <td>the cardiac , mediastinal and hilar contours a...</td>\n",
       "    </tr>\n",
       "    <tr>\n",
       "      <th>2</th>\n",
       "      <td>p10</td>\n",
       "      <td>s53911762</td>\n",
       "      <td>files\\p10\\p10000032\\s53911762.txt</td>\n",
       "      <td>Single frontal view of the chest provided.  Th...</td>\n",
       "      <td>single frontal view of the chest provided . th...</td>\n",
       "    </tr>\n",
       "    <tr>\n",
       "      <th>3</th>\n",
       "      <td>p10</td>\n",
       "      <td>s56699142</td>\n",
       "      <td>files\\p10\\p10000032\\s56699142.txt</td>\n",
       "      <td>The lungs are clear of focal consolidation, pl...</td>\n",
       "      <td>the heart size is normal . the mediastinal con...</td>\n",
       "    </tr>\n",
       "    <tr>\n",
       "      <th>4</th>\n",
       "      <td>p10</td>\n",
       "      <td>s57375967</td>\n",
       "      <td>files\\p10\\p10000764\\s57375967.txt</td>\n",
       "      <td>PA and lateral views of the chest provided.   ...</td>\n",
       "      <td>pa and lateral views of the chest provided . t...</td>\n",
       "    </tr>\n",
       "    <tr>\n",
       "      <th>...</th>\n",
       "      <td>...</td>\n",
       "      <td>...</td>\n",
       "      <td>...</td>\n",
       "      <td>...</td>\n",
       "      <td>...</td>\n",
       "    </tr>\n",
       "    <tr>\n",
       "      <th>11698</th>\n",
       "      <td>p10</td>\n",
       "      <td>s56459556</td>\n",
       "      <td>files\\p10\\p10999395\\s56459556.txt</td>\n",
       "      <td>The tip of the endotracheal tube projects over...</td>\n",
       "      <td>the tip of the endotracheal tube projects over...</td>\n",
       "    </tr>\n",
       "    <tr>\n",
       "      <th>11699</th>\n",
       "      <td>p10</td>\n",
       "      <td>s57060480</td>\n",
       "      <td>files\\p10\\p10999395\\s57060480.txt</td>\n",
       "      <td>There is right PICC line, an right IJ central ...</td>\n",
       "      <td>there is right picc line , an right ij central...</td>\n",
       "    </tr>\n",
       "    <tr>\n",
       "      <th>11700</th>\n",
       "      <td>p10</td>\n",
       "      <td>s52257272</td>\n",
       "      <td>files\\p10\\p10999512\\s52257272.txt</td>\n",
       "      <td>The lungs are well expanded and clear.  There ...</td>\n",
       "      <td>the lungs are well expanded and clear . the ca...</td>\n",
       "    </tr>\n",
       "    <tr>\n",
       "      <th>11701</th>\n",
       "      <td>p10</td>\n",
       "      <td>s52341872</td>\n",
       "      <td>files\\p10\\p10999737\\s52341872.txt</td>\n",
       "      <td>PA and lateral views of the chest provided.  L...</td>\n",
       "      <td>pa and lateral views of the chest provided . l...</td>\n",
       "    </tr>\n",
       "    <tr>\n",
       "      <th>11702</th>\n",
       "      <td>p10</td>\n",
       "      <td>s56958909</td>\n",
       "      <td>files\\p10\\p10999737\\s56958909.txt</td>\n",
       "      <td>PA and lateral views of the chest provided.  T...</td>\n",
       "      <td>pa and lateral views of the chest provided . t...</td>\n",
       "    </tr>\n",
       "  </tbody>\n",
       "</table>\n",
       "<p>11703 rows × 5 columns</p>\n",
       "</div>"
      ],
      "text/plain": [
       "      parent_folder  subfolder                          text_path  \\\n",
       "0               p10  s50414267  files\\p10\\p10000032\\s50414267.txt   \n",
       "1               p10  s53189527  files\\p10\\p10000032\\s53189527.txt   \n",
       "2               p10  s53911762  files\\p10\\p10000032\\s53911762.txt   \n",
       "3               p10  s56699142  files\\p10\\p10000032\\s56699142.txt   \n",
       "4               p10  s57375967  files\\p10\\p10000764\\s57375967.txt   \n",
       "...             ...        ...                                ...   \n",
       "11698           p10  s56459556  files\\p10\\p10999395\\s56459556.txt   \n",
       "11699           p10  s57060480  files\\p10\\p10999395\\s57060480.txt   \n",
       "11700           p10  s52257272  files\\p10\\p10999512\\s52257272.txt   \n",
       "11701           p10  s52341872  files\\p10\\p10999737\\s52341872.txt   \n",
       "11702           p10  s56958909  files\\p10\\p10999737\\s56958909.txt   \n",
       "\n",
       "                                            text_content  \\\n",
       "0      There is no focal consolidation, pleural effus...   \n",
       "1      The cardiac, mediastinal and hilar contours ar...   \n",
       "2      Single frontal view of the chest provided.  Th...   \n",
       "3      The lungs are clear of focal consolidation, pl...   \n",
       "4      PA and lateral views of the chest provided.   ...   \n",
       "...                                                  ...   \n",
       "11698  The tip of the endotracheal tube projects over...   \n",
       "11699  There is right PICC line, an right IJ central ...   \n",
       "11700  The lungs are well expanded and clear.  There ...   \n",
       "11701  PA and lateral views of the chest provided.  L...   \n",
       "11702  PA and lateral views of the chest provided.  T...   \n",
       "\n",
       "                                        new_text_content  \n",
       "0      bilateral nodular opacities that most likely r...  \n",
       "1      the cardiac , mediastinal and hilar contours a...  \n",
       "2      single frontal view of the chest provided . th...  \n",
       "3      the heart size is normal . the mediastinal con...  \n",
       "4      pa and lateral views of the chest provided . t...  \n",
       "...                                                  ...  \n",
       "11698  the tip of the endotracheal tube projects over...  \n",
       "11699  there is right picc line , an right ij central...  \n",
       "11700  the lungs are well expanded and clear . the ca...  \n",
       "11701  pa and lateral views of the chest provided . l...  \n",
       "11702  pa and lateral views of the chest provided . t...  \n",
       "\n",
       "[11703 rows x 5 columns]"
      ]
     },
     "execution_count": 11,
     "metadata": {},
     "output_type": "execute_result"
    }
   ],
   "source": [
    "df"
   ]
  },
  {
   "cell_type": "code",
   "execution_count": 12,
   "metadata": {},
   "outputs": [],
   "source": [
    "df = df[\n",
    "    df[\"new_text_content\"].apply(lambda x: isinstance(x, str) and len(x.split()) >= 2)\n",
    "]"
   ]
  },
  {
   "cell_type": "code",
   "execution_count": 13,
   "metadata": {},
   "outputs": [],
   "source": [
    "def save_preprocessed_text(df, output_dir):\n",
    "    # Ensure the output directory exists\n",
    "    os.makedirs(output_dir, exist_ok=True)\n",
    "\n",
    "    # Iterate through the DataFrame rows\n",
    "    for index, row in df.iterrows():\n",
    "        # Construct the output file path\n",
    "        subfolder_path = os.path.join(output_dir, row[\"parent_folder\"])\n",
    "        os.makedirs(subfolder_path, exist_ok=True)\n",
    "        output_file_path = os.path.join(subfolder_path, f\"{row['subfolder']}.txt\")\n",
    "\n",
    "        # Write the CONTENT to the new text file\n",
    "        with open(output_file_path, \"w\", encoding=\"utf-8\") as f:\n",
    "            f.write(row[\"new_text_content\"])\n",
    "\n",
    "\n",
    "output_text_directory = \"./mimic-cxr-reports-preprocessed-villa/p10\"\n",
    "save_preprocessed_text(df, output_text_directory)"
   ]
  },
  {
   "cell_type": "code",
   "execution_count": 15,
   "metadata": {},
   "outputs": [
    {
     "data": {
      "text/html": [
       "<pre style=\"white-space:pre;overflow-x:auto;line-height:normal;font-family:Menlo,'DejaVu Sans Mono',consolas,'Courier New',monospace\">Findings: bilateral nodular opacities that most likely represent nipple shadows . the cardiomediastinal silhouette \n",
       "is normal . clips project over the left lung , potentially within the breast . the imaged upper abdomen is \n",
       "unremarkable . chronic deformity of the posterior left sixth and seventh ribs are noted .\n",
       "</pre>\n"
      ],
      "text/plain": [
       "Findings: bilateral nodular opacities that most likely represent nipple shadows . the cardiomediastinal silhouette \n",
       "is normal . clips project over the left lung , potentially within the breast . the imaged upper abdomen is \n",
       "unremarkable . chronic deformity of the posterior left sixth and seventh ribs are noted .\n"
      ]
     },
     "metadata": {},
     "output_type": "display_data"
    }
   ],
   "source": [
    "index = 0\n",
    "findings = df.iloc[index][\"new_text_content\"]\n",
    "annotation = radgraph([findings])\n",
    "print(f\"Findings: {findings}\")"
   ]
  },
  {
   "cell_type": "code",
   "execution_count": 16,
   "metadata": {},
   "outputs": [
    {
     "data": {
      "text/plain": [
       "{'0': {'text': 'bilateral nodular opacities that most likely represent nipple shadows . the cardiomediastinal silhouette is normal . clips project over the left lung , potentially within the breast . the imaged upper abdomen is unremarkable . chronic deformity of the posterior left sixth and seventh ribs are noted .',\n",
       "  'entities': {'1': {'tokens': 'bilateral',\n",
       "    'label': 'Anatomy::definitely present',\n",
       "    'start_ix': 0,\n",
       "    'end_ix': 0,\n",
       "    'relations': []},\n",
       "   '2': {'tokens': 'nodular',\n",
       "    'label': 'Observation::definitely present',\n",
       "    'start_ix': 1,\n",
       "    'end_ix': 1,\n",
       "    'relations': [['modify', '3']]},\n",
       "   '3': {'tokens': 'opacities',\n",
       "    'label': 'Observation::definitely present',\n",
       "    'start_ix': 2,\n",
       "    'end_ix': 2,\n",
       "    'relations': [['located_at', '1']]},\n",
       "   '4': {'tokens': 'nipple',\n",
       "    'label': 'Anatomy::definitely present',\n",
       "    'start_ix': 7,\n",
       "    'end_ix': 7,\n",
       "    'relations': []},\n",
       "   '5': {'tokens': 'shadows',\n",
       "    'label': 'Anatomy::definitely present',\n",
       "    'start_ix': 8,\n",
       "    'end_ix': 8,\n",
       "    'relations': [['modify', '4']]},\n",
       "   '6': {'tokens': 'cardiomediastinal',\n",
       "    'label': 'Anatomy::definitely present',\n",
       "    'start_ix': 11,\n",
       "    'end_ix': 11,\n",
       "    'relations': []},\n",
       "   '7': {'tokens': 'silhouette',\n",
       "    'label': 'Anatomy::definitely present',\n",
       "    'start_ix': 12,\n",
       "    'end_ix': 12,\n",
       "    'relations': [['modify', '6']]},\n",
       "   '8': {'tokens': 'normal',\n",
       "    'label': 'Observation::definitely present',\n",
       "    'start_ix': 14,\n",
       "    'end_ix': 14,\n",
       "    'relations': [['located_at', '6']]},\n",
       "   '9': {'tokens': 'clips',\n",
       "    'label': 'Observation::definitely present',\n",
       "    'start_ix': 16,\n",
       "    'end_ix': 16,\n",
       "    'relations': [['located_at', '11'], ['located_at', '13']]},\n",
       "   '10': {'tokens': 'left',\n",
       "    'label': 'Anatomy::definitely present',\n",
       "    'start_ix': 20,\n",
       "    'end_ix': 20,\n",
       "    'relations': [['modify', '11']]},\n",
       "   '11': {'tokens': 'lung',\n",
       "    'label': 'Anatomy::definitely present',\n",
       "    'start_ix': 21,\n",
       "    'end_ix': 21,\n",
       "    'relations': []},\n",
       "   '12': {'tokens': 'within',\n",
       "    'label': 'Observation::definitely present',\n",
       "    'start_ix': 24,\n",
       "    'end_ix': 24,\n",
       "    'relations': []},\n",
       "   '13': {'tokens': 'breast',\n",
       "    'label': 'Anatomy::definitely present',\n",
       "    'start_ix': 26,\n",
       "    'end_ix': 26,\n",
       "    'relations': []},\n",
       "   '14': {'tokens': 'upper',\n",
       "    'label': 'Anatomy::definitely present',\n",
       "    'start_ix': 30,\n",
       "    'end_ix': 30,\n",
       "    'relations': [['modify', '15']]},\n",
       "   '15': {'tokens': 'abdomen',\n",
       "    'label': 'Anatomy::definitely present',\n",
       "    'start_ix': 31,\n",
       "    'end_ix': 31,\n",
       "    'relations': []},\n",
       "   '16': {'tokens': 'unremarkable',\n",
       "    'label': 'Observation::definitely present',\n",
       "    'start_ix': 33,\n",
       "    'end_ix': 33,\n",
       "    'relations': [['located_at', '15']]},\n",
       "   '17': {'tokens': 'chronic',\n",
       "    'label': 'Observation::definitely present',\n",
       "    'start_ix': 35,\n",
       "    'end_ix': 35,\n",
       "    'relations': [['modify', '18']]},\n",
       "   '18': {'tokens': 'deformity',\n",
       "    'label': 'Observation::definitely present',\n",
       "    'start_ix': 36,\n",
       "    'end_ix': 36,\n",
       "    'relations': [['located_at', '23']]},\n",
       "   '19': {'tokens': 'posterior',\n",
       "    'label': 'Anatomy::definitely present',\n",
       "    'start_ix': 39,\n",
       "    'end_ix': 39,\n",
       "    'relations': [['modify', '23']]},\n",
       "   '20': {'tokens': 'left',\n",
       "    'label': 'Anatomy::definitely present',\n",
       "    'start_ix': 40,\n",
       "    'end_ix': 40,\n",
       "    'relations': [['modify', '23']]},\n",
       "   '21': {'tokens': 'sixth',\n",
       "    'label': 'Anatomy::definitely present',\n",
       "    'start_ix': 41,\n",
       "    'end_ix': 41,\n",
       "    'relations': [['modify', '23']]},\n",
       "   '22': {'tokens': 'seventh',\n",
       "    'label': 'Anatomy::definitely present',\n",
       "    'start_ix': 43,\n",
       "    'end_ix': 43,\n",
       "    'relations': [['modify', '23']]},\n",
       "   '23': {'tokens': 'ribs',\n",
       "    'label': 'Anatomy::definitely present',\n",
       "    'start_ix': 44,\n",
       "    'end_ix': 44,\n",
       "    'relations': []}},\n",
       "  'data_source': None,\n",
       "  'data_split': 'inference'}}"
      ]
     },
     "execution_count": 16,
     "metadata": {},
     "output_type": "execute_result"
    }
   ],
   "source": [
    "annotation"
   ]
  },
  {
   "cell_type": "code",
   "execution_count": 17,
   "metadata": {},
   "outputs": [],
   "source": [
    "def extract_entities(textual_descriptions):\n",
    "    extracted_entities = []\n",
    "\n",
    "    textual_descriptions = radgraph(textual_descriptions)\n",
    "\n",
    "    for _, description in textual_descriptions.items():\n",
    "        # Extract entities using RadGraph\n",
    "        entities = description.get(\"entities\", {})\n",
    "\n",
    "        # Filter entities that are 'Definitely Present'\n",
    "        for _, entities_label in entities.items():\n",
    "            label = entities_label.get(\"label\")\n",
    "            tokens = entities_label.get(\"tokens\")\n",
    "            if label == \"Observation::definitely present\":\n",
    "                extracted_entities.append(tokens)\n",
    "\n",
    "    return extracted_entities\n",
    "\n",
    "\n",
    "textual_descriptions = findings\n",
    "entities = extract_entities(textual_descriptions)"
   ]
  },
  {
   "cell_type": "code",
   "execution_count": 18,
   "metadata": {},
   "outputs": [
    {
     "data": {
      "text/plain": [
       "['nodular',\n",
       " 'opacities',\n",
       " 'normal',\n",
       " 'clips',\n",
       " 'within',\n",
       " 'unremarkable',\n",
       " 'chronic',\n",
       " 'deformity']"
      ]
     },
     "execution_count": 18,
     "metadata": {},
     "output_type": "execute_result"
    }
   ],
   "source": [
    "entities"
   ]
  },
  {
   "cell_type": "code",
   "execution_count": 19,
   "metadata": {},
   "outputs": [],
   "source": [
    "def filter_nouns(entities):\n",
    "    noun_entities = []\n",
    "\n",
    "    for entity in entities:\n",
    "        # Tokenize the entity using Spacy\n",
    "        doc = nlp(entity)\n",
    "        for token in doc:\n",
    "            # Filter out tokens that are nouns\n",
    "            if token.pos_ == \"NOUN\":\n",
    "                # Append the noun to the list of noun entities\n",
    "                noun_entities.append(token.text)\n",
    "\n",
    "    return noun_entities\n",
    "\n",
    "\n",
    "noun_entities = filter_nouns(entities)"
   ]
  },
  {
   "cell_type": "code",
   "execution_count": 20,
   "metadata": {},
   "outputs": [
    {
     "data": {
      "text/plain": [
       "['opacities', 'clips', 'deformity']"
      ]
     },
     "execution_count": 20,
     "metadata": {},
     "output_type": "execute_result"
    }
   ],
   "source": [
    "noun_entities"
   ]
  },
  {
   "cell_type": "code",
   "execution_count": 21,
   "metadata": {},
   "outputs": [
    {
     "name": "stderr",
     "output_type": "stream",
     "text": [
      "C:\\Users\\DryLab\\AppData\\Local\\Temp\\ipykernel_22524\\4206651077.py:1: SettingWithCopyWarning: \n",
      "A value is trying to be set on a copy of a slice from a DataFrame.\n",
      "Try using .loc[row_indexer,col_indexer] = value instead\n",
      "\n",
      "See the caveats in the documentation: https://pandas.pydata.org/pandas-docs/stable/user_guide/indexing.html#returning-a-view-versus-a-copy\n",
      "  df[\"tokens\"] = df[\"new_text_content\"].apply(extract_entities)\n"
     ]
    }
   ],
   "source": [
    "df[\"tokens\"] = df[\"new_text_content\"].apply(extract_entities)"
   ]
  },
  {
   "cell_type": "code",
   "execution_count": 22,
   "metadata": {},
   "outputs": [
    {
     "data": {
      "text/html": [
       "<div>\n",
       "<style scoped>\n",
       "    .dataframe tbody tr th:only-of-type {\n",
       "        vertical-align: middle;\n",
       "    }\n",
       "\n",
       "    .dataframe tbody tr th {\n",
       "        vertical-align: top;\n",
       "    }\n",
       "\n",
       "    .dataframe thead th {\n",
       "        text-align: right;\n",
       "    }\n",
       "</style>\n",
       "<table border=\"1\" class=\"dataframe\">\n",
       "  <thead>\n",
       "    <tr style=\"text-align: right;\">\n",
       "      <th></th>\n",
       "      <th>parent_folder</th>\n",
       "      <th>subfolder</th>\n",
       "      <th>text_path</th>\n",
       "      <th>text_content</th>\n",
       "      <th>new_text_content</th>\n",
       "      <th>tokens</th>\n",
       "    </tr>\n",
       "  </thead>\n",
       "  <tbody>\n",
       "    <tr>\n",
       "      <th>0</th>\n",
       "      <td>p10</td>\n",
       "      <td>s50414267</td>\n",
       "      <td>files\\p10\\p10000032\\s50414267.txt</td>\n",
       "      <td>There is no focal consolidation, pleural effus...</td>\n",
       "      <td>bilateral nodular opacities that most likely r...</td>\n",
       "      <td>[nodular, opacities, normal, clips, within, un...</td>\n",
       "    </tr>\n",
       "    <tr>\n",
       "      <th>1</th>\n",
       "      <td>p10</td>\n",
       "      <td>s53189527</td>\n",
       "      <td>files\\p10\\p10000032\\s53189527.txt</td>\n",
       "      <td>The cardiac, mediastinal and hilar contours ar...</td>\n",
       "      <td>the cardiac , mediastinal and hilar contours a...</td>\n",
       "      <td>[normal, normal, clear, multiple, clips, remot...</td>\n",
       "    </tr>\n",
       "    <tr>\n",
       "      <th>2</th>\n",
       "      <td>p10</td>\n",
       "      <td>s53911762</td>\n",
       "      <td>files\\p10\\p10000032\\s53911762.txt</td>\n",
       "      <td>Single frontal view of the chest provided.  Th...</td>\n",
       "      <td>single frontal view of the chest provided . th...</td>\n",
       "      <td>[normal, multiple, clips, remote, fractures]</td>\n",
       "    </tr>\n",
       "    <tr>\n",
       "      <th>3</th>\n",
       "      <td>p10</td>\n",
       "      <td>s56699142</td>\n",
       "      <td>files\\p10\\p10000032\\s56699142.txt</td>\n",
       "      <td>The lungs are clear of focal consolidation, pl...</td>\n",
       "      <td>the heart size is normal . the mediastinal con...</td>\n",
       "      <td>[normal, normal, multiple surgical clips, old,...</td>\n",
       "    </tr>\n",
       "    <tr>\n",
       "      <th>4</th>\n",
       "      <td>p10</td>\n",
       "      <td>s57375967</td>\n",
       "      <td>files\\p10\\p10000764\\s57375967.txt</td>\n",
       "      <td>PA and lateral views of the chest provided.   ...</td>\n",
       "      <td>pa and lateral views of the chest provided . t...</td>\n",
       "      <td>[adequately, aerated, focal, consolidation, mi...</td>\n",
       "    </tr>\n",
       "    <tr>\n",
       "      <th>...</th>\n",
       "      <td>...</td>\n",
       "      <td>...</td>\n",
       "      <td>...</td>\n",
       "      <td>...</td>\n",
       "      <td>...</td>\n",
       "      <td>...</td>\n",
       "    </tr>\n",
       "    <tr>\n",
       "      <th>11698</th>\n",
       "      <td>p10</td>\n",
       "      <td>s56459556</td>\n",
       "      <td>files\\p10\\p10999395\\s56459556.txt</td>\n",
       "      <td>The tip of the endotracheal tube projects over...</td>\n",
       "      <td>the tip of the endotracheal tube projects over...</td>\n",
       "      <td>[tip, endotracheal tube, two tubes, low, diffu...</td>\n",
       "    </tr>\n",
       "    <tr>\n",
       "      <th>11699</th>\n",
       "      <td>p10</td>\n",
       "      <td>s57060480</td>\n",
       "      <td>files\\p10\\p10999395\\s57060480.txt</td>\n",
       "      <td>There is right PICC line, an right IJ central ...</td>\n",
       "      <td>there is right picc line , an right ij central...</td>\n",
       "      <td>[picc line, central line, tips, shallow inspir...</td>\n",
       "    </tr>\n",
       "    <tr>\n",
       "      <th>11700</th>\n",
       "      <td>p10</td>\n",
       "      <td>s52257272</td>\n",
       "      <td>files\\p10\\p10999512\\s52257272.txt</td>\n",
       "      <td>The lungs are well expanded and clear.  There ...</td>\n",
       "      <td>the lungs are well expanded and clear . the ca...</td>\n",
       "      <td>[well, expanded, clear, unremarkable]</td>\n",
       "    </tr>\n",
       "    <tr>\n",
       "      <th>11701</th>\n",
       "      <td>p10</td>\n",
       "      <td>s52341872</td>\n",
       "      <td>files\\p10\\p10999737\\s52341872.txt</td>\n",
       "      <td>PA and lateral views of the chest provided.  L...</td>\n",
       "      <td>pa and lateral views of the chest provided . l...</td>\n",
       "      <td>[clear, normal, stable]</td>\n",
       "    </tr>\n",
       "    <tr>\n",
       "      <th>11702</th>\n",
       "      <td>p10</td>\n",
       "      <td>s56958909</td>\n",
       "      <td>files\\p10\\p10999737\\s56958909.txt</td>\n",
       "      <td>PA and lateral views of the chest provided.  T...</td>\n",
       "      <td>pa and lateral views of the chest provided . t...</td>\n",
       "      <td>[normal, unremarkable]</td>\n",
       "    </tr>\n",
       "  </tbody>\n",
       "</table>\n",
       "<p>11633 rows × 6 columns</p>\n",
       "</div>"
      ],
      "text/plain": [
       "      parent_folder  subfolder                          text_path  \\\n",
       "0               p10  s50414267  files\\p10\\p10000032\\s50414267.txt   \n",
       "1               p10  s53189527  files\\p10\\p10000032\\s53189527.txt   \n",
       "2               p10  s53911762  files\\p10\\p10000032\\s53911762.txt   \n",
       "3               p10  s56699142  files\\p10\\p10000032\\s56699142.txt   \n",
       "4               p10  s57375967  files\\p10\\p10000764\\s57375967.txt   \n",
       "...             ...        ...                                ...   \n",
       "11698           p10  s56459556  files\\p10\\p10999395\\s56459556.txt   \n",
       "11699           p10  s57060480  files\\p10\\p10999395\\s57060480.txt   \n",
       "11700           p10  s52257272  files\\p10\\p10999512\\s52257272.txt   \n",
       "11701           p10  s52341872  files\\p10\\p10999737\\s52341872.txt   \n",
       "11702           p10  s56958909  files\\p10\\p10999737\\s56958909.txt   \n",
       "\n",
       "                                            text_content  \\\n",
       "0      There is no focal consolidation, pleural effus...   \n",
       "1      The cardiac, mediastinal and hilar contours ar...   \n",
       "2      Single frontal view of the chest provided.  Th...   \n",
       "3      The lungs are clear of focal consolidation, pl...   \n",
       "4      PA and lateral views of the chest provided.   ...   \n",
       "...                                                  ...   \n",
       "11698  The tip of the endotracheal tube projects over...   \n",
       "11699  There is right PICC line, an right IJ central ...   \n",
       "11700  The lungs are well expanded and clear.  There ...   \n",
       "11701  PA and lateral views of the chest provided.  L...   \n",
       "11702  PA and lateral views of the chest provided.  T...   \n",
       "\n",
       "                                        new_text_content  \\\n",
       "0      bilateral nodular opacities that most likely r...   \n",
       "1      the cardiac , mediastinal and hilar contours a...   \n",
       "2      single frontal view of the chest provided . th...   \n",
       "3      the heart size is normal . the mediastinal con...   \n",
       "4      pa and lateral views of the chest provided . t...   \n",
       "...                                                  ...   \n",
       "11698  the tip of the endotracheal tube projects over...   \n",
       "11699  there is right picc line , an right ij central...   \n",
       "11700  the lungs are well expanded and clear . the ca...   \n",
       "11701  pa and lateral views of the chest provided . l...   \n",
       "11702  pa and lateral views of the chest provided . t...   \n",
       "\n",
       "                                                  tokens  \n",
       "0      [nodular, opacities, normal, clips, within, un...  \n",
       "1      [normal, normal, clear, multiple, clips, remot...  \n",
       "2           [normal, multiple, clips, remote, fractures]  \n",
       "3      [normal, normal, multiple surgical clips, old,...  \n",
       "4      [adequately, aerated, focal, consolidation, mi...  \n",
       "...                                                  ...  \n",
       "11698  [tip, endotracheal tube, two tubes, low, diffu...  \n",
       "11699  [picc line, central line, tips, shallow inspir...  \n",
       "11700              [well, expanded, clear, unremarkable]  \n",
       "11701                            [clear, normal, stable]  \n",
       "11702                             [normal, unremarkable]  \n",
       "\n",
       "[11633 rows x 6 columns]"
      ]
     },
     "execution_count": 22,
     "metadata": {},
     "output_type": "execute_result"
    }
   ],
   "source": [
    "df"
   ]
  },
  {
   "cell_type": "code",
   "execution_count": 23,
   "metadata": {},
   "outputs": [
    {
     "name": "stderr",
     "output_type": "stream",
     "text": [
      "C:\\Users\\DryLab\\AppData\\Local\\Temp\\ipykernel_22524\\3926907832.py:1: SettingWithCopyWarning: \n",
      "A value is trying to be set on a copy of a slice from a DataFrame.\n",
      "Try using .loc[row_indexer,col_indexer] = value instead\n",
      "\n",
      "See the caveats in the documentation: https://pandas.pydata.org/pandas-docs/stable/user_guide/indexing.html#returning-a-view-versus-a-copy\n",
      "  df[\"noun_tokens\"] = df[\"tokens\"].apply(filter_nouns)\n"
     ]
    }
   ],
   "source": [
    "df[\"noun_tokens\"] = df[\"tokens\"].apply(filter_nouns)"
   ]
  },
  {
   "cell_type": "code",
   "execution_count": 24,
   "metadata": {},
   "outputs": [
    {
     "data": {
      "text/html": [
       "<div>\n",
       "<style scoped>\n",
       "    .dataframe tbody tr th:only-of-type {\n",
       "        vertical-align: middle;\n",
       "    }\n",
       "\n",
       "    .dataframe tbody tr th {\n",
       "        vertical-align: top;\n",
       "    }\n",
       "\n",
       "    .dataframe thead th {\n",
       "        text-align: right;\n",
       "    }\n",
       "</style>\n",
       "<table border=\"1\" class=\"dataframe\">\n",
       "  <thead>\n",
       "    <tr style=\"text-align: right;\">\n",
       "      <th></th>\n",
       "      <th>parent_folder</th>\n",
       "      <th>subfolder</th>\n",
       "      <th>text_path</th>\n",
       "      <th>text_content</th>\n",
       "      <th>new_text_content</th>\n",
       "      <th>tokens</th>\n",
       "      <th>noun_tokens</th>\n",
       "    </tr>\n",
       "  </thead>\n",
       "  <tbody>\n",
       "    <tr>\n",
       "      <th>0</th>\n",
       "      <td>p10</td>\n",
       "      <td>s50414267</td>\n",
       "      <td>files\\p10\\p10000032\\s50414267.txt</td>\n",
       "      <td>There is no focal consolidation, pleural effus...</td>\n",
       "      <td>bilateral nodular opacities that most likely r...</td>\n",
       "      <td>[nodular, opacities, normal, clips, within, un...</td>\n",
       "      <td>[opacities, clips, deformity]</td>\n",
       "    </tr>\n",
       "    <tr>\n",
       "      <th>1</th>\n",
       "      <td>p10</td>\n",
       "      <td>s53189527</td>\n",
       "      <td>files\\p10\\p10000032\\s53189527.txt</td>\n",
       "      <td>The cardiac, mediastinal and hilar contours ar...</td>\n",
       "      <td>the cardiac , mediastinal and hilar contours a...</td>\n",
       "      <td>[normal, normal, clear, multiple, clips, remot...</td>\n",
       "      <td>[clips]</td>\n",
       "    </tr>\n",
       "    <tr>\n",
       "      <th>2</th>\n",
       "      <td>p10</td>\n",
       "      <td>s53911762</td>\n",
       "      <td>files\\p10\\p10000032\\s53911762.txt</td>\n",
       "      <td>Single frontal view of the chest provided.  Th...</td>\n",
       "      <td>single frontal view of the chest provided . th...</td>\n",
       "      <td>[normal, multiple, clips, remote, fractures]</td>\n",
       "      <td>[clips]</td>\n",
       "    </tr>\n",
       "    <tr>\n",
       "      <th>3</th>\n",
       "      <td>p10</td>\n",
       "      <td>s56699142</td>\n",
       "      <td>files\\p10\\p10000032\\s56699142.txt</td>\n",
       "      <td>The lungs are clear of focal consolidation, pl...</td>\n",
       "      <td>the heart size is normal . the mediastinal con...</td>\n",
       "      <td>[normal, normal, multiple surgical clips, old,...</td>\n",
       "      <td>[clips]</td>\n",
       "    </tr>\n",
       "    <tr>\n",
       "      <th>4</th>\n",
       "      <td>p10</td>\n",
       "      <td>s57375967</td>\n",
       "      <td>files\\p10\\p10000764\\s57375967.txt</td>\n",
       "      <td>PA and lateral views of the chest provided.   ...</td>\n",
       "      <td>pa and lateral views of the chest provided . t...</td>\n",
       "      <td>[adequately, aerated, focal, consolidation, mi...</td>\n",
       "      <td>[consolidation, engorgement, calcifications, c...</td>\n",
       "    </tr>\n",
       "    <tr>\n",
       "      <th>...</th>\n",
       "      <td>...</td>\n",
       "      <td>...</td>\n",
       "      <td>...</td>\n",
       "      <td>...</td>\n",
       "      <td>...</td>\n",
       "      <td>...</td>\n",
       "      <td>...</td>\n",
       "    </tr>\n",
       "    <tr>\n",
       "      <th>11698</th>\n",
       "      <td>p10</td>\n",
       "      <td>s56459556</td>\n",
       "      <td>files\\p10\\p10999395\\s56459556.txt</td>\n",
       "      <td>The tip of the endotracheal tube projects over...</td>\n",
       "      <td>the tip of the endotracheal tube projects over...</td>\n",
       "      <td>[tip, endotracheal tube, two tubes, low, diffu...</td>\n",
       "      <td>[tip, tube, tubes, opacities, opacity, opacifi...</td>\n",
       "    </tr>\n",
       "    <tr>\n",
       "      <th>11699</th>\n",
       "      <td>p10</td>\n",
       "      <td>s57060480</td>\n",
       "      <td>files\\p10\\p10999395\\s57060480.txt</td>\n",
       "      <td>There is right PICC line, an right IJ central ...</td>\n",
       "      <td>there is right picc line , an right ij central...</td>\n",
       "      <td>[picc line, central line, tips, shallow inspir...</td>\n",
       "      <td>[line, line, tips, inspiration, opacities, fin...</td>\n",
       "    </tr>\n",
       "    <tr>\n",
       "      <th>11700</th>\n",
       "      <td>p10</td>\n",
       "      <td>s52257272</td>\n",
       "      <td>files\\p10\\p10999512\\s52257272.txt</td>\n",
       "      <td>The lungs are well expanded and clear.  There ...</td>\n",
       "      <td>the lungs are well expanded and clear . the ca...</td>\n",
       "      <td>[well, expanded, clear, unremarkable]</td>\n",
       "      <td>[]</td>\n",
       "    </tr>\n",
       "    <tr>\n",
       "      <th>11701</th>\n",
       "      <td>p10</td>\n",
       "      <td>s52341872</td>\n",
       "      <td>files\\p10\\p10999737\\s52341872.txt</td>\n",
       "      <td>PA and lateral views of the chest provided.  L...</td>\n",
       "      <td>pa and lateral views of the chest provided . l...</td>\n",
       "      <td>[clear, normal, stable]</td>\n",
       "      <td>[]</td>\n",
       "    </tr>\n",
       "    <tr>\n",
       "      <th>11702</th>\n",
       "      <td>p10</td>\n",
       "      <td>s56958909</td>\n",
       "      <td>files\\p10\\p10999737\\s56958909.txt</td>\n",
       "      <td>PA and lateral views of the chest provided.  T...</td>\n",
       "      <td>pa and lateral views of the chest provided . t...</td>\n",
       "      <td>[normal, unremarkable]</td>\n",
       "      <td>[]</td>\n",
       "    </tr>\n",
       "  </tbody>\n",
       "</table>\n",
       "<p>11633 rows × 7 columns</p>\n",
       "</div>"
      ],
      "text/plain": [
       "      parent_folder  subfolder                          text_path  \\\n",
       "0               p10  s50414267  files\\p10\\p10000032\\s50414267.txt   \n",
       "1               p10  s53189527  files\\p10\\p10000032\\s53189527.txt   \n",
       "2               p10  s53911762  files\\p10\\p10000032\\s53911762.txt   \n",
       "3               p10  s56699142  files\\p10\\p10000032\\s56699142.txt   \n",
       "4               p10  s57375967  files\\p10\\p10000764\\s57375967.txt   \n",
       "...             ...        ...                                ...   \n",
       "11698           p10  s56459556  files\\p10\\p10999395\\s56459556.txt   \n",
       "11699           p10  s57060480  files\\p10\\p10999395\\s57060480.txt   \n",
       "11700           p10  s52257272  files\\p10\\p10999512\\s52257272.txt   \n",
       "11701           p10  s52341872  files\\p10\\p10999737\\s52341872.txt   \n",
       "11702           p10  s56958909  files\\p10\\p10999737\\s56958909.txt   \n",
       "\n",
       "                                            text_content  \\\n",
       "0      There is no focal consolidation, pleural effus...   \n",
       "1      The cardiac, mediastinal and hilar contours ar...   \n",
       "2      Single frontal view of the chest provided.  Th...   \n",
       "3      The lungs are clear of focal consolidation, pl...   \n",
       "4      PA and lateral views of the chest provided.   ...   \n",
       "...                                                  ...   \n",
       "11698  The tip of the endotracheal tube projects over...   \n",
       "11699  There is right PICC line, an right IJ central ...   \n",
       "11700  The lungs are well expanded and clear.  There ...   \n",
       "11701  PA and lateral views of the chest provided.  L...   \n",
       "11702  PA and lateral views of the chest provided.  T...   \n",
       "\n",
       "                                        new_text_content  \\\n",
       "0      bilateral nodular opacities that most likely r...   \n",
       "1      the cardiac , mediastinal and hilar contours a...   \n",
       "2      single frontal view of the chest provided . th...   \n",
       "3      the heart size is normal . the mediastinal con...   \n",
       "4      pa and lateral views of the chest provided . t...   \n",
       "...                                                  ...   \n",
       "11698  the tip of the endotracheal tube projects over...   \n",
       "11699  there is right picc line , an right ij central...   \n",
       "11700  the lungs are well expanded and clear . the ca...   \n",
       "11701  pa and lateral views of the chest provided . l...   \n",
       "11702  pa and lateral views of the chest provided . t...   \n",
       "\n",
       "                                                  tokens  \\\n",
       "0      [nodular, opacities, normal, clips, within, un...   \n",
       "1      [normal, normal, clear, multiple, clips, remot...   \n",
       "2           [normal, multiple, clips, remote, fractures]   \n",
       "3      [normal, normal, multiple surgical clips, old,...   \n",
       "4      [adequately, aerated, focal, consolidation, mi...   \n",
       "...                                                  ...   \n",
       "11698  [tip, endotracheal tube, two tubes, low, diffu...   \n",
       "11699  [picc line, central line, tips, shallow inspir...   \n",
       "11700              [well, expanded, clear, unremarkable]   \n",
       "11701                            [clear, normal, stable]   \n",
       "11702                             [normal, unremarkable]   \n",
       "\n",
       "                                             noun_tokens  \n",
       "0                          [opacities, clips, deformity]  \n",
       "1                                                [clips]  \n",
       "2                                                [clips]  \n",
       "3                                                [clips]  \n",
       "4      [consolidation, engorgement, calcifications, c...  \n",
       "...                                                  ...  \n",
       "11698  [tip, tube, tubes, opacities, opacity, opacifi...  \n",
       "11699  [line, line, tips, inspiration, opacities, fin...  \n",
       "11700                                                 []  \n",
       "11701                                                 []  \n",
       "11702                                                 []  \n",
       "\n",
       "[11633 rows x 7 columns]"
      ]
     },
     "execution_count": 24,
     "metadata": {},
     "output_type": "execute_result"
    }
   ],
   "source": [
    "df"
   ]
  },
  {
   "cell_type": "code",
   "execution_count": 25,
   "metadata": {},
   "outputs": [
    {
     "data": {
      "text/html": [
       "<pre style=\"white-space:pre;overflow-x:auto;line-height:normal;font-family:Menlo,'DejaVu Sans Mono',consolas,'Courier New',monospace\">Train size: <span style=\"color: #008080; text-decoration-color: #008080; font-weight: bold\">8143</span>, Validation size: <span style=\"color: #008080; text-decoration-color: #008080; font-weight: bold\">1163</span>, Test size: <span style=\"color: #008080; text-decoration-color: #008080; font-weight: bold\">2327</span>\n",
       "</pre>\n"
      ],
      "text/plain": [
       "Train size: \u001b[1;36m8143\u001b[0m, Validation size: \u001b[1;36m1163\u001b[0m, Test size: \u001b[1;36m2327\u001b[0m\n"
      ]
     },
     "metadata": {},
     "output_type": "display_data"
    }
   ],
   "source": [
    "from sklearn.model_selection import train_test_split\n",
    "\n",
    "train_df, temp_df = train_test_split(df, test_size=0.3, random_state=42, shuffle=True)\n",
    "\n",
    "val_df, test_df = train_test_split(\n",
    "    temp_df, test_size=0.6667, random_state=42, shuffle=True\n",
    ")\n",
    "\n",
    "print(\n",
    "    f\"Train size: {len(train_df)}, Validation size: {len(val_df)}, Test size: {len(test_df)}\"\n",
    ")"
   ]
  },
  {
   "cell_type": "code",
   "execution_count": 26,
   "metadata": {},
   "outputs": [
    {
     "data": {
      "text/html": [
       "<div>\n",
       "<style scoped>\n",
       "    .dataframe tbody tr th:only-of-type {\n",
       "        vertical-align: middle;\n",
       "    }\n",
       "\n",
       "    .dataframe tbody tr th {\n",
       "        vertical-align: top;\n",
       "    }\n",
       "\n",
       "    .dataframe thead th {\n",
       "        text-align: right;\n",
       "    }\n",
       "</style>\n",
       "<table border=\"1\" class=\"dataframe\">\n",
       "  <thead>\n",
       "    <tr style=\"text-align: right;\">\n",
       "      <th></th>\n",
       "      <th>parent_folder</th>\n",
       "      <th>subfolder</th>\n",
       "      <th>text_path</th>\n",
       "      <th>text_content</th>\n",
       "      <th>new_text_content</th>\n",
       "      <th>tokens</th>\n",
       "      <th>noun_tokens</th>\n",
       "    </tr>\n",
       "  </thead>\n",
       "  <tbody>\n",
       "    <tr>\n",
       "      <th>1619</th>\n",
       "      <td>p10</td>\n",
       "      <td>s55439095</td>\n",
       "      <td>files\\p10\\p10144083\\s55439095.txt</td>\n",
       "      <td>Apparent widening of the mediastinum is likely...</td>\n",
       "      <td>apparent widening of the mediastinum is likely...</td>\n",
       "      <td>[apparent, decreased, accentuating, mild, atel...</td>\n",
       "      <td>[atelectasis]</td>\n",
       "    </tr>\n",
       "    <tr>\n",
       "      <th>2750</th>\n",
       "      <td>p10</td>\n",
       "      <td>s51097181</td>\n",
       "      <td>files\\p10\\p10242587\\s51097181.txt</td>\n",
       "      <td>Frontal supine portable radiograph of the ches...</td>\n",
       "      <td>frontal supine portable radiograph of the ches...</td>\n",
       "      <td>[mild, enlargement, stable, atelectasis]</td>\n",
       "      <td>[enlargement, atelectasis]</td>\n",
       "    </tr>\n",
       "    <tr>\n",
       "      <th>3471</th>\n",
       "      <td>p10</td>\n",
       "      <td>s59925089</td>\n",
       "      <td>files\\p10\\p10292285\\s59925089.txt</td>\n",
       "      <td>There is mild bibasilar atelectasis.  The hear...</td>\n",
       "      <td>there is mild bibasilar atelectasis . the hear...</td>\n",
       "      <td>[mild, atelectasis, mildly, enlarged, tube, co...</td>\n",
       "      <td>[atelectasis, tube, coils, tip, endotracheal, ...</td>\n",
       "    </tr>\n",
       "    <tr>\n",
       "      <th>5148</th>\n",
       "      <td>p10</td>\n",
       "      <td>s55101999</td>\n",
       "      <td>files\\p10\\p10439374\\s55101999.txt</td>\n",
       "      <td>Portable semi-erect chest radiograph ___ at 04...</td>\n",
       "      <td>portable semi - erect chest radiograph ___ at ...</td>\n",
       "      <td>[picc, line, unchanged, position, stably, enla...</td>\n",
       "      <td>[picc, line, position]</td>\n",
       "    </tr>\n",
       "    <tr>\n",
       "      <th>3525</th>\n",
       "      <td>p10</td>\n",
       "      <td>s53942022</td>\n",
       "      <td>files\\p10\\p10296357\\s53942022.txt</td>\n",
       "      <td>The heart size is top normal with tortuosity o...</td>\n",
       "      <td>the heart size is top normal with tortuosity o...</td>\n",
       "      <td>[top normal, tortuosity, stable, s - shaped, s...</td>\n",
       "      <td>[tortuosity, scoliosis, scoliosis]</td>\n",
       "    </tr>\n",
       "    <tr>\n",
       "      <th>...</th>\n",
       "      <td>...</td>\n",
       "      <td>...</td>\n",
       "      <td>...</td>\n",
       "      <td>...</td>\n",
       "      <td>...</td>\n",
       "      <td>...</td>\n",
       "      <td>...</td>\n",
       "    </tr>\n",
       "    <tr>\n",
       "      <th>11352</th>\n",
       "      <td>p10</td>\n",
       "      <td>s55130237</td>\n",
       "      <td>files\\p10\\p10971699\\s55130237.txt</td>\n",
       "      <td>Since ___, there has been interval placement o...</td>\n",
       "      <td>since ___ , there has been interval placement ...</td>\n",
       "      <td>[dual - chamber, icd, leads, intact, severe, c...</td>\n",
       "      <td>[chamber, chamber]</td>\n",
       "    </tr>\n",
       "    <tr>\n",
       "      <th>5219</th>\n",
       "      <td>p10</td>\n",
       "      <td>s58107350</td>\n",
       "      <td>files\\p10\\p10446182\\s58107350.txt</td>\n",
       "      <td>The lungs are clear without consolidation or e...</td>\n",
       "      <td>the cardiomediastinal silhouette is normal . a...</td>\n",
       "      <td>[normal, picc, picc]</td>\n",
       "      <td>[picc, picc]</td>\n",
       "    </tr>\n",
       "    <tr>\n",
       "      <th>5423</th>\n",
       "      <td>p10</td>\n",
       "      <td>s59081890</td>\n",
       "      <td>files\\p10\\p10461137\\s59081890.txt</td>\n",
       "      <td>Airspace opacity is seen overlying the right u...</td>\n",
       "      <td>airspace opacity is seen overlying the right u...</td>\n",
       "      <td>[opacity, prominence, edema, low, blunting, re...</td>\n",
       "      <td>[opacity, prominence, edema, opacity, patient,...</td>\n",
       "    </tr>\n",
       "    <tr>\n",
       "      <th>861</th>\n",
       "      <td>p10</td>\n",
       "      <td>s54213212</td>\n",
       "      <td>files\\p10\\p10069423\\s54213212.txt</td>\n",
       "      <td>The patient is status post intubation with an ...</td>\n",
       "      <td>the patient is status post intubation with an ...</td>\n",
       "      <td>[endotracheal tube, ng tube, large, dense, con...</td>\n",
       "      <td>[tube, tube, consolidation, consolidation, opa...</td>\n",
       "    </tr>\n",
       "    <tr>\n",
       "      <th>7318</th>\n",
       "      <td>p10</td>\n",
       "      <td>s59059187</td>\n",
       "      <td>files\\p10\\p10624280\\s59059187.txt</td>\n",
       "      <td>Again seen is a large right-sided pleural effu...</td>\n",
       "      <td>again seen is a large right - sided pleural ef...</td>\n",
       "      <td>[large, effusion, opacities, lossinfiltrate, e...</td>\n",
       "      <td>[effusion, opacities, effusion, redistribution...</td>\n",
       "    </tr>\n",
       "  </tbody>\n",
       "</table>\n",
       "<p>8143 rows × 7 columns</p>\n",
       "</div>"
      ],
      "text/plain": [
       "      parent_folder  subfolder                          text_path  \\\n",
       "1619            p10  s55439095  files\\p10\\p10144083\\s55439095.txt   \n",
       "2750            p10  s51097181  files\\p10\\p10242587\\s51097181.txt   \n",
       "3471            p10  s59925089  files\\p10\\p10292285\\s59925089.txt   \n",
       "5148            p10  s55101999  files\\p10\\p10439374\\s55101999.txt   \n",
       "3525            p10  s53942022  files\\p10\\p10296357\\s53942022.txt   \n",
       "...             ...        ...                                ...   \n",
       "11352           p10  s55130237  files\\p10\\p10971699\\s55130237.txt   \n",
       "5219            p10  s58107350  files\\p10\\p10446182\\s58107350.txt   \n",
       "5423            p10  s59081890  files\\p10\\p10461137\\s59081890.txt   \n",
       "861             p10  s54213212  files\\p10\\p10069423\\s54213212.txt   \n",
       "7318            p10  s59059187  files\\p10\\p10624280\\s59059187.txt   \n",
       "\n",
       "                                            text_content  \\\n",
       "1619   Apparent widening of the mediastinum is likely...   \n",
       "2750   Frontal supine portable radiograph of the ches...   \n",
       "3471   There is mild bibasilar atelectasis.  The hear...   \n",
       "5148   Portable semi-erect chest radiograph ___ at 04...   \n",
       "3525   The heart size is top normal with tortuosity o...   \n",
       "...                                                  ...   \n",
       "11352  Since ___, there has been interval placement o...   \n",
       "5219   The lungs are clear without consolidation or e...   \n",
       "5423   Airspace opacity is seen overlying the right u...   \n",
       "861    The patient is status post intubation with an ...   \n",
       "7318   Again seen is a large right-sided pleural effu...   \n",
       "\n",
       "                                        new_text_content  \\\n",
       "1619   apparent widening of the mediastinum is likely...   \n",
       "2750   frontal supine portable radiograph of the ches...   \n",
       "3471   there is mild bibasilar atelectasis . the hear...   \n",
       "5148   portable semi - erect chest radiograph ___ at ...   \n",
       "3525   the heart size is top normal with tortuosity o...   \n",
       "...                                                  ...   \n",
       "11352  since ___ , there has been interval placement ...   \n",
       "5219   the cardiomediastinal silhouette is normal . a...   \n",
       "5423   airspace opacity is seen overlying the right u...   \n",
       "861    the patient is status post intubation with an ...   \n",
       "7318   again seen is a large right - sided pleural ef...   \n",
       "\n",
       "                                                  tokens  \\\n",
       "1619   [apparent, decreased, accentuating, mild, atel...   \n",
       "2750            [mild, enlargement, stable, atelectasis]   \n",
       "3471   [mild, atelectasis, mildly, enlarged, tube, co...   \n",
       "5148   [picc, line, unchanged, position, stably, enla...   \n",
       "3525   [top normal, tortuosity, stable, s - shaped, s...   \n",
       "...                                                  ...   \n",
       "11352  [dual - chamber, icd, leads, intact, severe, c...   \n",
       "5219                                [normal, picc, picc]   \n",
       "5423   [opacity, prominence, edema, low, blunting, re...   \n",
       "861    [endotracheal tube, ng tube, large, dense, con...   \n",
       "7318   [large, effusion, opacities, lossinfiltrate, e...   \n",
       "\n",
       "                                             noun_tokens  \n",
       "1619                                       [atelectasis]  \n",
       "2750                          [enlargement, atelectasis]  \n",
       "3471   [atelectasis, tube, coils, tip, endotracheal, ...  \n",
       "5148                              [picc, line, position]  \n",
       "3525                  [tortuosity, scoliosis, scoliosis]  \n",
       "...                                                  ...  \n",
       "11352                                 [chamber, chamber]  \n",
       "5219                                        [picc, picc]  \n",
       "5423   [opacity, prominence, edema, opacity, patient,...  \n",
       "861    [tube, tube, consolidation, consolidation, opa...  \n",
       "7318   [effusion, opacities, effusion, redistribution...  \n",
       "\n",
       "[8143 rows x 7 columns]"
      ]
     },
     "execution_count": 26,
     "metadata": {},
     "output_type": "execute_result"
    }
   ],
   "source": [
    "train_df"
   ]
  },
  {
   "cell_type": "code",
   "execution_count": 27,
   "metadata": {},
   "outputs": [
    {
     "data": {
      "text/html": [
       "<div>\n",
       "<style scoped>\n",
       "    .dataframe tbody tr th:only-of-type {\n",
       "        vertical-align: middle;\n",
       "    }\n",
       "\n",
       "    .dataframe tbody tr th {\n",
       "        vertical-align: top;\n",
       "    }\n",
       "\n",
       "    .dataframe thead th {\n",
       "        text-align: right;\n",
       "    }\n",
       "</style>\n",
       "<table border=\"1\" class=\"dataframe\">\n",
       "  <thead>\n",
       "    <tr style=\"text-align: right;\">\n",
       "      <th></th>\n",
       "      <th>parent_folder</th>\n",
       "      <th>subfolder</th>\n",
       "      <th>text_path</th>\n",
       "      <th>text_content</th>\n",
       "      <th>new_text_content</th>\n",
       "      <th>tokens</th>\n",
       "      <th>noun_tokens</th>\n",
       "    </tr>\n",
       "  </thead>\n",
       "  <tbody>\n",
       "    <tr>\n",
       "      <th>8693</th>\n",
       "      <td>p10</td>\n",
       "      <td>s55797364</td>\n",
       "      <td>files\\p10\\p10745635\\s55797364.txt</td>\n",
       "      <td>Frontal and lateral views of the chest.  Heart...</td>\n",
       "      <td>frontal and lateral views of the chest . heart...</td>\n",
       "      <td>[normal, opacity, small, bochdalek, hernia, in...</td>\n",
       "      <td>[opacity, bochdalek, bochdalek]</td>\n",
       "    </tr>\n",
       "    <tr>\n",
       "      <th>5172</th>\n",
       "      <td>p10</td>\n",
       "      <td>s58092349</td>\n",
       "      <td>files\\p10\\p10440642\\s58092349.txt</td>\n",
       "      <td>Frontal and lateral views of the chest were ob...</td>\n",
       "      <td>frontal and lateral views of the chest were ob...</td>\n",
       "      <td>[persistent, opacity, blunted, enlarged, calci...</td>\n",
       "      <td>[opacity, riding, changes, disease, changes, o...</td>\n",
       "    </tr>\n",
       "    <tr>\n",
       "      <th>7183</th>\n",
       "      <td>p10</td>\n",
       "      <td>s52666436</td>\n",
       "      <td>files\\p10\\p10611684\\s52666436.txt</td>\n",
       "      <td>There is slight elevation of the right hemidia...</td>\n",
       "      <td>there is slight elevation of the right hemidia...</td>\n",
       "      <td>[slight, elevation, unremarkable, slight, elev...</td>\n",
       "      <td>[elevation, elevation]</td>\n",
       "    </tr>\n",
       "    <tr>\n",
       "      <th>3592</th>\n",
       "      <td>p10</td>\n",
       "      <td>s53038472</td>\n",
       "      <td>files\\p10\\p10301415\\s53038472.txt</td>\n",
       "      <td>New right-sided PICC line with the tip in the ...</td>\n",
       "      <td>new right - sided picc line with the tip in th...</td>\n",
       "      <td>[new, picc line, tip, opacity, decreased in ex...</td>\n",
       "      <td>[line, tip, opacity, extent, asymmetric, edema...</td>\n",
       "    </tr>\n",
       "    <tr>\n",
       "      <th>3725</th>\n",
       "      <td>p10</td>\n",
       "      <td>s53981461</td>\n",
       "      <td>files\\p10\\p10312715\\s53981461.txt</td>\n",
       "      <td>Frontal and lateral views of the chest are obt...</td>\n",
       "      <td>frontal and lateral views of the chest are obt...</td>\n",
       "      <td>[prominent, shadow, small rounded opacity, sub...</td>\n",
       "      <td>[shadow, opacity, opacity, opacity]</td>\n",
       "    </tr>\n",
       "    <tr>\n",
       "      <th>...</th>\n",
       "      <td>...</td>\n",
       "      <td>...</td>\n",
       "      <td>...</td>\n",
       "      <td>...</td>\n",
       "      <td>...</td>\n",
       "      <td>...</td>\n",
       "      <td>...</td>\n",
       "    </tr>\n",
       "    <tr>\n",
       "      <th>2301</th>\n",
       "      <td>p10</td>\n",
       "      <td>s52654331</td>\n",
       "      <td>files\\p10\\p10203607\\s52654331.txt</td>\n",
       "      <td>The heart size is normal.  The hilar and media...</td>\n",
       "      <td>the heart size is normal . the hilar and media...</td>\n",
       "      <td>[normal, normal, unremarkable]</td>\n",
       "      <td>[]</td>\n",
       "    </tr>\n",
       "    <tr>\n",
       "      <th>169</th>\n",
       "      <td>p10</td>\n",
       "      <td>s50435883</td>\n",
       "      <td>files\\p10\\p10011607\\s50435883.txt</td>\n",
       "      <td>Cardiac silhouette size is mildly enlarged. Th...</td>\n",
       "      <td>cardiac silhouette size is mildly enlarged . t...</td>\n",
       "      <td>[mildly, enlarged, mildly, tortuous, unchanged...</td>\n",
       "      <td>[limits, loss, height]</td>\n",
       "    </tr>\n",
       "    <tr>\n",
       "      <th>10899</th>\n",
       "      <td>p10</td>\n",
       "      <td>s54345016</td>\n",
       "      <td>files\\p10\\p10932783\\s54345016.txt</td>\n",
       "      <td>Heart size remains mildly enlarged.  Mediastin...</td>\n",
       "      <td>heart size remains mildly enlarged . mediastin...</td>\n",
       "      <td>[mildly, enlarged, normal, normal, clear]</td>\n",
       "      <td>[]</td>\n",
       "    </tr>\n",
       "    <tr>\n",
       "      <th>2700</th>\n",
       "      <td>p10</td>\n",
       "      <td>s57018667</td>\n",
       "      <td>files\\p10\\p10233650\\s57018667.txt</td>\n",
       "      <td>The lungs are clear. The cardiomediastinal sil...</td>\n",
       "      <td>the lungs are clear . the cardiomediastinal si...</td>\n",
       "      <td>[clear, normal]</td>\n",
       "      <td>[]</td>\n",
       "    </tr>\n",
       "    <tr>\n",
       "      <th>1519</th>\n",
       "      <td>p10</td>\n",
       "      <td>s59387383</td>\n",
       "      <td>files\\p10\\p10135185\\s59387383.txt</td>\n",
       "      <td>Frontal and lateral views of the chest were ob...</td>\n",
       "      <td>frontal and lateral views of the chest were ob...</td>\n",
       "      <td>[low, crowding, opacities, linear, small, effu...</td>\n",
       "      <td>[opacities, effusions, opacities, effusions]</td>\n",
       "    </tr>\n",
       "  </tbody>\n",
       "</table>\n",
       "<p>1163 rows × 7 columns</p>\n",
       "</div>"
      ],
      "text/plain": [
       "      parent_folder  subfolder                          text_path  \\\n",
       "8693            p10  s55797364  files\\p10\\p10745635\\s55797364.txt   \n",
       "5172            p10  s58092349  files\\p10\\p10440642\\s58092349.txt   \n",
       "7183            p10  s52666436  files\\p10\\p10611684\\s52666436.txt   \n",
       "3592            p10  s53038472  files\\p10\\p10301415\\s53038472.txt   \n",
       "3725            p10  s53981461  files\\p10\\p10312715\\s53981461.txt   \n",
       "...             ...        ...                                ...   \n",
       "2301            p10  s52654331  files\\p10\\p10203607\\s52654331.txt   \n",
       "169             p10  s50435883  files\\p10\\p10011607\\s50435883.txt   \n",
       "10899           p10  s54345016  files\\p10\\p10932783\\s54345016.txt   \n",
       "2700            p10  s57018667  files\\p10\\p10233650\\s57018667.txt   \n",
       "1519            p10  s59387383  files\\p10\\p10135185\\s59387383.txt   \n",
       "\n",
       "                                            text_content  \\\n",
       "8693   Frontal and lateral views of the chest.  Heart...   \n",
       "5172   Frontal and lateral views of the chest were ob...   \n",
       "7183   There is slight elevation of the right hemidia...   \n",
       "3592   New right-sided PICC line with the tip in the ...   \n",
       "3725   Frontal and lateral views of the chest are obt...   \n",
       "...                                                  ...   \n",
       "2301   The heart size is normal.  The hilar and media...   \n",
       "169    Cardiac silhouette size is mildly enlarged. Th...   \n",
       "10899  Heart size remains mildly enlarged.  Mediastin...   \n",
       "2700   The lungs are clear. The cardiomediastinal sil...   \n",
       "1519   Frontal and lateral views of the chest were ob...   \n",
       "\n",
       "                                        new_text_content  \\\n",
       "8693   frontal and lateral views of the chest . heart...   \n",
       "5172   frontal and lateral views of the chest were ob...   \n",
       "7183   there is slight elevation of the right hemidia...   \n",
       "3592   new right - sided picc line with the tip in th...   \n",
       "3725   frontal and lateral views of the chest are obt...   \n",
       "...                                                  ...   \n",
       "2301   the heart size is normal . the hilar and media...   \n",
       "169    cardiac silhouette size is mildly enlarged . t...   \n",
       "10899  heart size remains mildly enlarged . mediastin...   \n",
       "2700   the lungs are clear . the cardiomediastinal si...   \n",
       "1519   frontal and lateral views of the chest were ob...   \n",
       "\n",
       "                                                  tokens  \\\n",
       "8693   [normal, opacity, small, bochdalek, hernia, in...   \n",
       "5172   [persistent, opacity, blunted, enlarged, calci...   \n",
       "7183   [slight, elevation, unremarkable, slight, elev...   \n",
       "3592   [new, picc line, tip, opacity, decreased in ex...   \n",
       "3725   [prominent, shadow, small rounded opacity, sub...   \n",
       "...                                                  ...   \n",
       "2301                      [normal, normal, unremarkable]   \n",
       "169    [mildly, enlarged, mildly, tortuous, unchanged...   \n",
       "10899          [mildly, enlarged, normal, normal, clear]   \n",
       "2700                                     [clear, normal]   \n",
       "1519   [low, crowding, opacities, linear, small, effu...   \n",
       "\n",
       "                                             noun_tokens  \n",
       "8693                     [opacity, bochdalek, bochdalek]  \n",
       "5172   [opacity, riding, changes, disease, changes, o...  \n",
       "7183                              [elevation, elevation]  \n",
       "3592   [line, tip, opacity, extent, asymmetric, edema...  \n",
       "3725                 [shadow, opacity, opacity, opacity]  \n",
       "...                                                  ...  \n",
       "2301                                                  []  \n",
       "169                               [limits, loss, height]  \n",
       "10899                                                 []  \n",
       "2700                                                  []  \n",
       "1519        [opacities, effusions, opacities, effusions]  \n",
       "\n",
       "[1163 rows x 7 columns]"
      ]
     },
     "execution_count": 27,
     "metadata": {},
     "output_type": "execute_result"
    }
   ],
   "source": [
    "val_df"
   ]
  },
  {
   "cell_type": "code",
   "execution_count": 28,
   "metadata": {},
   "outputs": [
    {
     "data": {
      "text/html": [
       "<div>\n",
       "<style scoped>\n",
       "    .dataframe tbody tr th:only-of-type {\n",
       "        vertical-align: middle;\n",
       "    }\n",
       "\n",
       "    .dataframe tbody tr th {\n",
       "        vertical-align: top;\n",
       "    }\n",
       "\n",
       "    .dataframe thead th {\n",
       "        text-align: right;\n",
       "    }\n",
       "</style>\n",
       "<table border=\"1\" class=\"dataframe\">\n",
       "  <thead>\n",
       "    <tr style=\"text-align: right;\">\n",
       "      <th></th>\n",
       "      <th>parent_folder</th>\n",
       "      <th>subfolder</th>\n",
       "      <th>text_path</th>\n",
       "      <th>text_content</th>\n",
       "      <th>new_text_content</th>\n",
       "      <th>tokens</th>\n",
       "      <th>noun_tokens</th>\n",
       "    </tr>\n",
       "  </thead>\n",
       "  <tbody>\n",
       "    <tr>\n",
       "      <th>3728</th>\n",
       "      <td>p10</td>\n",
       "      <td>s59478788</td>\n",
       "      <td>files\\p10\\p10312715\\s59478788.txt</td>\n",
       "      <td>The lungs are clear.  The heart size is normal...</td>\n",
       "      <td>the lungs are clear . the heart size is normal...</td>\n",
       "      <td>[clear, normal, slightly, increased, normal]</td>\n",
       "      <td>[]</td>\n",
       "    </tr>\n",
       "    <tr>\n",
       "      <th>9059</th>\n",
       "      <td>p10</td>\n",
       "      <td>s55866250</td>\n",
       "      <td>files\\p10\\p10773382\\s55866250.txt</td>\n",
       "      <td>Patient's condition required examination in si...</td>\n",
       "      <td>patient ' s condition required examination in ...</td>\n",
       "      <td>[multiple surgical clips, bypass surgery, mild...</td>\n",
       "      <td>[clips, bypass, surgery, enlargement, position...</td>\n",
       "    </tr>\n",
       "    <tr>\n",
       "      <th>767</th>\n",
       "      <td>p10</td>\n",
       "      <td>s53765730</td>\n",
       "      <td>files\\p10\\p10060204\\s53765730.txt</td>\n",
       "      <td>Dual lead left-sided AICD is stable in positio...</td>\n",
       "      <td>dual lead left - sided aicd is stable in posit...</td>\n",
       "      <td>[dual lead, aicd, stable, prominence, markings...</td>\n",
       "      <td>[lead, prominence, markings, prominence, promi...</td>\n",
       "    </tr>\n",
       "    <tr>\n",
       "      <th>11428</th>\n",
       "      <td>p10</td>\n",
       "      <td>s50313341</td>\n",
       "      <td>files\\p10\\p10978636\\s50313341.txt</td>\n",
       "      <td>Nasoenteric tube is seen in the region of the ...</td>\n",
       "      <td>nasoenteric tube is seen in the region of the ...</td>\n",
       "      <td>[nasoenteric, tube, normal, minimal, congestio...</td>\n",
       "      <td>[tube, congestion, tube, tip]</td>\n",
       "    </tr>\n",
       "    <tr>\n",
       "      <th>11585</th>\n",
       "      <td>p10</td>\n",
       "      <td>s56501444</td>\n",
       "      <td>files\\p10\\p10992808\\s56501444.txt</td>\n",
       "      <td>Mild prominence of the cardiac silhouette is l...</td>\n",
       "      <td>mild prominence of the cardiac silhouette is l...</td>\n",
       "      <td>[mild, prominence, low, unremarkable]</td>\n",
       "      <td>[prominence]</td>\n",
       "    </tr>\n",
       "    <tr>\n",
       "      <th>...</th>\n",
       "      <td>...</td>\n",
       "      <td>...</td>\n",
       "      <td>...</td>\n",
       "      <td>...</td>\n",
       "      <td>...</td>\n",
       "      <td>...</td>\n",
       "      <td>...</td>\n",
       "    </tr>\n",
       "    <tr>\n",
       "      <th>10682</th>\n",
       "      <td>p10</td>\n",
       "      <td>s56348856</td>\n",
       "      <td>files\\p10\\p10914703\\s56348856.txt</td>\n",
       "      <td>Again seen is a consolidation in the right mid...</td>\n",
       "      <td>again seen is a consolidation in the right mid...</td>\n",
       "      <td>[consolidation, unchanged, pneumonia, pneumonia]</td>\n",
       "      <td>[consolidation, pneumonia, pneumonia]</td>\n",
       "    </tr>\n",
       "    <tr>\n",
       "      <th>1196</th>\n",
       "      <td>p10</td>\n",
       "      <td>s56033097</td>\n",
       "      <td>files\\p10\\p10104732\\s56033097.txt</td>\n",
       "      <td>Cardiac, mediastinal and hilar contours are no...</td>\n",
       "      <td>cardiac , mediastinal and hilar contours are n...</td>\n",
       "      <td>[normal, normal]</td>\n",
       "      <td>[]</td>\n",
       "    </tr>\n",
       "    <tr>\n",
       "      <th>6140</th>\n",
       "      <td>p10</td>\n",
       "      <td>s50443876</td>\n",
       "      <td>files\\p10\\p10529674\\s50443876.txt</td>\n",
       "      <td>PA and lateral views of the chest were reviewe...</td>\n",
       "      <td>pa and lateral views of the chest were reviewe...</td>\n",
       "      <td>[normal, mild, thickening, stable, hazy, opaci...</td>\n",
       "      <td>[opacification, opacity]</td>\n",
       "    </tr>\n",
       "    <tr>\n",
       "      <th>9427</th>\n",
       "      <td>p10</td>\n",
       "      <td>s54790585</td>\n",
       "      <td>files\\p10\\p10803276\\s54790585.txt</td>\n",
       "      <td>Previous small right-sided pleural effusion is...</td>\n",
       "      <td>previous small right - sided pleural effusion ...</td>\n",
       "      <td>[small, effusion, trace, clear, unremarkable, ...</td>\n",
       "      <td>[effusion, trace, effusion]</td>\n",
       "    </tr>\n",
       "    <tr>\n",
       "      <th>9755</th>\n",
       "      <td>p10</td>\n",
       "      <td>s56731039</td>\n",
       "      <td>files\\p10\\p10836492\\s56731039.txt</td>\n",
       "      <td>The lungs are clear.  There is no focal consol...</td>\n",
       "      <td>the lungs are clear . cardiomediastinal silhou...</td>\n",
       "      <td>[clear, normal, dextroscoliosis]</td>\n",
       "      <td>[dextroscoliosis]</td>\n",
       "    </tr>\n",
       "  </tbody>\n",
       "</table>\n",
       "<p>2327 rows × 7 columns</p>\n",
       "</div>"
      ],
      "text/plain": [
       "      parent_folder  subfolder                          text_path  \\\n",
       "3728            p10  s59478788  files\\p10\\p10312715\\s59478788.txt   \n",
       "9059            p10  s55866250  files\\p10\\p10773382\\s55866250.txt   \n",
       "767             p10  s53765730  files\\p10\\p10060204\\s53765730.txt   \n",
       "11428           p10  s50313341  files\\p10\\p10978636\\s50313341.txt   \n",
       "11585           p10  s56501444  files\\p10\\p10992808\\s56501444.txt   \n",
       "...             ...        ...                                ...   \n",
       "10682           p10  s56348856  files\\p10\\p10914703\\s56348856.txt   \n",
       "1196            p10  s56033097  files\\p10\\p10104732\\s56033097.txt   \n",
       "6140            p10  s50443876  files\\p10\\p10529674\\s50443876.txt   \n",
       "9427            p10  s54790585  files\\p10\\p10803276\\s54790585.txt   \n",
       "9755            p10  s56731039  files\\p10\\p10836492\\s56731039.txt   \n",
       "\n",
       "                                            text_content  \\\n",
       "3728   The lungs are clear.  The heart size is normal...   \n",
       "9059   Patient's condition required examination in si...   \n",
       "767    Dual lead left-sided AICD is stable in positio...   \n",
       "11428  Nasoenteric tube is seen in the region of the ...   \n",
       "11585  Mild prominence of the cardiac silhouette is l...   \n",
       "...                                                  ...   \n",
       "10682  Again seen is a consolidation in the right mid...   \n",
       "1196   Cardiac, mediastinal and hilar contours are no...   \n",
       "6140   PA and lateral views of the chest were reviewe...   \n",
       "9427   Previous small right-sided pleural effusion is...   \n",
       "9755   The lungs are clear.  There is no focal consol...   \n",
       "\n",
       "                                        new_text_content  \\\n",
       "3728   the lungs are clear . the heart size is normal...   \n",
       "9059   patient ' s condition required examination in ...   \n",
       "767    dual lead left - sided aicd is stable in posit...   \n",
       "11428  nasoenteric tube is seen in the region of the ...   \n",
       "11585  mild prominence of the cardiac silhouette is l...   \n",
       "...                                                  ...   \n",
       "10682  again seen is a consolidation in the right mid...   \n",
       "1196   cardiac , mediastinal and hilar contours are n...   \n",
       "6140   pa and lateral views of the chest were reviewe...   \n",
       "9427   previous small right - sided pleural effusion ...   \n",
       "9755   the lungs are clear . cardiomediastinal silhou...   \n",
       "\n",
       "                                                  tokens  \\\n",
       "3728        [clear, normal, slightly, increased, normal]   \n",
       "9059   [multiple surgical clips, bypass surgery, mild...   \n",
       "767    [dual lead, aicd, stable, prominence, markings...   \n",
       "11428  [nasoenteric, tube, normal, minimal, congestio...   \n",
       "11585              [mild, prominence, low, unremarkable]   \n",
       "...                                                  ...   \n",
       "10682   [consolidation, unchanged, pneumonia, pneumonia]   \n",
       "1196                                    [normal, normal]   \n",
       "6140   [normal, mild, thickening, stable, hazy, opaci...   \n",
       "9427   [small, effusion, trace, clear, unremarkable, ...   \n",
       "9755                    [clear, normal, dextroscoliosis]   \n",
       "\n",
       "                                             noun_tokens  \n",
       "3728                                                  []  \n",
       "9059   [clips, bypass, surgery, enlargement, position...  \n",
       "767    [lead, prominence, markings, prominence, promi...  \n",
       "11428                      [tube, congestion, tube, tip]  \n",
       "11585                                       [prominence]  \n",
       "...                                                  ...  \n",
       "10682              [consolidation, pneumonia, pneumonia]  \n",
       "1196                                                  []  \n",
       "6140                            [opacification, opacity]  \n",
       "9427                         [effusion, trace, effusion]  \n",
       "9755                                   [dextroscoliosis]  \n",
       "\n",
       "[2327 rows x 7 columns]"
      ]
     },
     "execution_count": 28,
     "metadata": {},
     "output_type": "execute_result"
    }
   ],
   "source": [
    "test_df"
   ]
  },
  {
   "cell_type": "code",
   "execution_count": 29,
   "metadata": {},
   "outputs": [],
   "source": [
    "all_noun_tokens = [token for sublist in train_df[\"noun_tokens\"] for token in sublist]"
   ]
  },
  {
   "cell_type": "code",
   "execution_count": 30,
   "metadata": {},
   "outputs": [],
   "source": [
    "noun_token_counts = Counter(all_noun_tokens)"
   ]
  },
  {
   "cell_type": "code",
   "execution_count": 31,
   "metadata": {},
   "outputs": [],
   "source": [
    "token = noun_token_counts.most_common(50)"
   ]
  },
  {
   "cell_type": "code",
   "execution_count": 32,
   "metadata": {},
   "outputs": [],
   "source": [
    "attributes = []\n",
    "\n",
    "for i in range(0, 50):\n",
    "    attributes.append(token[i][0])"
   ]
  },
  {
   "cell_type": "code",
   "execution_count": 33,
   "metadata": {},
   "outputs": [
    {
     "data": {
      "text/plain": [
       "['atelectasis',\n",
       " 'opacity',\n",
       " 'effusion',\n",
       " 'tube',\n",
       " 'opacities',\n",
       " 'edema',\n",
       " 'tip',\n",
       " 'effusions',\n",
       " 'limits',\n",
       " 'congestion',\n",
       " 'position',\n",
       " 'changes',\n",
       " 'clips',\n",
       " 'line',\n",
       " 'sternotomy',\n",
       " 'opacification',\n",
       " 'pneumonia',\n",
       " 'port',\n",
       " 'calcifications',\n",
       " 'consolidation',\n",
       " 'pneumothorax',\n",
       " 'wires',\n",
       " 'picc',\n",
       " 'endotracheal',\n",
       " 'improvement',\n",
       " 'prominence',\n",
       " 'elevation',\n",
       " 'markings',\n",
       " 'increase',\n",
       " 'enlargement',\n",
       " 'density',\n",
       " 'size',\n",
       " 'pacemaker',\n",
       " 'cath',\n",
       " 'loss',\n",
       " 'interval',\n",
       " 'disease',\n",
       " 'collapse',\n",
       " 'deformity',\n",
       " 'place',\n",
       " 'compression',\n",
       " 'air',\n",
       " 'calcification',\n",
       " 'hardware',\n",
       " 'catheter',\n",
       " 'trace',\n",
       " 'device',\n",
       " 'et',\n",
       " 'lead',\n",
       " 'aeration']"
      ]
     },
     "execution_count": 33,
     "metadata": {},
     "output_type": "execute_result"
    }
   ],
   "source": [
    "attributes"
   ]
  },
  {
   "cell_type": "code",
   "execution_count": 282,
   "metadata": {},
   "outputs": [],
   "source": [
    "# Attributes got from running text_embeddings.py (same code as the cells above)\n",
    "\n",
    "attributes = []\n",
    "\n",
    "attributes = np.loadtxt(\n",
    "    \"C:/Users/DryLab/Desktop/ViLLA/RPN_MIMIC/top_50_attributes_final.txt\",\n",
    "    delimiter=\",\",\n",
    "    dtype=str,\n",
    ")"
   ]
  },
  {
   "cell_type": "code",
   "execution_count": 36,
   "metadata": {},
   "outputs": [
    {
     "data": {
      "text/plain": [
       "['atelectasis',\n",
       " 'opacity',\n",
       " 'effusion',\n",
       " 'tube',\n",
       " 'opacities',\n",
       " 'edema',\n",
       " 'tip',\n",
       " 'effusions',\n",
       " 'limits',\n",
       " 'congestion',\n",
       " 'position',\n",
       " 'changes',\n",
       " 'clips',\n",
       " 'line',\n",
       " 'sternotomy',\n",
       " 'opacification',\n",
       " 'pneumonia',\n",
       " 'port',\n",
       " 'calcifications',\n",
       " 'consolidation',\n",
       " 'pneumothorax',\n",
       " 'wires',\n",
       " 'picc',\n",
       " 'endotracheal',\n",
       " 'improvement',\n",
       " 'prominence',\n",
       " 'elevation',\n",
       " 'markings',\n",
       " 'increase',\n",
       " 'enlargement',\n",
       " 'density',\n",
       " 'size',\n",
       " 'pacemaker',\n",
       " 'cath',\n",
       " 'loss',\n",
       " 'interval',\n",
       " 'disease',\n",
       " 'collapse',\n",
       " 'deformity',\n",
       " 'place',\n",
       " 'compression',\n",
       " 'air',\n",
       " 'calcification',\n",
       " 'hardware',\n",
       " 'catheter',\n",
       " 'trace',\n",
       " 'device',\n",
       " 'et',\n",
       " 'lead',\n",
       " 'aeration']"
      ]
     },
     "execution_count": 36,
     "metadata": {},
     "output_type": "execute_result"
    }
   ],
   "source": [
    "# et = Endotracheal Tube\n",
    "\n",
    "attributes"
   ]
  },
  {
   "cell_type": "code",
   "execution_count": 34,
   "metadata": {},
   "outputs": [],
   "source": [
    "def split_into_sentences(text):\n",
    "    # Tokenize the text into sentences\n",
    "    return nltk.tokenize.sent_tokenize(text)"
   ]
  },
  {
   "cell_type": "code",
   "execution_count": 36,
   "metadata": {},
   "outputs": [],
   "source": [
    "train_df[\"sentences\"] = train_df[\"new_text_content\"].apply(split_into_sentences)"
   ]
  },
  {
   "cell_type": "code",
   "execution_count": 48,
   "metadata": {},
   "outputs": [
    {
     "data": {
      "text/html": [
       "<div>\n",
       "<style scoped>\n",
       "    .dataframe tbody tr th:only-of-type {\n",
       "        vertical-align: middle;\n",
       "    }\n",
       "\n",
       "    .dataframe tbody tr th {\n",
       "        vertical-align: top;\n",
       "    }\n",
       "\n",
       "    .dataframe thead th {\n",
       "        text-align: right;\n",
       "    }\n",
       "</style>\n",
       "<table border=\"1\" class=\"dataframe\">\n",
       "  <thead>\n",
       "    <tr style=\"text-align: right;\">\n",
       "      <th></th>\n",
       "      <th>parent_folder</th>\n",
       "      <th>subfolder</th>\n",
       "      <th>text_path</th>\n",
       "      <th>text_content</th>\n",
       "      <th>tokens</th>\n",
       "      <th>noun_tokens</th>\n",
       "      <th>sentences</th>\n",
       "    </tr>\n",
       "  </thead>\n",
       "  <tbody>\n",
       "    <tr>\n",
       "      <th>1619</th>\n",
       "      <td>p10</td>\n",
       "      <td>s55439095</td>\n",
       "      <td>p10\\p10144083\\s55439095.txt</td>\n",
       "      <td>apparent widening of the mediastinum is likely...</td>\n",
       "      <td>[apparent, decreased, accentuating, mild, atel...</td>\n",
       "      <td>[atelectasis]</td>\n",
       "      <td>[apparent widening of the mediastinum is likel...</td>\n",
       "    </tr>\n",
       "    <tr>\n",
       "      <th>2750</th>\n",
       "      <td>p10</td>\n",
       "      <td>s51097181</td>\n",
       "      <td>p10\\p10242587\\s51097181.txt</td>\n",
       "      <td>frontal supine portable radiograph of the ches...</td>\n",
       "      <td>[mild, enlargement, stable, atelectasis]</td>\n",
       "      <td>[enlargement, atelectasis]</td>\n",
       "      <td>[frontal supine portable radiograph of the che...</td>\n",
       "    </tr>\n",
       "    <tr>\n",
       "      <th>3471</th>\n",
       "      <td>p10</td>\n",
       "      <td>s59925089</td>\n",
       "      <td>p10\\p10292285\\s59925089.txt</td>\n",
       "      <td>there is mild bibasilar atelectasis . the hear...</td>\n",
       "      <td>[mild, atelectasis, mildly, enlarged, tube, co...</td>\n",
       "      <td>[atelectasis, tube, coils, tip, endotracheal, ...</td>\n",
       "      <td>[there is mild bibasilar atelectasis ., the he...</td>\n",
       "    </tr>\n",
       "    <tr>\n",
       "      <th>5148</th>\n",
       "      <td>p10</td>\n",
       "      <td>s55101999</td>\n",
       "      <td>p10\\p10439374\\s55101999.txt</td>\n",
       "      <td>portable semi - erect chest radiograph ___ at ...</td>\n",
       "      <td>[picc, line, unchanged, position, stably, enla...</td>\n",
       "      <td>[picc, line, position]</td>\n",
       "      <td>[portable semi - erect chest radiograph ___ at...</td>\n",
       "    </tr>\n",
       "    <tr>\n",
       "      <th>3525</th>\n",
       "      <td>p10</td>\n",
       "      <td>s53942022</td>\n",
       "      <td>p10\\p10296357\\s53942022.txt</td>\n",
       "      <td>the heart size is top normal with tortuosity o...</td>\n",
       "      <td>[top normal, tortuosity, stable, s - shaped, s...</td>\n",
       "      <td>[tortuosity, scoliosis, scoliosis]</td>\n",
       "      <td>[the heart size is top normal with tortuosity ...</td>\n",
       "    </tr>\n",
       "    <tr>\n",
       "      <th>...</th>\n",
       "      <td>...</td>\n",
       "      <td>...</td>\n",
       "      <td>...</td>\n",
       "      <td>...</td>\n",
       "      <td>...</td>\n",
       "      <td>...</td>\n",
       "      <td>...</td>\n",
       "    </tr>\n",
       "    <tr>\n",
       "      <th>11352</th>\n",
       "      <td>p10</td>\n",
       "      <td>s55130237</td>\n",
       "      <td>p10\\p10971699\\s55130237.txt</td>\n",
       "      <td>since ___ , there has been interval placement ...</td>\n",
       "      <td>[dual - chamber, icd, leads, intact, severe, c...</td>\n",
       "      <td>[chamber, chamber]</td>\n",
       "      <td>[since ___ , there has been interval placement...</td>\n",
       "    </tr>\n",
       "    <tr>\n",
       "      <th>5219</th>\n",
       "      <td>p10</td>\n",
       "      <td>s58107350</td>\n",
       "      <td>p10\\p10446182\\s58107350.txt</td>\n",
       "      <td>the cardiomediastinal silhouette is normal . a...</td>\n",
       "      <td>[normal, picc, picc]</td>\n",
       "      <td>[picc, picc]</td>\n",
       "      <td>[the cardiomediastinal silhouette is normal .,...</td>\n",
       "    </tr>\n",
       "    <tr>\n",
       "      <th>5423</th>\n",
       "      <td>p10</td>\n",
       "      <td>s59081890</td>\n",
       "      <td>p10\\p10461137\\s59081890.txt</td>\n",
       "      <td>airspace opacity is seen overlying the right u...</td>\n",
       "      <td>[opacity, prominence, edema, low, blunting, re...</td>\n",
       "      <td>[opacity, prominence, edema, opacity, patient,...</td>\n",
       "      <td>[airspace opacity is seen overlying the right ...</td>\n",
       "    </tr>\n",
       "    <tr>\n",
       "      <th>861</th>\n",
       "      <td>p10</td>\n",
       "      <td>s54213212</td>\n",
       "      <td>p10\\p10069423\\s54213212.txt</td>\n",
       "      <td>the patient is status post intubation with an ...</td>\n",
       "      <td>[endotracheal tube, ng tube, large, dense, con...</td>\n",
       "      <td>[tube, tube, consolidation, consolidation, opa...</td>\n",
       "      <td>[the patient is status post intubation with an...</td>\n",
       "    </tr>\n",
       "    <tr>\n",
       "      <th>7318</th>\n",
       "      <td>p10</td>\n",
       "      <td>s59059187</td>\n",
       "      <td>p10\\p10624280\\s59059187.txt</td>\n",
       "      <td>again seen is a large right - sided pleural ef...</td>\n",
       "      <td>[large, effusion, opacities, lossinfiltrate, e...</td>\n",
       "      <td>[effusion, opacities, effusion, redistribution...</td>\n",
       "      <td>[again seen is a large right - sided pleural e...</td>\n",
       "    </tr>\n",
       "  </tbody>\n",
       "</table>\n",
       "<p>8143 rows × 7 columns</p>\n",
       "</div>"
      ],
      "text/plain": [
       "      parent_folder  subfolder                    text_path  \\\n",
       "1619            p10  s55439095  p10\\p10144083\\s55439095.txt   \n",
       "2750            p10  s51097181  p10\\p10242587\\s51097181.txt   \n",
       "3471            p10  s59925089  p10\\p10292285\\s59925089.txt   \n",
       "5148            p10  s55101999  p10\\p10439374\\s55101999.txt   \n",
       "3525            p10  s53942022  p10\\p10296357\\s53942022.txt   \n",
       "...             ...        ...                          ...   \n",
       "11352           p10  s55130237  p10\\p10971699\\s55130237.txt   \n",
       "5219            p10  s58107350  p10\\p10446182\\s58107350.txt   \n",
       "5423            p10  s59081890  p10\\p10461137\\s59081890.txt   \n",
       "861             p10  s54213212  p10\\p10069423\\s54213212.txt   \n",
       "7318            p10  s59059187  p10\\p10624280\\s59059187.txt   \n",
       "\n",
       "                                            text_content  \\\n",
       "1619   apparent widening of the mediastinum is likely...   \n",
       "2750   frontal supine portable radiograph of the ches...   \n",
       "3471   there is mild bibasilar atelectasis . the hear...   \n",
       "5148   portable semi - erect chest radiograph ___ at ...   \n",
       "3525   the heart size is top normal with tortuosity o...   \n",
       "...                                                  ...   \n",
       "11352  since ___ , there has been interval placement ...   \n",
       "5219   the cardiomediastinal silhouette is normal . a...   \n",
       "5423   airspace opacity is seen overlying the right u...   \n",
       "861    the patient is status post intubation with an ...   \n",
       "7318   again seen is a large right - sided pleural ef...   \n",
       "\n",
       "                                                  tokens  \\\n",
       "1619   [apparent, decreased, accentuating, mild, atel...   \n",
       "2750            [mild, enlargement, stable, atelectasis]   \n",
       "3471   [mild, atelectasis, mildly, enlarged, tube, co...   \n",
       "5148   [picc, line, unchanged, position, stably, enla...   \n",
       "3525   [top normal, tortuosity, stable, s - shaped, s...   \n",
       "...                                                  ...   \n",
       "11352  [dual - chamber, icd, leads, intact, severe, c...   \n",
       "5219                                [normal, picc, picc]   \n",
       "5423   [opacity, prominence, edema, low, blunting, re...   \n",
       "861    [endotracheal tube, ng tube, large, dense, con...   \n",
       "7318   [large, effusion, opacities, lossinfiltrate, e...   \n",
       "\n",
       "                                             noun_tokens  \\\n",
       "1619                                       [atelectasis]   \n",
       "2750                          [enlargement, atelectasis]   \n",
       "3471   [atelectasis, tube, coils, tip, endotracheal, ...   \n",
       "5148                              [picc, line, position]   \n",
       "3525                  [tortuosity, scoliosis, scoliosis]   \n",
       "...                                                  ...   \n",
       "11352                                 [chamber, chamber]   \n",
       "5219                                        [picc, picc]   \n",
       "5423   [opacity, prominence, edema, opacity, patient,...   \n",
       "861    [tube, tube, consolidation, consolidation, opa...   \n",
       "7318   [effusion, opacities, effusion, redistribution...   \n",
       "\n",
       "                                               sentences  \n",
       "1619   [apparent widening of the mediastinum is likel...  \n",
       "2750   [frontal supine portable radiograph of the che...  \n",
       "3471   [there is mild bibasilar atelectasis ., the he...  \n",
       "5148   [portable semi - erect chest radiograph ___ at...  \n",
       "3525   [the heart size is top normal with tortuosity ...  \n",
       "...                                                  ...  \n",
       "11352  [since ___ , there has been interval placement...  \n",
       "5219   [the cardiomediastinal silhouette is normal .,...  \n",
       "5423   [airspace opacity is seen overlying the right ...  \n",
       "861    [the patient is status post intubation with an...  \n",
       "7318   [again seen is a large right - sided pleural e...  \n",
       "\n",
       "[8143 rows x 7 columns]"
      ]
     },
     "execution_count": 48,
     "metadata": {},
     "output_type": "execute_result"
    }
   ],
   "source": [
    "train_df"
   ]
  },
  {
   "cell_type": "code",
   "execution_count": 37,
   "metadata": {},
   "outputs": [
    {
     "data": {
      "text/html": [
       "<pre style=\"white-space:pre;overflow-x:auto;line-height:normal;font-family:Menlo,'DejaVu Sans Mono',consolas,'Courier New',monospace\">Attribute: atelectasis\n",
       "</pre>\n"
      ],
      "text/plain": [
       "Attribute: atelectasis\n"
      ]
     },
     "metadata": {},
     "output_type": "display_data"
    },
    {
     "data": {
      "text/html": [
       "<pre style=\"white-space:pre;overflow-x:auto;line-height:normal;font-family:Menlo,'DejaVu Sans Mono',consolas,'Courier New',monospace\"><span style=\"font-weight: bold\">[</span>\n",
       "    <span style=\"font-weight: bold\">(</span><span style=\"color: #008000; text-decoration-color: #008000\">'bibasilar atelectasis .'</span>, <span style=\"color: #008080; text-decoration-color: #008080; font-weight: bold\">37</span><span style=\"font-weight: bold\">)</span>,\n",
       "    <span style=\"font-weight: bold\">(</span><span style=\"color: #008000; text-decoration-color: #008000\">'mild bibasilar atelectasis .'</span>, <span style=\"color: #008080; text-decoration-color: #008080; font-weight: bold\">29</span><span style=\"font-weight: bold\">)</span>,\n",
       "    <span style=\"font-weight: bold\">(</span><span style=\"color: #008000; text-decoration-color: #008000\">'there is bibasilar atelectasis .'</span>, <span style=\"color: #008080; text-decoration-color: #008080; font-weight: bold\">16</span><span style=\"font-weight: bold\">)</span>,\n",
       "    <span style=\"font-weight: bold\">(</span><span style=\"color: #008000; text-decoration-color: #008000\">'there is mild bibasilar atelectasis .'</span>, <span style=\"color: #008080; text-decoration-color: #008080; font-weight: bold\">14</span><span style=\"font-weight: bold\">)</span>,\n",
       "    <span style=\"font-weight: bold\">(</span><span style=\"color: #008000; text-decoration-color: #008000\">'low lung volumes with mild bibasilar atelectasis .'</span>, <span style=\"color: #008080; text-decoration-color: #008080; font-weight: bold\">9</span><span style=\"font-weight: bold\">)</span>\n",
       "<span style=\"font-weight: bold\">]</span>\n",
       "</pre>\n"
      ],
      "text/plain": [
       "\u001b[1m[\u001b[0m\n",
       "    \u001b[1m(\u001b[0m\u001b[32m'bibasilar atelectasis .'\u001b[0m, \u001b[1;36m37\u001b[0m\u001b[1m)\u001b[0m,\n",
       "    \u001b[1m(\u001b[0m\u001b[32m'mild bibasilar atelectasis .'\u001b[0m, \u001b[1;36m29\u001b[0m\u001b[1m)\u001b[0m,\n",
       "    \u001b[1m(\u001b[0m\u001b[32m'there is bibasilar atelectasis .'\u001b[0m, \u001b[1;36m16\u001b[0m\u001b[1m)\u001b[0m,\n",
       "    \u001b[1m(\u001b[0m\u001b[32m'there is mild bibasilar atelectasis .'\u001b[0m, \u001b[1;36m14\u001b[0m\u001b[1m)\u001b[0m,\n",
       "    \u001b[1m(\u001b[0m\u001b[32m'low lung volumes with mild bibasilar atelectasis .'\u001b[0m, \u001b[1;36m9\u001b[0m\u001b[1m)\u001b[0m\n",
       "\u001b[1m]\u001b[0m\n"
      ]
     },
     "metadata": {},
     "output_type": "display_data"
    },
    {
     "data": {
      "text/html": [
       "<pre style=\"white-space:pre;overflow-x:auto;line-height:normal;font-family:Menlo,'DejaVu Sans Mono',consolas,'Courier New',monospace\">Attribute: opacity\n",
       "</pre>\n"
      ],
      "text/plain": [
       "Attribute: opacity\n"
      ]
     },
     "metadata": {},
     "output_type": "display_data"
    },
    {
     "data": {
      "text/html": [
       "<pre style=\"white-space:pre;overflow-x:auto;line-height:normal;font-family:Menlo,'DejaVu Sans Mono',consolas,'Courier New',monospace\"><span style=\"font-weight: bold\">[</span>\n",
       "    <span style=\"font-weight: bold\">(</span><span style=\"color: #008000; text-decoration-color: #008000\">'streaky left basilar opacity likely reflects atelectasis .'</span>, <span style=\"color: #008080; text-decoration-color: #008080; font-weight: bold\">3</span><span style=\"font-weight: bold\">)</span>,\n",
       "    <span style=\"font-weight: bold\">(</span><span style=\"color: #008000; text-decoration-color: #008000\">'stable right basilar opacity .'</span>, <span style=\"color: #008080; text-decoration-color: #008080; font-weight: bold\">3</span><span style=\"font-weight: bold\">)</span>,\n",
       "    <span style=\"font-weight: bold\">(</span><span style=\"color: #008000; text-decoration-color: #008000\">'linear left basilar opacity is likely atelectasis .'</span>, <span style=\"color: #008080; text-decoration-color: #008080; font-weight: bold\">3</span><span style=\"font-weight: bold\">)</span>,\n",
       "    <span style=\"font-weight: bold\">(</span><span style=\"color: #008000; text-decoration-color: #008000\">'persistent minimal left perihilar opacity could reflect resolving edema .'</span>, <span style=\"color: #008080; text-decoration-color: #008080; font-weight: bold\">2</span><span style=\"font-weight: bold\">)</span>,\n",
       "    <span style=\"font-weight: bold\">(</span>\n",
       "        <span style=\"color: #008000; text-decoration-color: #008000\">'patchy opacity seen posteriorly on the lateral view may be due to atelectasis and overlap of vascular </span>\n",
       "<span style=\"color: #008000; text-decoration-color: #008000\">structures although infectious process is not excluded in the appropriate clinical setting .'</span>,\n",
       "        <span style=\"color: #008080; text-decoration-color: #008080; font-weight: bold\">2</span>\n",
       "    <span style=\"font-weight: bold\">)</span>\n",
       "<span style=\"font-weight: bold\">]</span>\n",
       "</pre>\n"
      ],
      "text/plain": [
       "\u001b[1m[\u001b[0m\n",
       "    \u001b[1m(\u001b[0m\u001b[32m'streaky left basilar opacity likely reflects atelectasis .'\u001b[0m, \u001b[1;36m3\u001b[0m\u001b[1m)\u001b[0m,\n",
       "    \u001b[1m(\u001b[0m\u001b[32m'stable right basilar opacity .'\u001b[0m, \u001b[1;36m3\u001b[0m\u001b[1m)\u001b[0m,\n",
       "    \u001b[1m(\u001b[0m\u001b[32m'linear left basilar opacity is likely atelectasis .'\u001b[0m, \u001b[1;36m3\u001b[0m\u001b[1m)\u001b[0m,\n",
       "    \u001b[1m(\u001b[0m\u001b[32m'persistent minimal left perihilar opacity could reflect resolving edema .'\u001b[0m, \u001b[1;36m2\u001b[0m\u001b[1m)\u001b[0m,\n",
       "    \u001b[1m(\u001b[0m\n",
       "        \u001b[32m'patchy opacity seen posteriorly on the lateral view may be due to atelectasis and overlap of vascular \u001b[0m\n",
       "\u001b[32mstructures although infectious process is not excluded in the appropriate clinical setting .'\u001b[0m,\n",
       "        \u001b[1;36m2\u001b[0m\n",
       "    \u001b[1m)\u001b[0m\n",
       "\u001b[1m]\u001b[0m\n"
      ]
     },
     "metadata": {},
     "output_type": "display_data"
    },
    {
     "data": {
      "text/html": [
       "<pre style=\"white-space:pre;overflow-x:auto;line-height:normal;font-family:Menlo,'DejaVu Sans Mono',consolas,'Courier New',monospace\">Attribute: effusion\n",
       "</pre>\n"
      ],
      "text/plain": [
       "Attribute: effusion\n"
      ]
     },
     "metadata": {},
     "output_type": "display_data"
    },
    {
     "data": {
      "text/html": [
       "<pre style=\"white-space:pre;overflow-x:auto;line-height:normal;font-family:Menlo,'DejaVu Sans Mono',consolas,'Courier New',monospace\"><span style=\"font-weight: bold\">[</span>\n",
       "    <span style=\"font-weight: bold\">(</span><span style=\"color: #008000; text-decoration-color: #008000\">'small bilateral pleural effusions .'</span>, <span style=\"color: #008080; text-decoration-color: #008080; font-weight: bold\">45</span><span style=\"font-weight: bold\">)</span>,\n",
       "    <span style=\"font-weight: bold\">(</span><span style=\"color: #008000; text-decoration-color: #008000\">'there are small bilateral pleural effusions .'</span>, <span style=\"color: #008080; text-decoration-color: #008080; font-weight: bold\">31</span><span style=\"font-weight: bold\">)</span>,\n",
       "    <span style=\"font-weight: bold\">(</span><span style=\"color: #008000; text-decoration-color: #008000\">'small right pleural effusion .'</span>, <span style=\"color: #008080; text-decoration-color: #008080; font-weight: bold\">24</span><span style=\"font-weight: bold\">)</span>,\n",
       "    <span style=\"font-weight: bold\">(</span><span style=\"color: #008000; text-decoration-color: #008000\">'small left pleural effusion .'</span>, <span style=\"color: #008080; text-decoration-color: #008080; font-weight: bold\">22</span><span style=\"font-weight: bold\">)</span>,\n",
       "    <span style=\"font-weight: bold\">(</span><span style=\"color: #008000; text-decoration-color: #008000\">'there is a small right pleural effusion .'</span>, <span style=\"color: #008080; text-decoration-color: #008080; font-weight: bold\">16</span><span style=\"font-weight: bold\">)</span>\n",
       "<span style=\"font-weight: bold\">]</span>\n",
       "</pre>\n"
      ],
      "text/plain": [
       "\u001b[1m[\u001b[0m\n",
       "    \u001b[1m(\u001b[0m\u001b[32m'small bilateral pleural effusions .'\u001b[0m, \u001b[1;36m45\u001b[0m\u001b[1m)\u001b[0m,\n",
       "    \u001b[1m(\u001b[0m\u001b[32m'there are small bilateral pleural effusions .'\u001b[0m, \u001b[1;36m31\u001b[0m\u001b[1m)\u001b[0m,\n",
       "    \u001b[1m(\u001b[0m\u001b[32m'small right pleural effusion .'\u001b[0m, \u001b[1;36m24\u001b[0m\u001b[1m)\u001b[0m,\n",
       "    \u001b[1m(\u001b[0m\u001b[32m'small left pleural effusion .'\u001b[0m, \u001b[1;36m22\u001b[0m\u001b[1m)\u001b[0m,\n",
       "    \u001b[1m(\u001b[0m\u001b[32m'there is a small right pleural effusion .'\u001b[0m, \u001b[1;36m16\u001b[0m\u001b[1m)\u001b[0m\n",
       "\u001b[1m]\u001b[0m\n"
      ]
     },
     "metadata": {},
     "output_type": "display_data"
    },
    {
     "data": {
      "text/html": [
       "<pre style=\"white-space:pre;overflow-x:auto;line-height:normal;font-family:Menlo,'DejaVu Sans Mono',consolas,'Courier New',monospace\">Attribute: tube\n",
       "</pre>\n"
      ],
      "text/plain": [
       "Attribute: tube\n"
      ]
     },
     "metadata": {},
     "output_type": "display_data"
    },
    {
     "data": {
      "text/html": [
       "<pre style=\"white-space:pre;overflow-x:auto;line-height:normal;font-family:Menlo,'DejaVu Sans Mono',consolas,'Courier New',monospace\"><span style=\"font-weight: bold\">[</span>\n",
       "    <span style=\"font-weight: bold\">(</span><span style=\"color: #008000; text-decoration-color: #008000\">'ng tube terminates in the stomach .'</span>, <span style=\"color: #008080; text-decoration-color: #008080; font-weight: bold\">7</span><span style=\"font-weight: bold\">)</span>,\n",
       "    <span style=\"font-weight: bold\">(</span><span style=\"color: #008000; text-decoration-color: #008000\">'endotracheal tube in appropriate position .'</span>, <span style=\"color: #008080; text-decoration-color: #008080; font-weight: bold\">7</span><span style=\"font-weight: bold\">)</span>,\n",
       "    <span style=\"font-weight: bold\">(</span><span style=\"color: #008000; text-decoration-color: #008000\">'ng tube in appropriate position .'</span>, <span style=\"color: #008080; text-decoration-color: #008080; font-weight: bold\">6</span><span style=\"font-weight: bold\">)</span>,\n",
       "    <span style=\"font-weight: bold\">(</span><span style=\"color: #008000; text-decoration-color: #008000\">'tracheostomy tube is again noted .'</span>, <span style=\"color: #008080; text-decoration-color: #008080; font-weight: bold\">6</span><span style=\"font-weight: bold\">)</span>,\n",
       "    <span style=\"font-weight: bold\">(</span><span style=\"color: #008000; text-decoration-color: #008000\">'endotracheal tube terminates 4 .'</span>, <span style=\"color: #008080; text-decoration-color: #008080; font-weight: bold\">6</span><span style=\"font-weight: bold\">)</span>\n",
       "<span style=\"font-weight: bold\">]</span>\n",
       "</pre>\n"
      ],
      "text/plain": [
       "\u001b[1m[\u001b[0m\n",
       "    \u001b[1m(\u001b[0m\u001b[32m'ng tube terminates in the stomach .'\u001b[0m, \u001b[1;36m7\u001b[0m\u001b[1m)\u001b[0m,\n",
       "    \u001b[1m(\u001b[0m\u001b[32m'endotracheal tube in appropriate position .'\u001b[0m, \u001b[1;36m7\u001b[0m\u001b[1m)\u001b[0m,\n",
       "    \u001b[1m(\u001b[0m\u001b[32m'ng tube in appropriate position .'\u001b[0m, \u001b[1;36m6\u001b[0m\u001b[1m)\u001b[0m,\n",
       "    \u001b[1m(\u001b[0m\u001b[32m'tracheostomy tube is again noted .'\u001b[0m, \u001b[1;36m6\u001b[0m\u001b[1m)\u001b[0m,\n",
       "    \u001b[1m(\u001b[0m\u001b[32m'endotracheal tube terminates 4 .'\u001b[0m, \u001b[1;36m6\u001b[0m\u001b[1m)\u001b[0m\n",
       "\u001b[1m]\u001b[0m\n"
      ]
     },
     "metadata": {},
     "output_type": "display_data"
    },
    {
     "data": {
      "text/html": [
       "<pre style=\"white-space:pre;overflow-x:auto;line-height:normal;font-family:Menlo,'DejaVu Sans Mono',consolas,'Courier New',monospace\">Attribute: opacities\n",
       "</pre>\n"
      ],
      "text/plain": [
       "Attribute: opacities\n"
      ]
     },
     "metadata": {},
     "output_type": "display_data"
    },
    {
     "data": {
      "text/html": [
       "<pre style=\"white-space:pre;overflow-x:auto;line-height:normal;font-family:Menlo,'DejaVu Sans Mono',consolas,'Courier New',monospace\"><span style=\"font-weight: bold\">[</span>\n",
       "    <span style=\"font-weight: bold\">(</span><span style=\"color: #008000; text-decoration-color: #008000\">'patchy opacities in the lung bases may reflect areas of atelectasis .'</span>, <span style=\"color: #008080; text-decoration-color: #008080; font-weight: bold\">5</span><span style=\"font-weight: bold\">)</span>,\n",
       "    <span style=\"font-weight: bold\">(</span><span style=\"color: #008000; text-decoration-color: #008000\">'streaky bibasilar airspace opacities likely reflect atelectasis .'</span>, <span style=\"color: #008080; text-decoration-color: #008080; font-weight: bold\">4</span><span style=\"font-weight: bold\">)</span>,\n",
       "    <span style=\"font-weight: bold\">(</span><span style=\"color: #008000; text-decoration-color: #008000\">'patchy opacities in the lung bases likely reflect areas of atelectasis .'</span>, <span style=\"color: #008080; text-decoration-color: #008080; font-weight: bold\">3</span><span style=\"font-weight: bold\">)</span>,\n",
       "    <span style=\"font-weight: bold\">(</span><span style=\"color: #008000; text-decoration-color: #008000\">'unchanged left basilar opacities .'</span>, <span style=\"color: #008080; text-decoration-color: #008080; font-weight: bold\">2</span><span style=\"font-weight: bold\">)</span>,\n",
       "    <span style=\"font-weight: bold\">(</span><span style=\"color: #008000; text-decoration-color: #008000\">'bibasilar airspace opacities likely reflect atelectasis .'</span>, <span style=\"color: #008080; text-decoration-color: #008080; font-weight: bold\">2</span><span style=\"font-weight: bold\">)</span>\n",
       "<span style=\"font-weight: bold\">]</span>\n",
       "</pre>\n"
      ],
      "text/plain": [
       "\u001b[1m[\u001b[0m\n",
       "    \u001b[1m(\u001b[0m\u001b[32m'patchy opacities in the lung bases may reflect areas of atelectasis .'\u001b[0m, \u001b[1;36m5\u001b[0m\u001b[1m)\u001b[0m,\n",
       "    \u001b[1m(\u001b[0m\u001b[32m'streaky bibasilar airspace opacities likely reflect atelectasis .'\u001b[0m, \u001b[1;36m4\u001b[0m\u001b[1m)\u001b[0m,\n",
       "    \u001b[1m(\u001b[0m\u001b[32m'patchy opacities in the lung bases likely reflect areas of atelectasis .'\u001b[0m, \u001b[1;36m3\u001b[0m\u001b[1m)\u001b[0m,\n",
       "    \u001b[1m(\u001b[0m\u001b[32m'unchanged left basilar opacities .'\u001b[0m, \u001b[1;36m2\u001b[0m\u001b[1m)\u001b[0m,\n",
       "    \u001b[1m(\u001b[0m\u001b[32m'bibasilar airspace opacities likely reflect atelectasis .'\u001b[0m, \u001b[1;36m2\u001b[0m\u001b[1m)\u001b[0m\n",
       "\u001b[1m]\u001b[0m\n"
      ]
     },
     "metadata": {},
     "output_type": "display_data"
    },
    {
     "data": {
      "text/html": [
       "<pre style=\"white-space:pre;overflow-x:auto;line-height:normal;font-family:Menlo,'DejaVu Sans Mono',consolas,'Courier New',monospace\">Attribute: edema\n",
       "</pre>\n"
      ],
      "text/plain": [
       "Attribute: edema\n"
      ]
     },
     "metadata": {},
     "output_type": "display_data"
    },
    {
     "data": {
      "text/html": [
       "<pre style=\"white-space:pre;overflow-x:auto;line-height:normal;font-family:Menlo,'DejaVu Sans Mono',consolas,'Courier New',monospace\"><span style=\"font-weight: bold\">[</span>\n",
       "    <span style=\"font-weight: bold\">(</span><span style=\"color: #008000; text-decoration-color: #008000\">'mild pulmonary edema .'</span>, <span style=\"color: #008080; text-decoration-color: #008080; font-weight: bold\">32</span><span style=\"font-weight: bold\">)</span>,\n",
       "    <span style=\"font-weight: bold\">(</span><span style=\"color: #008000; text-decoration-color: #008000\">'moderate pulmonary edema .'</span>, <span style=\"color: #008080; text-decoration-color: #008080; font-weight: bold\">15</span><span style=\"font-weight: bold\">)</span>,\n",
       "    <span style=\"font-weight: bold\">(</span><span style=\"color: #008000; text-decoration-color: #008000\">'there is mild pulmonary edema .'</span>, <span style=\"color: #008080; text-decoration-color: #008080; font-weight: bold\">9</span><span style=\"font-weight: bold\">)</span>,\n",
       "    <span style=\"font-weight: bold\">(</span><span style=\"color: #008000; text-decoration-color: #008000\">'mild interstitial pulmonary edema .'</span>, <span style=\"color: #008080; text-decoration-color: #008080; font-weight: bold\">9</span><span style=\"font-weight: bold\">)</span>,\n",
       "    <span style=\"font-weight: bold\">(</span><span style=\"color: #008000; text-decoration-color: #008000\">'mild interstitial edema .'</span>, <span style=\"color: #008080; text-decoration-color: #008080; font-weight: bold\">7</span><span style=\"font-weight: bold\">)</span>\n",
       "<span style=\"font-weight: bold\">]</span>\n",
       "</pre>\n"
      ],
      "text/plain": [
       "\u001b[1m[\u001b[0m\n",
       "    \u001b[1m(\u001b[0m\u001b[32m'mild pulmonary edema .'\u001b[0m, \u001b[1;36m32\u001b[0m\u001b[1m)\u001b[0m,\n",
       "    \u001b[1m(\u001b[0m\u001b[32m'moderate pulmonary edema .'\u001b[0m, \u001b[1;36m15\u001b[0m\u001b[1m)\u001b[0m,\n",
       "    \u001b[1m(\u001b[0m\u001b[32m'there is mild pulmonary edema .'\u001b[0m, \u001b[1;36m9\u001b[0m\u001b[1m)\u001b[0m,\n",
       "    \u001b[1m(\u001b[0m\u001b[32m'mild interstitial pulmonary edema .'\u001b[0m, \u001b[1;36m9\u001b[0m\u001b[1m)\u001b[0m,\n",
       "    \u001b[1m(\u001b[0m\u001b[32m'mild interstitial edema .'\u001b[0m, \u001b[1;36m7\u001b[0m\u001b[1m)\u001b[0m\n",
       "\u001b[1m]\u001b[0m\n"
      ]
     },
     "metadata": {},
     "output_type": "display_data"
    },
    {
     "data": {
      "text/html": [
       "<pre style=\"white-space:pre;overflow-x:auto;line-height:normal;font-family:Menlo,'DejaVu Sans Mono',consolas,'Courier New',monospace\">Attribute: tip\n",
       "</pre>\n"
      ],
      "text/plain": [
       "Attribute: tip\n"
      ]
     },
     "metadata": {},
     "output_type": "display_data"
    },
    {
     "data": {
      "text/html": [
       "<pre style=\"white-space:pre;overflow-x:auto;line-height:normal;font-family:Menlo,'DejaVu Sans Mono',consolas,'Courier New',monospace\"><span style=\"font-weight: bold\">[</span>\n",
       "    <span style=\"font-weight: bold\">(</span><span style=\"color: #008000; text-decoration-color: #008000\">'the tip of the endotracheal tube projects 2 .'</span>, <span style=\"color: #008080; text-decoration-color: #008080; font-weight: bold\">5</span><span style=\"font-weight: bold\">)</span>,\n",
       "    <span style=\"font-weight: bold\">(</span><span style=\"color: #008000; text-decoration-color: #008000\">'endotracheal tube tip in good position .'</span>, <span style=\"color: #008080; text-decoration-color: #008080; font-weight: bold\">4</span><span style=\"font-weight: bold\">)</span>,\n",
       "    <span style=\"font-weight: bold\">(</span><span style=\"color: #008000; text-decoration-color: #008000\">'the tip of the endotracheal tube projects over the mid thoracic trachea .'</span>, <span style=\"color: #008080; text-decoration-color: #008080; font-weight: bold\">4</span><span style=\"font-weight: bold\">)</span>,\n",
       "    <span style=\"font-weight: bold\">(</span><span style=\"color: #008000; text-decoration-color: #008000\">'ng tube tip is in the stomach .'</span>, <span style=\"color: #008080; text-decoration-color: #008080; font-weight: bold\">3</span><span style=\"font-weight: bold\">)</span>,\n",
       "    <span style=\"font-weight: bold\">(</span><span style=\"color: #008000; text-decoration-color: #008000\">'enteric tube tip is in the proximal stomach , should be advanced .'</span>, <span style=\"color: #008080; text-decoration-color: #008080; font-weight: bold\">3</span><span style=\"font-weight: bold\">)</span>\n",
       "<span style=\"font-weight: bold\">]</span>\n",
       "</pre>\n"
      ],
      "text/plain": [
       "\u001b[1m[\u001b[0m\n",
       "    \u001b[1m(\u001b[0m\u001b[32m'the tip of the endotracheal tube projects 2 .'\u001b[0m, \u001b[1;36m5\u001b[0m\u001b[1m)\u001b[0m,\n",
       "    \u001b[1m(\u001b[0m\u001b[32m'endotracheal tube tip in good position .'\u001b[0m, \u001b[1;36m4\u001b[0m\u001b[1m)\u001b[0m,\n",
       "    \u001b[1m(\u001b[0m\u001b[32m'the tip of the endotracheal tube projects over the mid thoracic trachea .'\u001b[0m, \u001b[1;36m4\u001b[0m\u001b[1m)\u001b[0m,\n",
       "    \u001b[1m(\u001b[0m\u001b[32m'ng tube tip is in the stomach .'\u001b[0m, \u001b[1;36m3\u001b[0m\u001b[1m)\u001b[0m,\n",
       "    \u001b[1m(\u001b[0m\u001b[32m'enteric tube tip is in the proximal stomach , should be advanced .'\u001b[0m, \u001b[1;36m3\u001b[0m\u001b[1m)\u001b[0m\n",
       "\u001b[1m]\u001b[0m\n"
      ]
     },
     "metadata": {},
     "output_type": "display_data"
    },
    {
     "data": {
      "text/html": [
       "<pre style=\"white-space:pre;overflow-x:auto;line-height:normal;font-family:Menlo,'DejaVu Sans Mono',consolas,'Courier New',monospace\">Attribute: effusions\n",
       "</pre>\n"
      ],
      "text/plain": [
       "Attribute: effusions\n"
      ]
     },
     "metadata": {},
     "output_type": "display_data"
    },
    {
     "data": {
      "text/html": [
       "<pre style=\"white-space:pre;overflow-x:auto;line-height:normal;font-family:Menlo,'DejaVu Sans Mono',consolas,'Courier New',monospace\"><span style=\"font-weight: bold\">[</span>\n",
       "    <span style=\"font-weight: bold\">(</span><span style=\"color: #008000; text-decoration-color: #008000\">'small bilateral pleural effusions .'</span>, <span style=\"color: #008080; text-decoration-color: #008080; font-weight: bold\">45</span><span style=\"font-weight: bold\">)</span>,\n",
       "    <span style=\"font-weight: bold\">(</span><span style=\"color: #008000; text-decoration-color: #008000\">'there are small bilateral pleural effusions .'</span>, <span style=\"color: #008080; text-decoration-color: #008080; font-weight: bold\">31</span><span style=\"font-weight: bold\">)</span>,\n",
       "    <span style=\"font-weight: bold\">(</span><span style=\"color: #008000; text-decoration-color: #008000\">'trace bilateral pleural effusions .'</span>, <span style=\"color: #008080; text-decoration-color: #008080; font-weight: bold\">6</span><span style=\"font-weight: bold\">)</span>,\n",
       "    <span style=\"font-weight: bold\">(</span><span style=\"color: #008000; text-decoration-color: #008000\">'there are probable small bilateral pleural effusions .'</span>, <span style=\"color: #008080; text-decoration-color: #008080; font-weight: bold\">6</span><span style=\"font-weight: bold\">)</span>,\n",
       "    <span style=\"font-weight: bold\">(</span><span style=\"color: #008000; text-decoration-color: #008000\">'probable small bilateral pleural effusions .'</span>, <span style=\"color: #008080; text-decoration-color: #008080; font-weight: bold\">5</span><span style=\"font-weight: bold\">)</span>\n",
       "<span style=\"font-weight: bold\">]</span>\n",
       "</pre>\n"
      ],
      "text/plain": [
       "\u001b[1m[\u001b[0m\n",
       "    \u001b[1m(\u001b[0m\u001b[32m'small bilateral pleural effusions .'\u001b[0m, \u001b[1;36m45\u001b[0m\u001b[1m)\u001b[0m,\n",
       "    \u001b[1m(\u001b[0m\u001b[32m'there are small bilateral pleural effusions .'\u001b[0m, \u001b[1;36m31\u001b[0m\u001b[1m)\u001b[0m,\n",
       "    \u001b[1m(\u001b[0m\u001b[32m'trace bilateral pleural effusions .'\u001b[0m, \u001b[1;36m6\u001b[0m\u001b[1m)\u001b[0m,\n",
       "    \u001b[1m(\u001b[0m\u001b[32m'there are probable small bilateral pleural effusions .'\u001b[0m, \u001b[1;36m6\u001b[0m\u001b[1m)\u001b[0m,\n",
       "    \u001b[1m(\u001b[0m\u001b[32m'probable small bilateral pleural effusions .'\u001b[0m, \u001b[1;36m5\u001b[0m\u001b[1m)\u001b[0m\n",
       "\u001b[1m]\u001b[0m\n"
      ]
     },
     "metadata": {},
     "output_type": "display_data"
    },
    {
     "data": {
      "text/html": [
       "<pre style=\"white-space:pre;overflow-x:auto;line-height:normal;font-family:Menlo,'DejaVu Sans Mono',consolas,'Courier New',monospace\">Attribute: limits\n",
       "</pre>\n"
      ],
      "text/plain": [
       "Attribute: limits\n"
      ]
     },
     "metadata": {},
     "output_type": "display_data"
    },
    {
     "data": {
      "text/html": [
       "<pre style=\"white-space:pre;overflow-x:auto;line-height:normal;font-family:Menlo,'DejaVu Sans Mono',consolas,'Courier New',monospace\"><span style=\"font-weight: bold\">[</span>\n",
       "    <span style=\"font-weight: bold\">(</span><span style=\"color: #008000; text-decoration-color: #008000\">'the cardiomediastinal silhouette is within normal limits .'</span>, <span style=\"color: #008080; text-decoration-color: #008080; font-weight: bold\">254</span><span style=\"font-weight: bold\">)</span>,\n",
       "    <span style=\"font-weight: bold\">(</span><span style=\"color: #008000; text-decoration-color: #008000\">'cardiomediastinal silhouette is within normal limits .'</span>, <span style=\"color: #008080; text-decoration-color: #008080; font-weight: bold\">150</span><span style=\"font-weight: bold\">)</span>,\n",
       "    <span style=\"font-weight: bold\">(</span><span style=\"color: #008000; text-decoration-color: #008000\">'the cardiomediastinal and hilar contours are within normal limits .'</span>, <span style=\"color: #008080; text-decoration-color: #008080; font-weight: bold\">88</span><span style=\"font-weight: bold\">)</span>,\n",
       "    <span style=\"font-weight: bold\">(</span><span style=\"color: #008000; text-decoration-color: #008000\">'the mediastinal and hilar contours appear within normal limits .'</span>, <span style=\"color: #008080; text-decoration-color: #008080; font-weight: bold\">70</span><span style=\"font-weight: bold\">)</span>,\n",
       "    <span style=\"font-weight: bold\">(</span><span style=\"color: #008000; text-decoration-color: #008000\">'the mediastinal and hilar contours are within normal limits .'</span>, <span style=\"color: #008080; text-decoration-color: #008080; font-weight: bold\">44</span><span style=\"font-weight: bold\">)</span>\n",
       "<span style=\"font-weight: bold\">]</span>\n",
       "</pre>\n"
      ],
      "text/plain": [
       "\u001b[1m[\u001b[0m\n",
       "    \u001b[1m(\u001b[0m\u001b[32m'the cardiomediastinal silhouette is within normal limits .'\u001b[0m, \u001b[1;36m254\u001b[0m\u001b[1m)\u001b[0m,\n",
       "    \u001b[1m(\u001b[0m\u001b[32m'cardiomediastinal silhouette is within normal limits .'\u001b[0m, \u001b[1;36m150\u001b[0m\u001b[1m)\u001b[0m,\n",
       "    \u001b[1m(\u001b[0m\u001b[32m'the cardiomediastinal and hilar contours are within normal limits .'\u001b[0m, \u001b[1;36m88\u001b[0m\u001b[1m)\u001b[0m,\n",
       "    \u001b[1m(\u001b[0m\u001b[32m'the mediastinal and hilar contours appear within normal limits .'\u001b[0m, \u001b[1;36m70\u001b[0m\u001b[1m)\u001b[0m,\n",
       "    \u001b[1m(\u001b[0m\u001b[32m'the mediastinal and hilar contours are within normal limits .'\u001b[0m, \u001b[1;36m44\u001b[0m\u001b[1m)\u001b[0m\n",
       "\u001b[1m]\u001b[0m\n"
      ]
     },
     "metadata": {},
     "output_type": "display_data"
    },
    {
     "data": {
      "text/html": [
       "<pre style=\"white-space:pre;overflow-x:auto;line-height:normal;font-family:Menlo,'DejaVu Sans Mono',consolas,'Courier New',monospace\">Attribute: congestion\n",
       "</pre>\n"
      ],
      "text/plain": [
       "Attribute: congestion\n"
      ]
     },
     "metadata": {},
     "output_type": "display_data"
    },
    {
     "data": {
      "text/html": [
       "<pre style=\"white-space:pre;overflow-x:auto;line-height:normal;font-family:Menlo,'DejaVu Sans Mono',consolas,'Courier New',monospace\"><span style=\"font-weight: bold\">[</span>\n",
       "    <span style=\"font-weight: bold\">(</span><span style=\"color: #008000; text-decoration-color: #008000\">'mild pulmonary vascular congestion .'</span>, <span style=\"color: #008080; text-decoration-color: #008080; font-weight: bold\">32</span><span style=\"font-weight: bold\">)</span>,\n",
       "    <span style=\"font-weight: bold\">(</span><span style=\"color: #008000; text-decoration-color: #008000\">'there is mild pulmonary vascular congestion .'</span>, <span style=\"color: #008080; text-decoration-color: #008080; font-weight: bold\">26</span><span style=\"font-weight: bold\">)</span>,\n",
       "    <span style=\"font-weight: bold\">(</span><span style=\"color: #008000; text-decoration-color: #008000\">'mild vascular congestion .'</span>, <span style=\"color: #008080; text-decoration-color: #008080; font-weight: bold\">8</span><span style=\"font-weight: bold\">)</span>,\n",
       "    <span style=\"font-weight: bold\">(</span><span style=\"color: #008000; text-decoration-color: #008000\">'there is mild vascular congestion .'</span>, <span style=\"color: #008080; text-decoration-color: #008080; font-weight: bold\">7</span><span style=\"font-weight: bold\">)</span>,\n",
       "    <span style=\"font-weight: bold\">(</span><span style=\"color: #008000; text-decoration-color: #008000\">'pulmonary vascular congestion .'</span>, <span style=\"color: #008080; text-decoration-color: #008080; font-weight: bold\">5</span><span style=\"font-weight: bold\">)</span>\n",
       "<span style=\"font-weight: bold\">]</span>\n",
       "</pre>\n"
      ],
      "text/plain": [
       "\u001b[1m[\u001b[0m\n",
       "    \u001b[1m(\u001b[0m\u001b[32m'mild pulmonary vascular congestion .'\u001b[0m, \u001b[1;36m32\u001b[0m\u001b[1m)\u001b[0m,\n",
       "    \u001b[1m(\u001b[0m\u001b[32m'there is mild pulmonary vascular congestion .'\u001b[0m, \u001b[1;36m26\u001b[0m\u001b[1m)\u001b[0m,\n",
       "    \u001b[1m(\u001b[0m\u001b[32m'mild vascular congestion .'\u001b[0m, \u001b[1;36m8\u001b[0m\u001b[1m)\u001b[0m,\n",
       "    \u001b[1m(\u001b[0m\u001b[32m'there is mild vascular congestion .'\u001b[0m, \u001b[1;36m7\u001b[0m\u001b[1m)\u001b[0m,\n",
       "    \u001b[1m(\u001b[0m\u001b[32m'pulmonary vascular congestion .'\u001b[0m, \u001b[1;36m5\u001b[0m\u001b[1m)\u001b[0m\n",
       "\u001b[1m]\u001b[0m\n"
      ]
     },
     "metadata": {},
     "output_type": "display_data"
    },
    {
     "data": {
      "text/html": [
       "<pre style=\"white-space:pre;overflow-x:auto;line-height:normal;font-family:Menlo,'DejaVu Sans Mono',consolas,'Courier New',monospace\">Attribute: position\n",
       "</pre>\n"
      ],
      "text/plain": [
       "Attribute: position\n"
      ]
     },
     "metadata": {},
     "output_type": "display_data"
    },
    {
     "data": {
      "text/html": [
       "<pre style=\"white-space:pre;overflow-x:auto;line-height:normal;font-family:Menlo,'DejaVu Sans Mono',consolas,'Courier New',monospace\"><span style=\"font-weight: bold\">[</span>\n",
       "    <span style=\"font-weight: bold\">(</span><span style=\"color: #008000; text-decoration-color: #008000\">'pa and lateral chest views were obtained with patient in upright position .'</span>, <span style=\"color: #008080; text-decoration-color: #008080; font-weight: bold\">31</span><span style=\"font-weight: bold\">)</span>,\n",
       "    <span style=\"font-weight: bold\">(</span><span style=\"color: #008000; text-decoration-color: #008000\">'ap single view of the chest has been obtained with patient in semi - upright position .'</span>, <span style=\"color: #008080; text-decoration-color: #008080; font-weight: bold\">11</span><span style=\"font-weight: bold\">)</span>,\n",
       "    <span style=\"font-weight: bold\">(</span><span style=\"color: #008000; text-decoration-color: #008000\">'ap single view of the chest has been obtained with patient in sitting semi - upright position .'</span>, <span style=\"color: #008080; text-decoration-color: #008080; font-weight: bold\">8</span><span style=\"font-weight: bold\">)</span>,\n",
       "    <span style=\"font-weight: bold\">(</span><span style=\"color: #008000; text-decoration-color: #008000\">'endotracheal tube in appropriate position .'</span>, <span style=\"color: #008080; text-decoration-color: #008080; font-weight: bold\">7</span><span style=\"font-weight: bold\">)</span>,\n",
       "    <span style=\"font-weight: bold\">(</span><span style=\"color: #008000; text-decoration-color: #008000\">'ng tube in appropriate position .'</span>, <span style=\"color: #008080; text-decoration-color: #008080; font-weight: bold\">6</span><span style=\"font-weight: bold\">)</span>\n",
       "<span style=\"font-weight: bold\">]</span>\n",
       "</pre>\n"
      ],
      "text/plain": [
       "\u001b[1m[\u001b[0m\n",
       "    \u001b[1m(\u001b[0m\u001b[32m'pa and lateral chest views were obtained with patient in upright position .'\u001b[0m, \u001b[1;36m31\u001b[0m\u001b[1m)\u001b[0m,\n",
       "    \u001b[1m(\u001b[0m\u001b[32m'ap single view of the chest has been obtained with patient in semi - upright position .'\u001b[0m, \u001b[1;36m11\u001b[0m\u001b[1m)\u001b[0m,\n",
       "    \u001b[1m(\u001b[0m\u001b[32m'ap single view of the chest has been obtained with patient in sitting semi - upright position .'\u001b[0m, \u001b[1;36m8\u001b[0m\u001b[1m)\u001b[0m,\n",
       "    \u001b[1m(\u001b[0m\u001b[32m'endotracheal tube in appropriate position .'\u001b[0m, \u001b[1;36m7\u001b[0m\u001b[1m)\u001b[0m,\n",
       "    \u001b[1m(\u001b[0m\u001b[32m'ng tube in appropriate position .'\u001b[0m, \u001b[1;36m6\u001b[0m\u001b[1m)\u001b[0m\n",
       "\u001b[1m]\u001b[0m\n"
      ]
     },
     "metadata": {},
     "output_type": "display_data"
    },
    {
     "data": {
      "text/html": [
       "<pre style=\"white-space:pre;overflow-x:auto;line-height:normal;font-family:Menlo,'DejaVu Sans Mono',consolas,'Courier New',monospace\">Attribute: changes\n",
       "</pre>\n"
      ],
      "text/plain": [
       "Attribute: changes\n"
      ]
     },
     "metadata": {},
     "output_type": "display_data"
    },
    {
     "data": {
      "text/html": [
       "<pre style=\"white-space:pre;overflow-x:auto;line-height:normal;font-family:Menlo,'DejaVu Sans Mono',consolas,'Courier New',monospace\"><span style=\"font-weight: bold\">[</span>\n",
       "    <span style=\"font-weight: bold\">(</span><span style=\"color: #008000; text-decoration-color: #008000\">'mild degenerative changes are noted in the thoracic spine .'</span>, <span style=\"color: #008080; text-decoration-color: #008080; font-weight: bold\">14</span><span style=\"font-weight: bold\">)</span>,\n",
       "    <span style=\"font-weight: bold\">(</span><span style=\"color: #008000; text-decoration-color: #008000\">'there are mild degenerative changes in the thoracic spine .'</span>, <span style=\"color: #008080; text-decoration-color: #008080; font-weight: bold\">12</span><span style=\"font-weight: bold\">)</span>,\n",
       "    <span style=\"font-weight: bold\">(</span><span style=\"color: #008000; text-decoration-color: #008000\">'mild degenerative changes are seen in the thoracic spine .'</span>, <span style=\"color: #008080; text-decoration-color: #008080; font-weight: bold\">10</span><span style=\"font-weight: bold\">)</span>,\n",
       "    <span style=\"font-weight: bold\">(</span><span style=\"color: #008000; text-decoration-color: #008000\">'degenerative changes are seen along the spine .'</span>, <span style=\"color: #008080; text-decoration-color: #008080; font-weight: bold\">7</span><span style=\"font-weight: bold\">)</span>,\n",
       "    <span style=\"font-weight: bold\">(</span><span style=\"color: #008000; text-decoration-color: #008000\">'spondylotic changes of the thoracic spine .'</span>, <span style=\"color: #008080; text-decoration-color: #008080; font-weight: bold\">7</span><span style=\"font-weight: bold\">)</span>\n",
       "<span style=\"font-weight: bold\">]</span>\n",
       "</pre>\n"
      ],
      "text/plain": [
       "\u001b[1m[\u001b[0m\n",
       "    \u001b[1m(\u001b[0m\u001b[32m'mild degenerative changes are noted in the thoracic spine .'\u001b[0m, \u001b[1;36m14\u001b[0m\u001b[1m)\u001b[0m,\n",
       "    \u001b[1m(\u001b[0m\u001b[32m'there are mild degenerative changes in the thoracic spine .'\u001b[0m, \u001b[1;36m12\u001b[0m\u001b[1m)\u001b[0m,\n",
       "    \u001b[1m(\u001b[0m\u001b[32m'mild degenerative changes are seen in the thoracic spine .'\u001b[0m, \u001b[1;36m10\u001b[0m\u001b[1m)\u001b[0m,\n",
       "    \u001b[1m(\u001b[0m\u001b[32m'degenerative changes are seen along the spine .'\u001b[0m, \u001b[1;36m7\u001b[0m\u001b[1m)\u001b[0m,\n",
       "    \u001b[1m(\u001b[0m\u001b[32m'spondylotic changes of the thoracic spine .'\u001b[0m, \u001b[1;36m7\u001b[0m\u001b[1m)\u001b[0m\n",
       "\u001b[1m]\u001b[0m\n"
      ]
     },
     "metadata": {},
     "output_type": "display_data"
    },
    {
     "data": {
      "text/html": [
       "<pre style=\"white-space:pre;overflow-x:auto;line-height:normal;font-family:Menlo,'DejaVu Sans Mono',consolas,'Courier New',monospace\">Attribute: clips\n",
       "</pre>\n"
      ],
      "text/plain": [
       "Attribute: clips\n"
      ]
     },
     "metadata": {},
     "output_type": "display_data"
    },
    {
     "data": {
      "text/html": [
       "<pre style=\"white-space:pre;overflow-x:auto;line-height:normal;font-family:Menlo,'DejaVu Sans Mono',consolas,'Courier New',monospace\"><span style=\"font-weight: bold\">[</span>\n",
       "    <span style=\"font-weight: bold\">(</span><span style=\"color: #008000; text-decoration-color: #008000\">'midline sternotomy wires and mediastinal clips are again noted .'</span>, <span style=\"color: #008080; text-decoration-color: #008080; font-weight: bold\">15</span><span style=\"font-weight: bold\">)</span>,\n",
       "    <span style=\"font-weight: bold\">(</span><span style=\"color: #008000; text-decoration-color: #008000\">'surgical clips project over the right upper quadrant .'</span>, <span style=\"color: #008080; text-decoration-color: #008080; font-weight: bold\">8</span><span style=\"font-weight: bold\">)</span>,\n",
       "    <span style=\"font-weight: bold\">(</span><span style=\"color: #008000; text-decoration-color: #008000\">'clips in the right upper quadrant noted .'</span>, <span style=\"color: #008080; text-decoration-color: #008080; font-weight: bold\">6</span><span style=\"font-weight: bold\">)</span>,\n",
       "    <span style=\"font-weight: bold\">(</span><span style=\"color: #008000; text-decoration-color: #008000\">'median sternotomy wires and mediastinal clips are noted .'</span>, <span style=\"color: #008080; text-decoration-color: #008080; font-weight: bold\">5</span><span style=\"font-weight: bold\">)</span>,\n",
       "    <span style=\"font-weight: bold\">(</span><span style=\"color: #008000; text-decoration-color: #008000\">'midline sternotomy wires and mediastinal clips again noted .'</span>, <span style=\"color: #008080; text-decoration-color: #008080; font-weight: bold\">5</span><span style=\"font-weight: bold\">)</span>\n",
       "<span style=\"font-weight: bold\">]</span>\n",
       "</pre>\n"
      ],
      "text/plain": [
       "\u001b[1m[\u001b[0m\n",
       "    \u001b[1m(\u001b[0m\u001b[32m'midline sternotomy wires and mediastinal clips are again noted .'\u001b[0m, \u001b[1;36m15\u001b[0m\u001b[1m)\u001b[0m,\n",
       "    \u001b[1m(\u001b[0m\u001b[32m'surgical clips project over the right upper quadrant .'\u001b[0m, \u001b[1;36m8\u001b[0m\u001b[1m)\u001b[0m,\n",
       "    \u001b[1m(\u001b[0m\u001b[32m'clips in the right upper quadrant noted .'\u001b[0m, \u001b[1;36m6\u001b[0m\u001b[1m)\u001b[0m,\n",
       "    \u001b[1m(\u001b[0m\u001b[32m'median sternotomy wires and mediastinal clips are noted .'\u001b[0m, \u001b[1;36m5\u001b[0m\u001b[1m)\u001b[0m,\n",
       "    \u001b[1m(\u001b[0m\u001b[32m'midline sternotomy wires and mediastinal clips again noted .'\u001b[0m, \u001b[1;36m5\u001b[0m\u001b[1m)\u001b[0m\n",
       "\u001b[1m]\u001b[0m\n"
      ]
     },
     "metadata": {},
     "output_type": "display_data"
    },
    {
     "data": {
      "text/html": [
       "<pre style=\"white-space:pre;overflow-x:auto;line-height:normal;font-family:Menlo,'DejaVu Sans Mono',consolas,'Courier New',monospace\">Attribute: line\n",
       "</pre>\n"
      ],
      "text/plain": [
       "Attribute: line\n"
      ]
     },
     "metadata": {},
     "output_type": "display_data"
    },
    {
     "data": {
      "text/html": [
       "<pre style=\"white-space:pre;overflow-x:auto;line-height:normal;font-family:Menlo,'DejaVu Sans Mono',consolas,'Courier New',monospace\"><span style=\"font-weight: bold\">[</span>\n",
       "    <span style=\"font-weight: bold\">(</span><span style=\"color: #008000; text-decoration-color: #008000\">'the trachea is midline .'</span>, <span style=\"color: #008080; text-decoration-color: #008080; font-weight: bold\">21</span><span style=\"font-weight: bold\">)</span>,\n",
       "    <span style=\"font-weight: bold\">(</span><span style=\"color: #008000; text-decoration-color: #008000\">'midline sternotomy wires and mediastinal clips are again noted .'</span>, <span style=\"color: #008080; text-decoration-color: #008080; font-weight: bold\">15</span><span style=\"font-weight: bold\">)</span>,\n",
       "    <span style=\"font-weight: bold\">(</span><span style=\"color: #008000; text-decoration-color: #008000\">'heart size is borderline enlarged .'</span>, <span style=\"color: #008080; text-decoration-color: #008080; font-weight: bold\">8</span><span style=\"font-weight: bold\">)</span>,\n",
       "    <span style=\"font-weight: bold\">(</span><span style=\"color: #008000; text-decoration-color: #008000\">'midline sternotomy wires and mediastinal clips again noted .'</span>, <span style=\"color: #008080; text-decoration-color: #008080; font-weight: bold\">5</span><span style=\"font-weight: bold\">)</span>,\n",
       "    <span style=\"font-weight: bold\">(</span><span style=\"color: #008000; text-decoration-color: #008000\">'midline sternotomy wires are again noted .'</span>, <span style=\"color: #008080; text-decoration-color: #008080; font-weight: bold\">4</span><span style=\"font-weight: bold\">)</span>\n",
       "<span style=\"font-weight: bold\">]</span>\n",
       "</pre>\n"
      ],
      "text/plain": [
       "\u001b[1m[\u001b[0m\n",
       "    \u001b[1m(\u001b[0m\u001b[32m'the trachea is midline .'\u001b[0m, \u001b[1;36m21\u001b[0m\u001b[1m)\u001b[0m,\n",
       "    \u001b[1m(\u001b[0m\u001b[32m'midline sternotomy wires and mediastinal clips are again noted .'\u001b[0m, \u001b[1;36m15\u001b[0m\u001b[1m)\u001b[0m,\n",
       "    \u001b[1m(\u001b[0m\u001b[32m'heart size is borderline enlarged .'\u001b[0m, \u001b[1;36m8\u001b[0m\u001b[1m)\u001b[0m,\n",
       "    \u001b[1m(\u001b[0m\u001b[32m'midline sternotomy wires and mediastinal clips again noted .'\u001b[0m, \u001b[1;36m5\u001b[0m\u001b[1m)\u001b[0m,\n",
       "    \u001b[1m(\u001b[0m\u001b[32m'midline sternotomy wires are again noted .'\u001b[0m, \u001b[1;36m4\u001b[0m\u001b[1m)\u001b[0m\n",
       "\u001b[1m]\u001b[0m\n"
      ]
     },
     "metadata": {},
     "output_type": "display_data"
    },
    {
     "data": {
      "text/html": [
       "<pre style=\"white-space:pre;overflow-x:auto;line-height:normal;font-family:Menlo,'DejaVu Sans Mono',consolas,'Courier New',monospace\">Attribute: sternotomy\n",
       "</pre>\n"
      ],
      "text/plain": [
       "Attribute: sternotomy\n"
      ]
     },
     "metadata": {},
     "output_type": "display_data"
    },
    {
     "data": {
      "text/html": [
       "<pre style=\"white-space:pre;overflow-x:auto;line-height:normal;font-family:Menlo,'DejaVu Sans Mono',consolas,'Courier New',monospace\"><span style=\"font-weight: bold\">[</span>\n",
       "    <span style=\"font-weight: bold\">(</span><span style=\"color: #008000; text-decoration-color: #008000\">'the patient is status post median sternotomy and cabg .'</span>, <span style=\"color: #008080; text-decoration-color: #008080; font-weight: bold\">35</span><span style=\"font-weight: bold\">)</span>,\n",
       "    <span style=\"font-weight: bold\">(</span><span style=\"color: #008000; text-decoration-color: #008000\">'patient is status post median sternotomy and cabg .'</span>, <span style=\"color: #008080; text-decoration-color: #008080; font-weight: bold\">34</span><span style=\"font-weight: bold\">)</span>,\n",
       "    <span style=\"font-weight: bold\">(</span><span style=\"color: #008000; text-decoration-color: #008000\">'median sternotomy wires are intact .'</span>, <span style=\"color: #008080; text-decoration-color: #008080; font-weight: bold\">22</span><span style=\"font-weight: bold\">)</span>,\n",
       "    <span style=\"font-weight: bold\">(</span><span style=\"color: #008000; text-decoration-color: #008000\">'the patient is status post median sternotomy .'</span>, <span style=\"color: #008080; text-decoration-color: #008080; font-weight: bold\">17</span><span style=\"font-weight: bold\">)</span>,\n",
       "    <span style=\"font-weight: bold\">(</span><span style=\"color: #008000; text-decoration-color: #008000\">'patient is status post median sternotomy .'</span>, <span style=\"color: #008080; text-decoration-color: #008080; font-weight: bold\">17</span><span style=\"font-weight: bold\">)</span>\n",
       "<span style=\"font-weight: bold\">]</span>\n",
       "</pre>\n"
      ],
      "text/plain": [
       "\u001b[1m[\u001b[0m\n",
       "    \u001b[1m(\u001b[0m\u001b[32m'the patient is status post median sternotomy and cabg .'\u001b[0m, \u001b[1;36m35\u001b[0m\u001b[1m)\u001b[0m,\n",
       "    \u001b[1m(\u001b[0m\u001b[32m'patient is status post median sternotomy and cabg .'\u001b[0m, \u001b[1;36m34\u001b[0m\u001b[1m)\u001b[0m,\n",
       "    \u001b[1m(\u001b[0m\u001b[32m'median sternotomy wires are intact .'\u001b[0m, \u001b[1;36m22\u001b[0m\u001b[1m)\u001b[0m,\n",
       "    \u001b[1m(\u001b[0m\u001b[32m'the patient is status post median sternotomy .'\u001b[0m, \u001b[1;36m17\u001b[0m\u001b[1m)\u001b[0m,\n",
       "    \u001b[1m(\u001b[0m\u001b[32m'patient is status post median sternotomy .'\u001b[0m, \u001b[1;36m17\u001b[0m\u001b[1m)\u001b[0m\n",
       "\u001b[1m]\u001b[0m\n"
      ]
     },
     "metadata": {},
     "output_type": "display_data"
    },
    {
     "data": {
      "text/html": [
       "<pre style=\"white-space:pre;overflow-x:auto;line-height:normal;font-family:Menlo,'DejaVu Sans Mono',consolas,'Courier New',monospace\">Attribute: opacification\n",
       "</pre>\n"
      ],
      "text/plain": [
       "Attribute: opacification\n"
      ]
     },
     "metadata": {},
     "output_type": "display_data"
    },
    {
     "data": {
      "text/html": [
       "<pre style=\"white-space:pre;overflow-x:auto;line-height:normal;font-family:Menlo,'DejaVu Sans Mono',consolas,'Courier New',monospace\"><span style=\"font-weight: bold\">[</span>\n",
       "    <span style=\"font-weight: bold\">(</span><span style=\"color: #008000; text-decoration-color: #008000\">'an area of opacification is seen at the base on the lateral view only .'</span>, <span style=\"color: #008080; text-decoration-color: #008080; font-weight: bold\">2</span><span style=\"font-weight: bold\">)</span>,\n",
       "    <span style=\"font-weight: bold\">(</span>\n",
       "        <span style=\"color: #008000; text-decoration-color: #008000\">'there is similar airspace opacification of the medial right lung base with new subsegmental atelectasis </span>\n",
       "<span style=\"color: #008000; text-decoration-color: #008000\">adjacent to the minor fissure .'</span>,\n",
       "        <span style=\"color: #008080; text-decoration-color: #008080; font-weight: bold\">2</span>\n",
       "    <span style=\"font-weight: bold\">)</span>,\n",
       "    <span style=\"font-weight: bold\">(</span>\n",
       "        <span style=\"color: #008000; text-decoration-color: #008000\">'there is continued near complete opacification of right hemithorax , likely due to right lung collapse and</span>\n",
       "<span style=\"color: #008000; text-decoration-color: #008000\">large pleural effusion .'</span>,\n",
       "        <span style=\"color: #008080; text-decoration-color: #008080; font-weight: bold\">2</span>\n",
       "    <span style=\"font-weight: bold\">)</span>,\n",
       "    <span style=\"font-weight: bold\">(</span>\n",
       "        <span style=\"color: #008000; text-decoration-color: #008000\">'the right upper lobe opacification abutting the minor fissure is concerning for pneumonia in the </span>\n",
       "<span style=\"color: #008000; text-decoration-color: #008000\">appropriate clinical setting .'</span>,\n",
       "        <span style=\"color: #008080; text-decoration-color: #008080; font-weight: bold\">2</span>\n",
       "    <span style=\"font-weight: bold\">)</span>,\n",
       "    <span style=\"font-weight: bold\">(</span>\n",
       "        <span style=\"color: #008000; text-decoration-color: #008000\">'retrocardiac opacification likely represents atelectasis , however early infection cannot be excluded .'</span>,\n",
       "        <span style=\"color: #008080; text-decoration-color: #008080; font-weight: bold\">1</span>\n",
       "    <span style=\"font-weight: bold\">)</span>\n",
       "<span style=\"font-weight: bold\">]</span>\n",
       "</pre>\n"
      ],
      "text/plain": [
       "\u001b[1m[\u001b[0m\n",
       "    \u001b[1m(\u001b[0m\u001b[32m'an area of opacification is seen at the base on the lateral view only .'\u001b[0m, \u001b[1;36m2\u001b[0m\u001b[1m)\u001b[0m,\n",
       "    \u001b[1m(\u001b[0m\n",
       "        \u001b[32m'there is similar airspace opacification of the medial right lung base with new subsegmental atelectasis \u001b[0m\n",
       "\u001b[32madjacent to the minor fissure .'\u001b[0m,\n",
       "        \u001b[1;36m2\u001b[0m\n",
       "    \u001b[1m)\u001b[0m,\n",
       "    \u001b[1m(\u001b[0m\n",
       "        \u001b[32m'there is continued near complete opacification of right hemithorax , likely due to right lung collapse and\u001b[0m\n",
       "\u001b[32mlarge pleural effusion .'\u001b[0m,\n",
       "        \u001b[1;36m2\u001b[0m\n",
       "    \u001b[1m)\u001b[0m,\n",
       "    \u001b[1m(\u001b[0m\n",
       "        \u001b[32m'the right upper lobe opacification abutting the minor fissure is concerning for pneumonia in the \u001b[0m\n",
       "\u001b[32mappropriate clinical setting .'\u001b[0m,\n",
       "        \u001b[1;36m2\u001b[0m\n",
       "    \u001b[1m)\u001b[0m,\n",
       "    \u001b[1m(\u001b[0m\n",
       "        \u001b[32m'retrocardiac opacification likely represents atelectasis , however early infection cannot be excluded .'\u001b[0m,\n",
       "        \u001b[1;36m1\u001b[0m\n",
       "    \u001b[1m)\u001b[0m\n",
       "\u001b[1m]\u001b[0m\n"
      ]
     },
     "metadata": {},
     "output_type": "display_data"
    },
    {
     "data": {
      "text/html": [
       "<pre style=\"white-space:pre;overflow-x:auto;line-height:normal;font-family:Menlo,'DejaVu Sans Mono',consolas,'Courier New',monospace\">Attribute: pneumonia\n",
       "</pre>\n"
      ],
      "text/plain": [
       "Attribute: pneumonia\n"
      ]
     },
     "metadata": {},
     "output_type": "display_data"
    },
    {
     "data": {
      "text/html": [
       "<pre style=\"white-space:pre;overflow-x:auto;line-height:normal;font-family:Menlo,'DejaVu Sans Mono',consolas,'Courier New',monospace\"><span style=\"font-weight: bold\">[</span>\n",
       "    <span style=\"font-weight: bold\">(</span><span style=\"color: #008000; text-decoration-color: #008000\">'left lower lobe pneumonia .'</span>, <span style=\"color: #008080; text-decoration-color: #008080; font-weight: bold\">15</span><span style=\"font-weight: bold\">)</span>,\n",
       "    <span style=\"font-weight: bold\">(</span><span style=\"color: #008000; text-decoration-color: #008000\">'right lower lobe pneumonia .'</span>, <span style=\"color: #008080; text-decoration-color: #008080; font-weight: bold\">12</span><span style=\"font-weight: bold\">)</span>,\n",
       "    <span style=\"font-weight: bold\">(</span><span style=\"color: #008000; text-decoration-color: #008000\">'no convincing signs of pneumonia .'</span>, <span style=\"color: #008080; text-decoration-color: #008080; font-weight: bold\">4</span><span style=\"font-weight: bold\">)</span>,\n",
       "    <span style=\"font-weight: bold\">(</span><span style=\"color: #008000; text-decoration-color: #008000\">'right middle lobe pneumonia .'</span>, <span style=\"color: #008080; text-decoration-color: #008080; font-weight: bold\">3</span><span style=\"font-weight: bold\">)</span>,\n",
       "    <span style=\"font-weight: bold\">(</span><span style=\"color: #008000; text-decoration-color: #008000\">'left lower lobe consolidation is worrisome for pneumonia .'</span>, <span style=\"color: #008080; text-decoration-color: #008080; font-weight: bold\">3</span><span style=\"font-weight: bold\">)</span>\n",
       "<span style=\"font-weight: bold\">]</span>\n",
       "</pre>\n"
      ],
      "text/plain": [
       "\u001b[1m[\u001b[0m\n",
       "    \u001b[1m(\u001b[0m\u001b[32m'left lower lobe pneumonia .'\u001b[0m, \u001b[1;36m15\u001b[0m\u001b[1m)\u001b[0m,\n",
       "    \u001b[1m(\u001b[0m\u001b[32m'right lower lobe pneumonia .'\u001b[0m, \u001b[1;36m12\u001b[0m\u001b[1m)\u001b[0m,\n",
       "    \u001b[1m(\u001b[0m\u001b[32m'no convincing signs of pneumonia .'\u001b[0m, \u001b[1;36m4\u001b[0m\u001b[1m)\u001b[0m,\n",
       "    \u001b[1m(\u001b[0m\u001b[32m'right middle lobe pneumonia .'\u001b[0m, \u001b[1;36m3\u001b[0m\u001b[1m)\u001b[0m,\n",
       "    \u001b[1m(\u001b[0m\u001b[32m'left lower lobe consolidation is worrisome for pneumonia .'\u001b[0m, \u001b[1;36m3\u001b[0m\u001b[1m)\u001b[0m\n",
       "\u001b[1m]\u001b[0m\n"
      ]
     },
     "metadata": {},
     "output_type": "display_data"
    },
    {
     "data": {
      "text/html": [
       "<pre style=\"white-space:pre;overflow-x:auto;line-height:normal;font-family:Menlo,'DejaVu Sans Mono',consolas,'Courier New',monospace\">Attribute: port\n",
       "</pre>\n"
      ],
      "text/plain": [
       "Attribute: port\n"
      ]
     },
     "metadata": {},
     "output_type": "display_data"
    },
    {
     "data": {
      "text/html": [
       "<pre style=\"white-space:pre;overflow-x:auto;line-height:normal;font-family:Menlo,'DejaVu Sans Mono',consolas,'Courier New',monospace\"><span style=\"font-weight: bold\">[</span>\n",
       "    <span style=\"font-weight: bold\">(</span><span style=\"color: #008000; text-decoration-color: #008000\">'ap portable upright view of the chest .'</span>, <span style=\"color: #008080; text-decoration-color: #008080; font-weight: bold\">70</span><span style=\"font-weight: bold\">)</span>,\n",
       "    <span style=\"font-weight: bold\">(</span><span style=\"color: #008000; text-decoration-color: #008000\">'single portable view of the chest .'</span>, <span style=\"color: #008080; text-decoration-color: #008080; font-weight: bold\">24</span><span style=\"font-weight: bold\">)</span>,\n",
       "    <span style=\"font-weight: bold\">(</span><span style=\"color: #008000; text-decoration-color: #008000\">'single portable view of the chest is compared to previous exam from ___ .'</span>, <span style=\"color: #008080; text-decoration-color: #008080; font-weight: bold\">14</span><span style=\"font-weight: bold\">)</span>,\n",
       "    <span style=\"font-weight: bold\">(</span><span style=\"color: #008000; text-decoration-color: #008000\">'portable ap chest radiograph .'</span>, <span style=\"color: #008080; text-decoration-color: #008080; font-weight: bold\">9</span><span style=\"font-weight: bold\">)</span>,\n",
       "    <span style=\"font-weight: bold\">(</span><span style=\"color: #008000; text-decoration-color: #008000\">'ap portable supine view of the chest .'</span>, <span style=\"color: #008080; text-decoration-color: #008080; font-weight: bold\">8</span><span style=\"font-weight: bold\">)</span>\n",
       "<span style=\"font-weight: bold\">]</span>\n",
       "</pre>\n"
      ],
      "text/plain": [
       "\u001b[1m[\u001b[0m\n",
       "    \u001b[1m(\u001b[0m\u001b[32m'ap portable upright view of the chest .'\u001b[0m, \u001b[1;36m70\u001b[0m\u001b[1m)\u001b[0m,\n",
       "    \u001b[1m(\u001b[0m\u001b[32m'single portable view of the chest .'\u001b[0m, \u001b[1;36m24\u001b[0m\u001b[1m)\u001b[0m,\n",
       "    \u001b[1m(\u001b[0m\u001b[32m'single portable view of the chest is compared to previous exam from ___ .'\u001b[0m, \u001b[1;36m14\u001b[0m\u001b[1m)\u001b[0m,\n",
       "    \u001b[1m(\u001b[0m\u001b[32m'portable ap chest radiograph .'\u001b[0m, \u001b[1;36m9\u001b[0m\u001b[1m)\u001b[0m,\n",
       "    \u001b[1m(\u001b[0m\u001b[32m'ap portable supine view of the chest .'\u001b[0m, \u001b[1;36m8\u001b[0m\u001b[1m)\u001b[0m\n",
       "\u001b[1m]\u001b[0m\n"
      ]
     },
     "metadata": {},
     "output_type": "display_data"
    },
    {
     "data": {
      "text/html": [
       "<pre style=\"white-space:pre;overflow-x:auto;line-height:normal;font-family:Menlo,'DejaVu Sans Mono',consolas,'Courier New',monospace\">Attribute: calcifications\n",
       "</pre>\n"
      ],
      "text/plain": [
       "Attribute: calcifications\n"
      ]
     },
     "metadata": {},
     "output_type": "display_data"
    },
    {
     "data": {
      "text/html": [
       "<pre style=\"white-space:pre;overflow-x:auto;line-height:normal;font-family:Menlo,'DejaVu Sans Mono',consolas,'Courier New',monospace\"><span style=\"font-weight: bold\">[</span>\n",
       "    <span style=\"font-weight: bold\">(</span><span style=\"color: #008000; text-decoration-color: #008000\">'atherosclerotic calcifications noted at the aortic arch .'</span>, <span style=\"color: #008080; text-decoration-color: #008080; font-weight: bold\">11</span><span style=\"font-weight: bold\">)</span>,\n",
       "    <span style=\"font-weight: bold\">(</span><span style=\"color: #008000; text-decoration-color: #008000\">'atherosclerotic calcifications are noted at the aortic arch .'</span>, <span style=\"color: #008080; text-decoration-color: #008080; font-weight: bold\">6</span><span style=\"font-weight: bold\">)</span>,\n",
       "    <span style=\"font-weight: bold\">(</span><span style=\"color: #008000; text-decoration-color: #008000\">'aortic knob calcifications are noted .'</span>, <span style=\"color: #008080; text-decoration-color: #008080; font-weight: bold\">6</span><span style=\"font-weight: bold\">)</span>,\n",
       "    <span style=\"font-weight: bold\">(</span><span style=\"color: #008000; text-decoration-color: #008000\">'atherosclerotic calcifications seen at the aortic arch .'</span>, <span style=\"color: #008080; text-decoration-color: #008080; font-weight: bold\">6</span><span style=\"font-weight: bold\">)</span>,\n",
       "    <span style=\"font-weight: bold\">(</span><span style=\"color: #008000; text-decoration-color: #008000\">'there are aortic knob calcifications .'</span>, <span style=\"color: #008080; text-decoration-color: #008080; font-weight: bold\">5</span><span style=\"font-weight: bold\">)</span>\n",
       "<span style=\"font-weight: bold\">]</span>\n",
       "</pre>\n"
      ],
      "text/plain": [
       "\u001b[1m[\u001b[0m\n",
       "    \u001b[1m(\u001b[0m\u001b[32m'atherosclerotic calcifications noted at the aortic arch .'\u001b[0m, \u001b[1;36m11\u001b[0m\u001b[1m)\u001b[0m,\n",
       "    \u001b[1m(\u001b[0m\u001b[32m'atherosclerotic calcifications are noted at the aortic arch .'\u001b[0m, \u001b[1;36m6\u001b[0m\u001b[1m)\u001b[0m,\n",
       "    \u001b[1m(\u001b[0m\u001b[32m'aortic knob calcifications are noted .'\u001b[0m, \u001b[1;36m6\u001b[0m\u001b[1m)\u001b[0m,\n",
       "    \u001b[1m(\u001b[0m\u001b[32m'atherosclerotic calcifications seen at the aortic arch .'\u001b[0m, \u001b[1;36m6\u001b[0m\u001b[1m)\u001b[0m,\n",
       "    \u001b[1m(\u001b[0m\u001b[32m'there are aortic knob calcifications .'\u001b[0m, \u001b[1;36m5\u001b[0m\u001b[1m)\u001b[0m\n",
       "\u001b[1m]\u001b[0m\n"
      ]
     },
     "metadata": {},
     "output_type": "display_data"
    },
    {
     "data": {
      "text/html": [
       "<pre style=\"white-space:pre;overflow-x:auto;line-height:normal;font-family:Menlo,'DejaVu Sans Mono',consolas,'Courier New',monospace\">Attribute: consolidation\n",
       "</pre>\n"
      ],
      "text/plain": [
       "Attribute: consolidation\n"
      ]
     },
     "metadata": {},
     "output_type": "display_data"
    },
    {
     "data": {
      "text/html": [
       "<pre style=\"white-space:pre;overflow-x:auto;line-height:normal;font-family:Menlo,'DejaVu Sans Mono',consolas,'Courier New',monospace\"><span style=\"font-weight: bold\">[</span>\n",
       "    <span style=\"font-weight: bold\">(</span><span style=\"color: #008000; text-decoration-color: #008000\">'no focal consolidation .'</span>, <span style=\"color: #008080; text-decoration-color: #008080; font-weight: bold\">3</span><span style=\"font-weight: bold\">)</span>,\n",
       "    <span style=\"font-weight: bold\">(</span><span style=\"color: #008000; text-decoration-color: #008000\">'left lower lobe consolidation is worrisome for pneumonia .'</span>, <span style=\"color: #008080; text-decoration-color: #008080; font-weight: bold\">3</span><span style=\"font-weight: bold\">)</span>,\n",
       "    <span style=\"font-weight: bold\">(</span><span style=\"color: #008000; text-decoration-color: #008000\">'stable left lower lobe consolidation .'</span>, <span style=\"color: #008080; text-decoration-color: #008080; font-weight: bold\">2</span><span style=\"font-weight: bold\">)</span>,\n",
       "    <span style=\"font-weight: bold\">(</span><span style=\"color: #008000; text-decoration-color: #008000\">'there is no definite focal consolidation .'</span>, <span style=\"color: #008080; text-decoration-color: #008080; font-weight: bold\">2</span><span style=\"font-weight: bold\">)</span>,\n",
       "    <span style=\"font-weight: bold\">(</span><span style=\"color: #008000; text-decoration-color: #008000\">'underlying consolidation cannot be excluded .'</span>, <span style=\"color: #008080; text-decoration-color: #008080; font-weight: bold\">2</span><span style=\"font-weight: bold\">)</span>\n",
       "<span style=\"font-weight: bold\">]</span>\n",
       "</pre>\n"
      ],
      "text/plain": [
       "\u001b[1m[\u001b[0m\n",
       "    \u001b[1m(\u001b[0m\u001b[32m'no focal consolidation .'\u001b[0m, \u001b[1;36m3\u001b[0m\u001b[1m)\u001b[0m,\n",
       "    \u001b[1m(\u001b[0m\u001b[32m'left lower lobe consolidation is worrisome for pneumonia .'\u001b[0m, \u001b[1;36m3\u001b[0m\u001b[1m)\u001b[0m,\n",
       "    \u001b[1m(\u001b[0m\u001b[32m'stable left lower lobe consolidation .'\u001b[0m, \u001b[1;36m2\u001b[0m\u001b[1m)\u001b[0m,\n",
       "    \u001b[1m(\u001b[0m\u001b[32m'there is no definite focal consolidation .'\u001b[0m, \u001b[1;36m2\u001b[0m\u001b[1m)\u001b[0m,\n",
       "    \u001b[1m(\u001b[0m\u001b[32m'underlying consolidation cannot be excluded .'\u001b[0m, \u001b[1;36m2\u001b[0m\u001b[1m)\u001b[0m\n",
       "\u001b[1m]\u001b[0m\n"
      ]
     },
     "metadata": {},
     "output_type": "display_data"
    },
    {
     "data": {
      "text/html": [
       "<pre style=\"white-space:pre;overflow-x:auto;line-height:normal;font-family:Menlo,'DejaVu Sans Mono',consolas,'Courier New',monospace\">Attribute: pneumothorax\n",
       "</pre>\n"
      ],
      "text/plain": [
       "Attribute: pneumothorax\n"
      ]
     },
     "metadata": {},
     "output_type": "display_data"
    },
    {
     "data": {
      "text/html": [
       "<pre style=\"white-space:pre;overflow-x:auto;line-height:normal;font-family:Menlo,'DejaVu Sans Mono',consolas,'Courier New',monospace\"><span style=\"font-weight: bold\">[</span>\n",
       "    <span style=\"font-weight: bold\">(</span><span style=\"color: #008000; text-decoration-color: #008000\">'persistent small right apical pneumothorax .'</span>, <span style=\"color: #008080; text-decoration-color: #008080; font-weight: bold\">3</span><span style=\"font-weight: bold\">)</span>,\n",
       "    <span style=\"font-weight: bold\">(</span><span style=\"color: #008000; text-decoration-color: #008000\">'there is a small right apical pneumothorax .'</span>, <span style=\"color: #008080; text-decoration-color: #008080; font-weight: bold\">2</span><span style=\"font-weight: bold\">)</span>,\n",
       "    <span style=\"font-weight: bold\">(</span><span style=\"color: #008000; text-decoration-color: #008000\">'a small left - sided apical pneumothorax remains .'</span>, <span style=\"color: #008080; text-decoration-color: #008080; font-weight: bold\">2</span><span style=\"font-weight: bold\">)</span>,\n",
       "    <span style=\"font-weight: bold\">(</span><span style=\"color: #008000; text-decoration-color: #008000\">'stable small right apical pneumothorax .'</span>, <span style=\"color: #008080; text-decoration-color: #008080; font-weight: bold\">2</span><span style=\"font-weight: bold\">)</span>,\n",
       "    <span style=\"font-weight: bold\">(</span><span style=\"color: #008000; text-decoration-color: #008000\">'there is a small left apical pneumothorax .'</span>, <span style=\"color: #008080; text-decoration-color: #008080; font-weight: bold\">2</span><span style=\"font-weight: bold\">)</span>\n",
       "<span style=\"font-weight: bold\">]</span>\n",
       "</pre>\n"
      ],
      "text/plain": [
       "\u001b[1m[\u001b[0m\n",
       "    \u001b[1m(\u001b[0m\u001b[32m'persistent small right apical pneumothorax .'\u001b[0m, \u001b[1;36m3\u001b[0m\u001b[1m)\u001b[0m,\n",
       "    \u001b[1m(\u001b[0m\u001b[32m'there is a small right apical pneumothorax .'\u001b[0m, \u001b[1;36m2\u001b[0m\u001b[1m)\u001b[0m,\n",
       "    \u001b[1m(\u001b[0m\u001b[32m'a small left - sided apical pneumothorax remains .'\u001b[0m, \u001b[1;36m2\u001b[0m\u001b[1m)\u001b[0m,\n",
       "    \u001b[1m(\u001b[0m\u001b[32m'stable small right apical pneumothorax .'\u001b[0m, \u001b[1;36m2\u001b[0m\u001b[1m)\u001b[0m,\n",
       "    \u001b[1m(\u001b[0m\u001b[32m'there is a small left apical pneumothorax .'\u001b[0m, \u001b[1;36m2\u001b[0m\u001b[1m)\u001b[0m\n",
       "\u001b[1m]\u001b[0m\n"
      ]
     },
     "metadata": {},
     "output_type": "display_data"
    },
    {
     "data": {
      "text/html": [
       "<pre style=\"white-space:pre;overflow-x:auto;line-height:normal;font-family:Menlo,'DejaVu Sans Mono',consolas,'Courier New',monospace\">Attribute: wires\n",
       "</pre>\n"
      ],
      "text/plain": [
       "Attribute: wires\n"
      ]
     },
     "metadata": {},
     "output_type": "display_data"
    },
    {
     "data": {
      "text/html": [
       "<pre style=\"white-space:pre;overflow-x:auto;line-height:normal;font-family:Menlo,'DejaVu Sans Mono',consolas,'Courier New',monospace\"><span style=\"font-weight: bold\">[</span>\n",
       "    <span style=\"font-weight: bold\">(</span><span style=\"color: #008000; text-decoration-color: #008000\">'median sternotomy wires are intact .'</span>, <span style=\"color: #008080; text-decoration-color: #008080; font-weight: bold\">22</span><span style=\"font-weight: bold\">)</span>,\n",
       "    <span style=\"font-weight: bold\">(</span><span style=\"color: #008000; text-decoration-color: #008000\">'midline sternotomy wires and mediastinal clips are again noted .'</span>, <span style=\"color: #008080; text-decoration-color: #008080; font-weight: bold\">15</span><span style=\"font-weight: bold\">)</span>,\n",
       "    <span style=\"font-weight: bold\">(</span><span style=\"color: #008000; text-decoration-color: #008000\">'sternotomy wires are intact .'</span>, <span style=\"color: #008080; text-decoration-color: #008080; font-weight: bold\">12</span><span style=\"font-weight: bold\">)</span>,\n",
       "    <span style=\"font-weight: bold\">(</span><span style=\"color: #008000; text-decoration-color: #008000\">'sternal wires are intact .'</span>, <span style=\"color: #008080; text-decoration-color: #008080; font-weight: bold\">6</span><span style=\"font-weight: bold\">)</span>,\n",
       "    <span style=\"font-weight: bold\">(</span><span style=\"color: #008000; text-decoration-color: #008000\">'median sternotomy wires and mediastinal clips are noted .'</span>, <span style=\"color: #008080; text-decoration-color: #008080; font-weight: bold\">5</span><span style=\"font-weight: bold\">)</span>\n",
       "<span style=\"font-weight: bold\">]</span>\n",
       "</pre>\n"
      ],
      "text/plain": [
       "\u001b[1m[\u001b[0m\n",
       "    \u001b[1m(\u001b[0m\u001b[32m'median sternotomy wires are intact .'\u001b[0m, \u001b[1;36m22\u001b[0m\u001b[1m)\u001b[0m,\n",
       "    \u001b[1m(\u001b[0m\u001b[32m'midline sternotomy wires and mediastinal clips are again noted .'\u001b[0m, \u001b[1;36m15\u001b[0m\u001b[1m)\u001b[0m,\n",
       "    \u001b[1m(\u001b[0m\u001b[32m'sternotomy wires are intact .'\u001b[0m, \u001b[1;36m12\u001b[0m\u001b[1m)\u001b[0m,\n",
       "    \u001b[1m(\u001b[0m\u001b[32m'sternal wires are intact .'\u001b[0m, \u001b[1;36m6\u001b[0m\u001b[1m)\u001b[0m,\n",
       "    \u001b[1m(\u001b[0m\u001b[32m'median sternotomy wires and mediastinal clips are noted .'\u001b[0m, \u001b[1;36m5\u001b[0m\u001b[1m)\u001b[0m\n",
       "\u001b[1m]\u001b[0m\n"
      ]
     },
     "metadata": {},
     "output_type": "display_data"
    },
    {
     "data": {
      "text/html": [
       "<pre style=\"white-space:pre;overflow-x:auto;line-height:normal;font-family:Menlo,'DejaVu Sans Mono',consolas,'Courier New',monospace\">Attribute: picc\n",
       "</pre>\n"
      ],
      "text/plain": [
       "Attribute: picc\n"
      ]
     },
     "metadata": {},
     "output_type": "display_data"
    },
    {
     "data": {
      "text/html": [
       "<pre style=\"white-space:pre;overflow-x:auto;line-height:normal;font-family:Menlo,'DejaVu Sans Mono',consolas,'Courier New',monospace\"><span style=\"font-weight: bold\">[</span>\n",
       "    <span style=\"font-weight: bold\">(</span><span style=\"color: #008000; text-decoration-color: #008000\">'left picc tip terminates in the mid svc .'</span>, <span style=\"color: #008080; text-decoration-color: #008080; font-weight: bold\">3</span><span style=\"font-weight: bold\">)</span>,\n",
       "    <span style=\"font-weight: bold\">(</span><span style=\"color: #008000; text-decoration-color: #008000\">'left subclavian picc line unchanged in position .'</span>, <span style=\"color: #008080; text-decoration-color: #008080; font-weight: bold\">2</span><span style=\"font-weight: bold\">)</span>,\n",
       "    <span style=\"font-weight: bold\">(</span><span style=\"color: #008000; text-decoration-color: #008000\">'right - sided picc line in situ with the tip in the mid svc .'</span>, <span style=\"color: #008080; text-decoration-color: #008080; font-weight: bold\">2</span><span style=\"font-weight: bold\">)</span>,\n",
       "    <span style=\"font-weight: bold\">(</span><span style=\"color: #008000; text-decoration-color: #008000\">'the tip of the right picc line projects over the mid svc .'</span>, <span style=\"color: #008080; text-decoration-color: #008080; font-weight: bold\">2</span><span style=\"font-weight: bold\">)</span>,\n",
       "    <span style=\"font-weight: bold\">(</span><span style=\"color: #008000; text-decoration-color: #008000\">'right - sided picc terminates in the low svc .'</span>, <span style=\"color: #008080; text-decoration-color: #008080; font-weight: bold\">2</span><span style=\"font-weight: bold\">)</span>\n",
       "<span style=\"font-weight: bold\">]</span>\n",
       "</pre>\n"
      ],
      "text/plain": [
       "\u001b[1m[\u001b[0m\n",
       "    \u001b[1m(\u001b[0m\u001b[32m'left picc tip terminates in the mid svc .'\u001b[0m, \u001b[1;36m3\u001b[0m\u001b[1m)\u001b[0m,\n",
       "    \u001b[1m(\u001b[0m\u001b[32m'left subclavian picc line unchanged in position .'\u001b[0m, \u001b[1;36m2\u001b[0m\u001b[1m)\u001b[0m,\n",
       "    \u001b[1m(\u001b[0m\u001b[32m'right - sided picc line in situ with the tip in the mid svc .'\u001b[0m, \u001b[1;36m2\u001b[0m\u001b[1m)\u001b[0m,\n",
       "    \u001b[1m(\u001b[0m\u001b[32m'the tip of the right picc line projects over the mid svc .'\u001b[0m, \u001b[1;36m2\u001b[0m\u001b[1m)\u001b[0m,\n",
       "    \u001b[1m(\u001b[0m\u001b[32m'right - sided picc terminates in the low svc .'\u001b[0m, \u001b[1;36m2\u001b[0m\u001b[1m)\u001b[0m\n",
       "\u001b[1m]\u001b[0m\n"
      ]
     },
     "metadata": {},
     "output_type": "display_data"
    },
    {
     "data": {
      "text/html": [
       "<pre style=\"white-space:pre;overflow-x:auto;line-height:normal;font-family:Menlo,'DejaVu Sans Mono',consolas,'Courier New',monospace\">Attribute: endotracheal\n",
       "</pre>\n"
      ],
      "text/plain": [
       "Attribute: endotracheal\n"
      ]
     },
     "metadata": {},
     "output_type": "display_data"
    },
    {
     "data": {
      "text/html": [
       "<pre style=\"white-space:pre;overflow-x:auto;line-height:normal;font-family:Menlo,'DejaVu Sans Mono',consolas,'Courier New',monospace\"><span style=\"font-weight: bold\">[</span>\n",
       "    <span style=\"font-weight: bold\">(</span><span style=\"color: #008000; text-decoration-color: #008000\">'endotracheal tube in appropriate position .'</span>, <span style=\"color: #008080; text-decoration-color: #008080; font-weight: bold\">7</span><span style=\"font-weight: bold\">)</span>,\n",
       "    <span style=\"font-weight: bold\">(</span><span style=\"color: #008000; text-decoration-color: #008000\">'endotracheal tube terminates 4 .'</span>, <span style=\"color: #008080; text-decoration-color: #008080; font-weight: bold\">6</span><span style=\"font-weight: bold\">)</span>,\n",
       "    <span style=\"font-weight: bold\">(</span><span style=\"color: #008000; text-decoration-color: #008000\">'the tip of the endotracheal tube projects 2 .'</span>, <span style=\"color: #008080; text-decoration-color: #008080; font-weight: bold\">5</span><span style=\"font-weight: bold\">)</span>,\n",
       "    <span style=\"font-weight: bold\">(</span><span style=\"color: #008000; text-decoration-color: #008000\">'standard positioning of the endotracheal and enteric tubes .'</span>, <span style=\"color: #008080; text-decoration-color: #008080; font-weight: bold\">5</span><span style=\"font-weight: bold\">)</span>,\n",
       "    <span style=\"font-weight: bold\">(</span><span style=\"color: #008000; text-decoration-color: #008000\">'endotracheal tube in standard position .'</span>, <span style=\"color: #008080; text-decoration-color: #008080; font-weight: bold\">5</span><span style=\"font-weight: bold\">)</span>\n",
       "<span style=\"font-weight: bold\">]</span>\n",
       "</pre>\n"
      ],
      "text/plain": [
       "\u001b[1m[\u001b[0m\n",
       "    \u001b[1m(\u001b[0m\u001b[32m'endotracheal tube in appropriate position .'\u001b[0m, \u001b[1;36m7\u001b[0m\u001b[1m)\u001b[0m,\n",
       "    \u001b[1m(\u001b[0m\u001b[32m'endotracheal tube terminates 4 .'\u001b[0m, \u001b[1;36m6\u001b[0m\u001b[1m)\u001b[0m,\n",
       "    \u001b[1m(\u001b[0m\u001b[32m'the tip of the endotracheal tube projects 2 .'\u001b[0m, \u001b[1;36m5\u001b[0m\u001b[1m)\u001b[0m,\n",
       "    \u001b[1m(\u001b[0m\u001b[32m'standard positioning of the endotracheal and enteric tubes .'\u001b[0m, \u001b[1;36m5\u001b[0m\u001b[1m)\u001b[0m,\n",
       "    \u001b[1m(\u001b[0m\u001b[32m'endotracheal tube in standard position .'\u001b[0m, \u001b[1;36m5\u001b[0m\u001b[1m)\u001b[0m\n",
       "\u001b[1m]\u001b[0m\n"
      ]
     },
     "metadata": {},
     "output_type": "display_data"
    },
    {
     "data": {
      "text/html": [
       "<pre style=\"white-space:pre;overflow-x:auto;line-height:normal;font-family:Menlo,'DejaVu Sans Mono',consolas,'Courier New',monospace\">Attribute: improvement\n",
       "</pre>\n"
      ],
      "text/plain": [
       "Attribute: improvement\n"
      ]
     },
     "metadata": {},
     "output_type": "display_data"
    },
    {
     "data": {
      "text/html": [
       "<pre style=\"white-space:pre;overflow-x:auto;line-height:normal;font-family:Menlo,'DejaVu Sans Mono',consolas,'Courier New',monospace\"><span style=\"font-weight: bold\">[</span>\n",
       "    <span style=\"font-weight: bold\">(</span><span style=\"color: #008000; text-decoration-color: #008000\">'interval mild improvement .'</span>, <span style=\"color: #008080; text-decoration-color: #008080; font-weight: bold\">3</span><span style=\"font-weight: bold\">)</span>,\n",
       "    <span style=\"font-weight: bold\">(</span><span style=\"color: #008000; text-decoration-color: #008000\">'interval improvement in mild pulmonary edema .'</span>, <span style=\"color: #008080; text-decoration-color: #008080; font-weight: bold\">2</span><span style=\"font-weight: bold\">)</span>,\n",
       "    <span style=\"font-weight: bold\">(</span><span style=\"color: #008000; text-decoration-color: #008000\">'interval improvement .'</span>, <span style=\"color: #008080; text-decoration-color: #008080; font-weight: bold\">2</span><span style=\"font-weight: bold\">)</span>,\n",
       "    <span style=\"font-weight: bold\">(</span>\n",
       "        <span style=\"color: #008000; text-decoration-color: #008000\">'mild improvement in left lower lobe atelectasis , moderate left pleural effusion , and small right pleural</span>\n",
       "<span style=\"color: #008000; text-decoration-color: #008000\">effusion .'</span>,\n",
       "        <span style=\"color: #008080; text-decoration-color: #008080; font-weight: bold\">2</span>\n",
       "    <span style=\"font-weight: bold\">)</span>,\n",
       "    <span style=\"font-weight: bold\">(</span><span style=\"color: #008000; text-decoration-color: #008000\">'possible minimal improvement in right lower lobe atelectasis .'</span>, <span style=\"color: #008080; text-decoration-color: #008080; font-weight: bold\">1</span><span style=\"font-weight: bold\">)</span>\n",
       "<span style=\"font-weight: bold\">]</span>\n",
       "</pre>\n"
      ],
      "text/plain": [
       "\u001b[1m[\u001b[0m\n",
       "    \u001b[1m(\u001b[0m\u001b[32m'interval mild improvement .'\u001b[0m, \u001b[1;36m3\u001b[0m\u001b[1m)\u001b[0m,\n",
       "    \u001b[1m(\u001b[0m\u001b[32m'interval improvement in mild pulmonary edema .'\u001b[0m, \u001b[1;36m2\u001b[0m\u001b[1m)\u001b[0m,\n",
       "    \u001b[1m(\u001b[0m\u001b[32m'interval improvement .'\u001b[0m, \u001b[1;36m2\u001b[0m\u001b[1m)\u001b[0m,\n",
       "    \u001b[1m(\u001b[0m\n",
       "        \u001b[32m'mild improvement in left lower lobe atelectasis , moderate left pleural effusion , and small right pleural\u001b[0m\n",
       "\u001b[32meffusion .'\u001b[0m,\n",
       "        \u001b[1;36m2\u001b[0m\n",
       "    \u001b[1m)\u001b[0m,\n",
       "    \u001b[1m(\u001b[0m\u001b[32m'possible minimal improvement in right lower lobe atelectasis .'\u001b[0m, \u001b[1;36m1\u001b[0m\u001b[1m)\u001b[0m\n",
       "\u001b[1m]\u001b[0m\n"
      ]
     },
     "metadata": {},
     "output_type": "display_data"
    },
    {
     "data": {
      "text/html": [
       "<pre style=\"white-space:pre;overflow-x:auto;line-height:normal;font-family:Menlo,'DejaVu Sans Mono',consolas,'Courier New',monospace\">Attribute: prominence\n",
       "</pre>\n"
      ],
      "text/plain": [
       "Attribute: prominence\n"
      ]
     },
     "metadata": {},
     "output_type": "display_data"
    },
    {
     "data": {
      "text/html": [
       "<pre style=\"white-space:pre;overflow-x:auto;line-height:normal;font-family:Menlo,'DejaVu Sans Mono',consolas,'Courier New',monospace\"><span style=\"font-weight: bold\">[</span>\n",
       "    <span style=\"font-weight: bold\">(</span>\n",
       "        <span style=\"color: #008000; text-decoration-color: #008000\">'frontal and lateral chest radiographs demonstrate low lung volumes , with increased prominence of the </span>\n",
       "<span style=\"color: #008000; text-decoration-color: #008000\">cardiac silhouette and bronchovascular crowding .'</span>,\n",
       "        <span style=\"color: #008080; text-decoration-color: #008080; font-weight: bold\">2</span>\n",
       "    <span style=\"font-weight: bold\">)</span>,\n",
       "    <span style=\"font-weight: bold\">(</span><span style=\"color: #008000; text-decoration-color: #008000\">'mild prominence of the central vascular structures may reflect mild fluid overload .'</span>, <span style=\"color: #008080; text-decoration-color: #008080; font-weight: bold\">2</span><span style=\"font-weight: bold\">)</span>,\n",
       "    <span style=\"font-weight: bold\">(</span><span style=\"color: #008000; text-decoration-color: #008000\">'prominence of the right hilum is stable .'</span>, <span style=\"color: #008080; text-decoration-color: #008080; font-weight: bold\">2</span><span style=\"font-weight: bold\">)</span>,\n",
       "    <span style=\"font-weight: bold\">(</span><span style=\"color: #008000; text-decoration-color: #008000\">'prominence of the left hilum is again seen .'</span>, <span style=\"color: #008080; text-decoration-color: #008080; font-weight: bold\">2</span><span style=\"font-weight: bold\">)</span>,\n",
       "    <span style=\"font-weight: bold\">(</span>\n",
       "        <span style=\"color: #008000; text-decoration-color: #008000\">'again seen slight prominence at the ap window could be due to underlying lymph node or mildly prominent </span>\n",
       "<span style=\"color: #008000; text-decoration-color: #008000\">pulmonary artery .'</span>,\n",
       "        <span style=\"color: #008080; text-decoration-color: #008080; font-weight: bold\">2</span>\n",
       "    <span style=\"font-weight: bold\">)</span>\n",
       "<span style=\"font-weight: bold\">]</span>\n",
       "</pre>\n"
      ],
      "text/plain": [
       "\u001b[1m[\u001b[0m\n",
       "    \u001b[1m(\u001b[0m\n",
       "        \u001b[32m'frontal and lateral chest radiographs demonstrate low lung volumes , with increased prominence of the \u001b[0m\n",
       "\u001b[32mcardiac silhouette and bronchovascular crowding .'\u001b[0m,\n",
       "        \u001b[1;36m2\u001b[0m\n",
       "    \u001b[1m)\u001b[0m,\n",
       "    \u001b[1m(\u001b[0m\u001b[32m'mild prominence of the central vascular structures may reflect mild fluid overload .'\u001b[0m, \u001b[1;36m2\u001b[0m\u001b[1m)\u001b[0m,\n",
       "    \u001b[1m(\u001b[0m\u001b[32m'prominence of the right hilum is stable .'\u001b[0m, \u001b[1;36m2\u001b[0m\u001b[1m)\u001b[0m,\n",
       "    \u001b[1m(\u001b[0m\u001b[32m'prominence of the left hilum is again seen .'\u001b[0m, \u001b[1;36m2\u001b[0m\u001b[1m)\u001b[0m,\n",
       "    \u001b[1m(\u001b[0m\n",
       "        \u001b[32m'again seen slight prominence at the ap window could be due to underlying lymph node or mildly prominent \u001b[0m\n",
       "\u001b[32mpulmonary artery .'\u001b[0m,\n",
       "        \u001b[1;36m2\u001b[0m\n",
       "    \u001b[1m)\u001b[0m\n",
       "\u001b[1m]\u001b[0m\n"
      ]
     },
     "metadata": {},
     "output_type": "display_data"
    },
    {
     "data": {
      "text/html": [
       "<pre style=\"white-space:pre;overflow-x:auto;line-height:normal;font-family:Menlo,'DejaVu Sans Mono',consolas,'Courier New',monospace\">Attribute: elevation\n",
       "</pre>\n"
      ],
      "text/plain": [
       "Attribute: elevation\n"
      ]
     },
     "metadata": {},
     "output_type": "display_data"
    },
    {
     "data": {
      "text/html": [
       "<pre style=\"white-space:pre;overflow-x:auto;line-height:normal;font-family:Menlo,'DejaVu Sans Mono',consolas,'Courier New',monospace\"><span style=\"font-weight: bold\">[</span>\n",
       "    <span style=\"font-weight: bold\">(</span><span style=\"color: #008000; text-decoration-color: #008000\">'elevation of the right hemidiaphragm is unchanged .'</span>, <span style=\"color: #008080; text-decoration-color: #008080; font-weight: bold\">6</span><span style=\"font-weight: bold\">)</span>,\n",
       "    <span style=\"font-weight: bold\">(</span><span style=\"color: #008000; text-decoration-color: #008000\">'there is persistent elevation of the right hemidiaphragm .'</span>, <span style=\"color: #008080; text-decoration-color: #008080; font-weight: bold\">5</span><span style=\"font-weight: bold\">)</span>,\n",
       "    <span style=\"font-weight: bold\">(</span><span style=\"color: #008000; text-decoration-color: #008000\">'elevation of the right hemidiaphragm is chronic .'</span>, <span style=\"color: #008080; text-decoration-color: #008080; font-weight: bold\">4</span><span style=\"font-weight: bold\">)</span>,\n",
       "    <span style=\"font-weight: bold\">(</span><span style=\"color: #008000; text-decoration-color: #008000\">'persistent elevation of the right hemidiaphragm .'</span>, <span style=\"color: #008080; text-decoration-color: #008080; font-weight: bold\">4</span><span style=\"font-weight: bold\">)</span>,\n",
       "    <span style=\"font-weight: bold\">(</span><span style=\"color: #008000; text-decoration-color: #008000\">'there is mild elevation of the right hemidiaphragm .'</span>, <span style=\"color: #008080; text-decoration-color: #008080; font-weight: bold\">4</span><span style=\"font-weight: bold\">)</span>\n",
       "<span style=\"font-weight: bold\">]</span>\n",
       "</pre>\n"
      ],
      "text/plain": [
       "\u001b[1m[\u001b[0m\n",
       "    \u001b[1m(\u001b[0m\u001b[32m'elevation of the right hemidiaphragm is unchanged .'\u001b[0m, \u001b[1;36m6\u001b[0m\u001b[1m)\u001b[0m,\n",
       "    \u001b[1m(\u001b[0m\u001b[32m'there is persistent elevation of the right hemidiaphragm .'\u001b[0m, \u001b[1;36m5\u001b[0m\u001b[1m)\u001b[0m,\n",
       "    \u001b[1m(\u001b[0m\u001b[32m'elevation of the right hemidiaphragm is chronic .'\u001b[0m, \u001b[1;36m4\u001b[0m\u001b[1m)\u001b[0m,\n",
       "    \u001b[1m(\u001b[0m\u001b[32m'persistent elevation of the right hemidiaphragm .'\u001b[0m, \u001b[1;36m4\u001b[0m\u001b[1m)\u001b[0m,\n",
       "    \u001b[1m(\u001b[0m\u001b[32m'there is mild elevation of the right hemidiaphragm .'\u001b[0m, \u001b[1;36m4\u001b[0m\u001b[1m)\u001b[0m\n",
       "\u001b[1m]\u001b[0m\n"
      ]
     },
     "metadata": {},
     "output_type": "display_data"
    },
    {
     "data": {
      "text/html": [
       "<pre style=\"white-space:pre;overflow-x:auto;line-height:normal;font-family:Menlo,'DejaVu Sans Mono',consolas,'Courier New',monospace\">Attribute: markings\n",
       "</pre>\n"
      ],
      "text/plain": [
       "Attribute: markings\n"
      ]
     },
     "metadata": {},
     "output_type": "display_data"
    },
    {
     "data": {
      "text/html": [
       "<pre style=\"white-space:pre;overflow-x:auto;line-height:normal;font-family:Menlo,'DejaVu Sans Mono',consolas,'Courier New',monospace\"><span style=\"font-weight: bold\">[</span>\n",
       "    <span style=\"font-weight: bold\">(</span>\n",
       "        <span style=\"color: #008000; text-decoration-color: #008000\">'frontal and lateral views of the chest demonstrate low lung volumes , which accentuate bronchovascular </span>\n",
       "<span style=\"color: #008000; text-decoration-color: #008000\">markings .'</span>,\n",
       "        <span style=\"color: #008080; text-decoration-color: #008080; font-weight: bold\">4</span>\n",
       "    <span style=\"font-weight: bold\">)</span>,\n",
       "    <span style=\"font-weight: bold\">(</span><span style=\"color: #008000; text-decoration-color: #008000\">'there are relatively low lung volumes , which accentuate the bronchovascular markings .'</span>, <span style=\"color: #008080; text-decoration-color: #008080; font-weight: bold\">2</span><span style=\"font-weight: bold\">)</span>,\n",
       "    <span style=\"font-weight: bold\">(</span>\n",
       "        <span style=\"color: #008000; text-decoration-color: #008000\">'there are increased lung markings in the right lower lobe and left upper lobe with a slightly nodular </span>\n",
       "<span style=\"color: #008000; text-decoration-color: #008000\">pattern of unclear etiology .'</span>,\n",
       "        <span style=\"color: #008080; text-decoration-color: #008080; font-weight: bold\">2</span>\n",
       "    <span style=\"font-weight: bold\">)</span>,\n",
       "    <span style=\"font-weight: bold\">(</span><span style=\"color: #008000; text-decoration-color: #008000\">'there is secondary crowding of the bronchovascular markings .'</span>, <span style=\"color: #008080; text-decoration-color: #008080; font-weight: bold\">2</span><span style=\"font-weight: bold\">)</span>,\n",
       "    <span style=\"font-weight: bold\">(</span>\n",
       "        <span style=\"color: #008000; text-decoration-color: #008000\">'mild increased interstitial markings and engorged pulmonary vasculature suggest mild interstitial </span>\n",
       "<span style=\"color: #008000; text-decoration-color: #008000\">pulmonary edema .'</span>,\n",
       "        <span style=\"color: #008080; text-decoration-color: #008080; font-weight: bold\">2</span>\n",
       "    <span style=\"font-weight: bold\">)</span>\n",
       "<span style=\"font-weight: bold\">]</span>\n",
       "</pre>\n"
      ],
      "text/plain": [
       "\u001b[1m[\u001b[0m\n",
       "    \u001b[1m(\u001b[0m\n",
       "        \u001b[32m'frontal and lateral views of the chest demonstrate low lung volumes , which accentuate bronchovascular \u001b[0m\n",
       "\u001b[32mmarkings .'\u001b[0m,\n",
       "        \u001b[1;36m4\u001b[0m\n",
       "    \u001b[1m)\u001b[0m,\n",
       "    \u001b[1m(\u001b[0m\u001b[32m'there are relatively low lung volumes , which accentuate the bronchovascular markings .'\u001b[0m, \u001b[1;36m2\u001b[0m\u001b[1m)\u001b[0m,\n",
       "    \u001b[1m(\u001b[0m\n",
       "        \u001b[32m'there are increased lung markings in the right lower lobe and left upper lobe with a slightly nodular \u001b[0m\n",
       "\u001b[32mpattern of unclear etiology .'\u001b[0m,\n",
       "        \u001b[1;36m2\u001b[0m\n",
       "    \u001b[1m)\u001b[0m,\n",
       "    \u001b[1m(\u001b[0m\u001b[32m'there is secondary crowding of the bronchovascular markings .'\u001b[0m, \u001b[1;36m2\u001b[0m\u001b[1m)\u001b[0m,\n",
       "    \u001b[1m(\u001b[0m\n",
       "        \u001b[32m'mild increased interstitial markings and engorged pulmonary vasculature suggest mild interstitial \u001b[0m\n",
       "\u001b[32mpulmonary edema .'\u001b[0m,\n",
       "        \u001b[1;36m2\u001b[0m\n",
       "    \u001b[1m)\u001b[0m\n",
       "\u001b[1m]\u001b[0m\n"
      ]
     },
     "metadata": {},
     "output_type": "display_data"
    },
    {
     "data": {
      "text/html": [
       "<pre style=\"white-space:pre;overflow-x:auto;line-height:normal;font-family:Menlo,'DejaVu Sans Mono',consolas,'Courier New',monospace\">Attribute: increase\n",
       "</pre>\n"
      ],
      "text/plain": [
       "Attribute: increase\n"
      ]
     },
     "metadata": {},
     "output_type": "display_data"
    },
    {
     "data": {
      "text/html": [
       "<pre style=\"white-space:pre;overflow-x:auto;line-height:normal;font-family:Menlo,'DejaVu Sans Mono',consolas,'Courier New',monospace\"><span style=\"font-weight: bold\">[</span>\n",
       "    <span style=\"font-weight: bold\">(</span><span style=\"color: #008000; text-decoration-color: #008000\">'increased heart size is stable .'</span>, <span style=\"color: #008080; text-decoration-color: #008080; font-weight: bold\">2</span><span style=\"font-weight: bold\">)</span>,\n",
       "    <span style=\"font-weight: bold\">(</span>\n",
       "        <span style=\"color: #008000; text-decoration-color: #008000\">'frontal and lateral chest radiographs demonstrate low lung volumes , with increased prominence of the </span>\n",
       "<span style=\"color: #008000; text-decoration-color: #008000\">cardiac silhouette and bronchovascular crowding .'</span>,\n",
       "        <span style=\"color: #008080; text-decoration-color: #008080; font-weight: bold\">2</span>\n",
       "    <span style=\"font-weight: bold\">)</span>,\n",
       "    <span style=\"font-weight: bold\">(</span><span style=\"color: #008000; text-decoration-color: #008000\">'increased heart size , pulmonary vascularity , stable .'</span>, <span style=\"color: #008080; text-decoration-color: #008080; font-weight: bold\">2</span><span style=\"font-weight: bold\">)</span>,\n",
       "    <span style=\"font-weight: bold\">(</span>\n",
       "        <span style=\"color: #008000; text-decoration-color: #008000\">'additionally there is a subtle increased opacity within the right mid lungfield , which may represent a </span>\n",
       "<span style=\"color: #008000; text-decoration-color: #008000\">second site of infection .'</span>,\n",
       "        <span style=\"color: #008080; text-decoration-color: #008080; font-weight: bold\">2</span>\n",
       "    <span style=\"font-weight: bold\">)</span>,\n",
       "    <span style=\"font-weight: bold\">(</span><span style=\"color: #008000; text-decoration-color: #008000\">'mild pulmonary edema is increased .'</span>, <span style=\"color: #008080; text-decoration-color: #008080; font-weight: bold\">2</span><span style=\"font-weight: bold\">)</span>\n",
       "<span style=\"font-weight: bold\">]</span>\n",
       "</pre>\n"
      ],
      "text/plain": [
       "\u001b[1m[\u001b[0m\n",
       "    \u001b[1m(\u001b[0m\u001b[32m'increased heart size is stable .'\u001b[0m, \u001b[1;36m2\u001b[0m\u001b[1m)\u001b[0m,\n",
       "    \u001b[1m(\u001b[0m\n",
       "        \u001b[32m'frontal and lateral chest radiographs demonstrate low lung volumes , with increased prominence of the \u001b[0m\n",
       "\u001b[32mcardiac silhouette and bronchovascular crowding .'\u001b[0m,\n",
       "        \u001b[1;36m2\u001b[0m\n",
       "    \u001b[1m)\u001b[0m,\n",
       "    \u001b[1m(\u001b[0m\u001b[32m'increased heart size , pulmonary vascularity , stable .'\u001b[0m, \u001b[1;36m2\u001b[0m\u001b[1m)\u001b[0m,\n",
       "    \u001b[1m(\u001b[0m\n",
       "        \u001b[32m'additionally there is a subtle increased opacity within the right mid lungfield , which may represent a \u001b[0m\n",
       "\u001b[32msecond site of infection .'\u001b[0m,\n",
       "        \u001b[1;36m2\u001b[0m\n",
       "    \u001b[1m)\u001b[0m,\n",
       "    \u001b[1m(\u001b[0m\u001b[32m'mild pulmonary edema is increased .'\u001b[0m, \u001b[1;36m2\u001b[0m\u001b[1m)\u001b[0m\n",
       "\u001b[1m]\u001b[0m\n"
      ]
     },
     "metadata": {},
     "output_type": "display_data"
    },
    {
     "data": {
      "text/html": [
       "<pre style=\"white-space:pre;overflow-x:auto;line-height:normal;font-family:Menlo,'DejaVu Sans Mono',consolas,'Courier New',monospace\">Attribute: enlargement\n",
       "</pre>\n"
      ],
      "text/plain": [
       "Attribute: enlargement\n"
      ]
     },
     "metadata": {},
     "output_type": "display_data"
    },
    {
     "data": {
      "text/html": [
       "<pre style=\"white-space:pre;overflow-x:auto;line-height:normal;font-family:Menlo,'DejaVu Sans Mono',consolas,'Courier New',monospace\"><span style=\"font-weight: bold\">[</span>\n",
       "    <span style=\"font-weight: bold\">(</span><span style=\"color: #008000; text-decoration-color: #008000\">'mild enlargement of the cardiac silhouette is unchanged .'</span>, <span style=\"color: #008080; text-decoration-color: #008080; font-weight: bold\">3</span><span style=\"font-weight: bold\">)</span>,\n",
       "    <span style=\"font-weight: bold\">(</span><span style=\"color: #008000; text-decoration-color: #008000\">'moderate cardiac enlargement as before .'</span>, <span style=\"color: #008080; text-decoration-color: #008080; font-weight: bold\">3</span><span style=\"font-weight: bold\">)</span>,\n",
       "    <span style=\"font-weight: bold\">(</span><span style=\"color: #008000; text-decoration-color: #008000\">'mild to moderate enlargement of the cardiac silhouette is unchanged .'</span>, <span style=\"color: #008080; text-decoration-color: #008080; font-weight: bold\">2</span><span style=\"font-weight: bold\">)</span>,\n",
       "    <span style=\"font-weight: bold\">(</span><span style=\"color: #008000; text-decoration-color: #008000\">'moderate enlargement of cardiac silhouette is re - demonstrated .'</span>, <span style=\"color: #008080; text-decoration-color: #008080; font-weight: bold\">2</span><span style=\"font-weight: bold\">)</span>,\n",
       "    <span style=\"font-weight: bold\">(</span><span style=\"color: #008000; text-decoration-color: #008000\">'there is persistent enlargement of the cardiac silhouette .'</span>, <span style=\"color: #008080; text-decoration-color: #008080; font-weight: bold\">2</span><span style=\"font-weight: bold\">)</span>\n",
       "<span style=\"font-weight: bold\">]</span>\n",
       "</pre>\n"
      ],
      "text/plain": [
       "\u001b[1m[\u001b[0m\n",
       "    \u001b[1m(\u001b[0m\u001b[32m'mild enlargement of the cardiac silhouette is unchanged .'\u001b[0m, \u001b[1;36m3\u001b[0m\u001b[1m)\u001b[0m,\n",
       "    \u001b[1m(\u001b[0m\u001b[32m'moderate cardiac enlargement as before .'\u001b[0m, \u001b[1;36m3\u001b[0m\u001b[1m)\u001b[0m,\n",
       "    \u001b[1m(\u001b[0m\u001b[32m'mild to moderate enlargement of the cardiac silhouette is unchanged .'\u001b[0m, \u001b[1;36m2\u001b[0m\u001b[1m)\u001b[0m,\n",
       "    \u001b[1m(\u001b[0m\u001b[32m'moderate enlargement of cardiac silhouette is re - demonstrated .'\u001b[0m, \u001b[1;36m2\u001b[0m\u001b[1m)\u001b[0m,\n",
       "    \u001b[1m(\u001b[0m\u001b[32m'there is persistent enlargement of the cardiac silhouette .'\u001b[0m, \u001b[1;36m2\u001b[0m\u001b[1m)\u001b[0m\n",
       "\u001b[1m]\u001b[0m\n"
      ]
     },
     "metadata": {},
     "output_type": "display_data"
    },
    {
     "data": {
      "text/html": [
       "<pre style=\"white-space:pre;overflow-x:auto;line-height:normal;font-family:Menlo,'DejaVu Sans Mono',consolas,'Courier New',monospace\">Attribute: density\n",
       "</pre>\n"
      ],
      "text/plain": [
       "Attribute: density\n"
      ]
     },
     "metadata": {},
     "output_type": "display_data"
    },
    {
     "data": {
      "text/html": [
       "<pre style=\"white-space:pre;overflow-x:auto;line-height:normal;font-family:Menlo,'DejaVu Sans Mono',consolas,'Courier New',monospace\"><span style=\"font-weight: bold\">[</span>\n",
       "    <span style=\"font-weight: bold\">(</span><span style=\"color: #008000; text-decoration-color: #008000\">'there is streaky density at the lung bases consistent with subsegmental atelectasis .'</span>, <span style=\"color: #008080; text-decoration-color: #008080; font-weight: bold\">2</span><span style=\"font-weight: bold\">)</span>,\n",
       "    <span style=\"font-weight: bold\">(</span><span style=\"color: #008000; text-decoration-color: #008000\">'there is a linear density lateral to the descending aorta of unclear etiology .'</span>, <span style=\"color: #008080; text-decoration-color: #008080; font-weight: bold\">2</span><span style=\"font-weight: bold\">)</span>,\n",
       "    <span style=\"font-weight: bold\">(</span>\n",
       "        <span style=\"color: #008000; text-decoration-color: #008000\">'if patient did indeed have a repair of morgnani hernia , then there is density at the right lower </span>\n",
       "<span style=\"color: #008000; text-decoration-color: #008000\">hemithoraxelevation of the right hemidiaphragm which could be further evaluated with ct .'</span>,\n",
       "        <span style=\"color: #008080; text-decoration-color: #008080; font-weight: bold\">2</span>\n",
       "    <span style=\"font-weight: bold\">)</span>,\n",
       "    <span style=\"font-weight: bold\">(</span><span style=\"color: #008000; text-decoration-color: #008000\">'additionally , vague increased density at both upper lobes is new .'</span>, <span style=\"color: #008080; text-decoration-color: #008080; font-weight: bold\">1</span><span style=\"font-weight: bold\">)</span>,\n",
       "    <span style=\"font-weight: bold\">(</span>\n",
       "        <span style=\"color: #008000; text-decoration-color: #008000\">'medial left base retrocardiac density corresponds to known hiatal hernia , similar in appearance compared </span>\n",
       "<span style=\"color: #008000; text-decoration-color: #008000\">to prior study .'</span>,\n",
       "        <span style=\"color: #008080; text-decoration-color: #008080; font-weight: bold\">1</span>\n",
       "    <span style=\"font-weight: bold\">)</span>\n",
       "<span style=\"font-weight: bold\">]</span>\n",
       "</pre>\n"
      ],
      "text/plain": [
       "\u001b[1m[\u001b[0m\n",
       "    \u001b[1m(\u001b[0m\u001b[32m'there is streaky density at the lung bases consistent with subsegmental atelectasis .'\u001b[0m, \u001b[1;36m2\u001b[0m\u001b[1m)\u001b[0m,\n",
       "    \u001b[1m(\u001b[0m\u001b[32m'there is a linear density lateral to the descending aorta of unclear etiology .'\u001b[0m, \u001b[1;36m2\u001b[0m\u001b[1m)\u001b[0m,\n",
       "    \u001b[1m(\u001b[0m\n",
       "        \u001b[32m'if patient did indeed have a repair of morgnani hernia , then there is density at the right lower \u001b[0m\n",
       "\u001b[32mhemithoraxelevation of the right hemidiaphragm which could be further evaluated with ct .'\u001b[0m,\n",
       "        \u001b[1;36m2\u001b[0m\n",
       "    \u001b[1m)\u001b[0m,\n",
       "    \u001b[1m(\u001b[0m\u001b[32m'additionally , vague increased density at both upper lobes is new .'\u001b[0m, \u001b[1;36m1\u001b[0m\u001b[1m)\u001b[0m,\n",
       "    \u001b[1m(\u001b[0m\n",
       "        \u001b[32m'medial left base retrocardiac density corresponds to known hiatal hernia , similar in appearance compared \u001b[0m\n",
       "\u001b[32mto prior study .'\u001b[0m,\n",
       "        \u001b[1;36m1\u001b[0m\n",
       "    \u001b[1m)\u001b[0m\n",
       "\u001b[1m]\u001b[0m\n"
      ]
     },
     "metadata": {},
     "output_type": "display_data"
    },
    {
     "data": {
      "text/html": [
       "<pre style=\"white-space:pre;overflow-x:auto;line-height:normal;font-family:Menlo,'DejaVu Sans Mono',consolas,'Courier New',monospace\">Attribute: size\n",
       "</pre>\n"
      ],
      "text/plain": [
       "Attribute: size\n"
      ]
     },
     "metadata": {},
     "output_type": "display_data"
    },
    {
     "data": {
      "text/html": [
       "<pre style=\"white-space:pre;overflow-x:auto;line-height:normal;font-family:Menlo,'DejaVu Sans Mono',consolas,'Courier New',monospace\"><span style=\"font-weight: bold\">[</span>\n",
       "    <span style=\"font-weight: bold\">(</span><span style=\"color: #008000; text-decoration-color: #008000\">'heart size is normal .'</span>, <span style=\"color: #008080; text-decoration-color: #008080; font-weight: bold\">439</span><span style=\"font-weight: bold\">)</span>,\n",
       "    <span style=\"font-weight: bold\">(</span><span style=\"color: #008000; text-decoration-color: #008000\">'the heart size is normal .'</span>, <span style=\"color: #008080; text-decoration-color: #008080; font-weight: bold\">215</span><span style=\"font-weight: bold\">)</span>,\n",
       "    <span style=\"font-weight: bold\">(</span><span style=\"color: #008000; text-decoration-color: #008000\">'the heart is normal in size .'</span>, <span style=\"color: #008080; text-decoration-color: #008080; font-weight: bold\">144</span><span style=\"font-weight: bold\">)</span>,\n",
       "    <span style=\"font-weight: bold\">(</span><span style=\"color: #008000; text-decoration-color: #008000\">'heart size is top normal .'</span>, <span style=\"color: #008080; text-decoration-color: #008080; font-weight: bold\">60</span><span style=\"font-weight: bold\">)</span>,\n",
       "    <span style=\"font-weight: bold\">(</span><span style=\"color: #008000; text-decoration-color: #008000\">'the heart size is top normal .'</span>, <span style=\"color: #008080; text-decoration-color: #008080; font-weight: bold\">39</span><span style=\"font-weight: bold\">)</span>\n",
       "<span style=\"font-weight: bold\">]</span>\n",
       "</pre>\n"
      ],
      "text/plain": [
       "\u001b[1m[\u001b[0m\n",
       "    \u001b[1m(\u001b[0m\u001b[32m'heart size is normal .'\u001b[0m, \u001b[1;36m439\u001b[0m\u001b[1m)\u001b[0m,\n",
       "    \u001b[1m(\u001b[0m\u001b[32m'the heart size is normal .'\u001b[0m, \u001b[1;36m215\u001b[0m\u001b[1m)\u001b[0m,\n",
       "    \u001b[1m(\u001b[0m\u001b[32m'the heart is normal in size .'\u001b[0m, \u001b[1;36m144\u001b[0m\u001b[1m)\u001b[0m,\n",
       "    \u001b[1m(\u001b[0m\u001b[32m'heart size is top normal .'\u001b[0m, \u001b[1;36m60\u001b[0m\u001b[1m)\u001b[0m,\n",
       "    \u001b[1m(\u001b[0m\u001b[32m'the heart size is top normal .'\u001b[0m, \u001b[1;36m39\u001b[0m\u001b[1m)\u001b[0m\n",
       "\u001b[1m]\u001b[0m\n"
      ]
     },
     "metadata": {},
     "output_type": "display_data"
    },
    {
     "data": {
      "text/html": [
       "<pre style=\"white-space:pre;overflow-x:auto;line-height:normal;font-family:Menlo,'DejaVu Sans Mono',consolas,'Courier New',monospace\">Attribute: pacemaker\n",
       "</pre>\n"
      ],
      "text/plain": [
       "Attribute: pacemaker\n"
      ]
     },
     "metadata": {},
     "output_type": "display_data"
    },
    {
     "data": {
      "text/html": [
       "<pre style=\"white-space:pre;overflow-x:auto;line-height:normal;font-family:Menlo,'DejaVu Sans Mono',consolas,'Courier New',monospace\"><span style=\"font-weight: bold\">[</span>\n",
       "    <span style=\"font-weight: bold\">(</span>\n",
       "        <span style=\"color: #008000; text-decoration-color: #008000\">'left - sided dual - chamber pacemaker device is noted with leads terminating in the right atrium and right</span>\n",
       "<span style=\"color: #008000; text-decoration-color: #008000\">ventricle .'</span>,\n",
       "        <span style=\"color: #008080; text-decoration-color: #008080; font-weight: bold\">4</span>\n",
       "    <span style=\"font-weight: bold\">)</span>,\n",
       "    <span style=\"font-weight: bold\">(</span>\n",
       "        <span style=\"color: #008000; text-decoration-color: #008000\">'dual lead left - sided pacemaker is again seen with leads extending to the expected positions of the right</span>\n",
       "<span style=\"color: #008000; text-decoration-color: #008000\">atrium and right ventricle .'</span>,\n",
       "        <span style=\"color: #008080; text-decoration-color: #008080; font-weight: bold\">3</span>\n",
       "    <span style=\"font-weight: bold\">)</span>,\n",
       "    <span style=\"font-weight: bold\">(</span>\n",
       "        <span style=\"color: #008000; text-decoration-color: #008000\">'a single lead pacemaker is again seen , with the lead ending in the right ventricle a proper position .'</span>,\n",
       "        <span style=\"color: #008080; text-decoration-color: #008080; font-weight: bold\">3</span>\n",
       "    <span style=\"font-weight: bold\">)</span>,\n",
       "    <span style=\"font-weight: bold\">(</span><span style=\"color: #008000; text-decoration-color: #008000\">'support apparatus , pacemaker , tubes and lines are unchanged .'</span>, <span style=\"color: #008080; text-decoration-color: #008080; font-weight: bold\">2</span><span style=\"font-weight: bold\">)</span>,\n",
       "    <span style=\"font-weight: bold\">(</span>\n",
       "        <span style=\"color: #008000; text-decoration-color: #008000\">'left - sided pacemaker device is noted with leads terminating in the right atrium and right ventricle .'</span>,\n",
       "        <span style=\"color: #008080; text-decoration-color: #008080; font-weight: bold\">2</span>\n",
       "    <span style=\"font-weight: bold\">)</span>\n",
       "<span style=\"font-weight: bold\">]</span>\n",
       "</pre>\n"
      ],
      "text/plain": [
       "\u001b[1m[\u001b[0m\n",
       "    \u001b[1m(\u001b[0m\n",
       "        \u001b[32m'left - sided dual - chamber pacemaker device is noted with leads terminating in the right atrium and right\u001b[0m\n",
       "\u001b[32mventricle .'\u001b[0m,\n",
       "        \u001b[1;36m4\u001b[0m\n",
       "    \u001b[1m)\u001b[0m,\n",
       "    \u001b[1m(\u001b[0m\n",
       "        \u001b[32m'dual lead left - sided pacemaker is again seen with leads extending to the expected positions of the right\u001b[0m\n",
       "\u001b[32matrium and right ventricle .'\u001b[0m,\n",
       "        \u001b[1;36m3\u001b[0m\n",
       "    \u001b[1m)\u001b[0m,\n",
       "    \u001b[1m(\u001b[0m\n",
       "        \u001b[32m'a single lead pacemaker is again seen , with the lead ending in the right ventricle a proper position .'\u001b[0m,\n",
       "        \u001b[1;36m3\u001b[0m\n",
       "    \u001b[1m)\u001b[0m,\n",
       "    \u001b[1m(\u001b[0m\u001b[32m'support apparatus , pacemaker , tubes and lines are unchanged .'\u001b[0m, \u001b[1;36m2\u001b[0m\u001b[1m)\u001b[0m,\n",
       "    \u001b[1m(\u001b[0m\n",
       "        \u001b[32m'left - sided pacemaker device is noted with leads terminating in the right atrium and right ventricle .'\u001b[0m,\n",
       "        \u001b[1;36m2\u001b[0m\n",
       "    \u001b[1m)\u001b[0m\n",
       "\u001b[1m]\u001b[0m\n"
      ]
     },
     "metadata": {},
     "output_type": "display_data"
    },
    {
     "data": {
      "text/html": [
       "<pre style=\"white-space:pre;overflow-x:auto;line-height:normal;font-family:Menlo,'DejaVu Sans Mono',consolas,'Courier New',monospace\">Attribute: cath\n",
       "</pre>\n"
      ],
      "text/plain": [
       "Attribute: cath\n"
      ]
     },
     "metadata": {},
     "output_type": "display_data"
    },
    {
     "data": {
      "text/html": [
       "<pre style=\"white-space:pre;overflow-x:auto;line-height:normal;font-family:Menlo,'DejaVu Sans Mono',consolas,'Courier New',monospace\"><span style=\"font-weight: bold\">[</span>\n",
       "    <span style=\"font-weight: bold\">(</span><span style=\"color: #008000; text-decoration-color: #008000\">'a port - a - cath terminates at the cavoatrial junction .'</span>, <span style=\"color: #008080; text-decoration-color: #008080; font-weight: bold\">5</span><span style=\"font-weight: bold\">)</span>,\n",
       "    <span style=\"font-weight: bold\">(</span><span style=\"color: #008000; text-decoration-color: #008000\">'swan - ganz catheter terminates in the right pulmonary artery .'</span>, <span style=\"color: #008080; text-decoration-color: #008080; font-weight: bold\">4</span><span style=\"font-weight: bold\">)</span>,\n",
       "    <span style=\"font-weight: bold\">(</span><span style=\"color: #008000; text-decoration-color: #008000\">'right central venous catheter terminates at the cavoatrial junction .'</span>, <span style=\"color: #008080; text-decoration-color: #008080; font-weight: bold\">3</span><span style=\"font-weight: bold\">)</span>,\n",
       "    <span style=\"font-weight: bold\">(</span><span style=\"color: #008000; text-decoration-color: #008000\">'right internal jugular central venous catheter tip terminates in the upper svc .'</span>, <span style=\"color: #008080; text-decoration-color: #008080; font-weight: bold\">3</span><span style=\"font-weight: bold\">)</span>,\n",
       "    <span style=\"font-weight: bold\">(</span><span style=\"color: #008000; text-decoration-color: #008000\">'port - a - cath in place .'</span>, <span style=\"color: #008080; text-decoration-color: #008080; font-weight: bold\">3</span><span style=\"font-weight: bold\">)</span>\n",
       "<span style=\"font-weight: bold\">]</span>\n",
       "</pre>\n"
      ],
      "text/plain": [
       "\u001b[1m[\u001b[0m\n",
       "    \u001b[1m(\u001b[0m\u001b[32m'a port - a - cath terminates at the cavoatrial junction .'\u001b[0m, \u001b[1;36m5\u001b[0m\u001b[1m)\u001b[0m,\n",
       "    \u001b[1m(\u001b[0m\u001b[32m'swan - ganz catheter terminates in the right pulmonary artery .'\u001b[0m, \u001b[1;36m4\u001b[0m\u001b[1m)\u001b[0m,\n",
       "    \u001b[1m(\u001b[0m\u001b[32m'right central venous catheter terminates at the cavoatrial junction .'\u001b[0m, \u001b[1;36m3\u001b[0m\u001b[1m)\u001b[0m,\n",
       "    \u001b[1m(\u001b[0m\u001b[32m'right internal jugular central venous catheter tip terminates in the upper svc .'\u001b[0m, \u001b[1;36m3\u001b[0m\u001b[1m)\u001b[0m,\n",
       "    \u001b[1m(\u001b[0m\u001b[32m'port - a - cath in place .'\u001b[0m, \u001b[1;36m3\u001b[0m\u001b[1m)\u001b[0m\n",
       "\u001b[1m]\u001b[0m\n"
      ]
     },
     "metadata": {},
     "output_type": "display_data"
    },
    {
     "data": {
      "text/html": [
       "<pre style=\"white-space:pre;overflow-x:auto;line-height:normal;font-family:Menlo,'DejaVu Sans Mono',consolas,'Courier New',monospace\">Attribute: loss\n",
       "</pre>\n"
      ],
      "text/plain": [
       "Attribute: loss\n"
      ]
     },
     "metadata": {},
     "output_type": "display_data"
    },
    {
     "data": {
      "text/html": [
       "<pre style=\"white-space:pre;overflow-x:auto;line-height:normal;font-family:Menlo,'DejaVu Sans Mono',consolas,'Courier New',monospace\"><span style=\"font-weight: bold\">[</span>\n",
       "    <span style=\"font-weight: bold\">(</span><span style=\"color: #008000; text-decoration-color: #008000\">'there is volume loss at both bases .'</span>, <span style=\"color: #008080; text-decoration-color: #008080; font-weight: bold\">4</span><span style=\"font-weight: bold\">)</span>,\n",
       "    <span style=\"font-weight: bold\">(</span><span style=\"color: #008000; text-decoration-color: #008000\">'there is mild loss of height of an upper thoracic vertebral body , likely chronic .'</span>, <span style=\"color: #008080; text-decoration-color: #008080; font-weight: bold\">2</span><span style=\"font-weight: bold\">)</span>,\n",
       "    <span style=\"font-weight: bold\">(</span><span style=\"color: #008000; text-decoration-color: #008000\">'this is most likely due to left lower lobe volume loss .'</span>, <span style=\"color: #008080; text-decoration-color: #008080; font-weight: bold\">1</span><span style=\"font-weight: bold\">)</span>,\n",
       "    <span style=\"font-weight: bold\">(</span><span style=\"color: #008000; text-decoration-color: #008000\">'is volume loss in both lower lungs .'</span>, <span style=\"color: #008080; text-decoration-color: #008080; font-weight: bold\">1</span><span style=\"font-weight: bold\">)</span>,\n",
       "    <span style=\"font-weight: bold\">(</span><span style=\"color: #008000; text-decoration-color: #008000\">'there is volume loss and compressive changes at both bases .'</span>, <span style=\"color: #008080; text-decoration-color: #008080; font-weight: bold\">1</span><span style=\"font-weight: bold\">)</span>\n",
       "<span style=\"font-weight: bold\">]</span>\n",
       "</pre>\n"
      ],
      "text/plain": [
       "\u001b[1m[\u001b[0m\n",
       "    \u001b[1m(\u001b[0m\u001b[32m'there is volume loss at both bases .'\u001b[0m, \u001b[1;36m4\u001b[0m\u001b[1m)\u001b[0m,\n",
       "    \u001b[1m(\u001b[0m\u001b[32m'there is mild loss of height of an upper thoracic vertebral body , likely chronic .'\u001b[0m, \u001b[1;36m2\u001b[0m\u001b[1m)\u001b[0m,\n",
       "    \u001b[1m(\u001b[0m\u001b[32m'this is most likely due to left lower lobe volume loss .'\u001b[0m, \u001b[1;36m1\u001b[0m\u001b[1m)\u001b[0m,\n",
       "    \u001b[1m(\u001b[0m\u001b[32m'is volume loss in both lower lungs .'\u001b[0m, \u001b[1;36m1\u001b[0m\u001b[1m)\u001b[0m,\n",
       "    \u001b[1m(\u001b[0m\u001b[32m'there is volume loss and compressive changes at both bases .'\u001b[0m, \u001b[1;36m1\u001b[0m\u001b[1m)\u001b[0m\n",
       "\u001b[1m]\u001b[0m\n"
      ]
     },
     "metadata": {},
     "output_type": "display_data"
    },
    {
     "data": {
      "text/html": [
       "<pre style=\"white-space:pre;overflow-x:auto;line-height:normal;font-family:Menlo,'DejaVu Sans Mono',consolas,'Courier New',monospace\">Attribute: interval\n",
       "</pre>\n"
      ],
      "text/plain": [
       "Attribute: interval\n"
      ]
     },
     "metadata": {},
     "output_type": "display_data"
    },
    {
     "data": {
      "text/html": [
       "<pre style=\"white-space:pre;overflow-x:auto;line-height:normal;font-family:Menlo,'DejaVu Sans Mono',consolas,'Courier New',monospace\"><span style=\"font-weight: bold\">[</span>\n",
       "    <span style=\"font-weight: bold\">(</span><span style=\"color: #008000; text-decoration-color: #008000\">'no significant interval change .'</span>, <span style=\"color: #008080; text-decoration-color: #008080; font-weight: bold\">34</span><span style=\"font-weight: bold\">)</span>,\n",
       "    <span style=\"font-weight: bold\">(</span><span style=\"color: #008000; text-decoration-color: #008000\">'otherwise , i doubt significant interval change .'</span>, <span style=\"color: #008080; text-decoration-color: #008080; font-weight: bold\">7</span><span style=\"font-weight: bold\">)</span>,\n",
       "    <span style=\"font-weight: bold\">(</span><span style=\"color: #008000; text-decoration-color: #008000\">'no significant interval change when compared to the prior study .'</span>, <span style=\"color: #008080; text-decoration-color: #008080; font-weight: bold\">4</span><span style=\"font-weight: bold\">)</span>,\n",
       "    <span style=\"font-weight: bold\">(</span><span style=\"color: #008000; text-decoration-color: #008000\">'otherwise , no significant interval change .'</span>, <span style=\"color: #008080; text-decoration-color: #008080; font-weight: bold\">4</span><span style=\"font-weight: bold\">)</span>,\n",
       "    <span style=\"font-weight: bold\">(</span><span style=\"color: #008000; text-decoration-color: #008000\">'interval mild improvement .'</span>, <span style=\"color: #008080; text-decoration-color: #008080; font-weight: bold\">3</span><span style=\"font-weight: bold\">)</span>\n",
       "<span style=\"font-weight: bold\">]</span>\n",
       "</pre>\n"
      ],
      "text/plain": [
       "\u001b[1m[\u001b[0m\n",
       "    \u001b[1m(\u001b[0m\u001b[32m'no significant interval change .'\u001b[0m, \u001b[1;36m34\u001b[0m\u001b[1m)\u001b[0m,\n",
       "    \u001b[1m(\u001b[0m\u001b[32m'otherwise , i doubt significant interval change .'\u001b[0m, \u001b[1;36m7\u001b[0m\u001b[1m)\u001b[0m,\n",
       "    \u001b[1m(\u001b[0m\u001b[32m'no significant interval change when compared to the prior study .'\u001b[0m, \u001b[1;36m4\u001b[0m\u001b[1m)\u001b[0m,\n",
       "    \u001b[1m(\u001b[0m\u001b[32m'otherwise , no significant interval change .'\u001b[0m, \u001b[1;36m4\u001b[0m\u001b[1m)\u001b[0m,\n",
       "    \u001b[1m(\u001b[0m\u001b[32m'interval mild improvement .'\u001b[0m, \u001b[1;36m3\u001b[0m\u001b[1m)\u001b[0m\n",
       "\u001b[1m]\u001b[0m\n"
      ]
     },
     "metadata": {},
     "output_type": "display_data"
    },
    {
     "data": {
      "text/html": [
       "<pre style=\"white-space:pre;overflow-x:auto;line-height:normal;font-family:Menlo,'DejaVu Sans Mono',consolas,'Courier New',monospace\">Attribute: disease\n",
       "</pre>\n"
      ],
      "text/plain": [
       "Attribute: disease\n"
      ]
     },
     "metadata": {},
     "output_type": "display_data"
    },
    {
     "data": {
      "text/html": [
       "<pre style=\"white-space:pre;overflow-x:auto;line-height:normal;font-family:Menlo,'DejaVu Sans Mono',consolas,'Courier New',monospace\"><span style=\"font-weight: bold\">[</span>\n",
       "    <span style=\"font-weight: bold\">(</span><span style=\"color: #008000; text-decoration-color: #008000\">'mild degenerative disc disease of the thoracic spine .'</span>, <span style=\"color: #008080; text-decoration-color: #008080; font-weight: bold\">2</span><span style=\"font-weight: bold\">)</span>,\n",
       "    <span style=\"font-weight: bold\">(</span><span style=\"color: #008000; text-decoration-color: #008000\">'the lungs are hyperinflated , consistent with chronic obstructive pulmonary disease .'</span>, <span style=\"color: #008080; text-decoration-color: #008080; font-weight: bold\">2</span><span style=\"font-weight: bold\">)</span>,\n",
       "    <span style=\"font-weight: bold\">(</span><span style=\"color: #008000; text-decoration-color: #008000\">'airspace disease or malignancy at either lung base cannot be excluded .'</span>, <span style=\"color: #008080; text-decoration-color: #008080; font-weight: bold\">2</span><span style=\"font-weight: bold\">)</span>,\n",
       "    <span style=\"font-weight: bold\">(</span>\n",
       "        <span style=\"color: #008000; text-decoration-color: #008000\">'upper lobe scarring with possible bronchiectasis , best seen on the lateral view , correlate with history </span>\n",
       "<span style=\"color: #008000; text-decoration-color: #008000\">of chronic lung disease .'</span>,\n",
       "        <span style=\"color: #008080; text-decoration-color: #008080; font-weight: bold\">2</span>\n",
       "    <span style=\"font-weight: bold\">)</span>,\n",
       "    <span style=\"font-weight: bold\">(</span>\n",
       "        <span style=\"color: #008000; text-decoration-color: #008000\">'the lungs are relatively hyperinflated , with flattening of the diaphragms , suggesting chronic </span>\n",
       "<span style=\"color: #008000; text-decoration-color: #008000\">obstructive pulmonary disease .'</span>,\n",
       "        <span style=\"color: #008080; text-decoration-color: #008080; font-weight: bold\">2</span>\n",
       "    <span style=\"font-weight: bold\">)</span>\n",
       "<span style=\"font-weight: bold\">]</span>\n",
       "</pre>\n"
      ],
      "text/plain": [
       "\u001b[1m[\u001b[0m\n",
       "    \u001b[1m(\u001b[0m\u001b[32m'mild degenerative disc disease of the thoracic spine .'\u001b[0m, \u001b[1;36m2\u001b[0m\u001b[1m)\u001b[0m,\n",
       "    \u001b[1m(\u001b[0m\u001b[32m'the lungs are hyperinflated , consistent with chronic obstructive pulmonary disease .'\u001b[0m, \u001b[1;36m2\u001b[0m\u001b[1m)\u001b[0m,\n",
       "    \u001b[1m(\u001b[0m\u001b[32m'airspace disease or malignancy at either lung base cannot be excluded .'\u001b[0m, \u001b[1;36m2\u001b[0m\u001b[1m)\u001b[0m,\n",
       "    \u001b[1m(\u001b[0m\n",
       "        \u001b[32m'upper lobe scarring with possible bronchiectasis , best seen on the lateral view , correlate with history \u001b[0m\n",
       "\u001b[32mof chronic lung disease .'\u001b[0m,\n",
       "        \u001b[1;36m2\u001b[0m\n",
       "    \u001b[1m)\u001b[0m,\n",
       "    \u001b[1m(\u001b[0m\n",
       "        \u001b[32m'the lungs are relatively hyperinflated , with flattening of the diaphragms , suggesting chronic \u001b[0m\n",
       "\u001b[32mobstructive pulmonary disease .'\u001b[0m,\n",
       "        \u001b[1;36m2\u001b[0m\n",
       "    \u001b[1m)\u001b[0m\n",
       "\u001b[1m]\u001b[0m\n"
      ]
     },
     "metadata": {},
     "output_type": "display_data"
    },
    {
     "data": {
      "text/html": [
       "<pre style=\"white-space:pre;overflow-x:auto;line-height:normal;font-family:Menlo,'DejaVu Sans Mono',consolas,'Courier New',monospace\">Attribute: collapse\n",
       "</pre>\n"
      ],
      "text/plain": [
       "Attribute: collapse\n"
      ]
     },
     "metadata": {},
     "output_type": "display_data"
    },
    {
     "data": {
      "text/html": [
       "<pre style=\"white-space:pre;overflow-x:auto;line-height:normal;font-family:Menlo,'DejaVu Sans Mono',consolas,'Courier New',monospace\"><span style=\"font-weight: bold\">[</span>\n",
       "    <span style=\"font-weight: bold\">(</span><span style=\"color: #008000; text-decoration-color: #008000\">'left lower lobe collapse .'</span>, <span style=\"color: #008080; text-decoration-color: #008080; font-weight: bold\">2</span><span style=\"font-weight: bold\">)</span>,\n",
       "    <span style=\"font-weight: bold\">(</span>\n",
       "        <span style=\"color: #008000; text-decoration-color: #008000\">'there is continued near complete opacification of right hemithorax , likely due to right lung collapse and</span>\n",
       "<span style=\"color: #008000; text-decoration-color: #008000\">large pleural effusion .'</span>,\n",
       "        <span style=\"color: #008080; text-decoration-color: #008080; font-weight: bold\">2</span>\n",
       "    <span style=\"font-weight: bold\">)</span>,\n",
       "    <span style=\"font-weight: bold\">(</span><span style=\"color: #008000; text-decoration-color: #008000\">'mass with post obstructive collapse of the left upper lobe is similar to prior .'</span>, <span style=\"color: #008080; text-decoration-color: #008080; font-weight: bold\">1</span><span style=\"font-weight: bold\">)</span>,\n",
       "    <span style=\"font-weight: bold\">(</span><span style=\"color: #008000; text-decoration-color: #008000\">'persistent large juxtahilar mass with postobstructive collapse of the left upper lobe .'</span>, <span style=\"color: #008080; text-decoration-color: #008080; font-weight: bold\">1</span><span style=\"font-weight: bold\">)</span>,\n",
       "    <span style=\"font-weight: bold\">(</span>\n",
       "        <span style=\"color: #008000; text-decoration-color: #008000\">'interval development of a large right - sided pneumothorax with near - complete collapse of the right </span>\n",
       "<span style=\"color: #008000; text-decoration-color: #008000\">lower lobe .'</span>,\n",
       "        <span style=\"color: #008080; text-decoration-color: #008080; font-weight: bold\">1</span>\n",
       "    <span style=\"font-weight: bold\">)</span>\n",
       "<span style=\"font-weight: bold\">]</span>\n",
       "</pre>\n"
      ],
      "text/plain": [
       "\u001b[1m[\u001b[0m\n",
       "    \u001b[1m(\u001b[0m\u001b[32m'left lower lobe collapse .'\u001b[0m, \u001b[1;36m2\u001b[0m\u001b[1m)\u001b[0m,\n",
       "    \u001b[1m(\u001b[0m\n",
       "        \u001b[32m'there is continued near complete opacification of right hemithorax , likely due to right lung collapse and\u001b[0m\n",
       "\u001b[32mlarge pleural effusion .'\u001b[0m,\n",
       "        \u001b[1;36m2\u001b[0m\n",
       "    \u001b[1m)\u001b[0m,\n",
       "    \u001b[1m(\u001b[0m\u001b[32m'mass with post obstructive collapse of the left upper lobe is similar to prior .'\u001b[0m, \u001b[1;36m1\u001b[0m\u001b[1m)\u001b[0m,\n",
       "    \u001b[1m(\u001b[0m\u001b[32m'persistent large juxtahilar mass with postobstructive collapse of the left upper lobe .'\u001b[0m, \u001b[1;36m1\u001b[0m\u001b[1m)\u001b[0m,\n",
       "    \u001b[1m(\u001b[0m\n",
       "        \u001b[32m'interval development of a large right - sided pneumothorax with near - complete collapse of the right \u001b[0m\n",
       "\u001b[32mlower lobe .'\u001b[0m,\n",
       "        \u001b[1;36m1\u001b[0m\n",
       "    \u001b[1m)\u001b[0m\n",
       "\u001b[1m]\u001b[0m\n"
      ]
     },
     "metadata": {},
     "output_type": "display_data"
    },
    {
     "data": {
      "text/html": [
       "<pre style=\"white-space:pre;overflow-x:auto;line-height:normal;font-family:Menlo,'DejaVu Sans Mono',consolas,'Courier New',monospace\">Attribute: deformity\n",
       "</pre>\n"
      ],
      "text/plain": [
       "Attribute: deformity\n"
      ]
     },
     "metadata": {},
     "output_type": "display_data"
    },
    {
     "data": {
      "text/html": [
       "<pre style=\"white-space:pre;overflow-x:auto;line-height:normal;font-family:Menlo,'DejaVu Sans Mono',consolas,'Courier New',monospace\"><span style=\"font-weight: bold\">[</span>\n",
       "    <span style=\"font-weight: bold\">(</span><span style=\"color: #008000; text-decoration-color: #008000\">'chronic deformity of the proximal right humerus suggests prior fracture .'</span>, <span style=\"color: #008080; text-decoration-color: #008080; font-weight: bold\">2</span><span style=\"font-weight: bold\">)</span>,\n",
       "    <span style=\"font-weight: bold\">(</span><span style=\"color: #008000; text-decoration-color: #008000\">'potentially acute deformity of the proximal left humerus is incompletely visualized .'</span>, <span style=\"color: #008080; text-decoration-color: #008080; font-weight: bold\">2</span><span style=\"font-weight: bold\">)</span>,\n",
       "    <span style=\"font-weight: bold\">(</span>\n",
       "        <span style=\"color: #008000; text-decoration-color: #008000\">'there is a rib deformity of the right posterior ___ rib which maybe related to a rib resection or less </span>\n",
       "<span style=\"color: #008000; text-decoration-color: #008000\">likely , old trauma .'</span>,\n",
       "        <span style=\"color: #008080; text-decoration-color: #008080; font-weight: bold\">2</span>\n",
       "    <span style=\"font-weight: bold\">)</span>,\n",
       "    <span style=\"font-weight: bold\">(</span><span style=\"color: #008000; text-decoration-color: #008000\">'2 ) posterior right 6th rib deformity .'</span>, <span style=\"color: #008080; text-decoration-color: #008080; font-weight: bold\">2</span><span style=\"font-weight: bold\">)</span>,\n",
       "    <span style=\"font-weight: bold\">(</span><span style=\"color: #008000; text-decoration-color: #008000\">'compression deformity of a mid thoracic vertebra is identified .'</span>, <span style=\"color: #008080; text-decoration-color: #008080; font-weight: bold\">2</span><span style=\"font-weight: bold\">)</span>\n",
       "<span style=\"font-weight: bold\">]</span>\n",
       "</pre>\n"
      ],
      "text/plain": [
       "\u001b[1m[\u001b[0m\n",
       "    \u001b[1m(\u001b[0m\u001b[32m'chronic deformity of the proximal right humerus suggests prior fracture .'\u001b[0m, \u001b[1;36m2\u001b[0m\u001b[1m)\u001b[0m,\n",
       "    \u001b[1m(\u001b[0m\u001b[32m'potentially acute deformity of the proximal left humerus is incompletely visualized .'\u001b[0m, \u001b[1;36m2\u001b[0m\u001b[1m)\u001b[0m,\n",
       "    \u001b[1m(\u001b[0m\n",
       "        \u001b[32m'there is a rib deformity of the right posterior ___ rib which maybe related to a rib resection or less \u001b[0m\n",
       "\u001b[32mlikely , old trauma .'\u001b[0m,\n",
       "        \u001b[1;36m2\u001b[0m\n",
       "    \u001b[1m)\u001b[0m,\n",
       "    \u001b[1m(\u001b[0m\u001b[32m'2 \u001b[0m\u001b[32m)\u001b[0m\u001b[32m posterior right 6th rib deformity .'\u001b[0m, \u001b[1;36m2\u001b[0m\u001b[1m)\u001b[0m,\n",
       "    \u001b[1m(\u001b[0m\u001b[32m'compression deformity of a mid thoracic vertebra is identified .'\u001b[0m, \u001b[1;36m2\u001b[0m\u001b[1m)\u001b[0m\n",
       "\u001b[1m]\u001b[0m\n"
      ]
     },
     "metadata": {},
     "output_type": "display_data"
    },
    {
     "data": {
      "text/html": [
       "<pre style=\"white-space:pre;overflow-x:auto;line-height:normal;font-family:Menlo,'DejaVu Sans Mono',consolas,'Courier New',monospace\">Attribute: place\n",
       "</pre>\n"
      ],
      "text/plain": [
       "Attribute: place\n"
      ]
     },
     "metadata": {},
     "output_type": "display_data"
    },
    {
     "data": {
      "text/html": [
       "<pre style=\"white-space:pre;overflow-x:auto;line-height:normal;font-family:Menlo,'DejaVu Sans Mono',consolas,'Courier New',monospace\"><span style=\"font-weight: bold\">[</span>\n",
       "    <span style=\"font-weight: bold\">(</span><span style=\"color: #008000; text-decoration-color: #008000\">'the patient is status post median sternotomy and cardiac valve replacement .'</span>, <span style=\"color: #008080; text-decoration-color: #008080; font-weight: bold\">5</span><span style=\"font-weight: bold\">)</span>,\n",
       "    <span style=\"font-weight: bold\">(</span><span style=\"color: #008000; text-decoration-color: #008000\">'port - a - cath in place .'</span>, <span style=\"color: #008080; text-decoration-color: #008080; font-weight: bold\">3</span><span style=\"font-weight: bold\">)</span>,\n",
       "    <span style=\"font-weight: bold\">(</span><span style=\"color: #008000; text-decoration-color: #008000\">'a tracheostomy is in place .'</span>, <span style=\"color: #008080; text-decoration-color: #008080; font-weight: bold\">3</span><span style=\"font-weight: bold\">)</span>,\n",
       "    <span style=\"font-weight: bold\">(</span><span style=\"color: #008000; text-decoration-color: #008000\">'a tracheostomy tube is in place .'</span>, <span style=\"color: #008080; text-decoration-color: #008080; font-weight: bold\">3</span><span style=\"font-weight: bold\">)</span>,\n",
       "    <span style=\"font-weight: bold\">(</span><span style=\"color: #008000; text-decoration-color: #008000\">'the mediastinum is wide , and an aortic stent graft is in place .'</span>, <span style=\"color: #008080; text-decoration-color: #008080; font-weight: bold\">2</span><span style=\"font-weight: bold\">)</span>\n",
       "<span style=\"font-weight: bold\">]</span>\n",
       "</pre>\n"
      ],
      "text/plain": [
       "\u001b[1m[\u001b[0m\n",
       "    \u001b[1m(\u001b[0m\u001b[32m'the patient is status post median sternotomy and cardiac valve replacement .'\u001b[0m, \u001b[1;36m5\u001b[0m\u001b[1m)\u001b[0m,\n",
       "    \u001b[1m(\u001b[0m\u001b[32m'port - a - cath in place .'\u001b[0m, \u001b[1;36m3\u001b[0m\u001b[1m)\u001b[0m,\n",
       "    \u001b[1m(\u001b[0m\u001b[32m'a tracheostomy is in place .'\u001b[0m, \u001b[1;36m3\u001b[0m\u001b[1m)\u001b[0m,\n",
       "    \u001b[1m(\u001b[0m\u001b[32m'a tracheostomy tube is in place .'\u001b[0m, \u001b[1;36m3\u001b[0m\u001b[1m)\u001b[0m,\n",
       "    \u001b[1m(\u001b[0m\u001b[32m'the mediastinum is wide , and an aortic stent graft is in place .'\u001b[0m, \u001b[1;36m2\u001b[0m\u001b[1m)\u001b[0m\n",
       "\u001b[1m]\u001b[0m\n"
      ]
     },
     "metadata": {},
     "output_type": "display_data"
    },
    {
     "data": {
      "text/html": [
       "<pre style=\"white-space:pre;overflow-x:auto;line-height:normal;font-family:Menlo,'DejaVu Sans Mono',consolas,'Courier New',monospace\">Attribute: compression\n",
       "</pre>\n"
      ],
      "text/plain": [
       "Attribute: compression\n"
      ]
     },
     "metadata": {},
     "output_type": "display_data"
    },
    {
     "data": {
      "text/html": [
       "<pre style=\"white-space:pre;overflow-x:auto;line-height:normal;font-family:Menlo,'DejaVu Sans Mono',consolas,'Courier New',monospace\"><span style=\"font-weight: bold\">[</span>\n",
       "    <span style=\"font-weight: bold\">(</span><span style=\"color: #008000; text-decoration-color: #008000\">'compression deformity of a mid thoracic vertebra is identified .'</span>, <span style=\"color: #008080; text-decoration-color: #008080; font-weight: bold\">2</span><span style=\"font-weight: bold\">)</span>,\n",
       "    <span style=\"font-weight: bold\">(</span><span style=\"color: #008000; text-decoration-color: #008000\">'a compression fracture of a lower thoracic vertebral body is slightly worse than ___ .'</span>, <span style=\"color: #008080; text-decoration-color: #008080; font-weight: bold\">2</span><span style=\"font-weight: bold\">)</span>,\n",
       "    <span style=\"font-weight: bold\">(</span>\n",
       "        <span style=\"color: #008000; text-decoration-color: #008000\">'along the mid thoracic spine , there is a mild wedge compression deformity , which is age - indeterminate </span>\n",
       "<span style=\"color: #008000; text-decoration-color: #008000\">and not necessarily recent but somewhat unusual in this age group .'</span>,\n",
       "        <span style=\"color: #008080; text-decoration-color: #008080; font-weight: bold\">1</span>\n",
       "    <span style=\"font-weight: bold\">)</span>,\n",
       "    <span style=\"font-weight: bold\">(</span>\n",
       "        <span style=\"color: #008000; text-decoration-color: #008000\">'mild mid thoracic wedge compression deformity , indeterminate as to age and not fully characterized , </span>\n",
       "<span style=\"color: #008000; text-decoration-color: #008000\">although possible due to an older injury .'</span>,\n",
       "        <span style=\"color: #008080; text-decoration-color: #008080; font-weight: bold\">1</span>\n",
       "    <span style=\"font-weight: bold\">)</span>,\n",
       "    <span style=\"font-weight: bold\">(</span>\n",
       "        <span style=\"color: #008000; text-decoration-color: #008000\">'diffuse demineralization the osseous structures is noted with unchanged compression deformities of several</span>\n",
       "<span style=\"color: #008000; text-decoration-color: #008000\">mid thoracic vertebral bodies .'</span>,\n",
       "        <span style=\"color: #008080; text-decoration-color: #008080; font-weight: bold\">1</span>\n",
       "    <span style=\"font-weight: bold\">)</span>\n",
       "<span style=\"font-weight: bold\">]</span>\n",
       "</pre>\n"
      ],
      "text/plain": [
       "\u001b[1m[\u001b[0m\n",
       "    \u001b[1m(\u001b[0m\u001b[32m'compression deformity of a mid thoracic vertebra is identified .'\u001b[0m, \u001b[1;36m2\u001b[0m\u001b[1m)\u001b[0m,\n",
       "    \u001b[1m(\u001b[0m\u001b[32m'a compression fracture of a lower thoracic vertebral body is slightly worse than ___ .'\u001b[0m, \u001b[1;36m2\u001b[0m\u001b[1m)\u001b[0m,\n",
       "    \u001b[1m(\u001b[0m\n",
       "        \u001b[32m'along the mid thoracic spine , there is a mild wedge compression deformity , which is age - indeterminate \u001b[0m\n",
       "\u001b[32mand not necessarily recent but somewhat unusual in this age group .'\u001b[0m,\n",
       "        \u001b[1;36m1\u001b[0m\n",
       "    \u001b[1m)\u001b[0m,\n",
       "    \u001b[1m(\u001b[0m\n",
       "        \u001b[32m'mild mid thoracic wedge compression deformity , indeterminate as to age and not fully characterized , \u001b[0m\n",
       "\u001b[32malthough possible due to an older injury .'\u001b[0m,\n",
       "        \u001b[1;36m1\u001b[0m\n",
       "    \u001b[1m)\u001b[0m,\n",
       "    \u001b[1m(\u001b[0m\n",
       "        \u001b[32m'diffuse demineralization the osseous structures is noted with unchanged compression deformities of several\u001b[0m\n",
       "\u001b[32mmid thoracic vertebral bodies .'\u001b[0m,\n",
       "        \u001b[1;36m1\u001b[0m\n",
       "    \u001b[1m)\u001b[0m\n",
       "\u001b[1m]\u001b[0m\n"
      ]
     },
     "metadata": {},
     "output_type": "display_data"
    },
    {
     "data": {
      "text/html": [
       "<pre style=\"white-space:pre;overflow-x:auto;line-height:normal;font-family:Menlo,'DejaVu Sans Mono',consolas,'Courier New',monospace\">Attribute: air\n",
       "</pre>\n"
      ],
      "text/plain": [
       "Attribute: air\n"
      ]
     },
     "metadata": {},
     "output_type": "display_data"
    },
    {
     "data": {
      "text/html": [
       "<pre style=\"white-space:pre;overflow-x:auto;line-height:normal;font-family:Menlo,'DejaVu Sans Mono',consolas,'Courier New',monospace\"><span style=\"font-weight: bold\">[</span>\n",
       "    <span style=\"font-weight: bold\">(</span><span style=\"color: #008000; text-decoration-color: #008000\">'streaky bibasilar airspace opacities likely reflect atelectasis .'</span>, <span style=\"color: #008080; text-decoration-color: #008080; font-weight: bold\">4</span><span style=\"font-weight: bold\">)</span>,\n",
       "    <span style=\"font-weight: bold\">(</span><span style=\"color: #008000; text-decoration-color: #008000\">'there is pneumoperitoneum present with air below the right hemidiaphragm .'</span>, <span style=\"color: #008080; text-decoration-color: #008080; font-weight: bold\">2</span><span style=\"font-weight: bold\">)</span>,\n",
       "    <span style=\"font-weight: bold\">(</span><span style=\"color: #008000; text-decoration-color: #008000\">'bibasilar airspace opacities likely reflect atelectasis .'</span>, <span style=\"color: #008080; text-decoration-color: #008080; font-weight: bold\">2</span><span style=\"font-weight: bold\">)</span>,\n",
       "    <span style=\"font-weight: bold\">(</span>\n",
       "        <span style=\"color: #008000; text-decoration-color: #008000\">'evaluation for intraperitoneal free air will be resolved with ct abdomen , which will be obtained shortly </span>\n",
       "<span style=\"color: #008000; text-decoration-color: #008000\">later today .'</span>,\n",
       "        <span style=\"color: #008080; text-decoration-color: #008080; font-weight: bold\">2</span>\n",
       "    <span style=\"font-weight: bold\">)</span>,\n",
       "    <span style=\"font-weight: bold\">(</span><span style=\"color: #008000; text-decoration-color: #008000\">'free air is noted under the right hemi - diaphragm , likely from recent surgery .'</span>, <span style=\"color: #008080; text-decoration-color: #008080; font-weight: bold\">2</span><span style=\"font-weight: bold\">)</span>\n",
       "<span style=\"font-weight: bold\">]</span>\n",
       "</pre>\n"
      ],
      "text/plain": [
       "\u001b[1m[\u001b[0m\n",
       "    \u001b[1m(\u001b[0m\u001b[32m'streaky bibasilar airspace opacities likely reflect atelectasis .'\u001b[0m, \u001b[1;36m4\u001b[0m\u001b[1m)\u001b[0m,\n",
       "    \u001b[1m(\u001b[0m\u001b[32m'there is pneumoperitoneum present with air below the right hemidiaphragm .'\u001b[0m, \u001b[1;36m2\u001b[0m\u001b[1m)\u001b[0m,\n",
       "    \u001b[1m(\u001b[0m\u001b[32m'bibasilar airspace opacities likely reflect atelectasis .'\u001b[0m, \u001b[1;36m2\u001b[0m\u001b[1m)\u001b[0m,\n",
       "    \u001b[1m(\u001b[0m\n",
       "        \u001b[32m'evaluation for intraperitoneal free air will be resolved with ct abdomen , which will be obtained shortly \u001b[0m\n",
       "\u001b[32mlater today .'\u001b[0m,\n",
       "        \u001b[1;36m2\u001b[0m\n",
       "    \u001b[1m)\u001b[0m,\n",
       "    \u001b[1m(\u001b[0m\u001b[32m'free air is noted under the right hemi - diaphragm , likely from recent surgery .'\u001b[0m, \u001b[1;36m2\u001b[0m\u001b[1m)\u001b[0m\n",
       "\u001b[1m]\u001b[0m\n"
      ]
     },
     "metadata": {},
     "output_type": "display_data"
    },
    {
     "data": {
      "text/html": [
       "<pre style=\"white-space:pre;overflow-x:auto;line-height:normal;font-family:Menlo,'DejaVu Sans Mono',consolas,'Courier New',monospace\">Attribute: calcification\n",
       "</pre>\n"
      ],
      "text/plain": [
       "Attribute: calcification\n"
      ]
     },
     "metadata": {},
     "output_type": "display_data"
    },
    {
     "data": {
      "text/html": [
       "<pre style=\"white-space:pre;overflow-x:auto;line-height:normal;font-family:Menlo,'DejaVu Sans Mono',consolas,'Courier New',monospace\"><span style=\"font-weight: bold\">[</span>\n",
       "    <span style=\"font-weight: bold\">(</span><span style=\"color: #008000; text-decoration-color: #008000\">'atherosclerotic calcifications noted at the aortic arch .'</span>, <span style=\"color: #008080; text-decoration-color: #008080; font-weight: bold\">11</span><span style=\"font-weight: bold\">)</span>,\n",
       "    <span style=\"font-weight: bold\">(</span><span style=\"color: #008000; text-decoration-color: #008000\">'atherosclerotic calcifications are noted at the aortic arch .'</span>, <span style=\"color: #008080; text-decoration-color: #008080; font-weight: bold\">6</span><span style=\"font-weight: bold\">)</span>,\n",
       "    <span style=\"font-weight: bold\">(</span><span style=\"color: #008000; text-decoration-color: #008000\">'aortic knob calcifications are noted .'</span>, <span style=\"color: #008080; text-decoration-color: #008080; font-weight: bold\">6</span><span style=\"font-weight: bold\">)</span>,\n",
       "    <span style=\"font-weight: bold\">(</span><span style=\"color: #008000; text-decoration-color: #008000\">'atherosclerotic calcifications seen at the aortic arch .'</span>, <span style=\"color: #008080; text-decoration-color: #008080; font-weight: bold\">6</span><span style=\"font-weight: bold\">)</span>,\n",
       "    <span style=\"font-weight: bold\">(</span><span style=\"color: #008000; text-decoration-color: #008000\">'there are aortic knob calcifications .'</span>, <span style=\"color: #008080; text-decoration-color: #008080; font-weight: bold\">5</span><span style=\"font-weight: bold\">)</span>\n",
       "<span style=\"font-weight: bold\">]</span>\n",
       "</pre>\n"
      ],
      "text/plain": [
       "\u001b[1m[\u001b[0m\n",
       "    \u001b[1m(\u001b[0m\u001b[32m'atherosclerotic calcifications noted at the aortic arch .'\u001b[0m, \u001b[1;36m11\u001b[0m\u001b[1m)\u001b[0m,\n",
       "    \u001b[1m(\u001b[0m\u001b[32m'atherosclerotic calcifications are noted at the aortic arch .'\u001b[0m, \u001b[1;36m6\u001b[0m\u001b[1m)\u001b[0m,\n",
       "    \u001b[1m(\u001b[0m\u001b[32m'aortic knob calcifications are noted .'\u001b[0m, \u001b[1;36m6\u001b[0m\u001b[1m)\u001b[0m,\n",
       "    \u001b[1m(\u001b[0m\u001b[32m'atherosclerotic calcifications seen at the aortic arch .'\u001b[0m, \u001b[1;36m6\u001b[0m\u001b[1m)\u001b[0m,\n",
       "    \u001b[1m(\u001b[0m\u001b[32m'there are aortic knob calcifications .'\u001b[0m, \u001b[1;36m5\u001b[0m\u001b[1m)\u001b[0m\n",
       "\u001b[1m]\u001b[0m\n"
      ]
     },
     "metadata": {},
     "output_type": "display_data"
    },
    {
     "data": {
      "text/html": [
       "<pre style=\"white-space:pre;overflow-x:auto;line-height:normal;font-family:Menlo,'DejaVu Sans Mono',consolas,'Courier New',monospace\">Attribute: hardware\n",
       "</pre>\n"
      ],
      "text/plain": [
       "Attribute: hardware\n"
      ]
     },
     "metadata": {},
     "output_type": "display_data"
    },
    {
     "data": {
      "text/html": [
       "<pre style=\"white-space:pre;overflow-x:auto;line-height:normal;font-family:Menlo,'DejaVu Sans Mono',consolas,'Courier New',monospace\"><span style=\"font-weight: bold\">[</span>\n",
       "    <span style=\"font-weight: bold\">(</span><span style=\"color: #008000; text-decoration-color: #008000\">'surgical fixation hardware is unchanged .'</span>, <span style=\"color: #008080; text-decoration-color: #008080; font-weight: bold\">2</span><span style=\"font-weight: bold\">)</span>,\n",
       "    <span style=\"font-weight: bold\">(</span><span style=\"color: #008000; text-decoration-color: #008000\">'partially imaged is hardware within the right humeral head .'</span>, <span style=\"color: #008080; text-decoration-color: #008080; font-weight: bold\">2</span><span style=\"font-weight: bold\">)</span>,\n",
       "    <span style=\"font-weight: bold\">(</span><span style=\"color: #008000; text-decoration-color: #008000\">'cervical fusion hardware is noted in the lower c - spine .'</span>, <span style=\"color: #008080; text-decoration-color: #008080; font-weight: bold\">1</span><span style=\"font-weight: bold\">)</span>,\n",
       "    <span style=\"font-weight: bold\">(</span>\n",
       "        <span style=\"color: #008000; text-decoration-color: #008000\">'incompletely imaged posterior fusion hardware placed within the thoracolumbar spine appears unchanged to </span>\n",
       "<span style=\"color: #008000; text-decoration-color: #008000\">the degree visualized .'</span>,\n",
       "        <span style=\"color: #008080; text-decoration-color: #008080; font-weight: bold\">1</span>\n",
       "    <span style=\"font-weight: bold\">)</span>,\n",
       "    <span style=\"font-weight: bold\">(</span><span style=\"color: #008000; text-decoration-color: #008000\">'hardware is noted involving the right proximal humerus .'</span>, <span style=\"color: #008080; text-decoration-color: #008080; font-weight: bold\">1</span><span style=\"font-weight: bold\">)</span>\n",
       "<span style=\"font-weight: bold\">]</span>\n",
       "</pre>\n"
      ],
      "text/plain": [
       "\u001b[1m[\u001b[0m\n",
       "    \u001b[1m(\u001b[0m\u001b[32m'surgical fixation hardware is unchanged .'\u001b[0m, \u001b[1;36m2\u001b[0m\u001b[1m)\u001b[0m,\n",
       "    \u001b[1m(\u001b[0m\u001b[32m'partially imaged is hardware within the right humeral head .'\u001b[0m, \u001b[1;36m2\u001b[0m\u001b[1m)\u001b[0m,\n",
       "    \u001b[1m(\u001b[0m\u001b[32m'cervical fusion hardware is noted in the lower c - spine .'\u001b[0m, \u001b[1;36m1\u001b[0m\u001b[1m)\u001b[0m,\n",
       "    \u001b[1m(\u001b[0m\n",
       "        \u001b[32m'incompletely imaged posterior fusion hardware placed within the thoracolumbar spine appears unchanged to \u001b[0m\n",
       "\u001b[32mthe degree visualized .'\u001b[0m,\n",
       "        \u001b[1;36m1\u001b[0m\n",
       "    \u001b[1m)\u001b[0m,\n",
       "    \u001b[1m(\u001b[0m\u001b[32m'hardware is noted involving the right proximal humerus .'\u001b[0m, \u001b[1;36m1\u001b[0m\u001b[1m)\u001b[0m\n",
       "\u001b[1m]\u001b[0m\n"
      ]
     },
     "metadata": {},
     "output_type": "display_data"
    },
    {
     "data": {
      "text/html": [
       "<pre style=\"white-space:pre;overflow-x:auto;line-height:normal;font-family:Menlo,'DejaVu Sans Mono',consolas,'Courier New',monospace\">Attribute: catheter\n",
       "</pre>\n"
      ],
      "text/plain": [
       "Attribute: catheter\n"
      ]
     },
     "metadata": {},
     "output_type": "display_data"
    },
    {
     "data": {
      "text/html": [
       "<pre style=\"white-space:pre;overflow-x:auto;line-height:normal;font-family:Menlo,'DejaVu Sans Mono',consolas,'Courier New',monospace\"><span style=\"font-weight: bold\">[</span>\n",
       "    <span style=\"font-weight: bold\">(</span><span style=\"color: #008000; text-decoration-color: #008000\">'swan - ganz catheter terminates in the right pulmonary artery .'</span>, <span style=\"color: #008080; text-decoration-color: #008080; font-weight: bold\">4</span><span style=\"font-weight: bold\">)</span>,\n",
       "    <span style=\"font-weight: bold\">(</span><span style=\"color: #008000; text-decoration-color: #008000\">'right central venous catheter terminates at the cavoatrial junction .'</span>, <span style=\"color: #008080; text-decoration-color: #008080; font-weight: bold\">3</span><span style=\"font-weight: bold\">)</span>,\n",
       "    <span style=\"font-weight: bold\">(</span><span style=\"color: #008000; text-decoration-color: #008000\">'right internal jugular central venous catheter tip terminates in the upper svc .'</span>, <span style=\"color: #008080; text-decoration-color: #008080; font-weight: bold\">3</span><span style=\"font-weight: bold\">)</span>,\n",
       "    <span style=\"font-weight: bold\">(</span><span style=\"color: #008000; text-decoration-color: #008000\">'a central venous catheter terminates at the cavoatrial junction .'</span>, <span style=\"color: #008080; text-decoration-color: #008080; font-weight: bold\">3</span><span style=\"font-weight: bold\">)</span>,\n",
       "    <span style=\"font-weight: bold\">(</span>\n",
       "        <span style=\"color: #008000; text-decoration-color: #008000\">'right internal jugular central venous catheter tip terminates at the junction of the svc and right atrium </span>\n",
       "<span style=\"color: #008000; text-decoration-color: #008000\">.'</span>,\n",
       "        <span style=\"color: #008080; text-decoration-color: #008080; font-weight: bold\">2</span>\n",
       "    <span style=\"font-weight: bold\">)</span>\n",
       "<span style=\"font-weight: bold\">]</span>\n",
       "</pre>\n"
      ],
      "text/plain": [
       "\u001b[1m[\u001b[0m\n",
       "    \u001b[1m(\u001b[0m\u001b[32m'swan - ganz catheter terminates in the right pulmonary artery .'\u001b[0m, \u001b[1;36m4\u001b[0m\u001b[1m)\u001b[0m,\n",
       "    \u001b[1m(\u001b[0m\u001b[32m'right central venous catheter terminates at the cavoatrial junction .'\u001b[0m, \u001b[1;36m3\u001b[0m\u001b[1m)\u001b[0m,\n",
       "    \u001b[1m(\u001b[0m\u001b[32m'right internal jugular central venous catheter tip terminates in the upper svc .'\u001b[0m, \u001b[1;36m3\u001b[0m\u001b[1m)\u001b[0m,\n",
       "    \u001b[1m(\u001b[0m\u001b[32m'a central venous catheter terminates at the cavoatrial junction .'\u001b[0m, \u001b[1;36m3\u001b[0m\u001b[1m)\u001b[0m,\n",
       "    \u001b[1m(\u001b[0m\n",
       "        \u001b[32m'right internal jugular central venous catheter tip terminates at the junction of the svc and right atrium \u001b[0m\n",
       "\u001b[32m.'\u001b[0m,\n",
       "        \u001b[1;36m2\u001b[0m\n",
       "    \u001b[1m)\u001b[0m\n",
       "\u001b[1m]\u001b[0m\n"
      ]
     },
     "metadata": {},
     "output_type": "display_data"
    },
    {
     "data": {
      "text/html": [
       "<pre style=\"white-space:pre;overflow-x:auto;line-height:normal;font-family:Menlo,'DejaVu Sans Mono',consolas,'Courier New',monospace\">Attribute: trace\n",
       "</pre>\n"
      ],
      "text/plain": [
       "Attribute: trace\n"
      ]
     },
     "metadata": {},
     "output_type": "display_data"
    },
    {
     "data": {
      "text/html": [
       "<pre style=\"white-space:pre;overflow-x:auto;line-height:normal;font-family:Menlo,'DejaVu Sans Mono',consolas,'Courier New',monospace\"><span style=\"font-weight: bold\">[</span>\n",
       "    <span style=\"font-weight: bold\">(</span><span style=\"color: #008000; text-decoration-color: #008000\">'possible trace right pleural effusion .'</span>, <span style=\"color: #008080; text-decoration-color: #008080; font-weight: bold\">8</span><span style=\"font-weight: bold\">)</span>,\n",
       "    <span style=\"font-weight: bold\">(</span><span style=\"color: #008000; text-decoration-color: #008000\">'possible trace left pleural effusion .'</span>, <span style=\"color: #008080; text-decoration-color: #008080; font-weight: bold\">8</span><span style=\"font-weight: bold\">)</span>,\n",
       "    <span style=\"font-weight: bold\">(</span><span style=\"color: #008000; text-decoration-color: #008000\">'trace bilateral pleural effusions .'</span>, <span style=\"color: #008080; text-decoration-color: #008080; font-weight: bold\">6</span><span style=\"font-weight: bold\">)</span>,\n",
       "    <span style=\"font-weight: bold\">(</span><span style=\"color: #008000; text-decoration-color: #008000\">'trace right pleural effusion .'</span>, <span style=\"color: #008080; text-decoration-color: #008080; font-weight: bold\">6</span><span style=\"font-weight: bold\">)</span>,\n",
       "    <span style=\"font-weight: bold\">(</span><span style=\"color: #008000; text-decoration-color: #008000\">'trace left pleural effusion .'</span>, <span style=\"color: #008080; text-decoration-color: #008080; font-weight: bold\">5</span><span style=\"font-weight: bold\">)</span>\n",
       "<span style=\"font-weight: bold\">]</span>\n",
       "</pre>\n"
      ],
      "text/plain": [
       "\u001b[1m[\u001b[0m\n",
       "    \u001b[1m(\u001b[0m\u001b[32m'possible trace right pleural effusion .'\u001b[0m, \u001b[1;36m8\u001b[0m\u001b[1m)\u001b[0m,\n",
       "    \u001b[1m(\u001b[0m\u001b[32m'possible trace left pleural effusion .'\u001b[0m, \u001b[1;36m8\u001b[0m\u001b[1m)\u001b[0m,\n",
       "    \u001b[1m(\u001b[0m\u001b[32m'trace bilateral pleural effusions .'\u001b[0m, \u001b[1;36m6\u001b[0m\u001b[1m)\u001b[0m,\n",
       "    \u001b[1m(\u001b[0m\u001b[32m'trace right pleural effusion .'\u001b[0m, \u001b[1;36m6\u001b[0m\u001b[1m)\u001b[0m,\n",
       "    \u001b[1m(\u001b[0m\u001b[32m'trace left pleural effusion .'\u001b[0m, \u001b[1;36m5\u001b[0m\u001b[1m)\u001b[0m\n",
       "\u001b[1m]\u001b[0m\n"
      ]
     },
     "metadata": {},
     "output_type": "display_data"
    },
    {
     "data": {
      "text/html": [
       "<pre style=\"white-space:pre;overflow-x:auto;line-height:normal;font-family:Menlo,'DejaVu Sans Mono',consolas,'Courier New',monospace\">Attribute: device\n",
       "</pre>\n"
      ],
      "text/plain": [
       "Attribute: device\n"
      ]
     },
     "metadata": {},
     "output_type": "display_data"
    },
    {
     "data": {
      "text/html": [
       "<pre style=\"white-space:pre;overflow-x:auto;line-height:normal;font-family:Menlo,'DejaVu Sans Mono',consolas,'Courier New',monospace\"><span style=\"font-weight: bold\">[</span>\n",
       "    <span style=\"font-weight: bold\">(</span>\n",
       "        <span style=\"color: #008000; text-decoration-color: #008000\">'left - sided dual - chamber pacemaker device is noted with leads terminating in the right atrium and right</span>\n",
       "<span style=\"color: #008000; text-decoration-color: #008000\">ventricle .'</span>,\n",
       "        <span style=\"color: #008080; text-decoration-color: #008080; font-weight: bold\">4</span>\n",
       "    <span style=\"font-weight: bold\">)</span>,\n",
       "    <span style=\"font-weight: bold\">(</span><span style=\"color: #008000; text-decoration-color: #008000\">'monitoring and support devices in appropriate position .'</span>, <span style=\"color: #008080; text-decoration-color: #008080; font-weight: bold\">3</span><span style=\"font-weight: bold\">)</span>,\n",
       "    <span style=\"font-weight: bold\">(</span><span style=\"color: #008000; text-decoration-color: #008000\">'monitoring and support devices are unchanged .'</span>, <span style=\"color: #008080; text-decoration-color: #008080; font-weight: bold\">3</span><span style=\"font-weight: bold\">)</span>,\n",
       "    <span style=\"font-weight: bold\">(</span><span style=\"color: #008000; text-decoration-color: #008000\">'a left - sided pacer device is noted with lead terminating in the right ventricle .'</span>, <span style=\"color: #008080; text-decoration-color: #008080; font-weight: bold\">2</span><span style=\"font-weight: bold\">)</span>,\n",
       "    <span style=\"font-weight: bold\">(</span>\n",
       "        <span style=\"color: #008000; text-decoration-color: #008000\">'left - sided pacemaker device is noted with leads terminating in the right atrium and right ventricle .'</span>,\n",
       "        <span style=\"color: #008080; text-decoration-color: #008080; font-weight: bold\">2</span>\n",
       "    <span style=\"font-weight: bold\">)</span>\n",
       "<span style=\"font-weight: bold\">]</span>\n",
       "</pre>\n"
      ],
      "text/plain": [
       "\u001b[1m[\u001b[0m\n",
       "    \u001b[1m(\u001b[0m\n",
       "        \u001b[32m'left - sided dual - chamber pacemaker device is noted with leads terminating in the right atrium and right\u001b[0m\n",
       "\u001b[32mventricle .'\u001b[0m,\n",
       "        \u001b[1;36m4\u001b[0m\n",
       "    \u001b[1m)\u001b[0m,\n",
       "    \u001b[1m(\u001b[0m\u001b[32m'monitoring and support devices in appropriate position .'\u001b[0m, \u001b[1;36m3\u001b[0m\u001b[1m)\u001b[0m,\n",
       "    \u001b[1m(\u001b[0m\u001b[32m'monitoring and support devices are unchanged .'\u001b[0m, \u001b[1;36m3\u001b[0m\u001b[1m)\u001b[0m,\n",
       "    \u001b[1m(\u001b[0m\u001b[32m'a left - sided pacer device is noted with lead terminating in the right ventricle .'\u001b[0m, \u001b[1;36m2\u001b[0m\u001b[1m)\u001b[0m,\n",
       "    \u001b[1m(\u001b[0m\n",
       "        \u001b[32m'left - sided pacemaker device is noted with leads terminating in the right atrium and right ventricle .'\u001b[0m,\n",
       "        \u001b[1;36m2\u001b[0m\n",
       "    \u001b[1m)\u001b[0m\n",
       "\u001b[1m]\u001b[0m\n"
      ]
     },
     "metadata": {},
     "output_type": "display_data"
    },
    {
     "data": {
      "text/html": [
       "<pre style=\"white-space:pre;overflow-x:auto;line-height:normal;font-family:Menlo,'DejaVu Sans Mono',consolas,'Courier New',monospace\">Attribute: et\n",
       "</pre>\n"
      ],
      "text/plain": [
       "Attribute: et\n"
      ]
     },
     "metadata": {},
     "output_type": "display_data"
    },
    {
     "data": {
      "text/html": [
       "<pre style=\"white-space:pre;overflow-x:auto;line-height:normal;font-family:Menlo,'DejaVu Sans Mono',consolas,'Courier New',monospace\"><span style=\"font-weight: bold\">[</span>\n",
       "    <span style=\"font-weight: bold\">(</span><span style=\"color: #008000; text-decoration-color: #008000\">'the cardiomediastinal silhouette is normal .'</span>, <span style=\"color: #008080; text-decoration-color: #008080; font-weight: bold\">412</span><span style=\"font-weight: bold\">)</span>,\n",
       "    <span style=\"font-weight: bold\">(</span><span style=\"color: #008000; text-decoration-color: #008000\">'the cardiomediastinal silhouette is within normal limits .'</span>, <span style=\"color: #008080; text-decoration-color: #008080; font-weight: bold\">254</span><span style=\"font-weight: bold\">)</span>,\n",
       "    <span style=\"font-weight: bold\">(</span><span style=\"color: #008000; text-decoration-color: #008000\">'the cardiac and mediastinal silhouettes are unremarkable .'</span>, <span style=\"color: #008080; text-decoration-color: #008080; font-weight: bold\">202</span><span style=\"font-weight: bold\">)</span>,\n",
       "    <span style=\"font-weight: bold\">(</span><span style=\"color: #008000; text-decoration-color: #008000\">'cardiomediastinal silhouette is within normal limits .'</span>, <span style=\"color: #008080; text-decoration-color: #008080; font-weight: bold\">150</span><span style=\"font-weight: bold\">)</span>,\n",
       "    <span style=\"font-weight: bold\">(</span><span style=\"color: #008000; text-decoration-color: #008000\">'the cardiac and mediastinal silhouettes are stable .'</span>, <span style=\"color: #008080; text-decoration-color: #008080; font-weight: bold\">115</span><span style=\"font-weight: bold\">)</span>\n",
       "<span style=\"font-weight: bold\">]</span>\n",
       "</pre>\n"
      ],
      "text/plain": [
       "\u001b[1m[\u001b[0m\n",
       "    \u001b[1m(\u001b[0m\u001b[32m'the cardiomediastinal silhouette is normal .'\u001b[0m, \u001b[1;36m412\u001b[0m\u001b[1m)\u001b[0m,\n",
       "    \u001b[1m(\u001b[0m\u001b[32m'the cardiomediastinal silhouette is within normal limits .'\u001b[0m, \u001b[1;36m254\u001b[0m\u001b[1m)\u001b[0m,\n",
       "    \u001b[1m(\u001b[0m\u001b[32m'the cardiac and mediastinal silhouettes are unremarkable .'\u001b[0m, \u001b[1;36m202\u001b[0m\u001b[1m)\u001b[0m,\n",
       "    \u001b[1m(\u001b[0m\u001b[32m'cardiomediastinal silhouette is within normal limits .'\u001b[0m, \u001b[1;36m150\u001b[0m\u001b[1m)\u001b[0m,\n",
       "    \u001b[1m(\u001b[0m\u001b[32m'the cardiac and mediastinal silhouettes are stable .'\u001b[0m, \u001b[1;36m115\u001b[0m\u001b[1m)\u001b[0m\n",
       "\u001b[1m]\u001b[0m\n"
      ]
     },
     "metadata": {},
     "output_type": "display_data"
    },
    {
     "data": {
      "text/html": [
       "<pre style=\"white-space:pre;overflow-x:auto;line-height:normal;font-family:Menlo,'DejaVu Sans Mono',consolas,'Courier New',monospace\">Attribute: lead\n",
       "</pre>\n"
      ],
      "text/plain": [
       "Attribute: lead\n"
      ]
     },
     "metadata": {},
     "output_type": "display_data"
    },
    {
     "data": {
      "text/html": [
       "<pre style=\"white-space:pre;overflow-x:auto;line-height:normal;font-family:Menlo,'DejaVu Sans Mono',consolas,'Courier New',monospace\"><span style=\"font-weight: bold\">[</span>\n",
       "    <span style=\"font-weight: bold\">(</span><span style=\"color: #008000; text-decoration-color: #008000\">'overlying ekg leads are present .'</span>, <span style=\"color: #008080; text-decoration-color: #008080; font-weight: bold\">16</span><span style=\"font-weight: bold\">)</span>,\n",
       "    <span style=\"font-weight: bold\">(</span><span style=\"color: #008000; text-decoration-color: #008000\">'ekg leads overlie the chest wall .'</span>, <span style=\"color: #008080; text-decoration-color: #008080; font-weight: bold\">5</span><span style=\"font-weight: bold\">)</span>,\n",
       "    <span style=\"font-weight: bold\">(</span>\n",
       "        <span style=\"color: #008000; text-decoration-color: #008000\">'left - sided dual - chamber pacemaker device is noted with leads terminating in the right atrium and right</span>\n",
       "<span style=\"color: #008000; text-decoration-color: #008000\">ventricle .'</span>,\n",
       "        <span style=\"color: #008080; text-decoration-color: #008080; font-weight: bold\">4</span>\n",
       "    <span style=\"font-weight: bold\">)</span>,\n",
       "    <span style=\"font-weight: bold\">(</span>\n",
       "        <span style=\"color: #008000; text-decoration-color: #008000\">'dual lead left - sided pacemaker is again seen with leads extending to the expected positions of the right</span>\n",
       "<span style=\"color: #008000; text-decoration-color: #008000\">atrium and right ventricle .'</span>,\n",
       "        <span style=\"color: #008080; text-decoration-color: #008080; font-weight: bold\">3</span>\n",
       "    <span style=\"font-weight: bold\">)</span>,\n",
       "    <span style=\"font-weight: bold\">(</span><span style=\"color: #008000; text-decoration-color: #008000\">'overlying ekg leads are present somewhat limiting assessment .'</span>, <span style=\"color: #008080; text-decoration-color: #008080; font-weight: bold\">3</span><span style=\"font-weight: bold\">)</span>\n",
       "<span style=\"font-weight: bold\">]</span>\n",
       "</pre>\n"
      ],
      "text/plain": [
       "\u001b[1m[\u001b[0m\n",
       "    \u001b[1m(\u001b[0m\u001b[32m'overlying ekg leads are present .'\u001b[0m, \u001b[1;36m16\u001b[0m\u001b[1m)\u001b[0m,\n",
       "    \u001b[1m(\u001b[0m\u001b[32m'ekg leads overlie the chest wall .'\u001b[0m, \u001b[1;36m5\u001b[0m\u001b[1m)\u001b[0m,\n",
       "    \u001b[1m(\u001b[0m\n",
       "        \u001b[32m'left - sided dual - chamber pacemaker device is noted with leads terminating in the right atrium and right\u001b[0m\n",
       "\u001b[32mventricle .'\u001b[0m,\n",
       "        \u001b[1;36m4\u001b[0m\n",
       "    \u001b[1m)\u001b[0m,\n",
       "    \u001b[1m(\u001b[0m\n",
       "        \u001b[32m'dual lead left - sided pacemaker is again seen with leads extending to the expected positions of the right\u001b[0m\n",
       "\u001b[32matrium and right ventricle .'\u001b[0m,\n",
       "        \u001b[1;36m3\u001b[0m\n",
       "    \u001b[1m)\u001b[0m,\n",
       "    \u001b[1m(\u001b[0m\u001b[32m'overlying ekg leads are present somewhat limiting assessment .'\u001b[0m, \u001b[1;36m3\u001b[0m\u001b[1m)\u001b[0m\n",
       "\u001b[1m]\u001b[0m\n"
      ]
     },
     "metadata": {},
     "output_type": "display_data"
    },
    {
     "data": {
      "text/html": [
       "<pre style=\"white-space:pre;overflow-x:auto;line-height:normal;font-family:Menlo,'DejaVu Sans Mono',consolas,'Courier New',monospace\">Attribute: aeration\n",
       "</pre>\n"
      ],
      "text/plain": [
       "Attribute: aeration\n"
      ]
     },
     "metadata": {},
     "output_type": "display_data"
    },
    {
     "data": {
      "text/html": [
       "<pre style=\"white-space:pre;overflow-x:auto;line-height:normal;font-family:Menlo,'DejaVu Sans Mono',consolas,'Courier New',monospace\"><span style=\"font-weight: bold\">[</span>\n",
       "    <span style=\"font-weight: bold\">(</span><span style=\"color: #008000; text-decoration-color: #008000\">'improved aeration at the left lung base .'</span>, <span style=\"color: #008080; text-decoration-color: #008080; font-weight: bold\">2</span><span style=\"font-weight: bold\">)</span>,\n",
       "    <span style=\"font-weight: bold\">(</span><span style=\"color: #008000; text-decoration-color: #008000\">'slight improvement in right lung aeration since ___ with residual bibasilar atelectasis .'</span>, <span style=\"color: #008080; text-decoration-color: #008080; font-weight: bold\">1</span><span style=\"font-weight: bold\">)</span>,\n",
       "    <span style=\"font-weight: bold\">(</span>\n",
       "        <span style=\"color: #008000; text-decoration-color: #008000\">'compared to the prior chest radiograph , the degree of diffuse right lung opacification has improved , </span>\n",
       "<span style=\"color: #008000; text-decoration-color: #008000\">with improved aeration particularly in the right upper lung field .'</span>,\n",
       "        <span style=\"color: #008080; text-decoration-color: #008080; font-weight: bold\">1</span>\n",
       "    <span style=\"font-weight: bold\">)</span>,\n",
       "    <span style=\"font-weight: bold\">(</span>\n",
       "        <span style=\"color: #008000; text-decoration-color: #008000\">'interval improvement in aeration of the right lung compared to the prior study , but there is persistent </span>\n",
       "<span style=\"color: #008000; text-decoration-color: #008000\">hazy opacification within the right lung base concerning for persistent pneumonia .'</span>,\n",
       "        <span style=\"color: #008080; text-decoration-color: #008080; font-weight: bold\">1</span>\n",
       "    <span style=\"font-weight: bold\">)</span>,\n",
       "    <span style=\"font-weight: bold\">(</span>\n",
       "        <span style=\"color: #008000; text-decoration-color: #008000\">'single portable chest radiograph demonstrates persistent though minimally improved mild to moderate </span>\n",
       "<span style=\"color: #008000; text-decoration-color: #008000\">pulmonary edema with slightly improved aeration of the bilateral upper lungs , left greater than right .'</span>,\n",
       "        <span style=\"color: #008080; text-decoration-color: #008080; font-weight: bold\">1</span>\n",
       "    <span style=\"font-weight: bold\">)</span>\n",
       "<span style=\"font-weight: bold\">]</span>\n",
       "</pre>\n"
      ],
      "text/plain": [
       "\u001b[1m[\u001b[0m\n",
       "    \u001b[1m(\u001b[0m\u001b[32m'improved aeration at the left lung base .'\u001b[0m, \u001b[1;36m2\u001b[0m\u001b[1m)\u001b[0m,\n",
       "    \u001b[1m(\u001b[0m\u001b[32m'slight improvement in right lung aeration since ___ with residual bibasilar atelectasis .'\u001b[0m, \u001b[1;36m1\u001b[0m\u001b[1m)\u001b[0m,\n",
       "    \u001b[1m(\u001b[0m\n",
       "        \u001b[32m'compared to the prior chest radiograph , the degree of diffuse right lung opacification has improved , \u001b[0m\n",
       "\u001b[32mwith improved aeration particularly in the right upper lung field .'\u001b[0m,\n",
       "        \u001b[1;36m1\u001b[0m\n",
       "    \u001b[1m)\u001b[0m,\n",
       "    \u001b[1m(\u001b[0m\n",
       "        \u001b[32m'interval improvement in aeration of the right lung compared to the prior study , but there is persistent \u001b[0m\n",
       "\u001b[32mhazy opacification within the right lung base concerning for persistent pneumonia .'\u001b[0m,\n",
       "        \u001b[1;36m1\u001b[0m\n",
       "    \u001b[1m)\u001b[0m,\n",
       "    \u001b[1m(\u001b[0m\n",
       "        \u001b[32m'single portable chest radiograph demonstrates persistent though minimally improved mild to moderate \u001b[0m\n",
       "\u001b[32mpulmonary edema with slightly improved aeration of the bilateral upper lungs , left greater than right .'\u001b[0m,\n",
       "        \u001b[1;36m1\u001b[0m\n",
       "    \u001b[1m)\u001b[0m\n",
       "\u001b[1m]\u001b[0m\n"
      ]
     },
     "metadata": {},
     "output_type": "display_data"
    }
   ],
   "source": [
    "from collections import Counter\n",
    "\n",
    "for attribute in attributes:\n",
    "    # Identify sentences that contain the attribute from the \"sentences\" column\n",
    "    sentences_with_attributes = []\n",
    "\n",
    "    for sentence_list in train_df[\"sentences\"]:\n",
    "        if isinstance(sentence_list, list):\n",
    "            for sentence in sentence_list:\n",
    "                if attribute in sentence:\n",
    "                    sentences_with_attributes.append(sentence)\n",
    "\n",
    "    # Count the frequency of each sentence containing the attribute\n",
    "    sentence_counter = Counter(sentences_with_attributes)\n",
    "\n",
    "    # Get the 200 most frequent sentences\n",
    "    most_common_sentences = [\n",
    "        sentence for sentence, _ in sentence_counter.most_common(200)\n",
    "    ]\n",
    "\n",
    "    # Print the attribute and the two most common sentences for debugging\n",
    "    print(f\"Attribute: {attribute}\")\n",
    "    print(sentence_counter.most_common(5))"
   ]
  },
  {
   "cell_type": "code",
   "execution_count": 46,
   "metadata": {},
   "outputs": [
    {
     "data": {
      "text/html": [
       "<pre style=\"white-space:pre;overflow-x:auto;line-height:normal;font-family:Menlo,'DejaVu Sans Mono',consolas,'Courier New',monospace\">Using device: cuda\n",
       "</pre>\n"
      ],
      "text/plain": [
       "Using device: cuda\n"
      ]
     },
     "metadata": {},
     "output_type": "display_data"
    },
    {
     "data": {
      "text/html": [
       "<pre style=\"white-space:pre;overflow-x:auto;line-height:normal;font-family:Menlo,'DejaVu Sans Mono',consolas,'Courier New',monospace\"><span style=\"color: #800080; text-decoration-color: #800080; font-weight: bold\">torch.Size</span><span style=\"font-weight: bold\">([</span><span style=\"color: #008080; text-decoration-color: #008080; font-weight: bold\">50</span>, <span style=\"color: #008080; text-decoration-color: #008080; font-weight: bold\">768</span><span style=\"font-weight: bold\">])</span>\n",
       "</pre>\n"
      ],
      "text/plain": [
       "\u001b[1;35mtorch.Size\u001b[0m\u001b[1m(\u001b[0m\u001b[1m[\u001b[0m\u001b[1;36m50\u001b[0m, \u001b[1;36m768\u001b[0m\u001b[1m]\u001b[0m\u001b[1m)\u001b[0m\n"
      ]
     },
     "metadata": {},
     "output_type": "display_data"
    },
    {
     "data": {
      "text/html": [
       "<pre style=\"white-space:pre;overflow-x:auto;line-height:normal;font-family:Menlo,'DejaVu Sans Mono',consolas,'Courier New',monospace\">Shape: <span style=\"color: #800080; text-decoration-color: #800080; font-weight: bold\">torch.Size</span><span style=\"font-weight: bold\">([</span><span style=\"color: #008080; text-decoration-color: #008080; font-weight: bold\">768</span><span style=\"font-weight: bold\">])</span>\n",
       "</pre>\n"
      ],
      "text/plain": [
       "Shape: \u001b[1;35mtorch.Size\u001b[0m\u001b[1m(\u001b[0m\u001b[1m[\u001b[0m\u001b[1;36m768\u001b[0m\u001b[1m]\u001b[0m\u001b[1m)\u001b[0m\n"
      ]
     },
     "metadata": {},
     "output_type": "display_data"
    },
    {
     "data": {
      "text/html": [
       "<pre style=\"white-space:pre;overflow-x:auto;line-height:normal;font-family:Menlo,'DejaVu Sans Mono',consolas,'Courier New',monospace\">Attribute: atelectasis\n",
       "</pre>\n"
      ],
      "text/plain": [
       "Attribute: atelectasis\n"
      ]
     },
     "metadata": {},
     "output_type": "display_data"
    },
    {
     "data": {
      "text/html": [
       "<pre style=\"white-space:pre;overflow-x:auto;line-height:normal;font-family:Menlo,'DejaVu Sans Mono',consolas,'Courier New',monospace\">Embedding: <span style=\"color: #800080; text-decoration-color: #800080; font-weight: bold\">tensor</span><span style=\"font-weight: bold\">([</span><span style=\"color: #008080; text-decoration-color: #008080; font-weight: bold\">-0.0039</span>, <span style=\"color: #008080; text-decoration-color: #008080; font-weight: bold\">-0.0151</span>, <span style=\"color: #008080; text-decoration-color: #008080; font-weight: bold\">-0.0029</span>, <span style=\"color: #008080; text-decoration-color: #008080; font-weight: bold\">-0.0039</span>,  <span style=\"color: #008080; text-decoration-color: #008080; font-weight: bold\">0.0065</span>,  <span style=\"color: #008080; text-decoration-color: #008080; font-weight: bold\">0.0003</span>,  <span style=\"color: #008080; text-decoration-color: #008080; font-weight: bold\">0.0254</span>,  <span style=\"color: #008080; text-decoration-color: #008080; font-weight: bold\">0.0503</span>,\n",
       "        <span style=\"color: #008080; text-decoration-color: #008080; font-weight: bold\">-0.0120</span>, <span style=\"color: #008080; text-decoration-color: #008080; font-weight: bold\">-0.0131</span><span style=\"font-weight: bold\">]</span>, <span style=\"color: #808000; text-decoration-color: #808000\">device</span>=<span style=\"color: #008000; text-decoration-color: #008000\">'cuda:0'</span><span style=\"font-weight: bold\">)</span>, dtype: torch.float32\n",
       "</pre>\n"
      ],
      "text/plain": [
       "Embedding: \u001b[1;35mtensor\u001b[0m\u001b[1m(\u001b[0m\u001b[1m[\u001b[0m\u001b[1;36m-0.0039\u001b[0m, \u001b[1;36m-0.0151\u001b[0m, \u001b[1;36m-0.0029\u001b[0m, \u001b[1;36m-0.0039\u001b[0m,  \u001b[1;36m0.0065\u001b[0m,  \u001b[1;36m0.0003\u001b[0m,  \u001b[1;36m0.0254\u001b[0m,  \u001b[1;36m0.0503\u001b[0m,\n",
       "        \u001b[1;36m-0.0120\u001b[0m, \u001b[1;36m-0.0131\u001b[0m\u001b[1m]\u001b[0m, \u001b[33mdevice\u001b[0m=\u001b[32m'cuda:0'\u001b[0m\u001b[1m)\u001b[0m, dtype: torch.float32\n"
      ]
     },
     "metadata": {},
     "output_type": "display_data"
    },
    {
     "data": {
      "text/html": [
       "<pre style=\"white-space:pre;overflow-x:auto;line-height:normal;font-family:Menlo,'DejaVu Sans Mono',consolas,'Courier New',monospace\">Shape: <span style=\"color: #800080; text-decoration-color: #800080; font-weight: bold\">torch.Size</span><span style=\"font-weight: bold\">([</span><span style=\"color: #008080; text-decoration-color: #008080; font-weight: bold\">768</span><span style=\"font-weight: bold\">])</span>\n",
       "</pre>\n"
      ],
      "text/plain": [
       "Shape: \u001b[1;35mtorch.Size\u001b[0m\u001b[1m(\u001b[0m\u001b[1m[\u001b[0m\u001b[1;36m768\u001b[0m\u001b[1m]\u001b[0m\u001b[1m)\u001b[0m\n"
      ]
     },
     "metadata": {},
     "output_type": "display_data"
    },
    {
     "data": {
      "text/html": [
       "<pre style=\"white-space:pre;overflow-x:auto;line-height:normal;font-family:Menlo,'DejaVu Sans Mono',consolas,'Courier New',monospace\">Attribute: opacity\n",
       "</pre>\n"
      ],
      "text/plain": [
       "Attribute: opacity\n"
      ]
     },
     "metadata": {},
     "output_type": "display_data"
    },
    {
     "data": {
      "text/html": [
       "<pre style=\"white-space:pre;overflow-x:auto;line-height:normal;font-family:Menlo,'DejaVu Sans Mono',consolas,'Courier New',monospace\">Embedding: <span style=\"color: #800080; text-decoration-color: #800080; font-weight: bold\">tensor</span><span style=\"font-weight: bold\">([</span><span style=\"color: #008080; text-decoration-color: #008080; font-weight: bold\">-0.0088</span>, <span style=\"color: #008080; text-decoration-color: #008080; font-weight: bold\">-0.0229</span>, <span style=\"color: #008080; text-decoration-color: #008080; font-weight: bold\">-0.0007</span>,  <span style=\"color: #008080; text-decoration-color: #008080; font-weight: bold\">0.0015</span>,  <span style=\"color: #008080; text-decoration-color: #008080; font-weight: bold\">0.0052</span>, <span style=\"color: #008080; text-decoration-color: #008080; font-weight: bold\">-0.0062</span>,  <span style=\"color: #008080; text-decoration-color: #008080; font-weight: bold\">0.0125</span>,  <span style=\"color: #008080; text-decoration-color: #008080; font-weight: bold\">0.0367</span>,\n",
       "        <span style=\"color: #008080; text-decoration-color: #008080; font-weight: bold\">-0.0623</span>,  <span style=\"color: #008080; text-decoration-color: #008080; font-weight: bold\">0.0031</span><span style=\"font-weight: bold\">]</span>, <span style=\"color: #808000; text-decoration-color: #808000\">device</span>=<span style=\"color: #008000; text-decoration-color: #008000\">'cuda:0'</span><span style=\"font-weight: bold\">)</span>, dtype: torch.float32\n",
       "</pre>\n"
      ],
      "text/plain": [
       "Embedding: \u001b[1;35mtensor\u001b[0m\u001b[1m(\u001b[0m\u001b[1m[\u001b[0m\u001b[1;36m-0.0088\u001b[0m, \u001b[1;36m-0.0229\u001b[0m, \u001b[1;36m-0.0007\u001b[0m,  \u001b[1;36m0.0015\u001b[0m,  \u001b[1;36m0.0052\u001b[0m, \u001b[1;36m-0.0062\u001b[0m,  \u001b[1;36m0.0125\u001b[0m,  \u001b[1;36m0.0367\u001b[0m,\n",
       "        \u001b[1;36m-0.0623\u001b[0m,  \u001b[1;36m0.0031\u001b[0m\u001b[1m]\u001b[0m, \u001b[33mdevice\u001b[0m=\u001b[32m'cuda:0'\u001b[0m\u001b[1m)\u001b[0m, dtype: torch.float32\n"
      ]
     },
     "metadata": {},
     "output_type": "display_data"
    },
    {
     "data": {
      "text/html": [
       "<pre style=\"white-space:pre;overflow-x:auto;line-height:normal;font-family:Menlo,'DejaVu Sans Mono',consolas,'Courier New',monospace\">Shape: <span style=\"color: #800080; text-decoration-color: #800080; font-weight: bold\">torch.Size</span><span style=\"font-weight: bold\">([</span><span style=\"color: #008080; text-decoration-color: #008080; font-weight: bold\">768</span><span style=\"font-weight: bold\">])</span>\n",
       "</pre>\n"
      ],
      "text/plain": [
       "Shape: \u001b[1;35mtorch.Size\u001b[0m\u001b[1m(\u001b[0m\u001b[1m[\u001b[0m\u001b[1;36m768\u001b[0m\u001b[1m]\u001b[0m\u001b[1m)\u001b[0m\n"
      ]
     },
     "metadata": {},
     "output_type": "display_data"
    },
    {
     "data": {
      "text/html": [
       "<pre style=\"white-space:pre;overflow-x:auto;line-height:normal;font-family:Menlo,'DejaVu Sans Mono',consolas,'Courier New',monospace\">Attribute: effusion\n",
       "</pre>\n"
      ],
      "text/plain": [
       "Attribute: effusion\n"
      ]
     },
     "metadata": {},
     "output_type": "display_data"
    },
    {
     "data": {
      "text/html": [
       "<pre style=\"white-space:pre;overflow-x:auto;line-height:normal;font-family:Menlo,'DejaVu Sans Mono',consolas,'Courier New',monospace\">Embedding: <span style=\"color: #800080; text-decoration-color: #800080; font-weight: bold\">tensor</span><span style=\"font-weight: bold\">([</span> <span style=\"color: #008080; text-decoration-color: #008080; font-weight: bold\">0.0019</span>, <span style=\"color: #008080; text-decoration-color: #008080; font-weight: bold\">-0.0820</span>, <span style=\"color: #008080; text-decoration-color: #008080; font-weight: bold\">-0.0005</span>,  <span style=\"color: #008080; text-decoration-color: #008080; font-weight: bold\">0.0331</span>,  <span style=\"color: #008080; text-decoration-color: #008080; font-weight: bold\">0.0108</span>, <span style=\"color: #008080; text-decoration-color: #008080; font-weight: bold\">-0.0160</span>,  <span style=\"color: #008080; text-decoration-color: #008080; font-weight: bold\">0.0037</span>,  <span style=\"color: #008080; text-decoration-color: #008080; font-weight: bold\">0.0277</span>,\n",
       "        <span style=\"color: #008080; text-decoration-color: #008080; font-weight: bold\">-0.0273</span>, <span style=\"color: #008080; text-decoration-color: #008080; font-weight: bold\">-0.0215</span><span style=\"font-weight: bold\">]</span>, <span style=\"color: #808000; text-decoration-color: #808000\">device</span>=<span style=\"color: #008000; text-decoration-color: #008000\">'cuda:0'</span><span style=\"font-weight: bold\">)</span>, dtype: torch.float32\n",
       "</pre>\n"
      ],
      "text/plain": [
       "Embedding: \u001b[1;35mtensor\u001b[0m\u001b[1m(\u001b[0m\u001b[1m[\u001b[0m \u001b[1;36m0.0019\u001b[0m, \u001b[1;36m-0.0820\u001b[0m, \u001b[1;36m-0.0005\u001b[0m,  \u001b[1;36m0.0331\u001b[0m,  \u001b[1;36m0.0108\u001b[0m, \u001b[1;36m-0.0160\u001b[0m,  \u001b[1;36m0.0037\u001b[0m,  \u001b[1;36m0.0277\u001b[0m,\n",
       "        \u001b[1;36m-0.0273\u001b[0m, \u001b[1;36m-0.0215\u001b[0m\u001b[1m]\u001b[0m, \u001b[33mdevice\u001b[0m=\u001b[32m'cuda:0'\u001b[0m\u001b[1m)\u001b[0m, dtype: torch.float32\n"
      ]
     },
     "metadata": {},
     "output_type": "display_data"
    },
    {
     "data": {
      "text/html": [
       "<pre style=\"white-space:pre;overflow-x:auto;line-height:normal;font-family:Menlo,'DejaVu Sans Mono',consolas,'Courier New',monospace\">Shape: <span style=\"color: #800080; text-decoration-color: #800080; font-weight: bold\">torch.Size</span><span style=\"font-weight: bold\">([</span><span style=\"color: #008080; text-decoration-color: #008080; font-weight: bold\">768</span><span style=\"font-weight: bold\">])</span>\n",
       "</pre>\n"
      ],
      "text/plain": [
       "Shape: \u001b[1;35mtorch.Size\u001b[0m\u001b[1m(\u001b[0m\u001b[1m[\u001b[0m\u001b[1;36m768\u001b[0m\u001b[1m]\u001b[0m\u001b[1m)\u001b[0m\n"
      ]
     },
     "metadata": {},
     "output_type": "display_data"
    },
    {
     "data": {
      "text/html": [
       "<pre style=\"white-space:pre;overflow-x:auto;line-height:normal;font-family:Menlo,'DejaVu Sans Mono',consolas,'Courier New',monospace\">Attribute: tube\n",
       "</pre>\n"
      ],
      "text/plain": [
       "Attribute: tube\n"
      ]
     },
     "metadata": {},
     "output_type": "display_data"
    },
    {
     "data": {
      "text/html": [
       "<pre style=\"white-space:pre;overflow-x:auto;line-height:normal;font-family:Menlo,'DejaVu Sans Mono',consolas,'Courier New',monospace\">Embedding: <span style=\"color: #800080; text-decoration-color: #800080; font-weight: bold\">tensor</span><span style=\"font-weight: bold\">([</span> <span style=\"color: #008080; text-decoration-color: #008080; font-weight: bold\">0.0204</span>, <span style=\"color: #008080; text-decoration-color: #008080; font-weight: bold\">-0.0983</span>, <span style=\"color: #008080; text-decoration-color: #008080; font-weight: bold\">-0.0180</span>, <span style=\"color: #008080; text-decoration-color: #008080; font-weight: bold\">-0.0084</span>, <span style=\"color: #008080; text-decoration-color: #008080; font-weight: bold\">-0.0283</span>,  <span style=\"color: #008080; text-decoration-color: #008080; font-weight: bold\">0.0028</span>,  <span style=\"color: #008080; text-decoration-color: #008080; font-weight: bold\">0.0202</span>, <span style=\"color: #008080; text-decoration-color: #008080; font-weight: bold\">-0.0033</span>,\n",
       "        <span style=\"color: #008080; text-decoration-color: #008080; font-weight: bold\">-0.0217</span>, <span style=\"color: #008080; text-decoration-color: #008080; font-weight: bold\">-0.0025</span><span style=\"font-weight: bold\">]</span>, <span style=\"color: #808000; text-decoration-color: #808000\">device</span>=<span style=\"color: #008000; text-decoration-color: #008000\">'cuda:0'</span><span style=\"font-weight: bold\">)</span>, dtype: torch.float32\n",
       "</pre>\n"
      ],
      "text/plain": [
       "Embedding: \u001b[1;35mtensor\u001b[0m\u001b[1m(\u001b[0m\u001b[1m[\u001b[0m \u001b[1;36m0.0204\u001b[0m, \u001b[1;36m-0.0983\u001b[0m, \u001b[1;36m-0.0180\u001b[0m, \u001b[1;36m-0.0084\u001b[0m, \u001b[1;36m-0.0283\u001b[0m,  \u001b[1;36m0.0028\u001b[0m,  \u001b[1;36m0.0202\u001b[0m, \u001b[1;36m-0.0033\u001b[0m,\n",
       "        \u001b[1;36m-0.0217\u001b[0m, \u001b[1;36m-0.0025\u001b[0m\u001b[1m]\u001b[0m, \u001b[33mdevice\u001b[0m=\u001b[32m'cuda:0'\u001b[0m\u001b[1m)\u001b[0m, dtype: torch.float32\n"
      ]
     },
     "metadata": {},
     "output_type": "display_data"
    },
    {
     "data": {
      "text/html": [
       "<pre style=\"white-space:pre;overflow-x:auto;line-height:normal;font-family:Menlo,'DejaVu Sans Mono',consolas,'Courier New',monospace\">Shape: <span style=\"color: #800080; text-decoration-color: #800080; font-weight: bold\">torch.Size</span><span style=\"font-weight: bold\">([</span><span style=\"color: #008080; text-decoration-color: #008080; font-weight: bold\">768</span><span style=\"font-weight: bold\">])</span>\n",
       "</pre>\n"
      ],
      "text/plain": [
       "Shape: \u001b[1;35mtorch.Size\u001b[0m\u001b[1m(\u001b[0m\u001b[1m[\u001b[0m\u001b[1;36m768\u001b[0m\u001b[1m]\u001b[0m\u001b[1m)\u001b[0m\n"
      ]
     },
     "metadata": {},
     "output_type": "display_data"
    },
    {
     "data": {
      "text/html": [
       "<pre style=\"white-space:pre;overflow-x:auto;line-height:normal;font-family:Menlo,'DejaVu Sans Mono',consolas,'Courier New',monospace\">Attribute: opacities\n",
       "</pre>\n"
      ],
      "text/plain": [
       "Attribute: opacities\n"
      ]
     },
     "metadata": {},
     "output_type": "display_data"
    },
    {
     "data": {
      "text/html": [
       "<pre style=\"white-space:pre;overflow-x:auto;line-height:normal;font-family:Menlo,'DejaVu Sans Mono',consolas,'Courier New',monospace\">Embedding: <span style=\"color: #800080; text-decoration-color: #800080; font-weight: bold\">tensor</span><span style=\"font-weight: bold\">([</span><span style=\"color: #008080; text-decoration-color: #008080; font-weight: bold\">-0.0094</span>, <span style=\"color: #008080; text-decoration-color: #008080; font-weight: bold\">-0.0217</span>, <span style=\"color: #008080; text-decoration-color: #008080; font-weight: bold\">-0.0015</span>, <span style=\"color: #008080; text-decoration-color: #008080; font-weight: bold\">-0.0012</span>, <span style=\"color: #008080; text-decoration-color: #008080; font-weight: bold\">-0.0001</span>, <span style=\"color: #008080; text-decoration-color: #008080; font-weight: bold\">-0.0147</span>,  <span style=\"color: #008080; text-decoration-color: #008080; font-weight: bold\">0.0216</span>,  <span style=\"color: #008080; text-decoration-color: #008080; font-weight: bold\">0.0415</span>,\n",
       "        <span style=\"color: #008080; text-decoration-color: #008080; font-weight: bold\">-0.0356</span>, <span style=\"color: #008080; text-decoration-color: #008080; font-weight: bold\">-0.0058</span><span style=\"font-weight: bold\">]</span>, <span style=\"color: #808000; text-decoration-color: #808000\">device</span>=<span style=\"color: #008000; text-decoration-color: #008000\">'cuda:0'</span><span style=\"font-weight: bold\">)</span>, dtype: torch.float32\n",
       "</pre>\n"
      ],
      "text/plain": [
       "Embedding: \u001b[1;35mtensor\u001b[0m\u001b[1m(\u001b[0m\u001b[1m[\u001b[0m\u001b[1;36m-0.0094\u001b[0m, \u001b[1;36m-0.0217\u001b[0m, \u001b[1;36m-0.0015\u001b[0m, \u001b[1;36m-0.0012\u001b[0m, \u001b[1;36m-0.0001\u001b[0m, \u001b[1;36m-0.0147\u001b[0m,  \u001b[1;36m0.0216\u001b[0m,  \u001b[1;36m0.0415\u001b[0m,\n",
       "        \u001b[1;36m-0.0356\u001b[0m, \u001b[1;36m-0.0058\u001b[0m\u001b[1m]\u001b[0m, \u001b[33mdevice\u001b[0m=\u001b[32m'cuda:0'\u001b[0m\u001b[1m)\u001b[0m, dtype: torch.float32\n"
      ]
     },
     "metadata": {},
     "output_type": "display_data"
    },
    {
     "data": {
      "text/html": [
       "<pre style=\"white-space:pre;overflow-x:auto;line-height:normal;font-family:Menlo,'DejaVu Sans Mono',consolas,'Courier New',monospace\">Shape: <span style=\"color: #800080; text-decoration-color: #800080; font-weight: bold\">torch.Size</span><span style=\"font-weight: bold\">([</span><span style=\"color: #008080; text-decoration-color: #008080; font-weight: bold\">768</span><span style=\"font-weight: bold\">])</span>\n",
       "</pre>\n"
      ],
      "text/plain": [
       "Shape: \u001b[1;35mtorch.Size\u001b[0m\u001b[1m(\u001b[0m\u001b[1m[\u001b[0m\u001b[1;36m768\u001b[0m\u001b[1m]\u001b[0m\u001b[1m)\u001b[0m\n"
      ]
     },
     "metadata": {},
     "output_type": "display_data"
    },
    {
     "data": {
      "text/html": [
       "<pre style=\"white-space:pre;overflow-x:auto;line-height:normal;font-family:Menlo,'DejaVu Sans Mono',consolas,'Courier New',monospace\">Attribute: edema\n",
       "</pre>\n"
      ],
      "text/plain": [
       "Attribute: edema\n"
      ]
     },
     "metadata": {},
     "output_type": "display_data"
    },
    {
     "data": {
      "text/html": [
       "<pre style=\"white-space:pre;overflow-x:auto;line-height:normal;font-family:Menlo,'DejaVu Sans Mono',consolas,'Courier New',monospace\">Embedding: <span style=\"color: #800080; text-decoration-color: #800080; font-weight: bold\">tensor</span><span style=\"font-weight: bold\">([</span><span style=\"color: #008080; text-decoration-color: #008080; font-weight: bold\">-0.0120</span>, <span style=\"color: #008080; text-decoration-color: #008080; font-weight: bold\">-0.0444</span>, <span style=\"color: #008080; text-decoration-color: #008080; font-weight: bold\">-0.0081</span>,  <span style=\"color: #008080; text-decoration-color: #008080; font-weight: bold\">0.0050</span>,  <span style=\"color: #008080; text-decoration-color: #008080; font-weight: bold\">0.0232</span>,  <span style=\"color: #008080; text-decoration-color: #008080; font-weight: bold\">0.0024</span>, <span style=\"color: #008080; text-decoration-color: #008080; font-weight: bold\">-0.0238</span>,  <span style=\"color: #008080; text-decoration-color: #008080; font-weight: bold\">0.0411</span>,\n",
       "        <span style=\"color: #008080; text-decoration-color: #008080; font-weight: bold\">-0.0506</span>, <span style=\"color: #008080; text-decoration-color: #008080; font-weight: bold\">-0.0011</span><span style=\"font-weight: bold\">]</span>, <span style=\"color: #808000; text-decoration-color: #808000\">device</span>=<span style=\"color: #008000; text-decoration-color: #008000\">'cuda:0'</span><span style=\"font-weight: bold\">)</span>, dtype: torch.float32\n",
       "</pre>\n"
      ],
      "text/plain": [
       "Embedding: \u001b[1;35mtensor\u001b[0m\u001b[1m(\u001b[0m\u001b[1m[\u001b[0m\u001b[1;36m-0.0120\u001b[0m, \u001b[1;36m-0.0444\u001b[0m, \u001b[1;36m-0.0081\u001b[0m,  \u001b[1;36m0.0050\u001b[0m,  \u001b[1;36m0.0232\u001b[0m,  \u001b[1;36m0.0024\u001b[0m, \u001b[1;36m-0.0238\u001b[0m,  \u001b[1;36m0.0411\u001b[0m,\n",
       "        \u001b[1;36m-0.0506\u001b[0m, \u001b[1;36m-0.0011\u001b[0m\u001b[1m]\u001b[0m, \u001b[33mdevice\u001b[0m=\u001b[32m'cuda:0'\u001b[0m\u001b[1m)\u001b[0m, dtype: torch.float32\n"
      ]
     },
     "metadata": {},
     "output_type": "display_data"
    },
    {
     "data": {
      "text/html": [
       "<pre style=\"white-space:pre;overflow-x:auto;line-height:normal;font-family:Menlo,'DejaVu Sans Mono',consolas,'Courier New',monospace\">Shape: <span style=\"color: #800080; text-decoration-color: #800080; font-weight: bold\">torch.Size</span><span style=\"font-weight: bold\">([</span><span style=\"color: #008080; text-decoration-color: #008080; font-weight: bold\">768</span><span style=\"font-weight: bold\">])</span>\n",
       "</pre>\n"
      ],
      "text/plain": [
       "Shape: \u001b[1;35mtorch.Size\u001b[0m\u001b[1m(\u001b[0m\u001b[1m[\u001b[0m\u001b[1;36m768\u001b[0m\u001b[1m]\u001b[0m\u001b[1m)\u001b[0m\n"
      ]
     },
     "metadata": {},
     "output_type": "display_data"
    },
    {
     "data": {
      "text/html": [
       "<pre style=\"white-space:pre;overflow-x:auto;line-height:normal;font-family:Menlo,'DejaVu Sans Mono',consolas,'Courier New',monospace\">Attribute: tip\n",
       "</pre>\n"
      ],
      "text/plain": [
       "Attribute: tip\n"
      ]
     },
     "metadata": {},
     "output_type": "display_data"
    },
    {
     "data": {
      "text/html": [
       "<pre style=\"white-space:pre;overflow-x:auto;line-height:normal;font-family:Menlo,'DejaVu Sans Mono',consolas,'Courier New',monospace\">Embedding: <span style=\"color: #800080; text-decoration-color: #800080; font-weight: bold\">tensor</span><span style=\"font-weight: bold\">([</span> <span style=\"color: #008080; text-decoration-color: #008080; font-weight: bold\">0.0166</span>, <span style=\"color: #008080; text-decoration-color: #008080; font-weight: bold\">-0.1052</span>, <span style=\"color: #008080; text-decoration-color: #008080; font-weight: bold\">-0.0110</span>,  <span style=\"color: #008080; text-decoration-color: #008080; font-weight: bold\">0.0081</span>, <span style=\"color: #008080; text-decoration-color: #008080; font-weight: bold\">-0.0192</span>,  <span style=\"color: #008080; text-decoration-color: #008080; font-weight: bold\">0.0153</span>,  <span style=\"color: #008080; text-decoration-color: #008080; font-weight: bold\">0.0189</span>, <span style=\"color: #008080; text-decoration-color: #008080; font-weight: bold\">-0.0014</span>,\n",
       "        <span style=\"color: #008080; text-decoration-color: #008080; font-weight: bold\">-0.0247</span>,  <span style=\"color: #008080; text-decoration-color: #008080; font-weight: bold\">0.0019</span><span style=\"font-weight: bold\">]</span>, <span style=\"color: #808000; text-decoration-color: #808000\">device</span>=<span style=\"color: #008000; text-decoration-color: #008000\">'cuda:0'</span><span style=\"font-weight: bold\">)</span>, dtype: torch.float32\n",
       "</pre>\n"
      ],
      "text/plain": [
       "Embedding: \u001b[1;35mtensor\u001b[0m\u001b[1m(\u001b[0m\u001b[1m[\u001b[0m \u001b[1;36m0.0166\u001b[0m, \u001b[1;36m-0.1052\u001b[0m, \u001b[1;36m-0.0110\u001b[0m,  \u001b[1;36m0.0081\u001b[0m, \u001b[1;36m-0.0192\u001b[0m,  \u001b[1;36m0.0153\u001b[0m,  \u001b[1;36m0.0189\u001b[0m, \u001b[1;36m-0.0014\u001b[0m,\n",
       "        \u001b[1;36m-0.0247\u001b[0m,  \u001b[1;36m0.0019\u001b[0m\u001b[1m]\u001b[0m, \u001b[33mdevice\u001b[0m=\u001b[32m'cuda:0'\u001b[0m\u001b[1m)\u001b[0m, dtype: torch.float32\n"
      ]
     },
     "metadata": {},
     "output_type": "display_data"
    },
    {
     "data": {
      "text/html": [
       "<pre style=\"white-space:pre;overflow-x:auto;line-height:normal;font-family:Menlo,'DejaVu Sans Mono',consolas,'Courier New',monospace\">Shape: <span style=\"color: #800080; text-decoration-color: #800080; font-weight: bold\">torch.Size</span><span style=\"font-weight: bold\">([</span><span style=\"color: #008080; text-decoration-color: #008080; font-weight: bold\">768</span><span style=\"font-weight: bold\">])</span>\n",
       "</pre>\n"
      ],
      "text/plain": [
       "Shape: \u001b[1;35mtorch.Size\u001b[0m\u001b[1m(\u001b[0m\u001b[1m[\u001b[0m\u001b[1;36m768\u001b[0m\u001b[1m]\u001b[0m\u001b[1m)\u001b[0m\n"
      ]
     },
     "metadata": {},
     "output_type": "display_data"
    },
    {
     "data": {
      "text/html": [
       "<pre style=\"white-space:pre;overflow-x:auto;line-height:normal;font-family:Menlo,'DejaVu Sans Mono',consolas,'Courier New',monospace\">Attribute: effusions\n",
       "</pre>\n"
      ],
      "text/plain": [
       "Attribute: effusions\n"
      ]
     },
     "metadata": {},
     "output_type": "display_data"
    },
    {
     "data": {
      "text/html": [
       "<pre style=\"white-space:pre;overflow-x:auto;line-height:normal;font-family:Menlo,'DejaVu Sans Mono',consolas,'Courier New',monospace\">Embedding: <span style=\"color: #800080; text-decoration-color: #800080; font-weight: bold\">tensor</span><span style=\"font-weight: bold\">([</span> <span style=\"color: #008080; text-decoration-color: #008080; font-weight: bold\">0.0024</span>, <span style=\"color: #008080; text-decoration-color: #008080; font-weight: bold\">-0.0746</span>,  <span style=\"color: #008080; text-decoration-color: #008080; font-weight: bold\">0.0066</span>,  <span style=\"color: #008080; text-decoration-color: #008080; font-weight: bold\">0.0194</span>,  <span style=\"color: #008080; text-decoration-color: #008080; font-weight: bold\">0.0082</span>, <span style=\"color: #008080; text-decoration-color: #008080; font-weight: bold\">-0.0142</span>,  <span style=\"color: #008080; text-decoration-color: #008080; font-weight: bold\">0.0073</span>,  <span style=\"color: #008080; text-decoration-color: #008080; font-weight: bold\">0.0313</span>,\n",
       "        <span style=\"color: #008080; text-decoration-color: #008080; font-weight: bold\">-0.0209</span>, <span style=\"color: #008080; text-decoration-color: #008080; font-weight: bold\">-0.0082</span><span style=\"font-weight: bold\">]</span>, <span style=\"color: #808000; text-decoration-color: #808000\">device</span>=<span style=\"color: #008000; text-decoration-color: #008000\">'cuda:0'</span><span style=\"font-weight: bold\">)</span>, dtype: torch.float32\n",
       "</pre>\n"
      ],
      "text/plain": [
       "Embedding: \u001b[1;35mtensor\u001b[0m\u001b[1m(\u001b[0m\u001b[1m[\u001b[0m \u001b[1;36m0.0024\u001b[0m, \u001b[1;36m-0.0746\u001b[0m,  \u001b[1;36m0.0066\u001b[0m,  \u001b[1;36m0.0194\u001b[0m,  \u001b[1;36m0.0082\u001b[0m, \u001b[1;36m-0.0142\u001b[0m,  \u001b[1;36m0.0073\u001b[0m,  \u001b[1;36m0.0313\u001b[0m,\n",
       "        \u001b[1;36m-0.0209\u001b[0m, \u001b[1;36m-0.0082\u001b[0m\u001b[1m]\u001b[0m, \u001b[33mdevice\u001b[0m=\u001b[32m'cuda:0'\u001b[0m\u001b[1m)\u001b[0m, dtype: torch.float32\n"
      ]
     },
     "metadata": {},
     "output_type": "display_data"
    },
    {
     "data": {
      "text/html": [
       "<pre style=\"white-space:pre;overflow-x:auto;line-height:normal;font-family:Menlo,'DejaVu Sans Mono',consolas,'Courier New',monospace\">Shape: <span style=\"color: #800080; text-decoration-color: #800080; font-weight: bold\">torch.Size</span><span style=\"font-weight: bold\">([</span><span style=\"color: #008080; text-decoration-color: #008080; font-weight: bold\">768</span><span style=\"font-weight: bold\">])</span>\n",
       "</pre>\n"
      ],
      "text/plain": [
       "Shape: \u001b[1;35mtorch.Size\u001b[0m\u001b[1m(\u001b[0m\u001b[1m[\u001b[0m\u001b[1;36m768\u001b[0m\u001b[1m]\u001b[0m\u001b[1m)\u001b[0m\n"
      ]
     },
     "metadata": {},
     "output_type": "display_data"
    },
    {
     "data": {
      "text/html": [
       "<pre style=\"white-space:pre;overflow-x:auto;line-height:normal;font-family:Menlo,'DejaVu Sans Mono',consolas,'Courier New',monospace\">Attribute: limits\n",
       "</pre>\n"
      ],
      "text/plain": [
       "Attribute: limits\n"
      ]
     },
     "metadata": {},
     "output_type": "display_data"
    },
    {
     "data": {
      "text/html": [
       "<pre style=\"white-space:pre;overflow-x:auto;line-height:normal;font-family:Menlo,'DejaVu Sans Mono',consolas,'Courier New',monospace\">Embedding: <span style=\"color: #800080; text-decoration-color: #800080; font-weight: bold\">tensor</span><span style=\"font-weight: bold\">([</span><span style=\"color: #008080; text-decoration-color: #008080; font-weight: bold\">-0.0093</span>, <span style=\"color: #008080; text-decoration-color: #008080; font-weight: bold\">-0.0656</span>, <span style=\"color: #008080; text-decoration-color: #008080; font-weight: bold\">-0.0086</span>,  <span style=\"color: #008080; text-decoration-color: #008080; font-weight: bold\">0.0092</span>,  <span style=\"color: #008080; text-decoration-color: #008080; font-weight: bold\">0.0037</span>, <span style=\"color: #008080; text-decoration-color: #008080; font-weight: bold\">-0.0112</span>,  <span style=\"color: #008080; text-decoration-color: #008080; font-weight: bold\">0.0001</span>,  <span style=\"color: #008080; text-decoration-color: #008080; font-weight: bold\">0.0373</span>,\n",
       "        <span style=\"color: #008080; text-decoration-color: #008080; font-weight: bold\">-0.0292</span>,  <span style=\"color: #008080; text-decoration-color: #008080; font-weight: bold\">0.0252</span><span style=\"font-weight: bold\">]</span>, <span style=\"color: #808000; text-decoration-color: #808000\">device</span>=<span style=\"color: #008000; text-decoration-color: #008000\">'cuda:0'</span><span style=\"font-weight: bold\">)</span>, dtype: torch.float32\n",
       "</pre>\n"
      ],
      "text/plain": [
       "Embedding: \u001b[1;35mtensor\u001b[0m\u001b[1m(\u001b[0m\u001b[1m[\u001b[0m\u001b[1;36m-0.0093\u001b[0m, \u001b[1;36m-0.0656\u001b[0m, \u001b[1;36m-0.0086\u001b[0m,  \u001b[1;36m0.0092\u001b[0m,  \u001b[1;36m0.0037\u001b[0m, \u001b[1;36m-0.0112\u001b[0m,  \u001b[1;36m0.0001\u001b[0m,  \u001b[1;36m0.0373\u001b[0m,\n",
       "        \u001b[1;36m-0.0292\u001b[0m,  \u001b[1;36m0.0252\u001b[0m\u001b[1m]\u001b[0m, \u001b[33mdevice\u001b[0m=\u001b[32m'cuda:0'\u001b[0m\u001b[1m)\u001b[0m, dtype: torch.float32\n"
      ]
     },
     "metadata": {},
     "output_type": "display_data"
    },
    {
     "data": {
      "text/html": [
       "<pre style=\"white-space:pre;overflow-x:auto;line-height:normal;font-family:Menlo,'DejaVu Sans Mono',consolas,'Courier New',monospace\">Shape: <span style=\"color: #800080; text-decoration-color: #800080; font-weight: bold\">torch.Size</span><span style=\"font-weight: bold\">([</span><span style=\"color: #008080; text-decoration-color: #008080; font-weight: bold\">768</span><span style=\"font-weight: bold\">])</span>\n",
       "</pre>\n"
      ],
      "text/plain": [
       "Shape: \u001b[1;35mtorch.Size\u001b[0m\u001b[1m(\u001b[0m\u001b[1m[\u001b[0m\u001b[1;36m768\u001b[0m\u001b[1m]\u001b[0m\u001b[1m)\u001b[0m\n"
      ]
     },
     "metadata": {},
     "output_type": "display_data"
    },
    {
     "data": {
      "text/html": [
       "<pre style=\"white-space:pre;overflow-x:auto;line-height:normal;font-family:Menlo,'DejaVu Sans Mono',consolas,'Courier New',monospace\">Attribute: congestion\n",
       "</pre>\n"
      ],
      "text/plain": [
       "Attribute: congestion\n"
      ]
     },
     "metadata": {},
     "output_type": "display_data"
    },
    {
     "data": {
      "text/html": [
       "<pre style=\"white-space:pre;overflow-x:auto;line-height:normal;font-family:Menlo,'DejaVu Sans Mono',consolas,'Courier New',monospace\">Embedding: <span style=\"color: #800080; text-decoration-color: #800080; font-weight: bold\">tensor</span><span style=\"font-weight: bold\">([</span><span style=\"color: #008080; text-decoration-color: #008080; font-weight: bold\">-0.0078</span>, <span style=\"color: #008080; text-decoration-color: #008080; font-weight: bold\">-0.0355</span>, <span style=\"color: #008080; text-decoration-color: #008080; font-weight: bold\">-0.0123</span>,  <span style=\"color: #008080; text-decoration-color: #008080; font-weight: bold\">0.0136</span>,  <span style=\"color: #008080; text-decoration-color: #008080; font-weight: bold\">0.0122</span>, <span style=\"color: #008080; text-decoration-color: #008080; font-weight: bold\">-0.0022</span>, <span style=\"color: #008080; text-decoration-color: #008080; font-weight: bold\">-0.0427</span>,  <span style=\"color: #008080; text-decoration-color: #008080; font-weight: bold\">0.0448</span>,\n",
       "        <span style=\"color: #008080; text-decoration-color: #008080; font-weight: bold\">-0.0763</span>, <span style=\"color: #008080; text-decoration-color: #008080; font-weight: bold\">-0.0128</span><span style=\"font-weight: bold\">]</span>, <span style=\"color: #808000; text-decoration-color: #808000\">device</span>=<span style=\"color: #008000; text-decoration-color: #008000\">'cuda:0'</span><span style=\"font-weight: bold\">)</span>, dtype: torch.float32\n",
       "</pre>\n"
      ],
      "text/plain": [
       "Embedding: \u001b[1;35mtensor\u001b[0m\u001b[1m(\u001b[0m\u001b[1m[\u001b[0m\u001b[1;36m-0.0078\u001b[0m, \u001b[1;36m-0.0355\u001b[0m, \u001b[1;36m-0.0123\u001b[0m,  \u001b[1;36m0.0136\u001b[0m,  \u001b[1;36m0.0122\u001b[0m, \u001b[1;36m-0.0022\u001b[0m, \u001b[1;36m-0.0427\u001b[0m,  \u001b[1;36m0.0448\u001b[0m,\n",
       "        \u001b[1;36m-0.0763\u001b[0m, \u001b[1;36m-0.0128\u001b[0m\u001b[1m]\u001b[0m, \u001b[33mdevice\u001b[0m=\u001b[32m'cuda:0'\u001b[0m\u001b[1m)\u001b[0m, dtype: torch.float32\n"
      ]
     },
     "metadata": {},
     "output_type": "display_data"
    },
    {
     "data": {
      "text/html": [
       "<pre style=\"white-space:pre;overflow-x:auto;line-height:normal;font-family:Menlo,'DejaVu Sans Mono',consolas,'Courier New',monospace\">Shape: <span style=\"color: #800080; text-decoration-color: #800080; font-weight: bold\">torch.Size</span><span style=\"font-weight: bold\">([</span><span style=\"color: #008080; text-decoration-color: #008080; font-weight: bold\">768</span><span style=\"font-weight: bold\">])</span>\n",
       "</pre>\n"
      ],
      "text/plain": [
       "Shape: \u001b[1;35mtorch.Size\u001b[0m\u001b[1m(\u001b[0m\u001b[1m[\u001b[0m\u001b[1;36m768\u001b[0m\u001b[1m]\u001b[0m\u001b[1m)\u001b[0m\n"
      ]
     },
     "metadata": {},
     "output_type": "display_data"
    },
    {
     "data": {
      "text/html": [
       "<pre style=\"white-space:pre;overflow-x:auto;line-height:normal;font-family:Menlo,'DejaVu Sans Mono',consolas,'Courier New',monospace\">Attribute: position\n",
       "</pre>\n"
      ],
      "text/plain": [
       "Attribute: position\n"
      ]
     },
     "metadata": {},
     "output_type": "display_data"
    },
    {
     "data": {
      "text/html": [
       "<pre style=\"white-space:pre;overflow-x:auto;line-height:normal;font-family:Menlo,'DejaVu Sans Mono',consolas,'Courier New',monospace\">Embedding: <span style=\"color: #800080; text-decoration-color: #800080; font-weight: bold\">tensor</span><span style=\"font-weight: bold\">([</span><span style=\"color: #008080; text-decoration-color: #008080; font-weight: bold\">-0.0012</span>, <span style=\"color: #008080; text-decoration-color: #008080; font-weight: bold\">-0.0718</span>, <span style=\"color: #008080; text-decoration-color: #008080; font-weight: bold\">-0.0255</span>,  <span style=\"color: #008080; text-decoration-color: #008080; font-weight: bold\">0.0076</span>, <span style=\"color: #008080; text-decoration-color: #008080; font-weight: bold\">-0.0333</span>,  <span style=\"color: #008080; text-decoration-color: #008080; font-weight: bold\">0.0103</span>,  <span style=\"color: #008080; text-decoration-color: #008080; font-weight: bold\">0.0242</span>,  <span style=\"color: #008080; text-decoration-color: #008080; font-weight: bold\">0.0040</span>,\n",
       "        <span style=\"color: #008080; text-decoration-color: #008080; font-weight: bold\">-0.0334</span>, <span style=\"color: #008080; text-decoration-color: #008080; font-weight: bold\">-0.0042</span><span style=\"font-weight: bold\">]</span>, <span style=\"color: #808000; text-decoration-color: #808000\">device</span>=<span style=\"color: #008000; text-decoration-color: #008000\">'cuda:0'</span><span style=\"font-weight: bold\">)</span>, dtype: torch.float32\n",
       "</pre>\n"
      ],
      "text/plain": [
       "Embedding: \u001b[1;35mtensor\u001b[0m\u001b[1m(\u001b[0m\u001b[1m[\u001b[0m\u001b[1;36m-0.0012\u001b[0m, \u001b[1;36m-0.0718\u001b[0m, \u001b[1;36m-0.0255\u001b[0m,  \u001b[1;36m0.0076\u001b[0m, \u001b[1;36m-0.0333\u001b[0m,  \u001b[1;36m0.0103\u001b[0m,  \u001b[1;36m0.0242\u001b[0m,  \u001b[1;36m0.0040\u001b[0m,\n",
       "        \u001b[1;36m-0.0334\u001b[0m, \u001b[1;36m-0.0042\u001b[0m\u001b[1m]\u001b[0m, \u001b[33mdevice\u001b[0m=\u001b[32m'cuda:0'\u001b[0m\u001b[1m)\u001b[0m, dtype: torch.float32\n"
      ]
     },
     "metadata": {},
     "output_type": "display_data"
    },
    {
     "data": {
      "text/html": [
       "<pre style=\"white-space:pre;overflow-x:auto;line-height:normal;font-family:Menlo,'DejaVu Sans Mono',consolas,'Courier New',monospace\">Shape: <span style=\"color: #800080; text-decoration-color: #800080; font-weight: bold\">torch.Size</span><span style=\"font-weight: bold\">([</span><span style=\"color: #008080; text-decoration-color: #008080; font-weight: bold\">768</span><span style=\"font-weight: bold\">])</span>\n",
       "</pre>\n"
      ],
      "text/plain": [
       "Shape: \u001b[1;35mtorch.Size\u001b[0m\u001b[1m(\u001b[0m\u001b[1m[\u001b[0m\u001b[1;36m768\u001b[0m\u001b[1m]\u001b[0m\u001b[1m)\u001b[0m\n"
      ]
     },
     "metadata": {},
     "output_type": "display_data"
    },
    {
     "data": {
      "text/html": [
       "<pre style=\"white-space:pre;overflow-x:auto;line-height:normal;font-family:Menlo,'DejaVu Sans Mono',consolas,'Courier New',monospace\">Attribute: changes\n",
       "</pre>\n"
      ],
      "text/plain": [
       "Attribute: changes\n"
      ]
     },
     "metadata": {},
     "output_type": "display_data"
    },
    {
     "data": {
      "text/html": [
       "<pre style=\"white-space:pre;overflow-x:auto;line-height:normal;font-family:Menlo,'DejaVu Sans Mono',consolas,'Courier New',monospace\">Embedding: <span style=\"color: #800080; text-decoration-color: #800080; font-weight: bold\">tensor</span><span style=\"font-weight: bold\">([</span> <span style=\"color: #008080; text-decoration-color: #008080; font-weight: bold\">0.0026</span>, <span style=\"color: #008080; text-decoration-color: #008080; font-weight: bold\">-0.0197</span>, <span style=\"color: #008080; text-decoration-color: #008080; font-weight: bold\">-0.0046</span>,  <span style=\"color: #008080; text-decoration-color: #008080; font-weight: bold\">0.0080</span>,  <span style=\"color: #008080; text-decoration-color: #008080; font-weight: bold\">0.0111</span>,  <span style=\"color: #008080; text-decoration-color: #008080; font-weight: bold\">0.0117</span>,  <span style=\"color: #008080; text-decoration-color: #008080; font-weight: bold\">0.0042</span>,  <span style=\"color: #008080; text-decoration-color: #008080; font-weight: bold\">0.0429</span>,\n",
       "        <span style=\"color: #008080; text-decoration-color: #008080; font-weight: bold\">-0.0414</span>, <span style=\"color: #008080; text-decoration-color: #008080; font-weight: bold\">-0.0011</span><span style=\"font-weight: bold\">]</span>, <span style=\"color: #808000; text-decoration-color: #808000\">device</span>=<span style=\"color: #008000; text-decoration-color: #008000\">'cuda:0'</span><span style=\"font-weight: bold\">)</span>, dtype: torch.float32\n",
       "</pre>\n"
      ],
      "text/plain": [
       "Embedding: \u001b[1;35mtensor\u001b[0m\u001b[1m(\u001b[0m\u001b[1m[\u001b[0m \u001b[1;36m0.0026\u001b[0m, \u001b[1;36m-0.0197\u001b[0m, \u001b[1;36m-0.0046\u001b[0m,  \u001b[1;36m0.0080\u001b[0m,  \u001b[1;36m0.0111\u001b[0m,  \u001b[1;36m0.0117\u001b[0m,  \u001b[1;36m0.0042\u001b[0m,  \u001b[1;36m0.0429\u001b[0m,\n",
       "        \u001b[1;36m-0.0414\u001b[0m, \u001b[1;36m-0.0011\u001b[0m\u001b[1m]\u001b[0m, \u001b[33mdevice\u001b[0m=\u001b[32m'cuda:0'\u001b[0m\u001b[1m)\u001b[0m, dtype: torch.float32\n"
      ]
     },
     "metadata": {},
     "output_type": "display_data"
    },
    {
     "data": {
      "text/html": [
       "<pre style=\"white-space:pre;overflow-x:auto;line-height:normal;font-family:Menlo,'DejaVu Sans Mono',consolas,'Courier New',monospace\">Shape: <span style=\"color: #800080; text-decoration-color: #800080; font-weight: bold\">torch.Size</span><span style=\"font-weight: bold\">([</span><span style=\"color: #008080; text-decoration-color: #008080; font-weight: bold\">768</span><span style=\"font-weight: bold\">])</span>\n",
       "</pre>\n"
      ],
      "text/plain": [
       "Shape: \u001b[1;35mtorch.Size\u001b[0m\u001b[1m(\u001b[0m\u001b[1m[\u001b[0m\u001b[1;36m768\u001b[0m\u001b[1m]\u001b[0m\u001b[1m)\u001b[0m\n"
      ]
     },
     "metadata": {},
     "output_type": "display_data"
    },
    {
     "data": {
      "text/html": [
       "<pre style=\"white-space:pre;overflow-x:auto;line-height:normal;font-family:Menlo,'DejaVu Sans Mono',consolas,'Courier New',monospace\">Attribute: clips\n",
       "</pre>\n"
      ],
      "text/plain": [
       "Attribute: clips\n"
      ]
     },
     "metadata": {},
     "output_type": "display_data"
    },
    {
     "data": {
      "text/html": [
       "<pre style=\"white-space:pre;overflow-x:auto;line-height:normal;font-family:Menlo,'DejaVu Sans Mono',consolas,'Courier New',monospace\">Embedding: <span style=\"color: #800080; text-decoration-color: #800080; font-weight: bold\">tensor</span><span style=\"font-weight: bold\">([</span> <span style=\"color: #008080; text-decoration-color: #008080; font-weight: bold\">0.0303</span>, <span style=\"color: #008080; text-decoration-color: #008080; font-weight: bold\">-0.0724</span>, <span style=\"color: #008080; text-decoration-color: #008080; font-weight: bold\">-0.0072</span>, <span style=\"color: #008080; text-decoration-color: #008080; font-weight: bold\">-0.0143</span>, <span style=\"color: #008080; text-decoration-color: #008080; font-weight: bold\">-0.0371</span>, <span style=\"color: #008080; text-decoration-color: #008080; font-weight: bold\">-0.0005</span>,  <span style=\"color: #008080; text-decoration-color: #008080; font-weight: bold\">0.0337</span>,  <span style=\"color: #008080; text-decoration-color: #008080; font-weight: bold\">0.0043</span>,\n",
       "        <span style=\"color: #008080; text-decoration-color: #008080; font-weight: bold\">-0.0616</span>,  <span style=\"color: #008080; text-decoration-color: #008080; font-weight: bold\">0.0056</span><span style=\"font-weight: bold\">]</span>, <span style=\"color: #808000; text-decoration-color: #808000\">device</span>=<span style=\"color: #008000; text-decoration-color: #008000\">'cuda:0'</span><span style=\"font-weight: bold\">)</span>, dtype: torch.float32\n",
       "</pre>\n"
      ],
      "text/plain": [
       "Embedding: \u001b[1;35mtensor\u001b[0m\u001b[1m(\u001b[0m\u001b[1m[\u001b[0m \u001b[1;36m0.0303\u001b[0m, \u001b[1;36m-0.0724\u001b[0m, \u001b[1;36m-0.0072\u001b[0m, \u001b[1;36m-0.0143\u001b[0m, \u001b[1;36m-0.0371\u001b[0m, \u001b[1;36m-0.0005\u001b[0m,  \u001b[1;36m0.0337\u001b[0m,  \u001b[1;36m0.0043\u001b[0m,\n",
       "        \u001b[1;36m-0.0616\u001b[0m,  \u001b[1;36m0.0056\u001b[0m\u001b[1m]\u001b[0m, \u001b[33mdevice\u001b[0m=\u001b[32m'cuda:0'\u001b[0m\u001b[1m)\u001b[0m, dtype: torch.float32\n"
      ]
     },
     "metadata": {},
     "output_type": "display_data"
    },
    {
     "data": {
      "text/html": [
       "<pre style=\"white-space:pre;overflow-x:auto;line-height:normal;font-family:Menlo,'DejaVu Sans Mono',consolas,'Courier New',monospace\">Shape: <span style=\"color: #800080; text-decoration-color: #800080; font-weight: bold\">torch.Size</span><span style=\"font-weight: bold\">([</span><span style=\"color: #008080; text-decoration-color: #008080; font-weight: bold\">768</span><span style=\"font-weight: bold\">])</span>\n",
       "</pre>\n"
      ],
      "text/plain": [
       "Shape: \u001b[1;35mtorch.Size\u001b[0m\u001b[1m(\u001b[0m\u001b[1m[\u001b[0m\u001b[1;36m768\u001b[0m\u001b[1m]\u001b[0m\u001b[1m)\u001b[0m\n"
      ]
     },
     "metadata": {},
     "output_type": "display_data"
    },
    {
     "data": {
      "text/html": [
       "<pre style=\"white-space:pre;overflow-x:auto;line-height:normal;font-family:Menlo,'DejaVu Sans Mono',consolas,'Courier New',monospace\">Attribute: line\n",
       "</pre>\n"
      ],
      "text/plain": [
       "Attribute: line\n"
      ]
     },
     "metadata": {},
     "output_type": "display_data"
    },
    {
     "data": {
      "text/html": [
       "<pre style=\"white-space:pre;overflow-x:auto;line-height:normal;font-family:Menlo,'DejaVu Sans Mono',consolas,'Courier New',monospace\">Embedding: <span style=\"color: #800080; text-decoration-color: #800080; font-weight: bold\">tensor</span><span style=\"font-weight: bold\">([</span><span style=\"color: #008080; text-decoration-color: #008080; font-weight: bold\">-0.0042</span>, <span style=\"color: #008080; text-decoration-color: #008080; font-weight: bold\">-0.0597</span>, <span style=\"color: #008080; text-decoration-color: #008080; font-weight: bold\">-0.0187</span>,  <span style=\"color: #008080; text-decoration-color: #008080; font-weight: bold\">0.0180</span>, <span style=\"color: #008080; text-decoration-color: #008080; font-weight: bold\">-0.0110</span>,  <span style=\"color: #008080; text-decoration-color: #008080; font-weight: bold\">0.0096</span>,  <span style=\"color: #008080; text-decoration-color: #008080; font-weight: bold\">0.0168</span>,  <span style=\"color: #008080; text-decoration-color: #008080; font-weight: bold\">0.0166</span>,\n",
       "        <span style=\"color: #008080; text-decoration-color: #008080; font-weight: bold\">-0.0245</span>,  <span style=\"color: #008080; text-decoration-color: #008080; font-weight: bold\">0.0049</span><span style=\"font-weight: bold\">]</span>, <span style=\"color: #808000; text-decoration-color: #808000\">device</span>=<span style=\"color: #008000; text-decoration-color: #008000\">'cuda:0'</span><span style=\"font-weight: bold\">)</span>, dtype: torch.float32\n",
       "</pre>\n"
      ],
      "text/plain": [
       "Embedding: \u001b[1;35mtensor\u001b[0m\u001b[1m(\u001b[0m\u001b[1m[\u001b[0m\u001b[1;36m-0.0042\u001b[0m, \u001b[1;36m-0.0597\u001b[0m, \u001b[1;36m-0.0187\u001b[0m,  \u001b[1;36m0.0180\u001b[0m, \u001b[1;36m-0.0110\u001b[0m,  \u001b[1;36m0.0096\u001b[0m,  \u001b[1;36m0.0168\u001b[0m,  \u001b[1;36m0.0166\u001b[0m,\n",
       "        \u001b[1;36m-0.0245\u001b[0m,  \u001b[1;36m0.0049\u001b[0m\u001b[1m]\u001b[0m, \u001b[33mdevice\u001b[0m=\u001b[32m'cuda:0'\u001b[0m\u001b[1m)\u001b[0m, dtype: torch.float32\n"
      ]
     },
     "metadata": {},
     "output_type": "display_data"
    },
    {
     "data": {
      "text/html": [
       "<pre style=\"white-space:pre;overflow-x:auto;line-height:normal;font-family:Menlo,'DejaVu Sans Mono',consolas,'Courier New',monospace\">Shape: <span style=\"color: #800080; text-decoration-color: #800080; font-weight: bold\">torch.Size</span><span style=\"font-weight: bold\">([</span><span style=\"color: #008080; text-decoration-color: #008080; font-weight: bold\">768</span><span style=\"font-weight: bold\">])</span>\n",
       "</pre>\n"
      ],
      "text/plain": [
       "Shape: \u001b[1;35mtorch.Size\u001b[0m\u001b[1m(\u001b[0m\u001b[1m[\u001b[0m\u001b[1;36m768\u001b[0m\u001b[1m]\u001b[0m\u001b[1m)\u001b[0m\n"
      ]
     },
     "metadata": {},
     "output_type": "display_data"
    },
    {
     "data": {
      "text/html": [
       "<pre style=\"white-space:pre;overflow-x:auto;line-height:normal;font-family:Menlo,'DejaVu Sans Mono',consolas,'Courier New',monospace\">Attribute: sternotomy\n",
       "</pre>\n"
      ],
      "text/plain": [
       "Attribute: sternotomy\n"
      ]
     },
     "metadata": {},
     "output_type": "display_data"
    },
    {
     "data": {
      "text/html": [
       "<pre style=\"white-space:pre;overflow-x:auto;line-height:normal;font-family:Menlo,'DejaVu Sans Mono',consolas,'Courier New',monospace\">Embedding: <span style=\"color: #800080; text-decoration-color: #800080; font-weight: bold\">tensor</span><span style=\"font-weight: bold\">([</span> <span style=\"color: #008080; text-decoration-color: #008080; font-weight: bold\">0.0029</span>, <span style=\"color: #008080; text-decoration-color: #008080; font-weight: bold\">-0.0544</span>, <span style=\"color: #008080; text-decoration-color: #008080; font-weight: bold\">-0.0033</span>,  <span style=\"color: #008080; text-decoration-color: #008080; font-weight: bold\">0.0036</span>,  <span style=\"color: #008080; text-decoration-color: #008080; font-weight: bold\">0.0019</span>,  <span style=\"color: #008080; text-decoration-color: #008080; font-weight: bold\">0.0140</span>,  <span style=\"color: #008080; text-decoration-color: #008080; font-weight: bold\">0.0140</span>,  <span style=\"color: #008080; text-decoration-color: #008080; font-weight: bold\">0.0101</span>,\n",
       "        <span style=\"color: #008080; text-decoration-color: #008080; font-weight: bold\">-0.0646</span>,  <span style=\"color: #008080; text-decoration-color: #008080; font-weight: bold\">0.0248</span><span style=\"font-weight: bold\">]</span>, <span style=\"color: #808000; text-decoration-color: #808000\">device</span>=<span style=\"color: #008000; text-decoration-color: #008000\">'cuda:0'</span><span style=\"font-weight: bold\">)</span>, dtype: torch.float32\n",
       "</pre>\n"
      ],
      "text/plain": [
       "Embedding: \u001b[1;35mtensor\u001b[0m\u001b[1m(\u001b[0m\u001b[1m[\u001b[0m \u001b[1;36m0.0029\u001b[0m, \u001b[1;36m-0.0544\u001b[0m, \u001b[1;36m-0.0033\u001b[0m,  \u001b[1;36m0.0036\u001b[0m,  \u001b[1;36m0.0019\u001b[0m,  \u001b[1;36m0.0140\u001b[0m,  \u001b[1;36m0.0140\u001b[0m,  \u001b[1;36m0.0101\u001b[0m,\n",
       "        \u001b[1;36m-0.0646\u001b[0m,  \u001b[1;36m0.0248\u001b[0m\u001b[1m]\u001b[0m, \u001b[33mdevice\u001b[0m=\u001b[32m'cuda:0'\u001b[0m\u001b[1m)\u001b[0m, dtype: torch.float32\n"
      ]
     },
     "metadata": {},
     "output_type": "display_data"
    },
    {
     "data": {
      "text/html": [
       "<pre style=\"white-space:pre;overflow-x:auto;line-height:normal;font-family:Menlo,'DejaVu Sans Mono',consolas,'Courier New',monospace\">Shape: <span style=\"color: #800080; text-decoration-color: #800080; font-weight: bold\">torch.Size</span><span style=\"font-weight: bold\">([</span><span style=\"color: #008080; text-decoration-color: #008080; font-weight: bold\">768</span><span style=\"font-weight: bold\">])</span>\n",
       "</pre>\n"
      ],
      "text/plain": [
       "Shape: \u001b[1;35mtorch.Size\u001b[0m\u001b[1m(\u001b[0m\u001b[1m[\u001b[0m\u001b[1;36m768\u001b[0m\u001b[1m]\u001b[0m\u001b[1m)\u001b[0m\n"
      ]
     },
     "metadata": {},
     "output_type": "display_data"
    },
    {
     "data": {
      "text/html": [
       "<pre style=\"white-space:pre;overflow-x:auto;line-height:normal;font-family:Menlo,'DejaVu Sans Mono',consolas,'Courier New',monospace\">Attribute: opacification\n",
       "</pre>\n"
      ],
      "text/plain": [
       "Attribute: opacification\n"
      ]
     },
     "metadata": {},
     "output_type": "display_data"
    },
    {
     "data": {
      "text/html": [
       "<pre style=\"white-space:pre;overflow-x:auto;line-height:normal;font-family:Menlo,'DejaVu Sans Mono',consolas,'Courier New',monospace\">Embedding: <span style=\"color: #800080; text-decoration-color: #800080; font-weight: bold\">tensor</span><span style=\"font-weight: bold\">([</span><span style=\"color: #008080; text-decoration-color: #008080; font-weight: bold\">-0.0160</span>, <span style=\"color: #008080; text-decoration-color: #008080; font-weight: bold\">-0.0243</span>,  <span style=\"color: #008080; text-decoration-color: #008080; font-weight: bold\">0.0024</span>, <span style=\"color: #008080; text-decoration-color: #008080; font-weight: bold\">-0.0015</span>,  <span style=\"color: #008080; text-decoration-color: #008080; font-weight: bold\">0.0099</span>, <span style=\"color: #008080; text-decoration-color: #008080; font-weight: bold\">-0.0073</span>,  <span style=\"color: #008080; text-decoration-color: #008080; font-weight: bold\">0.0101</span>,  <span style=\"color: #008080; text-decoration-color: #008080; font-weight: bold\">0.0327</span>,\n",
       "        <span style=\"color: #008080; text-decoration-color: #008080; font-weight: bold\">-0.0538</span>, <span style=\"color: #008080; text-decoration-color: #008080; font-weight: bold\">-0.0074</span><span style=\"font-weight: bold\">]</span>, <span style=\"color: #808000; text-decoration-color: #808000\">device</span>=<span style=\"color: #008000; text-decoration-color: #008000\">'cuda:0'</span><span style=\"font-weight: bold\">)</span>, dtype: torch.float32\n",
       "</pre>\n"
      ],
      "text/plain": [
       "Embedding: \u001b[1;35mtensor\u001b[0m\u001b[1m(\u001b[0m\u001b[1m[\u001b[0m\u001b[1;36m-0.0160\u001b[0m, \u001b[1;36m-0.0243\u001b[0m,  \u001b[1;36m0.0024\u001b[0m, \u001b[1;36m-0.0015\u001b[0m,  \u001b[1;36m0.0099\u001b[0m, \u001b[1;36m-0.0073\u001b[0m,  \u001b[1;36m0.0101\u001b[0m,  \u001b[1;36m0.0327\u001b[0m,\n",
       "        \u001b[1;36m-0.0538\u001b[0m, \u001b[1;36m-0.0074\u001b[0m\u001b[1m]\u001b[0m, \u001b[33mdevice\u001b[0m=\u001b[32m'cuda:0'\u001b[0m\u001b[1m)\u001b[0m, dtype: torch.float32\n"
      ]
     },
     "metadata": {},
     "output_type": "display_data"
    },
    {
     "data": {
      "text/html": [
       "<pre style=\"white-space:pre;overflow-x:auto;line-height:normal;font-family:Menlo,'DejaVu Sans Mono',consolas,'Courier New',monospace\">Shape: <span style=\"color: #800080; text-decoration-color: #800080; font-weight: bold\">torch.Size</span><span style=\"font-weight: bold\">([</span><span style=\"color: #008080; text-decoration-color: #008080; font-weight: bold\">768</span><span style=\"font-weight: bold\">])</span>\n",
       "</pre>\n"
      ],
      "text/plain": [
       "Shape: \u001b[1;35mtorch.Size\u001b[0m\u001b[1m(\u001b[0m\u001b[1m[\u001b[0m\u001b[1;36m768\u001b[0m\u001b[1m]\u001b[0m\u001b[1m)\u001b[0m\n"
      ]
     },
     "metadata": {},
     "output_type": "display_data"
    },
    {
     "data": {
      "text/html": [
       "<pre style=\"white-space:pre;overflow-x:auto;line-height:normal;font-family:Menlo,'DejaVu Sans Mono',consolas,'Courier New',monospace\">Attribute: pneumonia\n",
       "</pre>\n"
      ],
      "text/plain": [
       "Attribute: pneumonia\n"
      ]
     },
     "metadata": {},
     "output_type": "display_data"
    },
    {
     "data": {
      "text/html": [
       "<pre style=\"white-space:pre;overflow-x:auto;line-height:normal;font-family:Menlo,'DejaVu Sans Mono',consolas,'Courier New',monospace\">Embedding: <span style=\"color: #800080; text-decoration-color: #800080; font-weight: bold\">tensor</span><span style=\"font-weight: bold\">([</span><span style=\"color: #008080; text-decoration-color: #008080; font-weight: bold\">-0.0045</span>, <span style=\"color: #008080; text-decoration-color: #008080; font-weight: bold\">-0.0006</span>,  <span style=\"color: #008080; text-decoration-color: #008080; font-weight: bold\">0.0002</span>,  <span style=\"color: #008080; text-decoration-color: #008080; font-weight: bold\">0.0022</span>,  <span style=\"color: #008080; text-decoration-color: #008080; font-weight: bold\">0.0235</span>, <span style=\"color: #008080; text-decoration-color: #008080; font-weight: bold\">-0.0020</span>, <span style=\"color: #008080; text-decoration-color: #008080; font-weight: bold\">-0.0130</span>,  <span style=\"color: #008080; text-decoration-color: #008080; font-weight: bold\">0.0283</span>,\n",
       "        <span style=\"color: #008080; text-decoration-color: #008080; font-weight: bold\">-0.0692</span>, <span style=\"color: #008080; text-decoration-color: #008080; font-weight: bold\">-0.0113</span><span style=\"font-weight: bold\">]</span>, <span style=\"color: #808000; text-decoration-color: #808000\">device</span>=<span style=\"color: #008000; text-decoration-color: #008000\">'cuda:0'</span><span style=\"font-weight: bold\">)</span>, dtype: torch.float32\n",
       "</pre>\n"
      ],
      "text/plain": [
       "Embedding: \u001b[1;35mtensor\u001b[0m\u001b[1m(\u001b[0m\u001b[1m[\u001b[0m\u001b[1;36m-0.0045\u001b[0m, \u001b[1;36m-0.0006\u001b[0m,  \u001b[1;36m0.0002\u001b[0m,  \u001b[1;36m0.0022\u001b[0m,  \u001b[1;36m0.0235\u001b[0m, \u001b[1;36m-0.0020\u001b[0m, \u001b[1;36m-0.0130\u001b[0m,  \u001b[1;36m0.0283\u001b[0m,\n",
       "        \u001b[1;36m-0.0692\u001b[0m, \u001b[1;36m-0.0113\u001b[0m\u001b[1m]\u001b[0m, \u001b[33mdevice\u001b[0m=\u001b[32m'cuda:0'\u001b[0m\u001b[1m)\u001b[0m, dtype: torch.float32\n"
      ]
     },
     "metadata": {},
     "output_type": "display_data"
    },
    {
     "data": {
      "text/html": [
       "<pre style=\"white-space:pre;overflow-x:auto;line-height:normal;font-family:Menlo,'DejaVu Sans Mono',consolas,'Courier New',monospace\">Shape: <span style=\"color: #800080; text-decoration-color: #800080; font-weight: bold\">torch.Size</span><span style=\"font-weight: bold\">([</span><span style=\"color: #008080; text-decoration-color: #008080; font-weight: bold\">768</span><span style=\"font-weight: bold\">])</span>\n",
       "</pre>\n"
      ],
      "text/plain": [
       "Shape: \u001b[1;35mtorch.Size\u001b[0m\u001b[1m(\u001b[0m\u001b[1m[\u001b[0m\u001b[1;36m768\u001b[0m\u001b[1m]\u001b[0m\u001b[1m)\u001b[0m\n"
      ]
     },
     "metadata": {},
     "output_type": "display_data"
    },
    {
     "data": {
      "text/html": [
       "<pre style=\"white-space:pre;overflow-x:auto;line-height:normal;font-family:Menlo,'DejaVu Sans Mono',consolas,'Courier New',monospace\">Attribute: port\n",
       "</pre>\n"
      ],
      "text/plain": [
       "Attribute: port\n"
      ]
     },
     "metadata": {},
     "output_type": "display_data"
    },
    {
     "data": {
      "text/html": [
       "<pre style=\"white-space:pre;overflow-x:auto;line-height:normal;font-family:Menlo,'DejaVu Sans Mono',consolas,'Courier New',monospace\">Embedding: <span style=\"color: #800080; text-decoration-color: #800080; font-weight: bold\">tensor</span><span style=\"font-weight: bold\">([</span><span style=\"color: #008080; text-decoration-color: #008080; font-weight: bold\">-0.0027</span>, <span style=\"color: #008080; text-decoration-color: #008080; font-weight: bold\">-0.0619</span>, <span style=\"color: #008080; text-decoration-color: #008080; font-weight: bold\">-0.0017</span>, <span style=\"color: #008080; text-decoration-color: #008080; font-weight: bold\">-0.0043</span>, <span style=\"color: #008080; text-decoration-color: #008080; font-weight: bold\">-0.0192</span>,  <span style=\"color: #008080; text-decoration-color: #008080; font-weight: bold\">0.0206</span>,  <span style=\"color: #008080; text-decoration-color: #008080; font-weight: bold\">0.0294</span>,  <span style=\"color: #008080; text-decoration-color: #008080; font-weight: bold\">0.0152</span>,\n",
       "        <span style=\"color: #008080; text-decoration-color: #008080; font-weight: bold\">-0.0286</span>,  <span style=\"color: #008080; text-decoration-color: #008080; font-weight: bold\">0.0040</span><span style=\"font-weight: bold\">]</span>, <span style=\"color: #808000; text-decoration-color: #808000\">device</span>=<span style=\"color: #008000; text-decoration-color: #008000\">'cuda:0'</span><span style=\"font-weight: bold\">)</span>, dtype: torch.float32\n",
       "</pre>\n"
      ],
      "text/plain": [
       "Embedding: \u001b[1;35mtensor\u001b[0m\u001b[1m(\u001b[0m\u001b[1m[\u001b[0m\u001b[1;36m-0.0027\u001b[0m, \u001b[1;36m-0.0619\u001b[0m, \u001b[1;36m-0.0017\u001b[0m, \u001b[1;36m-0.0043\u001b[0m, \u001b[1;36m-0.0192\u001b[0m,  \u001b[1;36m0.0206\u001b[0m,  \u001b[1;36m0.0294\u001b[0m,  \u001b[1;36m0.0152\u001b[0m,\n",
       "        \u001b[1;36m-0.0286\u001b[0m,  \u001b[1;36m0.0040\u001b[0m\u001b[1m]\u001b[0m, \u001b[33mdevice\u001b[0m=\u001b[32m'cuda:0'\u001b[0m\u001b[1m)\u001b[0m, dtype: torch.float32\n"
      ]
     },
     "metadata": {},
     "output_type": "display_data"
    },
    {
     "data": {
      "text/html": [
       "<pre style=\"white-space:pre;overflow-x:auto;line-height:normal;font-family:Menlo,'DejaVu Sans Mono',consolas,'Courier New',monospace\">Shape: <span style=\"color: #800080; text-decoration-color: #800080; font-weight: bold\">torch.Size</span><span style=\"font-weight: bold\">([</span><span style=\"color: #008080; text-decoration-color: #008080; font-weight: bold\">768</span><span style=\"font-weight: bold\">])</span>\n",
       "</pre>\n"
      ],
      "text/plain": [
       "Shape: \u001b[1;35mtorch.Size\u001b[0m\u001b[1m(\u001b[0m\u001b[1m[\u001b[0m\u001b[1;36m768\u001b[0m\u001b[1m]\u001b[0m\u001b[1m)\u001b[0m\n"
      ]
     },
     "metadata": {},
     "output_type": "display_data"
    },
    {
     "data": {
      "text/html": [
       "<pre style=\"white-space:pre;overflow-x:auto;line-height:normal;font-family:Menlo,'DejaVu Sans Mono',consolas,'Courier New',monospace\">Attribute: calcifications\n",
       "</pre>\n"
      ],
      "text/plain": [
       "Attribute: calcifications\n"
      ]
     },
     "metadata": {},
     "output_type": "display_data"
    },
    {
     "data": {
      "text/html": [
       "<pre style=\"white-space:pre;overflow-x:auto;line-height:normal;font-family:Menlo,'DejaVu Sans Mono',consolas,'Courier New',monospace\">Embedding: <span style=\"color: #800080; text-decoration-color: #800080; font-weight: bold\">tensor</span><span style=\"font-weight: bold\">([</span><span style=\"color: #008080; text-decoration-color: #008080; font-weight: bold\">-0.0224</span>, <span style=\"color: #008080; text-decoration-color: #008080; font-weight: bold\">-0.0221</span>,  <span style=\"color: #008080; text-decoration-color: #008080; font-weight: bold\">0.0029</span>,  <span style=\"color: #008080; text-decoration-color: #008080; font-weight: bold\">0.0472</span>,  <span style=\"color: #008080; text-decoration-color: #008080; font-weight: bold\">0.0266</span>,  <span style=\"color: #008080; text-decoration-color: #008080; font-weight: bold\">0.0315</span>,  <span style=\"color: #008080; text-decoration-color: #008080; font-weight: bold\">0.0041</span>,  <span style=\"color: #008080; text-decoration-color: #008080; font-weight: bold\">0.0631</span>,\n",
       "         <span style=\"color: #008080; text-decoration-color: #008080; font-weight: bold\">0.0085</span>,  <span style=\"color: #008080; text-decoration-color: #008080; font-weight: bold\">0.0245</span><span style=\"font-weight: bold\">]</span>, <span style=\"color: #808000; text-decoration-color: #808000\">device</span>=<span style=\"color: #008000; text-decoration-color: #008000\">'cuda:0'</span><span style=\"font-weight: bold\">)</span>, dtype: torch.float32\n",
       "</pre>\n"
      ],
      "text/plain": [
       "Embedding: \u001b[1;35mtensor\u001b[0m\u001b[1m(\u001b[0m\u001b[1m[\u001b[0m\u001b[1;36m-0.0224\u001b[0m, \u001b[1;36m-0.0221\u001b[0m,  \u001b[1;36m0.0029\u001b[0m,  \u001b[1;36m0.0472\u001b[0m,  \u001b[1;36m0.0266\u001b[0m,  \u001b[1;36m0.0315\u001b[0m,  \u001b[1;36m0.0041\u001b[0m,  \u001b[1;36m0.0631\u001b[0m,\n",
       "         \u001b[1;36m0.0085\u001b[0m,  \u001b[1;36m0.0245\u001b[0m\u001b[1m]\u001b[0m, \u001b[33mdevice\u001b[0m=\u001b[32m'cuda:0'\u001b[0m\u001b[1m)\u001b[0m, dtype: torch.float32\n"
      ]
     },
     "metadata": {},
     "output_type": "display_data"
    },
    {
     "data": {
      "text/html": [
       "<pre style=\"white-space:pre;overflow-x:auto;line-height:normal;font-family:Menlo,'DejaVu Sans Mono',consolas,'Courier New',monospace\">Shape: <span style=\"color: #800080; text-decoration-color: #800080; font-weight: bold\">torch.Size</span><span style=\"font-weight: bold\">([</span><span style=\"color: #008080; text-decoration-color: #008080; font-weight: bold\">768</span><span style=\"font-weight: bold\">])</span>\n",
       "</pre>\n"
      ],
      "text/plain": [
       "Shape: \u001b[1;35mtorch.Size\u001b[0m\u001b[1m(\u001b[0m\u001b[1m[\u001b[0m\u001b[1;36m768\u001b[0m\u001b[1m]\u001b[0m\u001b[1m)\u001b[0m\n"
      ]
     },
     "metadata": {},
     "output_type": "display_data"
    },
    {
     "data": {
      "text/html": [
       "<pre style=\"white-space:pre;overflow-x:auto;line-height:normal;font-family:Menlo,'DejaVu Sans Mono',consolas,'Courier New',monospace\">Attribute: consolidation\n",
       "</pre>\n"
      ],
      "text/plain": [
       "Attribute: consolidation\n"
      ]
     },
     "metadata": {},
     "output_type": "display_data"
    },
    {
     "data": {
      "text/html": [
       "<pre style=\"white-space:pre;overflow-x:auto;line-height:normal;font-family:Menlo,'DejaVu Sans Mono',consolas,'Courier New',monospace\">Embedding: <span style=\"color: #800080; text-decoration-color: #800080; font-weight: bold\">tensor</span><span style=\"font-weight: bold\">([</span><span style=\"color: #008080; text-decoration-color: #008080; font-weight: bold\">-0.0235</span>, <span style=\"color: #008080; text-decoration-color: #008080; font-weight: bold\">-0.0255</span>,  <span style=\"color: #008080; text-decoration-color: #008080; font-weight: bold\">0.0006</span>, <span style=\"color: #008080; text-decoration-color: #008080; font-weight: bold\">-0.0053</span>,  <span style=\"color: #008080; text-decoration-color: #008080; font-weight: bold\">0.0041</span>, <span style=\"color: #008080; text-decoration-color: #008080; font-weight: bold\">-0.0024</span>, <span style=\"color: #008080; text-decoration-color: #008080; font-weight: bold\">-0.0043</span>,  <span style=\"color: #008080; text-decoration-color: #008080; font-weight: bold\">0.0239</span>,\n",
       "        <span style=\"color: #008080; text-decoration-color: #008080; font-weight: bold\">-0.0764</span>,  <span style=\"color: #008080; text-decoration-color: #008080; font-weight: bold\">0.0053</span><span style=\"font-weight: bold\">]</span>, <span style=\"color: #808000; text-decoration-color: #808000\">device</span>=<span style=\"color: #008000; text-decoration-color: #008000\">'cuda:0'</span><span style=\"font-weight: bold\">)</span>, dtype: torch.float32\n",
       "</pre>\n"
      ],
      "text/plain": [
       "Embedding: \u001b[1;35mtensor\u001b[0m\u001b[1m(\u001b[0m\u001b[1m[\u001b[0m\u001b[1;36m-0.0235\u001b[0m, \u001b[1;36m-0.0255\u001b[0m,  \u001b[1;36m0.0006\u001b[0m, \u001b[1;36m-0.0053\u001b[0m,  \u001b[1;36m0.0041\u001b[0m, \u001b[1;36m-0.0024\u001b[0m, \u001b[1;36m-0.0043\u001b[0m,  \u001b[1;36m0.0239\u001b[0m,\n",
       "        \u001b[1;36m-0.0764\u001b[0m,  \u001b[1;36m0.0053\u001b[0m\u001b[1m]\u001b[0m, \u001b[33mdevice\u001b[0m=\u001b[32m'cuda:0'\u001b[0m\u001b[1m)\u001b[0m, dtype: torch.float32\n"
      ]
     },
     "metadata": {},
     "output_type": "display_data"
    },
    {
     "data": {
      "text/html": [
       "<pre style=\"white-space:pre;overflow-x:auto;line-height:normal;font-family:Menlo,'DejaVu Sans Mono',consolas,'Courier New',monospace\">Shape: <span style=\"color: #800080; text-decoration-color: #800080; font-weight: bold\">torch.Size</span><span style=\"font-weight: bold\">([</span><span style=\"color: #008080; text-decoration-color: #008080; font-weight: bold\">768</span><span style=\"font-weight: bold\">])</span>\n",
       "</pre>\n"
      ],
      "text/plain": [
       "Shape: \u001b[1;35mtorch.Size\u001b[0m\u001b[1m(\u001b[0m\u001b[1m[\u001b[0m\u001b[1;36m768\u001b[0m\u001b[1m]\u001b[0m\u001b[1m)\u001b[0m\n"
      ]
     },
     "metadata": {},
     "output_type": "display_data"
    },
    {
     "data": {
      "text/html": [
       "<pre style=\"white-space:pre;overflow-x:auto;line-height:normal;font-family:Menlo,'DejaVu Sans Mono',consolas,'Courier New',monospace\">Attribute: pneumothorax\n",
       "</pre>\n"
      ],
      "text/plain": [
       "Attribute: pneumothorax\n"
      ]
     },
     "metadata": {},
     "output_type": "display_data"
    },
    {
     "data": {
      "text/html": [
       "<pre style=\"white-space:pre;overflow-x:auto;line-height:normal;font-family:Menlo,'DejaVu Sans Mono',consolas,'Courier New',monospace\">Embedding: <span style=\"color: #800080; text-decoration-color: #800080; font-weight: bold\">tensor</span><span style=\"font-weight: bold\">([</span> <span style=\"color: #008080; text-decoration-color: #008080; font-weight: bold\">0.0022</span>, <span style=\"color: #008080; text-decoration-color: #008080; font-weight: bold\">-0.0312</span>, <span style=\"color: #008080; text-decoration-color: #008080; font-weight: bold\">-0.0107</span>,  <span style=\"color: #008080; text-decoration-color: #008080; font-weight: bold\">0.0145</span>,  <span style=\"color: #008080; text-decoration-color: #008080; font-weight: bold\">0.0237</span>,  <span style=\"color: #008080; text-decoration-color: #008080; font-weight: bold\">0.0045</span>, <span style=\"color: #008080; text-decoration-color: #008080; font-weight: bold\">-0.0047</span>,  <span style=\"color: #008080; text-decoration-color: #008080; font-weight: bold\">0.0259</span>,\n",
       "        <span style=\"color: #008080; text-decoration-color: #008080; font-weight: bold\">-0.1103</span>, <span style=\"color: #008080; text-decoration-color: #008080; font-weight: bold\">-0.0310</span><span style=\"font-weight: bold\">]</span>, <span style=\"color: #808000; text-decoration-color: #808000\">device</span>=<span style=\"color: #008000; text-decoration-color: #008000\">'cuda:0'</span><span style=\"font-weight: bold\">)</span>, dtype: torch.float32\n",
       "</pre>\n"
      ],
      "text/plain": [
       "Embedding: \u001b[1;35mtensor\u001b[0m\u001b[1m(\u001b[0m\u001b[1m[\u001b[0m \u001b[1;36m0.0022\u001b[0m, \u001b[1;36m-0.0312\u001b[0m, \u001b[1;36m-0.0107\u001b[0m,  \u001b[1;36m0.0145\u001b[0m,  \u001b[1;36m0.0237\u001b[0m,  \u001b[1;36m0.0045\u001b[0m, \u001b[1;36m-0.0047\u001b[0m,  \u001b[1;36m0.0259\u001b[0m,\n",
       "        \u001b[1;36m-0.1103\u001b[0m, \u001b[1;36m-0.0310\u001b[0m\u001b[1m]\u001b[0m, \u001b[33mdevice\u001b[0m=\u001b[32m'cuda:0'\u001b[0m\u001b[1m)\u001b[0m, dtype: torch.float32\n"
      ]
     },
     "metadata": {},
     "output_type": "display_data"
    },
    {
     "data": {
      "text/html": [
       "<pre style=\"white-space:pre;overflow-x:auto;line-height:normal;font-family:Menlo,'DejaVu Sans Mono',consolas,'Courier New',monospace\">Shape: <span style=\"color: #800080; text-decoration-color: #800080; font-weight: bold\">torch.Size</span><span style=\"font-weight: bold\">([</span><span style=\"color: #008080; text-decoration-color: #008080; font-weight: bold\">768</span><span style=\"font-weight: bold\">])</span>\n",
       "</pre>\n"
      ],
      "text/plain": [
       "Shape: \u001b[1;35mtorch.Size\u001b[0m\u001b[1m(\u001b[0m\u001b[1m[\u001b[0m\u001b[1;36m768\u001b[0m\u001b[1m]\u001b[0m\u001b[1m)\u001b[0m\n"
      ]
     },
     "metadata": {},
     "output_type": "display_data"
    },
    {
     "data": {
      "text/html": [
       "<pre style=\"white-space:pre;overflow-x:auto;line-height:normal;font-family:Menlo,'DejaVu Sans Mono',consolas,'Courier New',monospace\">Attribute: wires\n",
       "</pre>\n"
      ],
      "text/plain": [
       "Attribute: wires\n"
      ]
     },
     "metadata": {},
     "output_type": "display_data"
    },
    {
     "data": {
      "text/html": [
       "<pre style=\"white-space:pre;overflow-x:auto;line-height:normal;font-family:Menlo,'DejaVu Sans Mono',consolas,'Courier New',monospace\">Embedding: <span style=\"color: #800080; text-decoration-color: #800080; font-weight: bold\">tensor</span><span style=\"font-weight: bold\">([</span><span style=\"color: #008080; text-decoration-color: #008080; font-weight: bold\">-0.0006</span>, <span style=\"color: #008080; text-decoration-color: #008080; font-weight: bold\">-0.0583</span>, <span style=\"color: #008080; text-decoration-color: #008080; font-weight: bold\">-0.0046</span>,  <span style=\"color: #008080; text-decoration-color: #008080; font-weight: bold\">0.0109</span>, <span style=\"color: #008080; text-decoration-color: #008080; font-weight: bold\">-0.0006</span>,  <span style=\"color: #008080; text-decoration-color: #008080; font-weight: bold\">0.0188</span>,  <span style=\"color: #008080; text-decoration-color: #008080; font-weight: bold\">0.0251</span>, <span style=\"color: #008080; text-decoration-color: #008080; font-weight: bold\">-0.0015</span>,\n",
       "        <span style=\"color: #008080; text-decoration-color: #008080; font-weight: bold\">-0.0603</span>,  <span style=\"color: #008080; text-decoration-color: #008080; font-weight: bold\">0.0165</span><span style=\"font-weight: bold\">]</span>, <span style=\"color: #808000; text-decoration-color: #808000\">device</span>=<span style=\"color: #008000; text-decoration-color: #008000\">'cuda:0'</span><span style=\"font-weight: bold\">)</span>, dtype: torch.float32\n",
       "</pre>\n"
      ],
      "text/plain": [
       "Embedding: \u001b[1;35mtensor\u001b[0m\u001b[1m(\u001b[0m\u001b[1m[\u001b[0m\u001b[1;36m-0.0006\u001b[0m, \u001b[1;36m-0.0583\u001b[0m, \u001b[1;36m-0.0046\u001b[0m,  \u001b[1;36m0.0109\u001b[0m, \u001b[1;36m-0.0006\u001b[0m,  \u001b[1;36m0.0188\u001b[0m,  \u001b[1;36m0.0251\u001b[0m, \u001b[1;36m-0.0015\u001b[0m,\n",
       "        \u001b[1;36m-0.0603\u001b[0m,  \u001b[1;36m0.0165\u001b[0m\u001b[1m]\u001b[0m, \u001b[33mdevice\u001b[0m=\u001b[32m'cuda:0'\u001b[0m\u001b[1m)\u001b[0m, dtype: torch.float32\n"
      ]
     },
     "metadata": {},
     "output_type": "display_data"
    },
    {
     "data": {
      "text/html": [
       "<pre style=\"white-space:pre;overflow-x:auto;line-height:normal;font-family:Menlo,'DejaVu Sans Mono',consolas,'Courier New',monospace\">Shape: <span style=\"color: #800080; text-decoration-color: #800080; font-weight: bold\">torch.Size</span><span style=\"font-weight: bold\">([</span><span style=\"color: #008080; text-decoration-color: #008080; font-weight: bold\">768</span><span style=\"font-weight: bold\">])</span>\n",
       "</pre>\n"
      ],
      "text/plain": [
       "Shape: \u001b[1;35mtorch.Size\u001b[0m\u001b[1m(\u001b[0m\u001b[1m[\u001b[0m\u001b[1;36m768\u001b[0m\u001b[1m]\u001b[0m\u001b[1m)\u001b[0m\n"
      ]
     },
     "metadata": {},
     "output_type": "display_data"
    },
    {
     "data": {
      "text/html": [
       "<pre style=\"white-space:pre;overflow-x:auto;line-height:normal;font-family:Menlo,'DejaVu Sans Mono',consolas,'Courier New',monospace\">Attribute: picc\n",
       "</pre>\n"
      ],
      "text/plain": [
       "Attribute: picc\n"
      ]
     },
     "metadata": {},
     "output_type": "display_data"
    },
    {
     "data": {
      "text/html": [
       "<pre style=\"white-space:pre;overflow-x:auto;line-height:normal;font-family:Menlo,'DejaVu Sans Mono',consolas,'Courier New',monospace\">Embedding: <span style=\"color: #800080; text-decoration-color: #800080; font-weight: bold\">tensor</span><span style=\"font-weight: bold\">([</span> <span style=\"color: #008080; text-decoration-color: #008080; font-weight: bold\">0.0019</span>, <span style=\"color: #008080; text-decoration-color: #008080; font-weight: bold\">-0.0754</span>, <span style=\"color: #008080; text-decoration-color: #008080; font-weight: bold\">-0.0259</span>,  <span style=\"color: #008080; text-decoration-color: #008080; font-weight: bold\">0.0416</span>, <span style=\"color: #008080; text-decoration-color: #008080; font-weight: bold\">-0.0108</span>,  <span style=\"color: #008080; text-decoration-color: #008080; font-weight: bold\">0.0316</span>,  <span style=\"color: #008080; text-decoration-color: #008080; font-weight: bold\">0.0126</span>, <span style=\"color: #008080; text-decoration-color: #008080; font-weight: bold\">-0.0142</span>,\n",
       "        <span style=\"color: #008080; text-decoration-color: #008080; font-weight: bold\">-0.0137</span>,  <span style=\"color: #008080; text-decoration-color: #008080; font-weight: bold\">0.0255</span><span style=\"font-weight: bold\">]</span>, <span style=\"color: #808000; text-decoration-color: #808000\">device</span>=<span style=\"color: #008000; text-decoration-color: #008000\">'cuda:0'</span><span style=\"font-weight: bold\">)</span>, dtype: torch.float32\n",
       "</pre>\n"
      ],
      "text/plain": [
       "Embedding: \u001b[1;35mtensor\u001b[0m\u001b[1m(\u001b[0m\u001b[1m[\u001b[0m \u001b[1;36m0.0019\u001b[0m, \u001b[1;36m-0.0754\u001b[0m, \u001b[1;36m-0.0259\u001b[0m,  \u001b[1;36m0.0416\u001b[0m, \u001b[1;36m-0.0108\u001b[0m,  \u001b[1;36m0.0316\u001b[0m,  \u001b[1;36m0.0126\u001b[0m, \u001b[1;36m-0.0142\u001b[0m,\n",
       "        \u001b[1;36m-0.0137\u001b[0m,  \u001b[1;36m0.0255\u001b[0m\u001b[1m]\u001b[0m, \u001b[33mdevice\u001b[0m=\u001b[32m'cuda:0'\u001b[0m\u001b[1m)\u001b[0m, dtype: torch.float32\n"
      ]
     },
     "metadata": {},
     "output_type": "display_data"
    },
    {
     "data": {
      "text/html": [
       "<pre style=\"white-space:pre;overflow-x:auto;line-height:normal;font-family:Menlo,'DejaVu Sans Mono',consolas,'Courier New',monospace\">Shape: <span style=\"color: #800080; text-decoration-color: #800080; font-weight: bold\">torch.Size</span><span style=\"font-weight: bold\">([</span><span style=\"color: #008080; text-decoration-color: #008080; font-weight: bold\">768</span><span style=\"font-weight: bold\">])</span>\n",
       "</pre>\n"
      ],
      "text/plain": [
       "Shape: \u001b[1;35mtorch.Size\u001b[0m\u001b[1m(\u001b[0m\u001b[1m[\u001b[0m\u001b[1;36m768\u001b[0m\u001b[1m]\u001b[0m\u001b[1m)\u001b[0m\n"
      ]
     },
     "metadata": {},
     "output_type": "display_data"
    },
    {
     "data": {
      "text/html": [
       "<pre style=\"white-space:pre;overflow-x:auto;line-height:normal;font-family:Menlo,'DejaVu Sans Mono',consolas,'Courier New',monospace\">Attribute: endotracheal\n",
       "</pre>\n"
      ],
      "text/plain": [
       "Attribute: endotracheal\n"
      ]
     },
     "metadata": {},
     "output_type": "display_data"
    },
    {
     "data": {
      "text/html": [
       "<pre style=\"white-space:pre;overflow-x:auto;line-height:normal;font-family:Menlo,'DejaVu Sans Mono',consolas,'Courier New',monospace\">Embedding: <span style=\"color: #800080; text-decoration-color: #800080; font-weight: bold\">tensor</span><span style=\"font-weight: bold\">([</span> <span style=\"color: #008080; text-decoration-color: #008080; font-weight: bold\">0.0196</span>, <span style=\"color: #008080; text-decoration-color: #008080; font-weight: bold\">-0.1200</span>, <span style=\"color: #008080; text-decoration-color: #008080; font-weight: bold\">-0.0199</span>, <span style=\"color: #008080; text-decoration-color: #008080; font-weight: bold\">-0.0056</span>, <span style=\"color: #008080; text-decoration-color: #008080; font-weight: bold\">-0.0312</span>,  <span style=\"color: #008080; text-decoration-color: #008080; font-weight: bold\">0.0022</span>,  <span style=\"color: #008080; text-decoration-color: #008080; font-weight: bold\">0.0119</span>, <span style=\"color: #008080; text-decoration-color: #008080; font-weight: bold\">-0.0050</span>,\n",
       "        <span style=\"color: #008080; text-decoration-color: #008080; font-weight: bold\">-0.0318</span>,  <span style=\"color: #008080; text-decoration-color: #008080; font-weight: bold\">0.0016</span><span style=\"font-weight: bold\">]</span>, <span style=\"color: #808000; text-decoration-color: #808000\">device</span>=<span style=\"color: #008000; text-decoration-color: #008000\">'cuda:0'</span><span style=\"font-weight: bold\">)</span>, dtype: torch.float32\n",
       "</pre>\n"
      ],
      "text/plain": [
       "Embedding: \u001b[1;35mtensor\u001b[0m\u001b[1m(\u001b[0m\u001b[1m[\u001b[0m \u001b[1;36m0.0196\u001b[0m, \u001b[1;36m-0.1200\u001b[0m, \u001b[1;36m-0.0199\u001b[0m, \u001b[1;36m-0.0056\u001b[0m, \u001b[1;36m-0.0312\u001b[0m,  \u001b[1;36m0.0022\u001b[0m,  \u001b[1;36m0.0119\u001b[0m, \u001b[1;36m-0.0050\u001b[0m,\n",
       "        \u001b[1;36m-0.0318\u001b[0m,  \u001b[1;36m0.0016\u001b[0m\u001b[1m]\u001b[0m, \u001b[33mdevice\u001b[0m=\u001b[32m'cuda:0'\u001b[0m\u001b[1m)\u001b[0m, dtype: torch.float32\n"
      ]
     },
     "metadata": {},
     "output_type": "display_data"
    },
    {
     "data": {
      "text/html": [
       "<pre style=\"white-space:pre;overflow-x:auto;line-height:normal;font-family:Menlo,'DejaVu Sans Mono',consolas,'Courier New',monospace\">Shape: <span style=\"color: #800080; text-decoration-color: #800080; font-weight: bold\">torch.Size</span><span style=\"font-weight: bold\">([</span><span style=\"color: #008080; text-decoration-color: #008080; font-weight: bold\">768</span><span style=\"font-weight: bold\">])</span>\n",
       "</pre>\n"
      ],
      "text/plain": [
       "Shape: \u001b[1;35mtorch.Size\u001b[0m\u001b[1m(\u001b[0m\u001b[1m[\u001b[0m\u001b[1;36m768\u001b[0m\u001b[1m]\u001b[0m\u001b[1m)\u001b[0m\n"
      ]
     },
     "metadata": {},
     "output_type": "display_data"
    },
    {
     "data": {
      "text/html": [
       "<pre style=\"white-space:pre;overflow-x:auto;line-height:normal;font-family:Menlo,'DejaVu Sans Mono',consolas,'Courier New',monospace\">Attribute: improvement\n",
       "</pre>\n"
      ],
      "text/plain": [
       "Attribute: improvement\n"
      ]
     },
     "metadata": {},
     "output_type": "display_data"
    },
    {
     "data": {
      "text/html": [
       "<pre style=\"white-space:pre;overflow-x:auto;line-height:normal;font-family:Menlo,'DejaVu Sans Mono',consolas,'Courier New',monospace\">Embedding: <span style=\"color: #800080; text-decoration-color: #800080; font-weight: bold\">tensor</span><span style=\"font-weight: bold\">([</span><span style=\"color: #008080; text-decoration-color: #008080; font-weight: bold\">-0.0108</span>, <span style=\"color: #008080; text-decoration-color: #008080; font-weight: bold\">-0.0142</span>, <span style=\"color: #008080; text-decoration-color: #008080; font-weight: bold\">-0.0160</span>,  <span style=\"color: #008080; text-decoration-color: #008080; font-weight: bold\">0.0116</span>, <span style=\"color: #008080; text-decoration-color: #008080; font-weight: bold\">-0.0119</span>, <span style=\"color: #008080; text-decoration-color: #008080; font-weight: bold\">-0.0120</span>,  <span style=\"color: #008080; text-decoration-color: #008080; font-weight: bold\">0.0088</span>,  <span style=\"color: #008080; text-decoration-color: #008080; font-weight: bold\">0.0384</span>,\n",
       "        <span style=\"color: #008080; text-decoration-color: #008080; font-weight: bold\">-0.0598</span>, <span style=\"color: #008080; text-decoration-color: #008080; font-weight: bold\">-0.0121</span><span style=\"font-weight: bold\">]</span>, <span style=\"color: #808000; text-decoration-color: #808000\">device</span>=<span style=\"color: #008000; text-decoration-color: #008000\">'cuda:0'</span><span style=\"font-weight: bold\">)</span>, dtype: torch.float32\n",
       "</pre>\n"
      ],
      "text/plain": [
       "Embedding: \u001b[1;35mtensor\u001b[0m\u001b[1m(\u001b[0m\u001b[1m[\u001b[0m\u001b[1;36m-0.0108\u001b[0m, \u001b[1;36m-0.0142\u001b[0m, \u001b[1;36m-0.0160\u001b[0m,  \u001b[1;36m0.0116\u001b[0m, \u001b[1;36m-0.0119\u001b[0m, \u001b[1;36m-0.0120\u001b[0m,  \u001b[1;36m0.0088\u001b[0m,  \u001b[1;36m0.0384\u001b[0m,\n",
       "        \u001b[1;36m-0.0598\u001b[0m, \u001b[1;36m-0.0121\u001b[0m\u001b[1m]\u001b[0m, \u001b[33mdevice\u001b[0m=\u001b[32m'cuda:0'\u001b[0m\u001b[1m)\u001b[0m, dtype: torch.float32\n"
      ]
     },
     "metadata": {},
     "output_type": "display_data"
    },
    {
     "data": {
      "text/html": [
       "<pre style=\"white-space:pre;overflow-x:auto;line-height:normal;font-family:Menlo,'DejaVu Sans Mono',consolas,'Courier New',monospace\">Shape: <span style=\"color: #800080; text-decoration-color: #800080; font-weight: bold\">torch.Size</span><span style=\"font-weight: bold\">([</span><span style=\"color: #008080; text-decoration-color: #008080; font-weight: bold\">768</span><span style=\"font-weight: bold\">])</span>\n",
       "</pre>\n"
      ],
      "text/plain": [
       "Shape: \u001b[1;35mtorch.Size\u001b[0m\u001b[1m(\u001b[0m\u001b[1m[\u001b[0m\u001b[1;36m768\u001b[0m\u001b[1m]\u001b[0m\u001b[1m)\u001b[0m\n"
      ]
     },
     "metadata": {},
     "output_type": "display_data"
    },
    {
     "data": {
      "text/html": [
       "<pre style=\"white-space:pre;overflow-x:auto;line-height:normal;font-family:Menlo,'DejaVu Sans Mono',consolas,'Courier New',monospace\">Attribute: prominence\n",
       "</pre>\n"
      ],
      "text/plain": [
       "Attribute: prominence\n"
      ]
     },
     "metadata": {},
     "output_type": "display_data"
    },
    {
     "data": {
      "text/html": [
       "<pre style=\"white-space:pre;overflow-x:auto;line-height:normal;font-family:Menlo,'DejaVu Sans Mono',consolas,'Courier New',monospace\">Embedding: <span style=\"color: #800080; text-decoration-color: #800080; font-weight: bold\">tensor</span><span style=\"font-weight: bold\">([</span><span style=\"color: #008080; text-decoration-color: #008080; font-weight: bold\">-0.0115</span>, <span style=\"color: #008080; text-decoration-color: #008080; font-weight: bold\">-0.0662</span>, <span style=\"color: #008080; text-decoration-color: #008080; font-weight: bold\">-0.0115</span>,  <span style=\"color: #008080; text-decoration-color: #008080; font-weight: bold\">0.0109</span>, <span style=\"color: #008080; text-decoration-color: #008080; font-weight: bold\">-0.0044</span>,  <span style=\"color: #008080; text-decoration-color: #008080; font-weight: bold\">0.0142</span>,  <span style=\"color: #008080; text-decoration-color: #008080; font-weight: bold\">0.0006</span>,  <span style=\"color: #008080; text-decoration-color: #008080; font-weight: bold\">0.0252</span>,\n",
       "        <span style=\"color: #008080; text-decoration-color: #008080; font-weight: bold\">-0.0391</span>,  <span style=\"color: #008080; text-decoration-color: #008080; font-weight: bold\">0.0027</span><span style=\"font-weight: bold\">]</span>, <span style=\"color: #808000; text-decoration-color: #808000\">device</span>=<span style=\"color: #008000; text-decoration-color: #008000\">'cuda:0'</span><span style=\"font-weight: bold\">)</span>, dtype: torch.float32\n",
       "</pre>\n"
      ],
      "text/plain": [
       "Embedding: \u001b[1;35mtensor\u001b[0m\u001b[1m(\u001b[0m\u001b[1m[\u001b[0m\u001b[1;36m-0.0115\u001b[0m, \u001b[1;36m-0.0662\u001b[0m, \u001b[1;36m-0.0115\u001b[0m,  \u001b[1;36m0.0109\u001b[0m, \u001b[1;36m-0.0044\u001b[0m,  \u001b[1;36m0.0142\u001b[0m,  \u001b[1;36m0.0006\u001b[0m,  \u001b[1;36m0.0252\u001b[0m,\n",
       "        \u001b[1;36m-0.0391\u001b[0m,  \u001b[1;36m0.0027\u001b[0m\u001b[1m]\u001b[0m, \u001b[33mdevice\u001b[0m=\u001b[32m'cuda:0'\u001b[0m\u001b[1m)\u001b[0m, dtype: torch.float32\n"
      ]
     },
     "metadata": {},
     "output_type": "display_data"
    },
    {
     "data": {
      "text/html": [
       "<pre style=\"white-space:pre;overflow-x:auto;line-height:normal;font-family:Menlo,'DejaVu Sans Mono',consolas,'Courier New',monospace\">Shape: <span style=\"color: #800080; text-decoration-color: #800080; font-weight: bold\">torch.Size</span><span style=\"font-weight: bold\">([</span><span style=\"color: #008080; text-decoration-color: #008080; font-weight: bold\">768</span><span style=\"font-weight: bold\">])</span>\n",
       "</pre>\n"
      ],
      "text/plain": [
       "Shape: \u001b[1;35mtorch.Size\u001b[0m\u001b[1m(\u001b[0m\u001b[1m[\u001b[0m\u001b[1;36m768\u001b[0m\u001b[1m]\u001b[0m\u001b[1m)\u001b[0m\n"
      ]
     },
     "metadata": {},
     "output_type": "display_data"
    },
    {
     "data": {
      "text/html": [
       "<pre style=\"white-space:pre;overflow-x:auto;line-height:normal;font-family:Menlo,'DejaVu Sans Mono',consolas,'Courier New',monospace\">Attribute: elevation\n",
       "</pre>\n"
      ],
      "text/plain": [
       "Attribute: elevation\n"
      ]
     },
     "metadata": {},
     "output_type": "display_data"
    },
    {
     "data": {
      "text/html": [
       "<pre style=\"white-space:pre;overflow-x:auto;line-height:normal;font-family:Menlo,'DejaVu Sans Mono',consolas,'Courier New',monospace\">Embedding: <span style=\"color: #800080; text-decoration-color: #800080; font-weight: bold\">tensor</span><span style=\"font-weight: bold\">([</span><span style=\"color: #008080; text-decoration-color: #008080; font-weight: bold\">-0.0349</span>, <span style=\"color: #008080; text-decoration-color: #008080; font-weight: bold\">-0.0412</span>, <span style=\"color: #008080; text-decoration-color: #008080; font-weight: bold\">-0.0008</span>,  <span style=\"color: #008080; text-decoration-color: #008080; font-weight: bold\">0.0004</span>, <span style=\"color: #008080; text-decoration-color: #008080; font-weight: bold\">-0.0075</span>, <span style=\"color: #008080; text-decoration-color: #008080; font-weight: bold\">-0.0016</span>, <span style=\"color: #008080; text-decoration-color: #008080; font-weight: bold\">-0.0131</span>,  <span style=\"color: #008080; text-decoration-color: #008080; font-weight: bold\">0.0301</span>,\n",
       "        <span style=\"color: #008080; text-decoration-color: #008080; font-weight: bold\">-0.0700</span>, <span style=\"color: #008080; text-decoration-color: #008080; font-weight: bold\">-0.0284</span><span style=\"font-weight: bold\">]</span>, <span style=\"color: #808000; text-decoration-color: #808000\">device</span>=<span style=\"color: #008000; text-decoration-color: #008000\">'cuda:0'</span><span style=\"font-weight: bold\">)</span>, dtype: torch.float32\n",
       "</pre>\n"
      ],
      "text/plain": [
       "Embedding: \u001b[1;35mtensor\u001b[0m\u001b[1m(\u001b[0m\u001b[1m[\u001b[0m\u001b[1;36m-0.0349\u001b[0m, \u001b[1;36m-0.0412\u001b[0m, \u001b[1;36m-0.0008\u001b[0m,  \u001b[1;36m0.0004\u001b[0m, \u001b[1;36m-0.0075\u001b[0m, \u001b[1;36m-0.0016\u001b[0m, \u001b[1;36m-0.0131\u001b[0m,  \u001b[1;36m0.0301\u001b[0m,\n",
       "        \u001b[1;36m-0.0700\u001b[0m, \u001b[1;36m-0.0284\u001b[0m\u001b[1m]\u001b[0m, \u001b[33mdevice\u001b[0m=\u001b[32m'cuda:0'\u001b[0m\u001b[1m)\u001b[0m, dtype: torch.float32\n"
      ]
     },
     "metadata": {},
     "output_type": "display_data"
    },
    {
     "data": {
      "text/html": [
       "<pre style=\"white-space:pre;overflow-x:auto;line-height:normal;font-family:Menlo,'DejaVu Sans Mono',consolas,'Courier New',monospace\">Shape: <span style=\"color: #800080; text-decoration-color: #800080; font-weight: bold\">torch.Size</span><span style=\"font-weight: bold\">([</span><span style=\"color: #008080; text-decoration-color: #008080; font-weight: bold\">768</span><span style=\"font-weight: bold\">])</span>\n",
       "</pre>\n"
      ],
      "text/plain": [
       "Shape: \u001b[1;35mtorch.Size\u001b[0m\u001b[1m(\u001b[0m\u001b[1m[\u001b[0m\u001b[1;36m768\u001b[0m\u001b[1m]\u001b[0m\u001b[1m)\u001b[0m\n"
      ]
     },
     "metadata": {},
     "output_type": "display_data"
    },
    {
     "data": {
      "text/html": [
       "<pre style=\"white-space:pre;overflow-x:auto;line-height:normal;font-family:Menlo,'DejaVu Sans Mono',consolas,'Courier New',monospace\">Attribute: markings\n",
       "</pre>\n"
      ],
      "text/plain": [
       "Attribute: markings\n"
      ]
     },
     "metadata": {},
     "output_type": "display_data"
    },
    {
     "data": {
      "text/html": [
       "<pre style=\"white-space:pre;overflow-x:auto;line-height:normal;font-family:Menlo,'DejaVu Sans Mono',consolas,'Courier New',monospace\">Embedding: <span style=\"color: #800080; text-decoration-color: #800080; font-weight: bold\">tensor</span><span style=\"font-weight: bold\">([</span><span style=\"color: #008080; text-decoration-color: #008080; font-weight: bold\">-0.0152</span>, <span style=\"color: #008080; text-decoration-color: #008080; font-weight: bold\">-0.0411</span>, <span style=\"color: #008080; text-decoration-color: #008080; font-weight: bold\">-0.0168</span>,  <span style=\"color: #008080; text-decoration-color: #008080; font-weight: bold\">0.0111</span>, <span style=\"color: #008080; text-decoration-color: #008080; font-weight: bold\">-0.0019</span>,  <span style=\"color: #008080; text-decoration-color: #008080; font-weight: bold\">0.0045</span>,  <span style=\"color: #008080; text-decoration-color: #008080; font-weight: bold\">0.0104</span>,  <span style=\"color: #008080; text-decoration-color: #008080; font-weight: bold\">0.0434</span>,\n",
       "        <span style=\"color: #008080; text-decoration-color: #008080; font-weight: bold\">-0.0511</span>,  <span style=\"color: #008080; text-decoration-color: #008080; font-weight: bold\">0.0073</span><span style=\"font-weight: bold\">]</span>, <span style=\"color: #808000; text-decoration-color: #808000\">device</span>=<span style=\"color: #008000; text-decoration-color: #008000\">'cuda:0'</span><span style=\"font-weight: bold\">)</span>, dtype: torch.float32\n",
       "</pre>\n"
      ],
      "text/plain": [
       "Embedding: \u001b[1;35mtensor\u001b[0m\u001b[1m(\u001b[0m\u001b[1m[\u001b[0m\u001b[1;36m-0.0152\u001b[0m, \u001b[1;36m-0.0411\u001b[0m, \u001b[1;36m-0.0168\u001b[0m,  \u001b[1;36m0.0111\u001b[0m, \u001b[1;36m-0.0019\u001b[0m,  \u001b[1;36m0.0045\u001b[0m,  \u001b[1;36m0.0104\u001b[0m,  \u001b[1;36m0.0434\u001b[0m,\n",
       "        \u001b[1;36m-0.0511\u001b[0m,  \u001b[1;36m0.0073\u001b[0m\u001b[1m]\u001b[0m, \u001b[33mdevice\u001b[0m=\u001b[32m'cuda:0'\u001b[0m\u001b[1m)\u001b[0m, dtype: torch.float32\n"
      ]
     },
     "metadata": {},
     "output_type": "display_data"
    },
    {
     "data": {
      "text/html": [
       "<pre style=\"white-space:pre;overflow-x:auto;line-height:normal;font-family:Menlo,'DejaVu Sans Mono',consolas,'Courier New',monospace\">Shape: <span style=\"color: #800080; text-decoration-color: #800080; font-weight: bold\">torch.Size</span><span style=\"font-weight: bold\">([</span><span style=\"color: #008080; text-decoration-color: #008080; font-weight: bold\">768</span><span style=\"font-weight: bold\">])</span>\n",
       "</pre>\n"
      ],
      "text/plain": [
       "Shape: \u001b[1;35mtorch.Size\u001b[0m\u001b[1m(\u001b[0m\u001b[1m[\u001b[0m\u001b[1;36m768\u001b[0m\u001b[1m]\u001b[0m\u001b[1m)\u001b[0m\n"
      ]
     },
     "metadata": {},
     "output_type": "display_data"
    },
    {
     "data": {
      "text/html": [
       "<pre style=\"white-space:pre;overflow-x:auto;line-height:normal;font-family:Menlo,'DejaVu Sans Mono',consolas,'Courier New',monospace\">Attribute: increase\n",
       "</pre>\n"
      ],
      "text/plain": [
       "Attribute: increase\n"
      ]
     },
     "metadata": {},
     "output_type": "display_data"
    },
    {
     "data": {
      "text/html": [
       "<pre style=\"white-space:pre;overflow-x:auto;line-height:normal;font-family:Menlo,'DejaVu Sans Mono',consolas,'Courier New',monospace\">Embedding: <span style=\"color: #800080; text-decoration-color: #800080; font-weight: bold\">tensor</span><span style=\"font-weight: bold\">([</span><span style=\"color: #008080; text-decoration-color: #008080; font-weight: bold\">-0.0103</span>, <span style=\"color: #008080; text-decoration-color: #008080; font-weight: bold\">-0.0465</span>, <span style=\"color: #008080; text-decoration-color: #008080; font-weight: bold\">-0.0081</span>,  <span style=\"color: #008080; text-decoration-color: #008080; font-weight: bold\">0.0064</span>,  <span style=\"color: #008080; text-decoration-color: #008080; font-weight: bold\">0.0093</span>, <span style=\"color: #008080; text-decoration-color: #008080; font-weight: bold\">-0.0016</span>, <span style=\"color: #008080; text-decoration-color: #008080; font-weight: bold\">-0.0047</span>,  <span style=\"color: #008080; text-decoration-color: #008080; font-weight: bold\">0.0325</span>,\n",
       "        <span style=\"color: #008080; text-decoration-color: #008080; font-weight: bold\">-0.0579</span>, <span style=\"color: #008080; text-decoration-color: #008080; font-weight: bold\">-0.0051</span><span style=\"font-weight: bold\">]</span>, <span style=\"color: #808000; text-decoration-color: #808000\">device</span>=<span style=\"color: #008000; text-decoration-color: #008000\">'cuda:0'</span><span style=\"font-weight: bold\">)</span>, dtype: torch.float32\n",
       "</pre>\n"
      ],
      "text/plain": [
       "Embedding: \u001b[1;35mtensor\u001b[0m\u001b[1m(\u001b[0m\u001b[1m[\u001b[0m\u001b[1;36m-0.0103\u001b[0m, \u001b[1;36m-0.0465\u001b[0m, \u001b[1;36m-0.0081\u001b[0m,  \u001b[1;36m0.0064\u001b[0m,  \u001b[1;36m0.0093\u001b[0m, \u001b[1;36m-0.0016\u001b[0m, \u001b[1;36m-0.0047\u001b[0m,  \u001b[1;36m0.0325\u001b[0m,\n",
       "        \u001b[1;36m-0.0579\u001b[0m, \u001b[1;36m-0.0051\u001b[0m\u001b[1m]\u001b[0m, \u001b[33mdevice\u001b[0m=\u001b[32m'cuda:0'\u001b[0m\u001b[1m)\u001b[0m, dtype: torch.float32\n"
      ]
     },
     "metadata": {},
     "output_type": "display_data"
    },
    {
     "data": {
      "text/html": [
       "<pre style=\"white-space:pre;overflow-x:auto;line-height:normal;font-family:Menlo,'DejaVu Sans Mono',consolas,'Courier New',monospace\">Shape: <span style=\"color: #800080; text-decoration-color: #800080; font-weight: bold\">torch.Size</span><span style=\"font-weight: bold\">([</span><span style=\"color: #008080; text-decoration-color: #008080; font-weight: bold\">768</span><span style=\"font-weight: bold\">])</span>\n",
       "</pre>\n"
      ],
      "text/plain": [
       "Shape: \u001b[1;35mtorch.Size\u001b[0m\u001b[1m(\u001b[0m\u001b[1m[\u001b[0m\u001b[1;36m768\u001b[0m\u001b[1m]\u001b[0m\u001b[1m)\u001b[0m\n"
      ]
     },
     "metadata": {},
     "output_type": "display_data"
    },
    {
     "data": {
      "text/html": [
       "<pre style=\"white-space:pre;overflow-x:auto;line-height:normal;font-family:Menlo,'DejaVu Sans Mono',consolas,'Courier New',monospace\">Attribute: enlargement\n",
       "</pre>\n"
      ],
      "text/plain": [
       "Attribute: enlargement\n"
      ]
     },
     "metadata": {},
     "output_type": "display_data"
    },
    {
     "data": {
      "text/html": [
       "<pre style=\"white-space:pre;overflow-x:auto;line-height:normal;font-family:Menlo,'DejaVu Sans Mono',consolas,'Courier New',monospace\">Embedding: <span style=\"color: #800080; text-decoration-color: #800080; font-weight: bold\">tensor</span><span style=\"font-weight: bold\">([</span><span style=\"color: #008080; text-decoration-color: #008080; font-weight: bold\">-0.0099</span>, <span style=\"color: #008080; text-decoration-color: #008080; font-weight: bold\">-0.0590</span>, <span style=\"color: #008080; text-decoration-color: #008080; font-weight: bold\">-0.0032</span>,  <span style=\"color: #008080; text-decoration-color: #008080; font-weight: bold\">0.0113</span>,  <span style=\"color: #008080; text-decoration-color: #008080; font-weight: bold\">0.0196</span>,  <span style=\"color: #008080; text-decoration-color: #008080; font-weight: bold\">0.0153</span>, <span style=\"color: #008080; text-decoration-color: #008080; font-weight: bold\">-0.0211</span>,  <span style=\"color: #008080; text-decoration-color: #008080; font-weight: bold\">0.0330</span>,\n",
       "        <span style=\"color: #008080; text-decoration-color: #008080; font-weight: bold\">-0.0525</span>,  <span style=\"color: #008080; text-decoration-color: #008080; font-weight: bold\">0.0332</span><span style=\"font-weight: bold\">]</span>, <span style=\"color: #808000; text-decoration-color: #808000\">device</span>=<span style=\"color: #008000; text-decoration-color: #008000\">'cuda:0'</span><span style=\"font-weight: bold\">)</span>, dtype: torch.float32\n",
       "</pre>\n"
      ],
      "text/plain": [
       "Embedding: \u001b[1;35mtensor\u001b[0m\u001b[1m(\u001b[0m\u001b[1m[\u001b[0m\u001b[1;36m-0.0099\u001b[0m, \u001b[1;36m-0.0590\u001b[0m, \u001b[1;36m-0.0032\u001b[0m,  \u001b[1;36m0.0113\u001b[0m,  \u001b[1;36m0.0196\u001b[0m,  \u001b[1;36m0.0153\u001b[0m, \u001b[1;36m-0.0211\u001b[0m,  \u001b[1;36m0.0330\u001b[0m,\n",
       "        \u001b[1;36m-0.0525\u001b[0m,  \u001b[1;36m0.0332\u001b[0m\u001b[1m]\u001b[0m, \u001b[33mdevice\u001b[0m=\u001b[32m'cuda:0'\u001b[0m\u001b[1m)\u001b[0m, dtype: torch.float32\n"
      ]
     },
     "metadata": {},
     "output_type": "display_data"
    },
    {
     "data": {
      "text/html": [
       "<pre style=\"white-space:pre;overflow-x:auto;line-height:normal;font-family:Menlo,'DejaVu Sans Mono',consolas,'Courier New',monospace\">Shape: <span style=\"color: #800080; text-decoration-color: #800080; font-weight: bold\">torch.Size</span><span style=\"font-weight: bold\">([</span><span style=\"color: #008080; text-decoration-color: #008080; font-weight: bold\">768</span><span style=\"font-weight: bold\">])</span>\n",
       "</pre>\n"
      ],
      "text/plain": [
       "Shape: \u001b[1;35mtorch.Size\u001b[0m\u001b[1m(\u001b[0m\u001b[1m[\u001b[0m\u001b[1;36m768\u001b[0m\u001b[1m]\u001b[0m\u001b[1m)\u001b[0m\n"
      ]
     },
     "metadata": {},
     "output_type": "display_data"
    },
    {
     "data": {
      "text/html": [
       "<pre style=\"white-space:pre;overflow-x:auto;line-height:normal;font-family:Menlo,'DejaVu Sans Mono',consolas,'Courier New',monospace\">Attribute: density\n",
       "</pre>\n"
      ],
      "text/plain": [
       "Attribute: density\n"
      ]
     },
     "metadata": {},
     "output_type": "display_data"
    },
    {
     "data": {
      "text/html": [
       "<pre style=\"white-space:pre;overflow-x:auto;line-height:normal;font-family:Menlo,'DejaVu Sans Mono',consolas,'Courier New',monospace\">Embedding: <span style=\"color: #800080; text-decoration-color: #800080; font-weight: bold\">tensor</span><span style=\"font-weight: bold\">([</span><span style=\"color: #008080; text-decoration-color: #008080; font-weight: bold\">-0.0042</span>, <span style=\"color: #008080; text-decoration-color: #008080; font-weight: bold\">-0.0563</span>, <span style=\"color: #008080; text-decoration-color: #008080; font-weight: bold\">-0.0110</span>,  <span style=\"color: #008080; text-decoration-color: #008080; font-weight: bold\">0.0018</span>,  <span style=\"color: #008080; text-decoration-color: #008080; font-weight: bold\">0.0014</span>,  <span style=\"color: #008080; text-decoration-color: #008080; font-weight: bold\">0.0031</span>,  <span style=\"color: #008080; text-decoration-color: #008080; font-weight: bold\">0.0031</span>,  <span style=\"color: #008080; text-decoration-color: #008080; font-weight: bold\">0.0370</span>,\n",
       "        <span style=\"color: #008080; text-decoration-color: #008080; font-weight: bold\">-0.0651</span>,  <span style=\"color: #008080; text-decoration-color: #008080; font-weight: bold\">0.0103</span><span style=\"font-weight: bold\">]</span>, <span style=\"color: #808000; text-decoration-color: #808000\">device</span>=<span style=\"color: #008000; text-decoration-color: #008000\">'cuda:0'</span><span style=\"font-weight: bold\">)</span>, dtype: torch.float32\n",
       "</pre>\n"
      ],
      "text/plain": [
       "Embedding: \u001b[1;35mtensor\u001b[0m\u001b[1m(\u001b[0m\u001b[1m[\u001b[0m\u001b[1;36m-0.0042\u001b[0m, \u001b[1;36m-0.0563\u001b[0m, \u001b[1;36m-0.0110\u001b[0m,  \u001b[1;36m0.0018\u001b[0m,  \u001b[1;36m0.0014\u001b[0m,  \u001b[1;36m0.0031\u001b[0m,  \u001b[1;36m0.0031\u001b[0m,  \u001b[1;36m0.0370\u001b[0m,\n",
       "        \u001b[1;36m-0.0651\u001b[0m,  \u001b[1;36m0.0103\u001b[0m\u001b[1m]\u001b[0m, \u001b[33mdevice\u001b[0m=\u001b[32m'cuda:0'\u001b[0m\u001b[1m)\u001b[0m, dtype: torch.float32\n"
      ]
     },
     "metadata": {},
     "output_type": "display_data"
    },
    {
     "data": {
      "text/html": [
       "<pre style=\"white-space:pre;overflow-x:auto;line-height:normal;font-family:Menlo,'DejaVu Sans Mono',consolas,'Courier New',monospace\">Shape: <span style=\"color: #800080; text-decoration-color: #800080; font-weight: bold\">torch.Size</span><span style=\"font-weight: bold\">([</span><span style=\"color: #008080; text-decoration-color: #008080; font-weight: bold\">768</span><span style=\"font-weight: bold\">])</span>\n",
       "</pre>\n"
      ],
      "text/plain": [
       "Shape: \u001b[1;35mtorch.Size\u001b[0m\u001b[1m(\u001b[0m\u001b[1m[\u001b[0m\u001b[1;36m768\u001b[0m\u001b[1m]\u001b[0m\u001b[1m)\u001b[0m\n"
      ]
     },
     "metadata": {},
     "output_type": "display_data"
    },
    {
     "data": {
      "text/html": [
       "<pre style=\"white-space:pre;overflow-x:auto;line-height:normal;font-family:Menlo,'DejaVu Sans Mono',consolas,'Courier New',monospace\">Attribute: size\n",
       "</pre>\n"
      ],
      "text/plain": [
       "Attribute: size\n"
      ]
     },
     "metadata": {},
     "output_type": "display_data"
    },
    {
     "data": {
      "text/html": [
       "<pre style=\"white-space:pre;overflow-x:auto;line-height:normal;font-family:Menlo,'DejaVu Sans Mono',consolas,'Courier New',monospace\">Embedding: <span style=\"color: #800080; text-decoration-color: #800080; font-weight: bold\">tensor</span><span style=\"font-weight: bold\">([</span> <span style=\"color: #008080; text-decoration-color: #008080; font-weight: bold\">0.0003</span>, <span style=\"color: #008080; text-decoration-color: #008080; font-weight: bold\">-0.0809</span>, <span style=\"color: #008080; text-decoration-color: #008080; font-weight: bold\">-0.0154</span>,  <span style=\"color: #008080; text-decoration-color: #008080; font-weight: bold\">0.0087</span>,  <span style=\"color: #008080; text-decoration-color: #008080; font-weight: bold\">0.0152</span>, <span style=\"color: #008080; text-decoration-color: #008080; font-weight: bold\">-0.0008</span>, <span style=\"color: #008080; text-decoration-color: #008080; font-weight: bold\">-0.0220</span>,  <span style=\"color: #008080; text-decoration-color: #008080; font-weight: bold\">0.0389</span>,\n",
       "        <span style=\"color: #008080; text-decoration-color: #008080; font-weight: bold\">-0.0294</span>,  <span style=\"color: #008080; text-decoration-color: #008080; font-weight: bold\">0.0255</span><span style=\"font-weight: bold\">]</span>, <span style=\"color: #808000; text-decoration-color: #808000\">device</span>=<span style=\"color: #008000; text-decoration-color: #008000\">'cuda:0'</span><span style=\"font-weight: bold\">)</span>, dtype: torch.float32\n",
       "</pre>\n"
      ],
      "text/plain": [
       "Embedding: \u001b[1;35mtensor\u001b[0m\u001b[1m(\u001b[0m\u001b[1m[\u001b[0m \u001b[1;36m0.0003\u001b[0m, \u001b[1;36m-0.0809\u001b[0m, \u001b[1;36m-0.0154\u001b[0m,  \u001b[1;36m0.0087\u001b[0m,  \u001b[1;36m0.0152\u001b[0m, \u001b[1;36m-0.0008\u001b[0m, \u001b[1;36m-0.0220\u001b[0m,  \u001b[1;36m0.0389\u001b[0m,\n",
       "        \u001b[1;36m-0.0294\u001b[0m,  \u001b[1;36m0.0255\u001b[0m\u001b[1m]\u001b[0m, \u001b[33mdevice\u001b[0m=\u001b[32m'cuda:0'\u001b[0m\u001b[1m)\u001b[0m, dtype: torch.float32\n"
      ]
     },
     "metadata": {},
     "output_type": "display_data"
    },
    {
     "data": {
      "text/html": [
       "<pre style=\"white-space:pre;overflow-x:auto;line-height:normal;font-family:Menlo,'DejaVu Sans Mono',consolas,'Courier New',monospace\">Shape: <span style=\"color: #800080; text-decoration-color: #800080; font-weight: bold\">torch.Size</span><span style=\"font-weight: bold\">([</span><span style=\"color: #008080; text-decoration-color: #008080; font-weight: bold\">768</span><span style=\"font-weight: bold\">])</span>\n",
       "</pre>\n"
      ],
      "text/plain": [
       "Shape: \u001b[1;35mtorch.Size\u001b[0m\u001b[1m(\u001b[0m\u001b[1m[\u001b[0m\u001b[1;36m768\u001b[0m\u001b[1m]\u001b[0m\u001b[1m)\u001b[0m\n"
      ]
     },
     "metadata": {},
     "output_type": "display_data"
    },
    {
     "data": {
      "text/html": [
       "<pre style=\"white-space:pre;overflow-x:auto;line-height:normal;font-family:Menlo,'DejaVu Sans Mono',consolas,'Courier New',monospace\">Attribute: pacemaker\n",
       "</pre>\n"
      ],
      "text/plain": [
       "Attribute: pacemaker\n"
      ]
     },
     "metadata": {},
     "output_type": "display_data"
    },
    {
     "data": {
      "text/html": [
       "<pre style=\"white-space:pre;overflow-x:auto;line-height:normal;font-family:Menlo,'DejaVu Sans Mono',consolas,'Courier New',monospace\">Embedding: <span style=\"color: #800080; text-decoration-color: #800080; font-weight: bold\">tensor</span><span style=\"font-weight: bold\">([</span><span style=\"color: #008080; text-decoration-color: #008080; font-weight: bold\">-0.0222</span>, <span style=\"color: #008080; text-decoration-color: #008080; font-weight: bold\">-0.0555</span>, <span style=\"color: #008080; text-decoration-color: #008080; font-weight: bold\">-0.0259</span>,  <span style=\"color: #008080; text-decoration-color: #008080; font-weight: bold\">0.0339</span>, <span style=\"color: #008080; text-decoration-color: #008080; font-weight: bold\">-0.0177</span>,  <span style=\"color: #008080; text-decoration-color: #008080; font-weight: bold\">0.0431</span>,  <span style=\"color: #008080; text-decoration-color: #008080; font-weight: bold\">0.0253</span>, <span style=\"color: #008080; text-decoration-color: #008080; font-weight: bold\">-0.0053</span>,\n",
       "        <span style=\"color: #008080; text-decoration-color: #008080; font-weight: bold\">-0.0245</span>, <span style=\"color: #008080; text-decoration-color: #008080; font-weight: bold\">-0.0035</span><span style=\"font-weight: bold\">]</span>, <span style=\"color: #808000; text-decoration-color: #808000\">device</span>=<span style=\"color: #008000; text-decoration-color: #008000\">'cuda:0'</span><span style=\"font-weight: bold\">)</span>, dtype: torch.float32\n",
       "</pre>\n"
      ],
      "text/plain": [
       "Embedding: \u001b[1;35mtensor\u001b[0m\u001b[1m(\u001b[0m\u001b[1m[\u001b[0m\u001b[1;36m-0.0222\u001b[0m, \u001b[1;36m-0.0555\u001b[0m, \u001b[1;36m-0.0259\u001b[0m,  \u001b[1;36m0.0339\u001b[0m, \u001b[1;36m-0.0177\u001b[0m,  \u001b[1;36m0.0431\u001b[0m,  \u001b[1;36m0.0253\u001b[0m, \u001b[1;36m-0.0053\u001b[0m,\n",
       "        \u001b[1;36m-0.0245\u001b[0m, \u001b[1;36m-0.0035\u001b[0m\u001b[1m]\u001b[0m, \u001b[33mdevice\u001b[0m=\u001b[32m'cuda:0'\u001b[0m\u001b[1m)\u001b[0m, dtype: torch.float32\n"
      ]
     },
     "metadata": {},
     "output_type": "display_data"
    },
    {
     "data": {
      "text/html": [
       "<pre style=\"white-space:pre;overflow-x:auto;line-height:normal;font-family:Menlo,'DejaVu Sans Mono',consolas,'Courier New',monospace\">Shape: <span style=\"color: #800080; text-decoration-color: #800080; font-weight: bold\">torch.Size</span><span style=\"font-weight: bold\">([</span><span style=\"color: #008080; text-decoration-color: #008080; font-weight: bold\">768</span><span style=\"font-weight: bold\">])</span>\n",
       "</pre>\n"
      ],
      "text/plain": [
       "Shape: \u001b[1;35mtorch.Size\u001b[0m\u001b[1m(\u001b[0m\u001b[1m[\u001b[0m\u001b[1;36m768\u001b[0m\u001b[1m]\u001b[0m\u001b[1m)\u001b[0m\n"
      ]
     },
     "metadata": {},
     "output_type": "display_data"
    },
    {
     "data": {
      "text/html": [
       "<pre style=\"white-space:pre;overflow-x:auto;line-height:normal;font-family:Menlo,'DejaVu Sans Mono',consolas,'Courier New',monospace\">Attribute: cath\n",
       "</pre>\n"
      ],
      "text/plain": [
       "Attribute: cath\n"
      ]
     },
     "metadata": {},
     "output_type": "display_data"
    },
    {
     "data": {
      "text/html": [
       "<pre style=\"white-space:pre;overflow-x:auto;line-height:normal;font-family:Menlo,'DejaVu Sans Mono',consolas,'Courier New',monospace\">Embedding: <span style=\"color: #800080; text-decoration-color: #800080; font-weight: bold\">tensor</span><span style=\"font-weight: bold\">([</span> <span style=\"color: #008080; text-decoration-color: #008080; font-weight: bold\">0.0087</span>, <span style=\"color: #008080; text-decoration-color: #008080; font-weight: bold\">-0.0764</span>, <span style=\"color: #008080; text-decoration-color: #008080; font-weight: bold\">-0.0177</span>,  <span style=\"color: #008080; text-decoration-color: #008080; font-weight: bold\">0.0041</span>, <span style=\"color: #008080; text-decoration-color: #008080; font-weight: bold\">-0.0265</span>,  <span style=\"color: #008080; text-decoration-color: #008080; font-weight: bold\">0.0201</span>,  <span style=\"color: #008080; text-decoration-color: #008080; font-weight: bold\">0.0133</span>, <span style=\"color: #008080; text-decoration-color: #008080; font-weight: bold\">-0.0075</span>,\n",
       "        <span style=\"color: #008080; text-decoration-color: #008080; font-weight: bold\">-0.0139</span>, <span style=\"color: #008080; text-decoration-color: #008080; font-weight: bold\">-0.0111</span><span style=\"font-weight: bold\">]</span>, <span style=\"color: #808000; text-decoration-color: #808000\">device</span>=<span style=\"color: #008000; text-decoration-color: #008000\">'cuda:0'</span><span style=\"font-weight: bold\">)</span>, dtype: torch.float32\n",
       "</pre>\n"
      ],
      "text/plain": [
       "Embedding: \u001b[1;35mtensor\u001b[0m\u001b[1m(\u001b[0m\u001b[1m[\u001b[0m \u001b[1;36m0.0087\u001b[0m, \u001b[1;36m-0.0764\u001b[0m, \u001b[1;36m-0.0177\u001b[0m,  \u001b[1;36m0.0041\u001b[0m, \u001b[1;36m-0.0265\u001b[0m,  \u001b[1;36m0.0201\u001b[0m,  \u001b[1;36m0.0133\u001b[0m, \u001b[1;36m-0.0075\u001b[0m,\n",
       "        \u001b[1;36m-0.0139\u001b[0m, \u001b[1;36m-0.0111\u001b[0m\u001b[1m]\u001b[0m, \u001b[33mdevice\u001b[0m=\u001b[32m'cuda:0'\u001b[0m\u001b[1m)\u001b[0m, dtype: torch.float32\n"
      ]
     },
     "metadata": {},
     "output_type": "display_data"
    },
    {
     "data": {
      "text/html": [
       "<pre style=\"white-space:pre;overflow-x:auto;line-height:normal;font-family:Menlo,'DejaVu Sans Mono',consolas,'Courier New',monospace\">Shape: <span style=\"color: #800080; text-decoration-color: #800080; font-weight: bold\">torch.Size</span><span style=\"font-weight: bold\">([</span><span style=\"color: #008080; text-decoration-color: #008080; font-weight: bold\">768</span><span style=\"font-weight: bold\">])</span>\n",
       "</pre>\n"
      ],
      "text/plain": [
       "Shape: \u001b[1;35mtorch.Size\u001b[0m\u001b[1m(\u001b[0m\u001b[1m[\u001b[0m\u001b[1;36m768\u001b[0m\u001b[1m]\u001b[0m\u001b[1m)\u001b[0m\n"
      ]
     },
     "metadata": {},
     "output_type": "display_data"
    },
    {
     "data": {
      "text/html": [
       "<pre style=\"white-space:pre;overflow-x:auto;line-height:normal;font-family:Menlo,'DejaVu Sans Mono',consolas,'Courier New',monospace\">Attribute: loss\n",
       "</pre>\n"
      ],
      "text/plain": [
       "Attribute: loss\n"
      ]
     },
     "metadata": {},
     "output_type": "display_data"
    },
    {
     "data": {
      "text/html": [
       "<pre style=\"white-space:pre;overflow-x:auto;line-height:normal;font-family:Menlo,'DejaVu Sans Mono',consolas,'Courier New',monospace\">Embedding: <span style=\"color: #800080; text-decoration-color: #800080; font-weight: bold\">tensor</span><span style=\"font-weight: bold\">([</span><span style=\"color: #008080; text-decoration-color: #008080; font-weight: bold\">-0.0083</span>, <span style=\"color: #008080; text-decoration-color: #008080; font-weight: bold\">-0.0232</span>, <span style=\"color: #008080; text-decoration-color: #008080; font-weight: bold\">-0.0088</span>,  <span style=\"color: #008080; text-decoration-color: #008080; font-weight: bold\">0.0072</span>, <span style=\"color: #008080; text-decoration-color: #008080; font-weight: bold\">-0.0007</span>, <span style=\"color: #008080; text-decoration-color: #008080; font-weight: bold\">-0.0034</span>,  <span style=\"color: #008080; text-decoration-color: #008080; font-weight: bold\">0.0006</span>,  <span style=\"color: #008080; text-decoration-color: #008080; font-weight: bold\">0.0348</span>,\n",
       "        <span style=\"color: #008080; text-decoration-color: #008080; font-weight: bold\">-0.0819</span>,  <span style=\"color: #008080; text-decoration-color: #008080; font-weight: bold\">0.0062</span><span style=\"font-weight: bold\">]</span>, <span style=\"color: #808000; text-decoration-color: #808000\">device</span>=<span style=\"color: #008000; text-decoration-color: #008000\">'cuda:0'</span><span style=\"font-weight: bold\">)</span>, dtype: torch.float32\n",
       "</pre>\n"
      ],
      "text/plain": [
       "Embedding: \u001b[1;35mtensor\u001b[0m\u001b[1m(\u001b[0m\u001b[1m[\u001b[0m\u001b[1;36m-0.0083\u001b[0m, \u001b[1;36m-0.0232\u001b[0m, \u001b[1;36m-0.0088\u001b[0m,  \u001b[1;36m0.0072\u001b[0m, \u001b[1;36m-0.0007\u001b[0m, \u001b[1;36m-0.0034\u001b[0m,  \u001b[1;36m0.0006\u001b[0m,  \u001b[1;36m0.0348\u001b[0m,\n",
       "        \u001b[1;36m-0.0819\u001b[0m,  \u001b[1;36m0.0062\u001b[0m\u001b[1m]\u001b[0m, \u001b[33mdevice\u001b[0m=\u001b[32m'cuda:0'\u001b[0m\u001b[1m)\u001b[0m, dtype: torch.float32\n"
      ]
     },
     "metadata": {},
     "output_type": "display_data"
    },
    {
     "data": {
      "text/html": [
       "<pre style=\"white-space:pre;overflow-x:auto;line-height:normal;font-family:Menlo,'DejaVu Sans Mono',consolas,'Courier New',monospace\">Shape: <span style=\"color: #800080; text-decoration-color: #800080; font-weight: bold\">torch.Size</span><span style=\"font-weight: bold\">([</span><span style=\"color: #008080; text-decoration-color: #008080; font-weight: bold\">768</span><span style=\"font-weight: bold\">])</span>\n",
       "</pre>\n"
      ],
      "text/plain": [
       "Shape: \u001b[1;35mtorch.Size\u001b[0m\u001b[1m(\u001b[0m\u001b[1m[\u001b[0m\u001b[1;36m768\u001b[0m\u001b[1m]\u001b[0m\u001b[1m)\u001b[0m\n"
      ]
     },
     "metadata": {},
     "output_type": "display_data"
    },
    {
     "data": {
      "text/html": [
       "<pre style=\"white-space:pre;overflow-x:auto;line-height:normal;font-family:Menlo,'DejaVu Sans Mono',consolas,'Courier New',monospace\">Attribute: interval\n",
       "</pre>\n"
      ],
      "text/plain": [
       "Attribute: interval\n"
      ]
     },
     "metadata": {},
     "output_type": "display_data"
    },
    {
     "data": {
      "text/html": [
       "<pre style=\"white-space:pre;overflow-x:auto;line-height:normal;font-family:Menlo,'DejaVu Sans Mono',consolas,'Courier New',monospace\">Embedding: <span style=\"color: #800080; text-decoration-color: #800080; font-weight: bold\">tensor</span><span style=\"font-weight: bold\">([</span><span style=\"color: #008080; text-decoration-color: #008080; font-weight: bold\">-0.0114</span>, <span style=\"color: #008080; text-decoration-color: #008080; font-weight: bold\">-0.0276</span>, <span style=\"color: #008080; text-decoration-color: #008080; font-weight: bold\">-0.0111</span>,  <span style=\"color: #008080; text-decoration-color: #008080; font-weight: bold\">0.0082</span>, <span style=\"color: #008080; text-decoration-color: #008080; font-weight: bold\">-0.0157</span>, <span style=\"color: #008080; text-decoration-color: #008080; font-weight: bold\">-0.0124</span>,  <span style=\"color: #008080; text-decoration-color: #008080; font-weight: bold\">0.0112</span>,  <span style=\"color: #008080; text-decoration-color: #008080; font-weight: bold\">0.0183</span>,\n",
       "        <span style=\"color: #008080; text-decoration-color: #008080; font-weight: bold\">-0.0552</span>, <span style=\"color: #008080; text-decoration-color: #008080; font-weight: bold\">-0.0106</span><span style=\"font-weight: bold\">]</span>, <span style=\"color: #808000; text-decoration-color: #808000\">device</span>=<span style=\"color: #008000; text-decoration-color: #008000\">'cuda:0'</span><span style=\"font-weight: bold\">)</span>, dtype: torch.float32\n",
       "</pre>\n"
      ],
      "text/plain": [
       "Embedding: \u001b[1;35mtensor\u001b[0m\u001b[1m(\u001b[0m\u001b[1m[\u001b[0m\u001b[1;36m-0.0114\u001b[0m, \u001b[1;36m-0.0276\u001b[0m, \u001b[1;36m-0.0111\u001b[0m,  \u001b[1;36m0.0082\u001b[0m, \u001b[1;36m-0.0157\u001b[0m, \u001b[1;36m-0.0124\u001b[0m,  \u001b[1;36m0.0112\u001b[0m,  \u001b[1;36m0.0183\u001b[0m,\n",
       "        \u001b[1;36m-0.0552\u001b[0m, \u001b[1;36m-0.0106\u001b[0m\u001b[1m]\u001b[0m, \u001b[33mdevice\u001b[0m=\u001b[32m'cuda:0'\u001b[0m\u001b[1m)\u001b[0m, dtype: torch.float32\n"
      ]
     },
     "metadata": {},
     "output_type": "display_data"
    },
    {
     "data": {
      "text/html": [
       "<pre style=\"white-space:pre;overflow-x:auto;line-height:normal;font-family:Menlo,'DejaVu Sans Mono',consolas,'Courier New',monospace\">Shape: <span style=\"color: #800080; text-decoration-color: #800080; font-weight: bold\">torch.Size</span><span style=\"font-weight: bold\">([</span><span style=\"color: #008080; text-decoration-color: #008080; font-weight: bold\">768</span><span style=\"font-weight: bold\">])</span>\n",
       "</pre>\n"
      ],
      "text/plain": [
       "Shape: \u001b[1;35mtorch.Size\u001b[0m\u001b[1m(\u001b[0m\u001b[1m[\u001b[0m\u001b[1;36m768\u001b[0m\u001b[1m]\u001b[0m\u001b[1m)\u001b[0m\n"
      ]
     },
     "metadata": {},
     "output_type": "display_data"
    },
    {
     "data": {
      "text/html": [
       "<pre style=\"white-space:pre;overflow-x:auto;line-height:normal;font-family:Menlo,'DejaVu Sans Mono',consolas,'Courier New',monospace\">Attribute: disease\n",
       "</pre>\n"
      ],
      "text/plain": [
       "Attribute: disease\n"
      ]
     },
     "metadata": {},
     "output_type": "display_data"
    },
    {
     "data": {
      "text/html": [
       "<pre style=\"white-space:pre;overflow-x:auto;line-height:normal;font-family:Menlo,'DejaVu Sans Mono',consolas,'Courier New',monospace\">Embedding: <span style=\"color: #800080; text-decoration-color: #800080; font-weight: bold\">tensor</span><span style=\"font-weight: bold\">([</span><span style=\"color: #008080; text-decoration-color: #008080; font-weight: bold\">-0.0127</span>, <span style=\"color: #008080; text-decoration-color: #008080; font-weight: bold\">-0.0061</span>, <span style=\"color: #008080; text-decoration-color: #008080; font-weight: bold\">-0.0069</span>,  <span style=\"color: #008080; text-decoration-color: #008080; font-weight: bold\">0.0089</span>,  <span style=\"color: #008080; text-decoration-color: #008080; font-weight: bold\">0.0244</span>,  <span style=\"color: #008080; text-decoration-color: #008080; font-weight: bold\">0.0112</span>, <span style=\"color: #008080; text-decoration-color: #008080; font-weight: bold\">-0.0185</span>,  <span style=\"color: #008080; text-decoration-color: #008080; font-weight: bold\">0.0332</span>,\n",
       "        <span style=\"color: #008080; text-decoration-color: #008080; font-weight: bold\">-0.0445</span>, <span style=\"color: #008080; text-decoration-color: #008080; font-weight: bold\">-0.0010</span><span style=\"font-weight: bold\">]</span>, <span style=\"color: #808000; text-decoration-color: #808000\">device</span>=<span style=\"color: #008000; text-decoration-color: #008000\">'cuda:0'</span><span style=\"font-weight: bold\">)</span>, dtype: torch.float32\n",
       "</pre>\n"
      ],
      "text/plain": [
       "Embedding: \u001b[1;35mtensor\u001b[0m\u001b[1m(\u001b[0m\u001b[1m[\u001b[0m\u001b[1;36m-0.0127\u001b[0m, \u001b[1;36m-0.0061\u001b[0m, \u001b[1;36m-0.0069\u001b[0m,  \u001b[1;36m0.0089\u001b[0m,  \u001b[1;36m0.0244\u001b[0m,  \u001b[1;36m0.0112\u001b[0m, \u001b[1;36m-0.0185\u001b[0m,  \u001b[1;36m0.0332\u001b[0m,\n",
       "        \u001b[1;36m-0.0445\u001b[0m, \u001b[1;36m-0.0010\u001b[0m\u001b[1m]\u001b[0m, \u001b[33mdevice\u001b[0m=\u001b[32m'cuda:0'\u001b[0m\u001b[1m)\u001b[0m, dtype: torch.float32\n"
      ]
     },
     "metadata": {},
     "output_type": "display_data"
    },
    {
     "data": {
      "text/html": [
       "<pre style=\"white-space:pre;overflow-x:auto;line-height:normal;font-family:Menlo,'DejaVu Sans Mono',consolas,'Courier New',monospace\">Shape: <span style=\"color: #800080; text-decoration-color: #800080; font-weight: bold\">torch.Size</span><span style=\"font-weight: bold\">([</span><span style=\"color: #008080; text-decoration-color: #008080; font-weight: bold\">768</span><span style=\"font-weight: bold\">])</span>\n",
       "</pre>\n"
      ],
      "text/plain": [
       "Shape: \u001b[1;35mtorch.Size\u001b[0m\u001b[1m(\u001b[0m\u001b[1m[\u001b[0m\u001b[1;36m768\u001b[0m\u001b[1m]\u001b[0m\u001b[1m)\u001b[0m\n"
      ]
     },
     "metadata": {},
     "output_type": "display_data"
    },
    {
     "data": {
      "text/html": [
       "<pre style=\"white-space:pre;overflow-x:auto;line-height:normal;font-family:Menlo,'DejaVu Sans Mono',consolas,'Courier New',monospace\">Attribute: collapse\n",
       "</pre>\n"
      ],
      "text/plain": [
       "Attribute: collapse\n"
      ]
     },
     "metadata": {},
     "output_type": "display_data"
    },
    {
     "data": {
      "text/html": [
       "<pre style=\"white-space:pre;overflow-x:auto;line-height:normal;font-family:Menlo,'DejaVu Sans Mono',consolas,'Courier New',monospace\">Embedding: <span style=\"color: #800080; text-decoration-color: #800080; font-weight: bold\">tensor</span><span style=\"font-weight: bold\">([</span><span style=\"color: #008080; text-decoration-color: #008080; font-weight: bold\">-0.0303</span>,  <span style=\"color: #008080; text-decoration-color: #008080; font-weight: bold\">0.0036</span>,  <span style=\"color: #008080; text-decoration-color: #008080; font-weight: bold\">0.0043</span>, <span style=\"color: #008080; text-decoration-color: #008080; font-weight: bold\">-0.0025</span>,  <span style=\"color: #008080; text-decoration-color: #008080; font-weight: bold\">0.0142</span>,  <span style=\"color: #008080; text-decoration-color: #008080; font-weight: bold\">0.0151</span>,  <span style=\"color: #008080; text-decoration-color: #008080; font-weight: bold\">0.0008</span>,  <span style=\"color: #008080; text-decoration-color: #008080; font-weight: bold\">0.0353</span>,\n",
       "        <span style=\"color: #008080; text-decoration-color: #008080; font-weight: bold\">-0.0556</span>, <span style=\"color: #008080; text-decoration-color: #008080; font-weight: bold\">-0.0081</span><span style=\"font-weight: bold\">]</span>, <span style=\"color: #808000; text-decoration-color: #808000\">device</span>=<span style=\"color: #008000; text-decoration-color: #008000\">'cuda:0'</span><span style=\"font-weight: bold\">)</span>, dtype: torch.float32\n",
       "</pre>\n"
      ],
      "text/plain": [
       "Embedding: \u001b[1;35mtensor\u001b[0m\u001b[1m(\u001b[0m\u001b[1m[\u001b[0m\u001b[1;36m-0.0303\u001b[0m,  \u001b[1;36m0.0036\u001b[0m,  \u001b[1;36m0.0043\u001b[0m, \u001b[1;36m-0.0025\u001b[0m,  \u001b[1;36m0.0142\u001b[0m,  \u001b[1;36m0.0151\u001b[0m,  \u001b[1;36m0.0008\u001b[0m,  \u001b[1;36m0.0353\u001b[0m,\n",
       "        \u001b[1;36m-0.0556\u001b[0m, \u001b[1;36m-0.0081\u001b[0m\u001b[1m]\u001b[0m, \u001b[33mdevice\u001b[0m=\u001b[32m'cuda:0'\u001b[0m\u001b[1m)\u001b[0m, dtype: torch.float32\n"
      ]
     },
     "metadata": {},
     "output_type": "display_data"
    },
    {
     "data": {
      "text/html": [
       "<pre style=\"white-space:pre;overflow-x:auto;line-height:normal;font-family:Menlo,'DejaVu Sans Mono',consolas,'Courier New',monospace\">Shape: <span style=\"color: #800080; text-decoration-color: #800080; font-weight: bold\">torch.Size</span><span style=\"font-weight: bold\">([</span><span style=\"color: #008080; text-decoration-color: #008080; font-weight: bold\">768</span><span style=\"font-weight: bold\">])</span>\n",
       "</pre>\n"
      ],
      "text/plain": [
       "Shape: \u001b[1;35mtorch.Size\u001b[0m\u001b[1m(\u001b[0m\u001b[1m[\u001b[0m\u001b[1;36m768\u001b[0m\u001b[1m]\u001b[0m\u001b[1m)\u001b[0m\n"
      ]
     },
     "metadata": {},
     "output_type": "display_data"
    },
    {
     "data": {
      "text/html": [
       "<pre style=\"white-space:pre;overflow-x:auto;line-height:normal;font-family:Menlo,'DejaVu Sans Mono',consolas,'Courier New',monospace\">Attribute: deformity\n",
       "</pre>\n"
      ],
      "text/plain": [
       "Attribute: deformity\n"
      ]
     },
     "metadata": {},
     "output_type": "display_data"
    },
    {
     "data": {
      "text/html": [
       "<pre style=\"white-space:pre;overflow-x:auto;line-height:normal;font-family:Menlo,'DejaVu Sans Mono',consolas,'Courier New',monospace\">Embedding: <span style=\"color: #800080; text-decoration-color: #800080; font-weight: bold\">tensor</span><span style=\"font-weight: bold\">([</span> <span style=\"color: #008080; text-decoration-color: #008080; font-weight: bold\">0.0045</span>, <span style=\"color: #008080; text-decoration-color: #008080; font-weight: bold\">-0.0288</span>,  <span style=\"color: #008080; text-decoration-color: #008080; font-weight: bold\">0.0014</span>,  <span style=\"color: #008080; text-decoration-color: #008080; font-weight: bold\">0.0123</span>,  <span style=\"color: #008080; text-decoration-color: #008080; font-weight: bold\">0.0048</span>,  <span style=\"color: #008080; text-decoration-color: #008080; font-weight: bold\">0.0260</span>, <span style=\"color: #008080; text-decoration-color: #008080; font-weight: bold\">-0.0003</span>,  <span style=\"color: #008080; text-decoration-color: #008080; font-weight: bold\">0.0376</span>,\n",
       "        <span style=\"color: #008080; text-decoration-color: #008080; font-weight: bold\">-0.0571</span>,  <span style=\"color: #008080; text-decoration-color: #008080; font-weight: bold\">0.0106</span><span style=\"font-weight: bold\">]</span>, <span style=\"color: #808000; text-decoration-color: #808000\">device</span>=<span style=\"color: #008000; text-decoration-color: #008000\">'cuda:0'</span><span style=\"font-weight: bold\">)</span>, dtype: torch.float32\n",
       "</pre>\n"
      ],
      "text/plain": [
       "Embedding: \u001b[1;35mtensor\u001b[0m\u001b[1m(\u001b[0m\u001b[1m[\u001b[0m \u001b[1;36m0.0045\u001b[0m, \u001b[1;36m-0.0288\u001b[0m,  \u001b[1;36m0.0014\u001b[0m,  \u001b[1;36m0.0123\u001b[0m,  \u001b[1;36m0.0048\u001b[0m,  \u001b[1;36m0.0260\u001b[0m, \u001b[1;36m-0.0003\u001b[0m,  \u001b[1;36m0.0376\u001b[0m,\n",
       "        \u001b[1;36m-0.0571\u001b[0m,  \u001b[1;36m0.0106\u001b[0m\u001b[1m]\u001b[0m, \u001b[33mdevice\u001b[0m=\u001b[32m'cuda:0'\u001b[0m\u001b[1m)\u001b[0m, dtype: torch.float32\n"
      ]
     },
     "metadata": {},
     "output_type": "display_data"
    },
    {
     "data": {
      "text/html": [
       "<pre style=\"white-space:pre;overflow-x:auto;line-height:normal;font-family:Menlo,'DejaVu Sans Mono',consolas,'Courier New',monospace\">Shape: <span style=\"color: #800080; text-decoration-color: #800080; font-weight: bold\">torch.Size</span><span style=\"font-weight: bold\">([</span><span style=\"color: #008080; text-decoration-color: #008080; font-weight: bold\">768</span><span style=\"font-weight: bold\">])</span>\n",
       "</pre>\n"
      ],
      "text/plain": [
       "Shape: \u001b[1;35mtorch.Size\u001b[0m\u001b[1m(\u001b[0m\u001b[1m[\u001b[0m\u001b[1;36m768\u001b[0m\u001b[1m]\u001b[0m\u001b[1m)\u001b[0m\n"
      ]
     },
     "metadata": {},
     "output_type": "display_data"
    },
    {
     "data": {
      "text/html": [
       "<pre style=\"white-space:pre;overflow-x:auto;line-height:normal;font-family:Menlo,'DejaVu Sans Mono',consolas,'Courier New',monospace\">Attribute: place\n",
       "</pre>\n"
      ],
      "text/plain": [
       "Attribute: place\n"
      ]
     },
     "metadata": {},
     "output_type": "display_data"
    },
    {
     "data": {
      "text/html": [
       "<pre style=\"white-space:pre;overflow-x:auto;line-height:normal;font-family:Menlo,'DejaVu Sans Mono',consolas,'Courier New',monospace\">Embedding: <span style=\"color: #800080; text-decoration-color: #800080; font-weight: bold\">tensor</span><span style=\"font-weight: bold\">([</span> <span style=\"color: #008080; text-decoration-color: #008080; font-weight: bold\">0.0084</span>, <span style=\"color: #008080; text-decoration-color: #008080; font-weight: bold\">-0.0544</span>, <span style=\"color: #008080; text-decoration-color: #008080; font-weight: bold\">-0.0127</span>,  <span style=\"color: #008080; text-decoration-color: #008080; font-weight: bold\">0.0037</span>, <span style=\"color: #008080; text-decoration-color: #008080; font-weight: bold\">-0.0278</span>,  <span style=\"color: #008080; text-decoration-color: #008080; font-weight: bold\">0.0089</span>,  <span style=\"color: #008080; text-decoration-color: #008080; font-weight: bold\">0.0159</span>,  <span style=\"color: #008080; text-decoration-color: #008080; font-weight: bold\">0.0056</span>,\n",
       "        <span style=\"color: #008080; text-decoration-color: #008080; font-weight: bold\">-0.0397</span>, <span style=\"color: #008080; text-decoration-color: #008080; font-weight: bold\">-0.0047</span><span style=\"font-weight: bold\">]</span>, <span style=\"color: #808000; text-decoration-color: #808000\">device</span>=<span style=\"color: #008000; text-decoration-color: #008000\">'cuda:0'</span><span style=\"font-weight: bold\">)</span>, dtype: torch.float32\n",
       "</pre>\n"
      ],
      "text/plain": [
       "Embedding: \u001b[1;35mtensor\u001b[0m\u001b[1m(\u001b[0m\u001b[1m[\u001b[0m \u001b[1;36m0.0084\u001b[0m, \u001b[1;36m-0.0544\u001b[0m, \u001b[1;36m-0.0127\u001b[0m,  \u001b[1;36m0.0037\u001b[0m, \u001b[1;36m-0.0278\u001b[0m,  \u001b[1;36m0.0089\u001b[0m,  \u001b[1;36m0.0159\u001b[0m,  \u001b[1;36m0.0056\u001b[0m,\n",
       "        \u001b[1;36m-0.0397\u001b[0m, \u001b[1;36m-0.0047\u001b[0m\u001b[1m]\u001b[0m, \u001b[33mdevice\u001b[0m=\u001b[32m'cuda:0'\u001b[0m\u001b[1m)\u001b[0m, dtype: torch.float32\n"
      ]
     },
     "metadata": {},
     "output_type": "display_data"
    },
    {
     "data": {
      "text/html": [
       "<pre style=\"white-space:pre;overflow-x:auto;line-height:normal;font-family:Menlo,'DejaVu Sans Mono',consolas,'Courier New',monospace\">Shape: <span style=\"color: #800080; text-decoration-color: #800080; font-weight: bold\">torch.Size</span><span style=\"font-weight: bold\">([</span><span style=\"color: #008080; text-decoration-color: #008080; font-weight: bold\">768</span><span style=\"font-weight: bold\">])</span>\n",
       "</pre>\n"
      ],
      "text/plain": [
       "Shape: \u001b[1;35mtorch.Size\u001b[0m\u001b[1m(\u001b[0m\u001b[1m[\u001b[0m\u001b[1;36m768\u001b[0m\u001b[1m]\u001b[0m\u001b[1m)\u001b[0m\n"
      ]
     },
     "metadata": {},
     "output_type": "display_data"
    },
    {
     "data": {
      "text/html": [
       "<pre style=\"white-space:pre;overflow-x:auto;line-height:normal;font-family:Menlo,'DejaVu Sans Mono',consolas,'Courier New',monospace\">Attribute: compression\n",
       "</pre>\n"
      ],
      "text/plain": [
       "Attribute: compression\n"
      ]
     },
     "metadata": {},
     "output_type": "display_data"
    },
    {
     "data": {
      "text/html": [
       "<pre style=\"white-space:pre;overflow-x:auto;line-height:normal;font-family:Menlo,'DejaVu Sans Mono',consolas,'Courier New',monospace\">Embedding: <span style=\"color: #800080; text-decoration-color: #800080; font-weight: bold\">tensor</span><span style=\"font-weight: bold\">([</span> <span style=\"color: #008080; text-decoration-color: #008080; font-weight: bold\">0.0014</span>, <span style=\"color: #008080; text-decoration-color: #008080; font-weight: bold\">-0.0349</span>,  <span style=\"color: #008080; text-decoration-color: #008080; font-weight: bold\">0.0020</span>, <span style=\"color: #008080; text-decoration-color: #008080; font-weight: bold\">-0.0003</span>,  <span style=\"color: #008080; text-decoration-color: #008080; font-weight: bold\">0.0071</span>,  <span style=\"color: #008080; text-decoration-color: #008080; font-weight: bold\">0.0087</span>,  <span style=\"color: #008080; text-decoration-color: #008080; font-weight: bold\">0.0025</span>,  <span style=\"color: #008080; text-decoration-color: #008080; font-weight: bold\">0.0414</span>,\n",
       "        <span style=\"color: #008080; text-decoration-color: #008080; font-weight: bold\">-0.0680</span>,  <span style=\"color: #008080; text-decoration-color: #008080; font-weight: bold\">0.0033</span><span style=\"font-weight: bold\">]</span>, <span style=\"color: #808000; text-decoration-color: #808000\">device</span>=<span style=\"color: #008000; text-decoration-color: #008000\">'cuda:0'</span><span style=\"font-weight: bold\">)</span>, dtype: torch.float32\n",
       "</pre>\n"
      ],
      "text/plain": [
       "Embedding: \u001b[1;35mtensor\u001b[0m\u001b[1m(\u001b[0m\u001b[1m[\u001b[0m \u001b[1;36m0.0014\u001b[0m, \u001b[1;36m-0.0349\u001b[0m,  \u001b[1;36m0.0020\u001b[0m, \u001b[1;36m-0.0003\u001b[0m,  \u001b[1;36m0.0071\u001b[0m,  \u001b[1;36m0.0087\u001b[0m,  \u001b[1;36m0.0025\u001b[0m,  \u001b[1;36m0.0414\u001b[0m,\n",
       "        \u001b[1;36m-0.0680\u001b[0m,  \u001b[1;36m0.0033\u001b[0m\u001b[1m]\u001b[0m, \u001b[33mdevice\u001b[0m=\u001b[32m'cuda:0'\u001b[0m\u001b[1m)\u001b[0m, dtype: torch.float32\n"
      ]
     },
     "metadata": {},
     "output_type": "display_data"
    },
    {
     "data": {
      "text/html": [
       "<pre style=\"white-space:pre;overflow-x:auto;line-height:normal;font-family:Menlo,'DejaVu Sans Mono',consolas,'Courier New',monospace\">Shape: <span style=\"color: #800080; text-decoration-color: #800080; font-weight: bold\">torch.Size</span><span style=\"font-weight: bold\">([</span><span style=\"color: #008080; text-decoration-color: #008080; font-weight: bold\">768</span><span style=\"font-weight: bold\">])</span>\n",
       "</pre>\n"
      ],
      "text/plain": [
       "Shape: \u001b[1;35mtorch.Size\u001b[0m\u001b[1m(\u001b[0m\u001b[1m[\u001b[0m\u001b[1;36m768\u001b[0m\u001b[1m]\u001b[0m\u001b[1m)\u001b[0m\n"
      ]
     },
     "metadata": {},
     "output_type": "display_data"
    },
    {
     "data": {
      "text/html": [
       "<pre style=\"white-space:pre;overflow-x:auto;line-height:normal;font-family:Menlo,'DejaVu Sans Mono',consolas,'Courier New',monospace\">Attribute: air\n",
       "</pre>\n"
      ],
      "text/plain": [
       "Attribute: air\n"
      ]
     },
     "metadata": {},
     "output_type": "display_data"
    },
    {
     "data": {
      "text/html": [
       "<pre style=\"white-space:pre;overflow-x:auto;line-height:normal;font-family:Menlo,'DejaVu Sans Mono',consolas,'Courier New',monospace\">Embedding: <span style=\"color: #800080; text-decoration-color: #800080; font-weight: bold\">tensor</span><span style=\"font-weight: bold\">([</span><span style=\"color: #008080; text-decoration-color: #008080; font-weight: bold\">-0.0119</span>, <span style=\"color: #008080; text-decoration-color: #008080; font-weight: bold\">-0.0217</span>, <span style=\"color: #008080; text-decoration-color: #008080; font-weight: bold\">-0.0107</span>, <span style=\"color: #008080; text-decoration-color: #008080; font-weight: bold\">-0.0028</span>, <span style=\"color: #008080; text-decoration-color: #008080; font-weight: bold\">-0.0080</span>, <span style=\"color: #008080; text-decoration-color: #008080; font-weight: bold\">-0.0103</span>,  <span style=\"color: #008080; text-decoration-color: #008080; font-weight: bold\">0.0029</span>,  <span style=\"color: #008080; text-decoration-color: #008080; font-weight: bold\">0.0335</span>,\n",
       "        <span style=\"color: #008080; text-decoration-color: #008080; font-weight: bold\">-0.0463</span>, <span style=\"color: #008080; text-decoration-color: #008080; font-weight: bold\">-0.0137</span><span style=\"font-weight: bold\">]</span>, <span style=\"color: #808000; text-decoration-color: #808000\">device</span>=<span style=\"color: #008000; text-decoration-color: #008000\">'cuda:0'</span><span style=\"font-weight: bold\">)</span>, dtype: torch.float32\n",
       "</pre>\n"
      ],
      "text/plain": [
       "Embedding: \u001b[1;35mtensor\u001b[0m\u001b[1m(\u001b[0m\u001b[1m[\u001b[0m\u001b[1;36m-0.0119\u001b[0m, \u001b[1;36m-0.0217\u001b[0m, \u001b[1;36m-0.0107\u001b[0m, \u001b[1;36m-0.0028\u001b[0m, \u001b[1;36m-0.0080\u001b[0m, \u001b[1;36m-0.0103\u001b[0m,  \u001b[1;36m0.0029\u001b[0m,  \u001b[1;36m0.0335\u001b[0m,\n",
       "        \u001b[1;36m-0.0463\u001b[0m, \u001b[1;36m-0.0137\u001b[0m\u001b[1m]\u001b[0m, \u001b[33mdevice\u001b[0m=\u001b[32m'cuda:0'\u001b[0m\u001b[1m)\u001b[0m, dtype: torch.float32\n"
      ]
     },
     "metadata": {},
     "output_type": "display_data"
    },
    {
     "data": {
      "text/html": [
       "<pre style=\"white-space:pre;overflow-x:auto;line-height:normal;font-family:Menlo,'DejaVu Sans Mono',consolas,'Courier New',monospace\">Shape: <span style=\"color: #800080; text-decoration-color: #800080; font-weight: bold\">torch.Size</span><span style=\"font-weight: bold\">([</span><span style=\"color: #008080; text-decoration-color: #008080; font-weight: bold\">768</span><span style=\"font-weight: bold\">])</span>\n",
       "</pre>\n"
      ],
      "text/plain": [
       "Shape: \u001b[1;35mtorch.Size\u001b[0m\u001b[1m(\u001b[0m\u001b[1m[\u001b[0m\u001b[1;36m768\u001b[0m\u001b[1m]\u001b[0m\u001b[1m)\u001b[0m\n"
      ]
     },
     "metadata": {},
     "output_type": "display_data"
    },
    {
     "data": {
      "text/html": [
       "<pre style=\"white-space:pre;overflow-x:auto;line-height:normal;font-family:Menlo,'DejaVu Sans Mono',consolas,'Courier New',monospace\">Attribute: calcification\n",
       "</pre>\n"
      ],
      "text/plain": [
       "Attribute: calcification\n"
      ]
     },
     "metadata": {},
     "output_type": "display_data"
    },
    {
     "data": {
      "text/html": [
       "<pre style=\"white-space:pre;overflow-x:auto;line-height:normal;font-family:Menlo,'DejaVu Sans Mono',consolas,'Courier New',monospace\">Embedding: <span style=\"color: #800080; text-decoration-color: #800080; font-weight: bold\">tensor</span><span style=\"font-weight: bold\">([</span><span style=\"color: #008080; text-decoration-color: #008080; font-weight: bold\">-0.0226</span>, <span style=\"color: #008080; text-decoration-color: #008080; font-weight: bold\">-0.0257</span>,  <span style=\"color: #008080; text-decoration-color: #008080; font-weight: bold\">0.0022</span>,  <span style=\"color: #008080; text-decoration-color: #008080; font-weight: bold\">0.0469</span>,  <span style=\"color: #008080; text-decoration-color: #008080; font-weight: bold\">0.0268</span>,  <span style=\"color: #008080; text-decoration-color: #008080; font-weight: bold\">0.0298</span>,  <span style=\"color: #008080; text-decoration-color: #008080; font-weight: bold\">0.0009</span>,  <span style=\"color: #008080; text-decoration-color: #008080; font-weight: bold\">0.0614</span>,\n",
       "         <span style=\"color: #008080; text-decoration-color: #008080; font-weight: bold\">0.0069</span>,  <span style=\"color: #008080; text-decoration-color: #008080; font-weight: bold\">0.0255</span><span style=\"font-weight: bold\">]</span>, <span style=\"color: #808000; text-decoration-color: #808000\">device</span>=<span style=\"color: #008000; text-decoration-color: #008000\">'cuda:0'</span><span style=\"font-weight: bold\">)</span>, dtype: torch.float32\n",
       "</pre>\n"
      ],
      "text/plain": [
       "Embedding: \u001b[1;35mtensor\u001b[0m\u001b[1m(\u001b[0m\u001b[1m[\u001b[0m\u001b[1;36m-0.0226\u001b[0m, \u001b[1;36m-0.0257\u001b[0m,  \u001b[1;36m0.0022\u001b[0m,  \u001b[1;36m0.0469\u001b[0m,  \u001b[1;36m0.0268\u001b[0m,  \u001b[1;36m0.0298\u001b[0m,  \u001b[1;36m0.0009\u001b[0m,  \u001b[1;36m0.0614\u001b[0m,\n",
       "         \u001b[1;36m0.0069\u001b[0m,  \u001b[1;36m0.0255\u001b[0m\u001b[1m]\u001b[0m, \u001b[33mdevice\u001b[0m=\u001b[32m'cuda:0'\u001b[0m\u001b[1m)\u001b[0m, dtype: torch.float32\n"
      ]
     },
     "metadata": {},
     "output_type": "display_data"
    },
    {
     "data": {
      "text/html": [
       "<pre style=\"white-space:pre;overflow-x:auto;line-height:normal;font-family:Menlo,'DejaVu Sans Mono',consolas,'Courier New',monospace\">Shape: <span style=\"color: #800080; text-decoration-color: #800080; font-weight: bold\">torch.Size</span><span style=\"font-weight: bold\">([</span><span style=\"color: #008080; text-decoration-color: #008080; font-weight: bold\">768</span><span style=\"font-weight: bold\">])</span>\n",
       "</pre>\n"
      ],
      "text/plain": [
       "Shape: \u001b[1;35mtorch.Size\u001b[0m\u001b[1m(\u001b[0m\u001b[1m[\u001b[0m\u001b[1;36m768\u001b[0m\u001b[1m]\u001b[0m\u001b[1m)\u001b[0m\n"
      ]
     },
     "metadata": {},
     "output_type": "display_data"
    },
    {
     "data": {
      "text/html": [
       "<pre style=\"white-space:pre;overflow-x:auto;line-height:normal;font-family:Menlo,'DejaVu Sans Mono',consolas,'Courier New',monospace\">Attribute: hardware\n",
       "</pre>\n"
      ],
      "text/plain": [
       "Attribute: hardware\n"
      ]
     },
     "metadata": {},
     "output_type": "display_data"
    },
    {
     "data": {
      "text/html": [
       "<pre style=\"white-space:pre;overflow-x:auto;line-height:normal;font-family:Menlo,'DejaVu Sans Mono',consolas,'Courier New',monospace\">Embedding: <span style=\"color: #800080; text-decoration-color: #800080; font-weight: bold\">tensor</span><span style=\"font-weight: bold\">([</span> <span style=\"color: #008080; text-decoration-color: #008080; font-weight: bold\">0.0232</span>, <span style=\"color: #008080; text-decoration-color: #008080; font-weight: bold\">-0.0238</span>, <span style=\"color: #008080; text-decoration-color: #008080; font-weight: bold\">-0.0084</span>,  <span style=\"color: #008080; text-decoration-color: #008080; font-weight: bold\">0.0072</span>, <span style=\"color: #008080; text-decoration-color: #008080; font-weight: bold\">-0.0080</span>,  <span style=\"color: #008080; text-decoration-color: #008080; font-weight: bold\">0.0237</span>,  <span style=\"color: #008080; text-decoration-color: #008080; font-weight: bold\">0.0320</span>,  <span style=\"color: #008080; text-decoration-color: #008080; font-weight: bold\">0.0405</span>,\n",
       "        <span style=\"color: #008080; text-decoration-color: #008080; font-weight: bold\">-0.0075</span>,  <span style=\"color: #008080; text-decoration-color: #008080; font-weight: bold\">0.0032</span><span style=\"font-weight: bold\">]</span>, <span style=\"color: #808000; text-decoration-color: #808000\">device</span>=<span style=\"color: #008000; text-decoration-color: #008000\">'cuda:0'</span><span style=\"font-weight: bold\">)</span>, dtype: torch.float32\n",
       "</pre>\n"
      ],
      "text/plain": [
       "Embedding: \u001b[1;35mtensor\u001b[0m\u001b[1m(\u001b[0m\u001b[1m[\u001b[0m \u001b[1;36m0.0232\u001b[0m, \u001b[1;36m-0.0238\u001b[0m, \u001b[1;36m-0.0084\u001b[0m,  \u001b[1;36m0.0072\u001b[0m, \u001b[1;36m-0.0080\u001b[0m,  \u001b[1;36m0.0237\u001b[0m,  \u001b[1;36m0.0320\u001b[0m,  \u001b[1;36m0.0405\u001b[0m,\n",
       "        \u001b[1;36m-0.0075\u001b[0m,  \u001b[1;36m0.0032\u001b[0m\u001b[1m]\u001b[0m, \u001b[33mdevice\u001b[0m=\u001b[32m'cuda:0'\u001b[0m\u001b[1m)\u001b[0m, dtype: torch.float32\n"
      ]
     },
     "metadata": {},
     "output_type": "display_data"
    },
    {
     "data": {
      "text/html": [
       "<pre style=\"white-space:pre;overflow-x:auto;line-height:normal;font-family:Menlo,'DejaVu Sans Mono',consolas,'Courier New',monospace\">Shape: <span style=\"color: #800080; text-decoration-color: #800080; font-weight: bold\">torch.Size</span><span style=\"font-weight: bold\">([</span><span style=\"color: #008080; text-decoration-color: #008080; font-weight: bold\">768</span><span style=\"font-weight: bold\">])</span>\n",
       "</pre>\n"
      ],
      "text/plain": [
       "Shape: \u001b[1;35mtorch.Size\u001b[0m\u001b[1m(\u001b[0m\u001b[1m[\u001b[0m\u001b[1;36m768\u001b[0m\u001b[1m]\u001b[0m\u001b[1m)\u001b[0m\n"
      ]
     },
     "metadata": {},
     "output_type": "display_data"
    },
    {
     "data": {
      "text/html": [
       "<pre style=\"white-space:pre;overflow-x:auto;line-height:normal;font-family:Menlo,'DejaVu Sans Mono',consolas,'Courier New',monospace\">Attribute: catheter\n",
       "</pre>\n"
      ],
      "text/plain": [
       "Attribute: catheter\n"
      ]
     },
     "metadata": {},
     "output_type": "display_data"
    },
    {
     "data": {
      "text/html": [
       "<pre style=\"white-space:pre;overflow-x:auto;line-height:normal;font-family:Menlo,'DejaVu Sans Mono',consolas,'Courier New',monospace\">Embedding: <span style=\"color: #800080; text-decoration-color: #800080; font-weight: bold\">tensor</span><span style=\"font-weight: bold\">([</span> <span style=\"color: #008080; text-decoration-color: #008080; font-weight: bold\">0.0152</span>, <span style=\"color: #008080; text-decoration-color: #008080; font-weight: bold\">-0.0693</span>, <span style=\"color: #008080; text-decoration-color: #008080; font-weight: bold\">-0.0185</span>,  <span style=\"color: #008080; text-decoration-color: #008080; font-weight: bold\">0.0073</span>, <span style=\"color: #008080; text-decoration-color: #008080; font-weight: bold\">-0.0321</span>,  <span style=\"color: #008080; text-decoration-color: #008080; font-weight: bold\">0.0169</span>,  <span style=\"color: #008080; text-decoration-color: #008080; font-weight: bold\">0.0087</span>,  <span style=\"color: #008080; text-decoration-color: #008080; font-weight: bold\">0.0026</span>,\n",
       "        <span style=\"color: #008080; text-decoration-color: #008080; font-weight: bold\">-0.0180</span>, <span style=\"color: #008080; text-decoration-color: #008080; font-weight: bold\">-0.0123</span><span style=\"font-weight: bold\">]</span>, <span style=\"color: #808000; text-decoration-color: #808000\">device</span>=<span style=\"color: #008000; text-decoration-color: #008000\">'cuda:0'</span><span style=\"font-weight: bold\">)</span>, dtype: torch.float32\n",
       "</pre>\n"
      ],
      "text/plain": [
       "Embedding: \u001b[1;35mtensor\u001b[0m\u001b[1m(\u001b[0m\u001b[1m[\u001b[0m \u001b[1;36m0.0152\u001b[0m, \u001b[1;36m-0.0693\u001b[0m, \u001b[1;36m-0.0185\u001b[0m,  \u001b[1;36m0.0073\u001b[0m, \u001b[1;36m-0.0321\u001b[0m,  \u001b[1;36m0.0169\u001b[0m,  \u001b[1;36m0.0087\u001b[0m,  \u001b[1;36m0.0026\u001b[0m,\n",
       "        \u001b[1;36m-0.0180\u001b[0m, \u001b[1;36m-0.0123\u001b[0m\u001b[1m]\u001b[0m, \u001b[33mdevice\u001b[0m=\u001b[32m'cuda:0'\u001b[0m\u001b[1m)\u001b[0m, dtype: torch.float32\n"
      ]
     },
     "metadata": {},
     "output_type": "display_data"
    },
    {
     "data": {
      "text/html": [
       "<pre style=\"white-space:pre;overflow-x:auto;line-height:normal;font-family:Menlo,'DejaVu Sans Mono',consolas,'Courier New',monospace\">Shape: <span style=\"color: #800080; text-decoration-color: #800080; font-weight: bold\">torch.Size</span><span style=\"font-weight: bold\">([</span><span style=\"color: #008080; text-decoration-color: #008080; font-weight: bold\">768</span><span style=\"font-weight: bold\">])</span>\n",
       "</pre>\n"
      ],
      "text/plain": [
       "Shape: \u001b[1;35mtorch.Size\u001b[0m\u001b[1m(\u001b[0m\u001b[1m[\u001b[0m\u001b[1;36m768\u001b[0m\u001b[1m]\u001b[0m\u001b[1m)\u001b[0m\n"
      ]
     },
     "metadata": {},
     "output_type": "display_data"
    },
    {
     "data": {
      "text/html": [
       "<pre style=\"white-space:pre;overflow-x:auto;line-height:normal;font-family:Menlo,'DejaVu Sans Mono',consolas,'Courier New',monospace\">Attribute: trace\n",
       "</pre>\n"
      ],
      "text/plain": [
       "Attribute: trace\n"
      ]
     },
     "metadata": {},
     "output_type": "display_data"
    },
    {
     "data": {
      "text/html": [
       "<pre style=\"white-space:pre;overflow-x:auto;line-height:normal;font-family:Menlo,'DejaVu Sans Mono',consolas,'Courier New',monospace\">Embedding: <span style=\"color: #800080; text-decoration-color: #800080; font-weight: bold\">tensor</span><span style=\"font-weight: bold\">([</span><span style=\"color: #008080; text-decoration-color: #008080; font-weight: bold\">-0.0120</span>, <span style=\"color: #008080; text-decoration-color: #008080; font-weight: bold\">-0.0850</span>,  <span style=\"color: #008080; text-decoration-color: #008080; font-weight: bold\">0.0052</span>,  <span style=\"color: #008080; text-decoration-color: #008080; font-weight: bold\">0.0304</span>, <span style=\"color: #008080; text-decoration-color: #008080; font-weight: bold\">-0.0013</span>, <span style=\"color: #008080; text-decoration-color: #008080; font-weight: bold\">-0.0075</span>, <span style=\"color: #008080; text-decoration-color: #008080; font-weight: bold\">-0.0033</span>,  <span style=\"color: #008080; text-decoration-color: #008080; font-weight: bold\">0.0339</span>,\n",
       "        <span style=\"color: #008080; text-decoration-color: #008080; font-weight: bold\">-0.0332</span>, <span style=\"color: #008080; text-decoration-color: #008080; font-weight: bold\">-0.0201</span><span style=\"font-weight: bold\">]</span>, <span style=\"color: #808000; text-decoration-color: #808000\">device</span>=<span style=\"color: #008000; text-decoration-color: #008000\">'cuda:0'</span><span style=\"font-weight: bold\">)</span>, dtype: torch.float32\n",
       "</pre>\n"
      ],
      "text/plain": [
       "Embedding: \u001b[1;35mtensor\u001b[0m\u001b[1m(\u001b[0m\u001b[1m[\u001b[0m\u001b[1;36m-0.0120\u001b[0m, \u001b[1;36m-0.0850\u001b[0m,  \u001b[1;36m0.0052\u001b[0m,  \u001b[1;36m0.0304\u001b[0m, \u001b[1;36m-0.0013\u001b[0m, \u001b[1;36m-0.0075\u001b[0m, \u001b[1;36m-0.0033\u001b[0m,  \u001b[1;36m0.0339\u001b[0m,\n",
       "        \u001b[1;36m-0.0332\u001b[0m, \u001b[1;36m-0.0201\u001b[0m\u001b[1m]\u001b[0m, \u001b[33mdevice\u001b[0m=\u001b[32m'cuda:0'\u001b[0m\u001b[1m)\u001b[0m, dtype: torch.float32\n"
      ]
     },
     "metadata": {},
     "output_type": "display_data"
    },
    {
     "data": {
      "text/html": [
       "<pre style=\"white-space:pre;overflow-x:auto;line-height:normal;font-family:Menlo,'DejaVu Sans Mono',consolas,'Courier New',monospace\">Shape: <span style=\"color: #800080; text-decoration-color: #800080; font-weight: bold\">torch.Size</span><span style=\"font-weight: bold\">([</span><span style=\"color: #008080; text-decoration-color: #008080; font-weight: bold\">768</span><span style=\"font-weight: bold\">])</span>\n",
       "</pre>\n"
      ],
      "text/plain": [
       "Shape: \u001b[1;35mtorch.Size\u001b[0m\u001b[1m(\u001b[0m\u001b[1m[\u001b[0m\u001b[1;36m768\u001b[0m\u001b[1m]\u001b[0m\u001b[1m)\u001b[0m\n"
      ]
     },
     "metadata": {},
     "output_type": "display_data"
    },
    {
     "data": {
      "text/html": [
       "<pre style=\"white-space:pre;overflow-x:auto;line-height:normal;font-family:Menlo,'DejaVu Sans Mono',consolas,'Courier New',monospace\">Attribute: device\n",
       "</pre>\n"
      ],
      "text/plain": [
       "Attribute: device\n"
      ]
     },
     "metadata": {},
     "output_type": "display_data"
    },
    {
     "data": {
      "text/html": [
       "<pre style=\"white-space:pre;overflow-x:auto;line-height:normal;font-family:Menlo,'DejaVu Sans Mono',consolas,'Courier New',monospace\">Embedding: <span style=\"color: #800080; text-decoration-color: #800080; font-weight: bold\">tensor</span><span style=\"font-weight: bold\">([</span><span style=\"color: #008080; text-decoration-color: #008080; font-weight: bold\">-0.0172</span>, <span style=\"color: #008080; text-decoration-color: #008080; font-weight: bold\">-0.0715</span>, <span style=\"color: #008080; text-decoration-color: #008080; font-weight: bold\">-0.0234</span>,  <span style=\"color: #008080; text-decoration-color: #008080; font-weight: bold\">0.0156</span>, <span style=\"color: #008080; text-decoration-color: #008080; font-weight: bold\">-0.0179</span>,  <span style=\"color: #008080; text-decoration-color: #008080; font-weight: bold\">0.0323</span>,  <span style=\"color: #008080; text-decoration-color: #008080; font-weight: bold\">0.0479</span>,  <span style=\"color: #008080; text-decoration-color: #008080; font-weight: bold\">0.0012</span>,\n",
       "        <span style=\"color: #008080; text-decoration-color: #008080; font-weight: bold\">-0.0123</span>, <span style=\"color: #008080; text-decoration-color: #008080; font-weight: bold\">-0.0099</span><span style=\"font-weight: bold\">]</span>, <span style=\"color: #808000; text-decoration-color: #808000\">device</span>=<span style=\"color: #008000; text-decoration-color: #008000\">'cuda:0'</span><span style=\"font-weight: bold\">)</span>, dtype: torch.float32\n",
       "</pre>\n"
      ],
      "text/plain": [
       "Embedding: \u001b[1;35mtensor\u001b[0m\u001b[1m(\u001b[0m\u001b[1m[\u001b[0m\u001b[1;36m-0.0172\u001b[0m, \u001b[1;36m-0.0715\u001b[0m, \u001b[1;36m-0.0234\u001b[0m,  \u001b[1;36m0.0156\u001b[0m, \u001b[1;36m-0.0179\u001b[0m,  \u001b[1;36m0.0323\u001b[0m,  \u001b[1;36m0.0479\u001b[0m,  \u001b[1;36m0.0012\u001b[0m,\n",
       "        \u001b[1;36m-0.0123\u001b[0m, \u001b[1;36m-0.0099\u001b[0m\u001b[1m]\u001b[0m, \u001b[33mdevice\u001b[0m=\u001b[32m'cuda:0'\u001b[0m\u001b[1m)\u001b[0m, dtype: torch.float32\n"
      ]
     },
     "metadata": {},
     "output_type": "display_data"
    },
    {
     "data": {
      "text/html": [
       "<pre style=\"white-space:pre;overflow-x:auto;line-height:normal;font-family:Menlo,'DejaVu Sans Mono',consolas,'Courier New',monospace\">Shape: <span style=\"color: #800080; text-decoration-color: #800080; font-weight: bold\">torch.Size</span><span style=\"font-weight: bold\">([</span><span style=\"color: #008080; text-decoration-color: #008080; font-weight: bold\">768</span><span style=\"font-weight: bold\">])</span>\n",
       "</pre>\n"
      ],
      "text/plain": [
       "Shape: \u001b[1;35mtorch.Size\u001b[0m\u001b[1m(\u001b[0m\u001b[1m[\u001b[0m\u001b[1;36m768\u001b[0m\u001b[1m]\u001b[0m\u001b[1m)\u001b[0m\n"
      ]
     },
     "metadata": {},
     "output_type": "display_data"
    },
    {
     "data": {
      "text/html": [
       "<pre style=\"white-space:pre;overflow-x:auto;line-height:normal;font-family:Menlo,'DejaVu Sans Mono',consolas,'Courier New',monospace\">Attribute: et\n",
       "</pre>\n"
      ],
      "text/plain": [
       "Attribute: et\n"
      ]
     },
     "metadata": {},
     "output_type": "display_data"
    },
    {
     "data": {
      "text/html": [
       "<pre style=\"white-space:pre;overflow-x:auto;line-height:normal;font-family:Menlo,'DejaVu Sans Mono',consolas,'Courier New',monospace\">Embedding: <span style=\"color: #800080; text-decoration-color: #800080; font-weight: bold\">tensor</span><span style=\"font-weight: bold\">([</span> <span style=\"color: #008080; text-decoration-color: #008080; font-weight: bold\">0.0046</span>, <span style=\"color: #008080; text-decoration-color: #008080; font-weight: bold\">-0.0679</span>, <span style=\"color: #008080; text-decoration-color: #008080; font-weight: bold\">-0.0019</span>,  <span style=\"color: #008080; text-decoration-color: #008080; font-weight: bold\">0.0107</span>,  <span style=\"color: #008080; text-decoration-color: #008080; font-weight: bold\">0.0106</span>,  <span style=\"color: #008080; text-decoration-color: #008080; font-weight: bold\">0.0085</span>,  <span style=\"color: #008080; text-decoration-color: #008080; font-weight: bold\">0.0084</span>,  <span style=\"color: #008080; text-decoration-color: #008080; font-weight: bold\">0.0303</span>,\n",
       "        <span style=\"color: #008080; text-decoration-color: #008080; font-weight: bold\">-0.0384</span>,  <span style=\"color: #008080; text-decoration-color: #008080; font-weight: bold\">0.0191</span><span style=\"font-weight: bold\">]</span>, <span style=\"color: #808000; text-decoration-color: #808000\">device</span>=<span style=\"color: #008000; text-decoration-color: #008000\">'cuda:0'</span><span style=\"font-weight: bold\">)</span>, dtype: torch.float32\n",
       "</pre>\n"
      ],
      "text/plain": [
       "Embedding: \u001b[1;35mtensor\u001b[0m\u001b[1m(\u001b[0m\u001b[1m[\u001b[0m \u001b[1;36m0.0046\u001b[0m, \u001b[1;36m-0.0679\u001b[0m, \u001b[1;36m-0.0019\u001b[0m,  \u001b[1;36m0.0107\u001b[0m,  \u001b[1;36m0.0106\u001b[0m,  \u001b[1;36m0.0085\u001b[0m,  \u001b[1;36m0.0084\u001b[0m,  \u001b[1;36m0.0303\u001b[0m,\n",
       "        \u001b[1;36m-0.0384\u001b[0m,  \u001b[1;36m0.0191\u001b[0m\u001b[1m]\u001b[0m, \u001b[33mdevice\u001b[0m=\u001b[32m'cuda:0'\u001b[0m\u001b[1m)\u001b[0m, dtype: torch.float32\n"
      ]
     },
     "metadata": {},
     "output_type": "display_data"
    },
    {
     "data": {
      "text/html": [
       "<pre style=\"white-space:pre;overflow-x:auto;line-height:normal;font-family:Menlo,'DejaVu Sans Mono',consolas,'Courier New',monospace\">Shape: <span style=\"color: #800080; text-decoration-color: #800080; font-weight: bold\">torch.Size</span><span style=\"font-weight: bold\">([</span><span style=\"color: #008080; text-decoration-color: #008080; font-weight: bold\">768</span><span style=\"font-weight: bold\">])</span>\n",
       "</pre>\n"
      ],
      "text/plain": [
       "Shape: \u001b[1;35mtorch.Size\u001b[0m\u001b[1m(\u001b[0m\u001b[1m[\u001b[0m\u001b[1;36m768\u001b[0m\u001b[1m]\u001b[0m\u001b[1m)\u001b[0m\n"
      ]
     },
     "metadata": {},
     "output_type": "display_data"
    },
    {
     "data": {
      "text/html": [
       "<pre style=\"white-space:pre;overflow-x:auto;line-height:normal;font-family:Menlo,'DejaVu Sans Mono',consolas,'Courier New',monospace\">Attribute: lead\n",
       "</pre>\n"
      ],
      "text/plain": [
       "Attribute: lead\n"
      ]
     },
     "metadata": {},
     "output_type": "display_data"
    },
    {
     "data": {
      "text/html": [
       "<pre style=\"white-space:pre;overflow-x:auto;line-height:normal;font-family:Menlo,'DejaVu Sans Mono',consolas,'Courier New',monospace\">Embedding: <span style=\"color: #800080; text-decoration-color: #800080; font-weight: bold\">tensor</span><span style=\"font-weight: bold\">([</span><span style=\"color: #008080; text-decoration-color: #008080; font-weight: bold\">-0.0223</span>, <span style=\"color: #008080; text-decoration-color: #008080; font-weight: bold\">-0.0626</span>, <span style=\"color: #008080; text-decoration-color: #008080; font-weight: bold\">-0.0222</span>,  <span style=\"color: #008080; text-decoration-color: #008080; font-weight: bold\">0.0310</span>, <span style=\"color: #008080; text-decoration-color: #008080; font-weight: bold\">-0.0163</span>,  <span style=\"color: #008080; text-decoration-color: #008080; font-weight: bold\">0.0407</span>,  <span style=\"color: #008080; text-decoration-color: #008080; font-weight: bold\">0.0238</span>, <span style=\"color: #008080; text-decoration-color: #008080; font-weight: bold\">-0.0025</span>,\n",
       "        <span style=\"color: #008080; text-decoration-color: #008080; font-weight: bold\">-0.0161</span>, <span style=\"color: #008080; text-decoration-color: #008080; font-weight: bold\">-0.0031</span><span style=\"font-weight: bold\">]</span>, <span style=\"color: #808000; text-decoration-color: #808000\">device</span>=<span style=\"color: #008000; text-decoration-color: #008000\">'cuda:0'</span><span style=\"font-weight: bold\">)</span>, dtype: torch.float32\n",
       "</pre>\n"
      ],
      "text/plain": [
       "Embedding: \u001b[1;35mtensor\u001b[0m\u001b[1m(\u001b[0m\u001b[1m[\u001b[0m\u001b[1;36m-0.0223\u001b[0m, \u001b[1;36m-0.0626\u001b[0m, \u001b[1;36m-0.0222\u001b[0m,  \u001b[1;36m0.0310\u001b[0m, \u001b[1;36m-0.0163\u001b[0m,  \u001b[1;36m0.0407\u001b[0m,  \u001b[1;36m0.0238\u001b[0m, \u001b[1;36m-0.0025\u001b[0m,\n",
       "        \u001b[1;36m-0.0161\u001b[0m, \u001b[1;36m-0.0031\u001b[0m\u001b[1m]\u001b[0m, \u001b[33mdevice\u001b[0m=\u001b[32m'cuda:0'\u001b[0m\u001b[1m)\u001b[0m, dtype: torch.float32\n"
      ]
     },
     "metadata": {},
     "output_type": "display_data"
    },
    {
     "data": {
      "text/html": [
       "<pre style=\"white-space:pre;overflow-x:auto;line-height:normal;font-family:Menlo,'DejaVu Sans Mono',consolas,'Courier New',monospace\">Shape: <span style=\"color: #800080; text-decoration-color: #800080; font-weight: bold\">torch.Size</span><span style=\"font-weight: bold\">([</span><span style=\"color: #008080; text-decoration-color: #008080; font-weight: bold\">768</span><span style=\"font-weight: bold\">])</span>\n",
       "</pre>\n"
      ],
      "text/plain": [
       "Shape: \u001b[1;35mtorch.Size\u001b[0m\u001b[1m(\u001b[0m\u001b[1m[\u001b[0m\u001b[1;36m768\u001b[0m\u001b[1m]\u001b[0m\u001b[1m)\u001b[0m\n"
      ]
     },
     "metadata": {},
     "output_type": "display_data"
    },
    {
     "data": {
      "text/html": [
       "<pre style=\"white-space:pre;overflow-x:auto;line-height:normal;font-family:Menlo,'DejaVu Sans Mono',consolas,'Courier New',monospace\">Attribute: aeration\n",
       "</pre>\n"
      ],
      "text/plain": [
       "Attribute: aeration\n"
      ]
     },
     "metadata": {},
     "output_type": "display_data"
    },
    {
     "data": {
      "text/html": [
       "<pre style=\"white-space:pre;overflow-x:auto;line-height:normal;font-family:Menlo,'DejaVu Sans Mono',consolas,'Courier New',monospace\">Embedding: <span style=\"color: #800080; text-decoration-color: #800080; font-weight: bold\">tensor</span><span style=\"font-weight: bold\">([</span><span style=\"color: #008080; text-decoration-color: #008080; font-weight: bold\">-0.0178</span>, <span style=\"color: #008080; text-decoration-color: #008080; font-weight: bold\">-0.0347</span>, <span style=\"color: #008080; text-decoration-color: #008080; font-weight: bold\">-0.0218</span>,  <span style=\"color: #008080; text-decoration-color: #008080; font-weight: bold\">0.0176</span>, <span style=\"color: #008080; text-decoration-color: #008080; font-weight: bold\">-0.0090</span>, <span style=\"color: #008080; text-decoration-color: #008080; font-weight: bold\">-0.0053</span>, <span style=\"color: #008080; text-decoration-color: #008080; font-weight: bold\">-0.0079</span>,  <span style=\"color: #008080; text-decoration-color: #008080; font-weight: bold\">0.0314</span>,\n",
       "        <span style=\"color: #008080; text-decoration-color: #008080; font-weight: bold\">-0.0770</span>, <span style=\"color: #008080; text-decoration-color: #008080; font-weight: bold\">-0.0141</span><span style=\"font-weight: bold\">]</span>, <span style=\"color: #808000; text-decoration-color: #808000\">device</span>=<span style=\"color: #008000; text-decoration-color: #008000\">'cuda:0'</span><span style=\"font-weight: bold\">)</span>, dtype: torch.float32\n",
       "</pre>\n"
      ],
      "text/plain": [
       "Embedding: \u001b[1;35mtensor\u001b[0m\u001b[1m(\u001b[0m\u001b[1m[\u001b[0m\u001b[1;36m-0.0178\u001b[0m, \u001b[1;36m-0.0347\u001b[0m, \u001b[1;36m-0.0218\u001b[0m,  \u001b[1;36m0.0176\u001b[0m, \u001b[1;36m-0.0090\u001b[0m, \u001b[1;36m-0.0053\u001b[0m, \u001b[1;36m-0.0079\u001b[0m,  \u001b[1;36m0.0314\u001b[0m,\n",
       "        \u001b[1;36m-0.0770\u001b[0m, \u001b[1;36m-0.0141\u001b[0m\u001b[1m]\u001b[0m, \u001b[33mdevice\u001b[0m=\u001b[32m'cuda:0'\u001b[0m\u001b[1m)\u001b[0m, dtype: torch.float32\n"
      ]
     },
     "metadata": {},
     "output_type": "display_data"
    }
   ],
   "source": [
    "device = \"cuda\" if torch.cuda.is_available() else \"cpu\"\n",
    "print(f\"Using device: {device}\")\n",
    "\n",
    "attribute_embeddings = []\n",
    "\n",
    "model = SentenceTransformer(\"all-mpnet-base-v2\", device=device)\n",
    "\n",
    "for attribute in attributes:\n",
    "    # Identify sentences that contain the attribute from the \"sentences\" column\n",
    "    sentences_with_attributes = []\n",
    "\n",
    "    for sentence_list in train_df[\"sentences\"]:\n",
    "        if isinstance(sentence_list, list):\n",
    "            for sentence in sentence_list:\n",
    "                if attribute in sentence:\n",
    "                    sentences_with_attributes.append(sentence)\n",
    "\n",
    "    # Count the frequency of each sentence containing the attribute\n",
    "    sentence_counter = Counter(sentences_with_attributes)\n",
    "\n",
    "    # Get the 200 most frequent sentences\n",
    "    most_common_sentences = [\n",
    "        sentence for sentence, _ in sentence_counter.most_common(200)\n",
    "    ]\n",
    "\n",
    "    with torch.inference_mode():\n",
    "        if most_common_sentences:\n",
    "            # Compute sentence embeddings\n",
    "            sentence_embeddings = model.encode(\n",
    "                most_common_sentences, show_progress_bar=False\n",
    "            )\n",
    "\n",
    "            # Average the embeddings\n",
    "            average_embedding = sentence_embeddings.mean(axis=0)\n",
    "            attribute_embeddings.append(average_embedding)\n",
    "        else:\n",
    "            print(f\"No sentences found for attribute: {attribute}\")\n",
    "\n",
    "attribute_embeddings = np.stack(attribute_embeddings)\n",
    "attribute_embeddings = torch.tensor(attribute_embeddings).to(device)\n",
    "print(attribute_embeddings.shape)\n",
    "attribute_embeddings = dict(zip(attributes, attribute_embeddings))\n",
    "\n",
    "# Output the averaged embeddings\n",
    "for attribute, embedding in attribute_embeddings.items():\n",
    "    print(f\"Shape: {embedding.shape}\")\n",
    "    print(f\"Attribute: {attribute}\")\n",
    "    print(f\"Embedding: {embedding[:10]}, dtype: {embedding.dtype}\")"
   ]
  },
  {
   "cell_type": "code",
   "execution_count": null,
   "metadata": {},
   "outputs": [],
   "source": [
    "# import torch\n",
    "# from transformers import AutoModel, AutoTokenizer\n",
    "\n",
    "# device = \"cuda\" if torch.cuda.is_available() else \"cpu\"\n",
    "# print(f\"Using device: {device}\")\n",
    "\n",
    "\n",
    "# # model = SentenceTransformer(\"all-MiniLM-L6-v2\", device=device)\n",
    "\n",
    "\n",
    "# def mean_pooling(model_output, attention_mask):\n",
    "#     token_embeddings = model_output[\n",
    "#         0\n",
    "#     ]  # First element of model_output contains all token embeddings\n",
    "#     input_mask_expanded = (\n",
    "#         attention_mask.unsqueeze(-1).expand(token_embeddings.size()).float()\n",
    "#     )\n",
    "#     return torch.sum(token_embeddings * input_mask_expanded, 1) / torch.clamp(\n",
    "#         input_mask_expanded.sum(1), min=1e-9\n",
    "#     )\n",
    "\n",
    "\n",
    "# attribute_embeddings = []\n",
    "\n",
    "# for attribute in attributes:\n",
    "#     # Identify sentences that contain the attribute\n",
    "#     sentences_with_attributes = df[df[\"text_content\"].str.contains(attribute)][\n",
    "#         \"text_content\"\n",
    "#     ].tolist()\n",
    "\n",
    "#     # Filter the 200 most frequent sentences\n",
    "#     sentence_counter = Counter(sentences_with_attributes)\n",
    "#     most_common_sentences = [\n",
    "#         sentence for sentence, count in sentence_counter.most_common(200)\n",
    "#     ]\n",
    "\n",
    "#     # Load model from HuggingFace Hub\n",
    "#     tokenizer = AutoTokenizer.from_pretrained(\"sentence-transformers/all-mpnet-base-v2\")\n",
    "#     model = AutoModel.from_pretrained(\"sentence-transformers/all-mpnet-base-v2\").to(\n",
    "#         device\n",
    "#     )\n",
    "\n",
    "#     # Tokenize sentences\n",
    "#     encoded_input = tokenizer(\n",
    "#         most_common_sentences,\n",
    "#         padding=True,\n",
    "#         truncation=True,\n",
    "#         return_tensors=\"pt\",\n",
    "#     )\n",
    "\n",
    "#     with torch.inference_mode():\n",
    "#         if most_common_sentences:\n",
    "#             # Compute sentence embeddings\n",
    "#             sentence_embeddings = model(**encoded_input.to(device))\n",
    "\n",
    "#             # Average the embeddings\n",
    "#             average_embedding = mean_pooling(\n",
    "#                 sentence_embeddings, encoded_input[\"attention_mask\"]\n",
    "#             )\n",
    "#             # attribute_embeddings[attribute] = average_embedding\n",
    "#             # sentence_embeddings = sentence_embeddings.mean(dim=0, keepdim=True)\n",
    "#             # sentence_embeddings /= sentence_embeddings.norm(dim=-1, keepdim=True)\n",
    "#             attribute_embeddings.append(average_embedding)\n",
    "#         else:\n",
    "#             print(f\"No sentences found for attribute: {attribute}\")\n",
    "\n",
    "# attribute_embeddings = (\n",
    "#     torch.stack(attribute_embeddings).squeeze().detach().cpu().numpy()\n",
    "# )\n",
    "# print(attribute_embeddings.shape)\n",
    "# attribute_embeddings = dict(zip(attributes, attribute_embeddings))"
   ]
  }
 ],
 "metadata": {
  "kernelspec": {
   "display_name": "ViLLA",
   "language": "python",
   "name": "python3"
  },
  "language_info": {
   "codemirror_mode": {
    "name": "ipython",
    "version": 3
   },
   "file_extension": ".py",
   "mimetype": "text/x-python",
   "name": "python",
   "nbconvert_exporter": "python",
   "pygments_lexer": "ipython3",
   "version": "3.9.19"
  }
 },
 "nbformat": 4,
 "nbformat_minor": 2
}
